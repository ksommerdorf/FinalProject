{
 "cells": [
  {
   "cell_type": "code",
   "execution_count": 1,
   "id": "10ba8193",
   "metadata": {},
   "outputs": [],
   "source": [
    "import warnings\n",
    "warnings.filterwarnings('ignore')\n",
    "import numpy as np\n",
    "import pandas as pd\n",
    "from pathlib import Path\n",
    "from collections import Counter\n",
    "import matplotlib.pyplot as plt\n",
    "import seaborn as sns"
   ]
  },
  {
   "cell_type": "code",
   "execution_count": 2,
   "id": "09981171",
   "metadata": {},
   "outputs": [],
   "source": [
    "from sklearn.metrics import balanced_accuracy_score\n",
    "from sklearn.metrics import confusion_matrix\n",
    "from sklearn.metrics import classification_report"
   ]
  },
  {
   "cell_type": "markdown",
   "id": "eb5f269e",
   "metadata": {},
   "source": [
    "Read the CSV and Perform Basic Data Cleaning"
   ]
  },
  {
   "cell_type": "code",
   "execution_count": 3,
   "id": "d46a365d",
   "metadata": {},
   "outputs": [
    {
     "data": {
      "text/html": [
       "<div>\n",
       "<style scoped>\n",
       "    .dataframe tbody tr th:only-of-type {\n",
       "        vertical-align: middle;\n",
       "    }\n",
       "\n",
       "    .dataframe tbody tr th {\n",
       "        vertical-align: top;\n",
       "    }\n",
       "\n",
       "    .dataframe thead th {\n",
       "        text-align: right;\n",
       "    }\n",
       "</style>\n",
       "<table border=\"1\" class=\"dataframe\">\n",
       "  <thead>\n",
       "    <tr style=\"text-align: right;\">\n",
       "      <th></th>\n",
       "      <th>Date</th>\n",
       "      <th>Year</th>\n",
       "      <th>County</th>\n",
       "      <th>median_listing_price</th>\n",
       "      <th>active_listing_count</th>\n",
       "      <th>median_days_on_market</th>\n",
       "      <th>new_listing_count</th>\n",
       "      <th>price_increased_count</th>\n",
       "      <th>price_reduced_count</th>\n",
       "      <th>median_square_feet</th>\n",
       "      <th>average_listing_price</th>\n",
       "      <th>total_listing_count</th>\n",
       "      <th>violent_crime_rate</th>\n",
       "      <th>30_Year_Fixed_Rate</th>\n",
       "      <th>Number_of_Schools</th>\n",
       "      <th>median_listing_price_mm</th>\n",
       "      <th>Number_of_Parks</th>\n",
       "    </tr>\n",
       "  </thead>\n",
       "  <tbody>\n",
       "    <tr>\n",
       "      <th>0</th>\n",
       "      <td>2022-06</td>\n",
       "      <td>2022</td>\n",
       "      <td>Cherokee</td>\n",
       "      <td>362500.0</td>\n",
       "      <td>271.0</td>\n",
       "      <td>38.0</td>\n",
       "      <td>148.0</td>\n",
       "      <td>8.0</td>\n",
       "      <td>76.0</td>\n",
       "      <td>1904.0</td>\n",
       "      <td>407510.0</td>\n",
       "      <td>467.0</td>\n",
       "      <td>NaN</td>\n",
       "      <td>5.52</td>\n",
       "      <td>NaN</td>\n",
       "      <td>-0.052164</td>\n",
       "      <td>2.0</td>\n",
       "    </tr>\n",
       "    <tr>\n",
       "      <th>1</th>\n",
       "      <td>2022-06</td>\n",
       "      <td>2022</td>\n",
       "      <td>Craven</td>\n",
       "      <td>313500.0</td>\n",
       "      <td>154.0</td>\n",
       "      <td>36.0</td>\n",
       "      <td>196.0</td>\n",
       "      <td>12.0</td>\n",
       "      <td>48.0</td>\n",
       "      <td>1927.0</td>\n",
       "      <td>396716.0</td>\n",
       "      <td>581.0</td>\n",
       "      <td>NaN</td>\n",
       "      <td>5.52</td>\n",
       "      <td>NaN</td>\n",
       "      <td>0.039801</td>\n",
       "      <td>63.0</td>\n",
       "    </tr>\n",
       "    <tr>\n",
       "      <th>2</th>\n",
       "      <td>2022-06</td>\n",
       "      <td>2022</td>\n",
       "      <td>Catawba</td>\n",
       "      <td>342450.0</td>\n",
       "      <td>207.0</td>\n",
       "      <td>34.0</td>\n",
       "      <td>224.0</td>\n",
       "      <td>0.0</td>\n",
       "      <td>96.0</td>\n",
       "      <td>1923.0</td>\n",
       "      <td>521108.0</td>\n",
       "      <td>508.0</td>\n",
       "      <td>NaN</td>\n",
       "      <td>5.52</td>\n",
       "      <td>NaN</td>\n",
       "      <td>-0.042098</td>\n",
       "      <td>65.0</td>\n",
       "    </tr>\n",
       "    <tr>\n",
       "      <th>3</th>\n",
       "      <td>2022-06</td>\n",
       "      <td>2022</td>\n",
       "      <td>Gaston</td>\n",
       "      <td>330000.0</td>\n",
       "      <td>283.0</td>\n",
       "      <td>30.0</td>\n",
       "      <td>412.0</td>\n",
       "      <td>12.0</td>\n",
       "      <td>200.0</td>\n",
       "      <td>1668.0</td>\n",
       "      <td>377406.0</td>\n",
       "      <td>828.0</td>\n",
       "      <td>NaN</td>\n",
       "      <td>5.52</td>\n",
       "      <td>NaN</td>\n",
       "      <td>0.039370</td>\n",
       "      <td>99.0</td>\n",
       "    </tr>\n",
       "    <tr>\n",
       "      <th>4</th>\n",
       "      <td>2022-06</td>\n",
       "      <td>2022</td>\n",
       "      <td>Warren</td>\n",
       "      <td>275000.0</td>\n",
       "      <td>19.0</td>\n",
       "      <td>68.0</td>\n",
       "      <td>12.0</td>\n",
       "      <td>0.0</td>\n",
       "      <td>4.0</td>\n",
       "      <td>1824.0</td>\n",
       "      <td>419452.0</td>\n",
       "      <td>29.0</td>\n",
       "      <td>NaN</td>\n",
       "      <td>5.52</td>\n",
       "      <td>NaN</td>\n",
       "      <td>NaN</td>\n",
       "      <td>1.0</td>\n",
       "    </tr>\n",
       "  </tbody>\n",
       "</table>\n",
       "</div>"
      ],
      "text/plain": [
       "      Date  Year    County  median_listing_price  active_listing_count  \\\n",
       "0  2022-06  2022  Cherokee              362500.0                 271.0   \n",
       "1  2022-06  2022    Craven              313500.0                 154.0   \n",
       "2  2022-06  2022   Catawba              342450.0                 207.0   \n",
       "3  2022-06  2022    Gaston              330000.0                 283.0   \n",
       "4  2022-06  2022    Warren              275000.0                  19.0   \n",
       "\n",
       "   median_days_on_market  new_listing_count  price_increased_count  \\\n",
       "0                   38.0              148.0                    8.0   \n",
       "1                   36.0              196.0                   12.0   \n",
       "2                   34.0              224.0                    0.0   \n",
       "3                   30.0              412.0                   12.0   \n",
       "4                   68.0               12.0                    0.0   \n",
       "\n",
       "   price_reduced_count  median_square_feet  average_listing_price  \\\n",
       "0                 76.0              1904.0               407510.0   \n",
       "1                 48.0              1927.0               396716.0   \n",
       "2                 96.0              1923.0               521108.0   \n",
       "3                200.0              1668.0               377406.0   \n",
       "4                  4.0              1824.0               419452.0   \n",
       "\n",
       "   total_listing_count violent_crime_rate  30_Year_Fixed_Rate  \\\n",
       "0                467.0                NaN                5.52   \n",
       "1                581.0                NaN                5.52   \n",
       "2                508.0                NaN                5.52   \n",
       "3                828.0                NaN                5.52   \n",
       "4                 29.0                NaN                5.52   \n",
       "\n",
       "   Number_of_Schools  median_listing_price_mm  Number_of_Parks  \n",
       "0                NaN                -0.052164              2.0  \n",
       "1                NaN                 0.039801             63.0  \n",
       "2                NaN                -0.042098             65.0  \n",
       "3                NaN                 0.039370             99.0  \n",
       "4                NaN                      NaN              1.0  "
      ]
     },
     "execution_count": 3,
     "metadata": {},
     "output_type": "execute_result"
    }
   ],
   "source": [
    "df = pd.read_csv(r'C:\\Users\\earth\\Desktop\\class_folder\\FinalProject\\Resources\\final_table.csv')\n",
    "df.head()\n"
   ]
  },
  {
   "cell_type": "code",
   "execution_count": 4,
   "id": "b1649e7a",
   "metadata": {},
   "outputs": [
    {
     "data": {
      "text/html": [
       "<div>\n",
       "<style scoped>\n",
       "    .dataframe tbody tr th:only-of-type {\n",
       "        vertical-align: middle;\n",
       "    }\n",
       "\n",
       "    .dataframe tbody tr th {\n",
       "        vertical-align: top;\n",
       "    }\n",
       "\n",
       "    .dataframe thead th {\n",
       "        text-align: right;\n",
       "    }\n",
       "</style>\n",
       "<table border=\"1\" class=\"dataframe\">\n",
       "  <thead>\n",
       "    <tr style=\"text-align: right;\">\n",
       "      <th></th>\n",
       "      <th>Date</th>\n",
       "      <th>Year</th>\n",
       "      <th>County</th>\n",
       "      <th>median_listing_price</th>\n",
       "      <th>active_listing_count</th>\n",
       "      <th>median_days_on_market</th>\n",
       "      <th>new_listing_count</th>\n",
       "      <th>price_increased_count</th>\n",
       "      <th>price_reduced_count</th>\n",
       "      <th>median_square_feet</th>\n",
       "      <th>average_listing_price</th>\n",
       "      <th>total_listing_count</th>\n",
       "      <th>violent_crime_rate</th>\n",
       "      <th>30_Year_Fixed_Rate</th>\n",
       "      <th>Number_of_Schools</th>\n",
       "      <th>median_listing_price_mm</th>\n",
       "      <th>Number_of_Parks</th>\n",
       "      <th>Price_Status</th>\n",
       "    </tr>\n",
       "  </thead>\n",
       "  <tbody>\n",
       "    <tr>\n",
       "      <th>0</th>\n",
       "      <td>2022-06</td>\n",
       "      <td>2022</td>\n",
       "      <td>Cherokee</td>\n",
       "      <td>362500.0</td>\n",
       "      <td>271.0</td>\n",
       "      <td>38.0</td>\n",
       "      <td>148.0</td>\n",
       "      <td>8.0</td>\n",
       "      <td>76.0</td>\n",
       "      <td>1904.0</td>\n",
       "      <td>407510.0</td>\n",
       "      <td>467.0</td>\n",
       "      <td>NaN</td>\n",
       "      <td>5.52</td>\n",
       "      <td>NaN</td>\n",
       "      <td>-0.052164</td>\n",
       "      <td>2.0</td>\n",
       "      <td>down</td>\n",
       "    </tr>\n",
       "    <tr>\n",
       "      <th>1</th>\n",
       "      <td>2022-06</td>\n",
       "      <td>2022</td>\n",
       "      <td>Craven</td>\n",
       "      <td>313500.0</td>\n",
       "      <td>154.0</td>\n",
       "      <td>36.0</td>\n",
       "      <td>196.0</td>\n",
       "      <td>12.0</td>\n",
       "      <td>48.0</td>\n",
       "      <td>1927.0</td>\n",
       "      <td>396716.0</td>\n",
       "      <td>581.0</td>\n",
       "      <td>NaN</td>\n",
       "      <td>5.52</td>\n",
       "      <td>NaN</td>\n",
       "      <td>0.039801</td>\n",
       "      <td>63.0</td>\n",
       "      <td>up</td>\n",
       "    </tr>\n",
       "    <tr>\n",
       "      <th>2</th>\n",
       "      <td>2022-06</td>\n",
       "      <td>2022</td>\n",
       "      <td>Catawba</td>\n",
       "      <td>342450.0</td>\n",
       "      <td>207.0</td>\n",
       "      <td>34.0</td>\n",
       "      <td>224.0</td>\n",
       "      <td>0.0</td>\n",
       "      <td>96.0</td>\n",
       "      <td>1923.0</td>\n",
       "      <td>521108.0</td>\n",
       "      <td>508.0</td>\n",
       "      <td>NaN</td>\n",
       "      <td>5.52</td>\n",
       "      <td>NaN</td>\n",
       "      <td>-0.042098</td>\n",
       "      <td>65.0</td>\n",
       "      <td>down</td>\n",
       "    </tr>\n",
       "    <tr>\n",
       "      <th>3</th>\n",
       "      <td>2022-06</td>\n",
       "      <td>2022</td>\n",
       "      <td>Gaston</td>\n",
       "      <td>330000.0</td>\n",
       "      <td>283.0</td>\n",
       "      <td>30.0</td>\n",
       "      <td>412.0</td>\n",
       "      <td>12.0</td>\n",
       "      <td>200.0</td>\n",
       "      <td>1668.0</td>\n",
       "      <td>377406.0</td>\n",
       "      <td>828.0</td>\n",
       "      <td>NaN</td>\n",
       "      <td>5.52</td>\n",
       "      <td>NaN</td>\n",
       "      <td>0.039370</td>\n",
       "      <td>99.0</td>\n",
       "      <td>up</td>\n",
       "    </tr>\n",
       "    <tr>\n",
       "      <th>4</th>\n",
       "      <td>2022-06</td>\n",
       "      <td>2022</td>\n",
       "      <td>Warren</td>\n",
       "      <td>275000.0</td>\n",
       "      <td>19.0</td>\n",
       "      <td>68.0</td>\n",
       "      <td>12.0</td>\n",
       "      <td>0.0</td>\n",
       "      <td>4.0</td>\n",
       "      <td>1824.0</td>\n",
       "      <td>419452.0</td>\n",
       "      <td>29.0</td>\n",
       "      <td>NaN</td>\n",
       "      <td>5.52</td>\n",
       "      <td>NaN</td>\n",
       "      <td>NaN</td>\n",
       "      <td>1.0</td>\n",
       "      <td>down</td>\n",
       "    </tr>\n",
       "  </tbody>\n",
       "</table>\n",
       "</div>"
      ],
      "text/plain": [
       "      Date  Year    County  median_listing_price  active_listing_count  \\\n",
       "0  2022-06  2022  Cherokee              362500.0                 271.0   \n",
       "1  2022-06  2022    Craven              313500.0                 154.0   \n",
       "2  2022-06  2022   Catawba              342450.0                 207.0   \n",
       "3  2022-06  2022    Gaston              330000.0                 283.0   \n",
       "4  2022-06  2022    Warren              275000.0                  19.0   \n",
       "\n",
       "   median_days_on_market  new_listing_count  price_increased_count  \\\n",
       "0                   38.0              148.0                    8.0   \n",
       "1                   36.0              196.0                   12.0   \n",
       "2                   34.0              224.0                    0.0   \n",
       "3                   30.0              412.0                   12.0   \n",
       "4                   68.0               12.0                    0.0   \n",
       "\n",
       "   price_reduced_count  median_square_feet  average_listing_price  \\\n",
       "0                 76.0              1904.0               407510.0   \n",
       "1                 48.0              1927.0               396716.0   \n",
       "2                 96.0              1923.0               521108.0   \n",
       "3                200.0              1668.0               377406.0   \n",
       "4                  4.0              1824.0               419452.0   \n",
       "\n",
       "   total_listing_count  violent_crime_rate  30_Year_Fixed_Rate  \\\n",
       "0                467.0                 NaN                5.52   \n",
       "1                581.0                 NaN                5.52   \n",
       "2                508.0                 NaN                5.52   \n",
       "3                828.0                 NaN                5.52   \n",
       "4                 29.0                 NaN                5.52   \n",
       "\n",
       "   Number_of_Schools  median_listing_price_mm  Number_of_Parks Price_Status  \n",
       "0                NaN                -0.052164              2.0         down  \n",
       "1                NaN                 0.039801             63.0           up  \n",
       "2                NaN                -0.042098             65.0         down  \n",
       "3                NaN                 0.039370             99.0           up  \n",
       "4                NaN                      NaN              1.0         down  "
      ]
     },
     "execution_count": 4,
     "metadata": {},
     "output_type": "execute_result"
    }
   ],
   "source": [
    "#conditional based column = np.where(df['median_listing_price_mm'] (x>=0), 'up(1)', 'down(0)')\n",
    "df['Price_Status'] = np.where(df['median_listing_price_mm']>=0, 'up', 'down')\n",
    "df['violent_crime_rate']= df['violent_crime_rate'].str.replace(',','').astype(float)\n",
    "df.head()"
   ]
  },
  {
   "cell_type": "code",
   "execution_count": 5,
   "id": "058f04bb",
   "metadata": {},
   "outputs": [
    {
     "data": {
      "text/plain": [
       "Year                         int64\n",
       "County                      object\n",
       "median_listing_price       float64\n",
       "active_listing_count       float64\n",
       "median_days_on_market      float64\n",
       "new_listing_count          float64\n",
       "price_increased_count      float64\n",
       "price_reduced_count        float64\n",
       "median_square_feet         float64\n",
       "average_listing_price      float64\n",
       "total_listing_count        float64\n",
       "violent_crime_rate         float64\n",
       "30_Year_Fixed_Rate         float64\n",
       "Number_of_Schools          float64\n",
       "median_listing_price_mm    float64\n",
       "Number_of_Parks            float64\n",
       "Price_Status                object\n",
       "dtype: object"
      ]
     },
     "execution_count": 5,
     "metadata": {},
     "output_type": "execute_result"
    }
   ],
   "source": [
    "df_new1 = df.drop(['Date'], axis=1)\n",
    "df_new1.dtypes"
   ]
  },
  {
   "cell_type": "code",
   "execution_count": 6,
   "id": "eee32972",
   "metadata": {},
   "outputs": [
    {
     "data": {
      "text/plain": [
       "array([2022, 2021, 2020, 2019, 2018, 2017, 2016], dtype=int64)"
      ]
     },
     "execution_count": 6,
     "metadata": {},
     "output_type": "execute_result"
    }
   ],
   "source": [
    "df_new1[\"Year\"].unique()"
   ]
  },
  {
   "cell_type": "code",
   "execution_count": 7,
   "id": "c15abb0b",
   "metadata": {},
   "outputs": [],
   "source": [
    "filter_df = df_new1[df_new1['Year'] <2019]\n",
    "#filter_df[\"Year\"].unique()"
   ]
  },
  {
   "cell_type": "code",
   "execution_count": 8,
   "id": "e122b9c2",
   "metadata": {},
   "outputs": [],
   "source": [
    "\n",
    "columns = [\n",
    "     \"Year\", \"County\", \n",
    "    \"active_listing_count\", \"median_days_on_market\", \"new_listing_count\",\n",
    "    \"price_increased_count\", \"price_reduced_count\", \"median_square_feet\",\n",
    "    \"total_listing_count\", \"violent_crime_rate\",\"Number_of_Parks\",\n",
    "    \"Number_of_Schools\",\"30_Year_Fixed_Rate\", \n",
    "     \"Price_Status\"]\n",
    "\n",
    "target = [\"Price_Status\"]"
   ]
  },
  {
   "cell_type": "code",
   "execution_count": 9,
   "id": "5fcfb5c1",
   "metadata": {},
   "outputs": [
    {
     "data": {
      "text/plain": [
       "Year                     0\n",
       "County                   0\n",
       "active_listing_count     0\n",
       "median_days_on_market    0\n",
       "new_listing_count        0\n",
       "price_increased_count    0\n",
       "price_reduced_count      0\n",
       "median_square_feet       0\n",
       "total_listing_count      0\n",
       "violent_crime_rate       0\n",
       "Number_of_Parks          0\n",
       "Number_of_Schools        0\n",
       "30_Year_Fixed_Rate       0\n",
       "Price_Status             0\n",
       "dtype: int64"
      ]
     },
     "execution_count": 9,
     "metadata": {},
     "output_type": "execute_result"
    }
   ],
   "source": [
    "# Load the data\n",
    "\n",
    "df_data = filter_df.loc[:, columns].copy()\n",
    "df_data = df_data.dropna()\n",
    "\n",
    "df_data.reset_index(inplace=True, drop=True)\n",
    "\n",
    "df_data.head()\n",
    "df_data.isnull().sum()"
   ]
  },
  {
   "cell_type": "markdown",
   "id": "115bdf03",
   "metadata": {},
   "source": [
    "Split the Data into Training and Testing"
   ]
  },
  {
   "cell_type": "code",
   "execution_count": 10,
   "id": "4413c1c3",
   "metadata": {},
   "outputs": [],
   "source": [
    "# Create our features\n",
    "X = df_data.drop('Price_Status', axis=1)\n",
    "\n",
    "X = pd.get_dummies(X)\n",
    "\n",
    "# Create our target\n",
    "y = df_data.loc[:, target].copy()\n",
    "\n"
   ]
  },
  {
   "cell_type": "code",
   "execution_count": 11,
   "id": "3bd823a3",
   "metadata": {},
   "outputs": [
    {
     "data": {
      "text/plain": [
       "Price_Status\n",
       "down            2454\n",
       "up               156\n",
       "dtype: int64"
      ]
     },
     "execution_count": 11,
     "metadata": {},
     "output_type": "execute_result"
    }
   ],
   "source": [
    "# Check the balance of our target values\n",
    "y.value_counts()"
   ]
  },
  {
   "cell_type": "code",
   "execution_count": 12,
   "id": "27bc11e6",
   "metadata": {},
   "outputs": [
    {
     "data": {
      "text/plain": [
       "(653, 104)"
      ]
     },
     "execution_count": 12,
     "metadata": {},
     "output_type": "execute_result"
    }
   ],
   "source": [
    "from sklearn.model_selection import train_test_split\n",
    "X_train, X_test, y_train, y_test = train_test_split(X, \n",
    "                                                    y, \n",
    "                                                    random_state=1) \n",
    "                                                 \n",
    "X_test.shape\n"
   ]
  },
  {
   "cell_type": "markdown",
   "id": "5ea496dc",
   "metadata": {},
   "source": [
    "Balanced Random Forest Classifier¶"
   ]
  },
  {
   "cell_type": "code",
   "execution_count": 13,
   "id": "7840dc2e",
   "metadata": {},
   "outputs": [
    {
     "data": {
      "text/plain": [
       "Counter({'down': 1838, 'up': 119})"
      ]
     },
     "execution_count": 13,
     "metadata": {},
     "output_type": "execute_result"
    }
   ],
   "source": [
    "# Resample the training data with the BalancedRandomForestClassifier\n",
    "from imblearn.ensemble import BalancedRandomForestClassifier\n",
    "rf_model = BalancedRandomForestClassifier(n_estimators=100, random_state=1) \n",
    "rf_model = rf_model.fit(X_train, y_train)\n",
    "Counter(y_train['Price_Status'])"
   ]
  },
  {
   "cell_type": "code",
   "execution_count": 14,
   "id": "6a7402da",
   "metadata": {},
   "outputs": [
    {
     "data": {
      "text/plain": [
       "array([[532,  84],\n",
       "       [  2,  35]], dtype=int64)"
      ]
     },
     "execution_count": 14,
     "metadata": {},
     "output_type": "execute_result"
    }
   ],
   "source": [
    "# Display the confusion matrix\n",
    "from sklearn.metrics import confusion_matrix\n",
    "\n",
    "y_pred = rf_model.predict(X_test)\n",
    "confusion_matrix(y_test, y_pred)\n"
   ]
  },
  {
   "cell_type": "code",
   "execution_count": 15,
   "id": "f7c477c3",
   "metadata": {},
   "outputs": [
    {
     "data": {
      "text/plain": [
       "0.9047911547911548"
      ]
     },
     "execution_count": 15,
     "metadata": {},
     "output_type": "execute_result"
    }
   ],
   "source": [
    "# Calculated the balanced accuracy score\n",
    "from sklearn.metrics import balanced_accuracy_score\n",
    "\n",
    "balanced_accuracy_score(y_test, y_pred)\n",
    "\n",
    "# score changes to 1.0 if violent_crime_rate is converted from object to float"
   ]
  },
  {
   "cell_type": "code",
   "execution_count": 16,
   "id": "c388c8b3",
   "metadata": {},
   "outputs": [
    {
     "name": "stdout",
     "output_type": "stream",
     "text": [
      "              precision    recall  f1-score   support\n",
      "\n",
      "        down       1.00      0.86      0.93       616\n",
      "          up       0.29      0.95      0.45        37\n",
      "\n",
      "    accuracy                           0.87       653\n",
      "   macro avg       0.65      0.90      0.69       653\n",
      "weighted avg       0.96      0.87      0.90       653\n",
      "\n"
     ]
    }
   ],
   "source": [
    "# Print the imbalanced classification report\n",
    "from sklearn.metrics import classification_report\n",
    "print(classification_report(y_test, y_pred))"
   ]
  },
  {
   "cell_type": "code",
   "execution_count": 17,
   "id": "6f4d0a50",
   "metadata": {},
   "outputs": [
    {
     "data": {
      "text/plain": [
       "[(0.3087612589053883, '30_Year_Fixed_Rate'),\n",
       " (0.18473001628995933, 'Year'),\n",
       " (0.04906316069991865, 'median_days_on_market'),\n",
       " (0.048166062353651895, 'active_listing_count'),\n",
       " (0.0464933619375409, 'price_reduced_count'),\n",
       " (0.04477406812660071, 'Number_of_Schools'),\n",
       " (0.04427359752929202, 'median_square_feet'),\n",
       " (0.043072549937883814, 'total_listing_count'),\n",
       " (0.03830075836727427, 'new_listing_count'),\n",
       " (0.03408303704174747, 'Number_of_Parks'),\n",
       " (0.028868158011376738, 'violent_crime_rate'),\n",
       " (0.023122315373498716, 'price_increased_count'),\n",
       " (0.0025734106685933156, 'County_Polk'),\n",
       " (0.002333284917366244, 'County_Wilson'),\n",
       " (0.0022871939739942007, 'County_Franklin'),\n",
       " (0.0022743985346060373, 'County_Transylvania'),\n",
       " (0.0022350488561828485, 'County_Clay'),\n",
       " (0.0021418858092868494, 'County_Randolph'),\n",
       " (0.002138589844203885, 'County_Durham'),\n",
       " (0.00210989768339623, 'County_Lincoln'),\n",
       " (0.0020443857492807183, 'County_Duplin'),\n",
       " (0.002034283614672708, 'County_Columbus'),\n",
       " (0.001995206270311129, 'County_Onslow'),\n",
       " (0.0019340665307720451, 'County_Beaufort'),\n",
       " (0.001927273956050249, 'County_Richmond'),\n",
       " (0.0018875109104919807, 'County_Pamlico'),\n",
       " (0.0018643572824727597, 'County_Sampson'),\n",
       " (0.0018418943190689555, 'County_Wayne'),\n",
       " (0.0018093501056812011, 'County_Person'),\n",
       " (0.0017676379989014597, 'County_Yancey'),\n",
       " (0.0017619634280713853, 'County_Iredell'),\n",
       " (0.0017345113680929454, 'County_Harnett'),\n",
       " (0.001701760331631009, 'County_Rockingham'),\n",
       " (0.0016932297757238817, 'County_Pender'),\n",
       " (0.0016716416264530177, 'County_Stanly'),\n",
       " (0.0016219282949025537, 'County_Brunswick'),\n",
       " (0.0016138846496256333, 'County_Halifax'),\n",
       " (0.001604998624341124, 'County_Craven'),\n",
       " (0.0014719914606047915, 'County_Wilkes'),\n",
       " (0.001445556671129277, 'County_Currituck'),\n",
       " (0.0014416357571709973, 'County_Carteret'),\n",
       " (0.0014046229594918743, 'County_Pasquotank'),\n",
       " (0.0013667632919150097, 'County_Chatham'),\n",
       " (0.001341065447952918, 'County_Swain'),\n",
       " (0.0013392012059087687, 'County_Dare'),\n",
       " (0.0013330308696658905, 'County_Catawba'),\n",
       " (0.001331732044134141, 'County_Granville'),\n",
       " (0.0013263273238370574, 'County_Johnston'),\n",
       " (0.0013006362699972867, 'County_Jackson'),\n",
       " (0.0012921141500380983, 'County_Watauga'),\n",
       " (0.0012812370932398052, 'County_Rutherford'),\n",
       " (0.0012760499979920126, 'County_Lenoir'),\n",
       " (0.00121787806170614, 'County_Davie'),\n",
       " (0.001213691842197373, 'County_Hoke'),\n",
       " (0.001176535112030054, 'County_Caldwell'),\n",
       " (0.0011738829481030026, 'County_Union'),\n",
       " (0.0011429294960263571, 'County_Alexander'),\n",
       " (0.001121773203808873, 'County_Scotland'),\n",
       " (0.0011176442937700676, 'County_Cherokee'),\n",
       " (0.001100985450326399, 'County_Anson'),\n",
       " (0.0010995407483389416, 'County_Camden'),\n",
       " (0.0010488920628330888, 'County_Surry'),\n",
       " (0.0010430482522256997, 'County_Orange'),\n",
       " (0.001038631719363375, 'County_Yadkin'),\n",
       " (0.001028925412699502, 'County_Cumberland'),\n",
       " (0.0009769402026661767, 'County_Martin'),\n",
       " (0.000959705775465404, 'County_Haywood'),\n",
       " (0.0008997742534844225, 'County_Forsyth'),\n",
       " (0.0008981032762835773, 'County_Vance'),\n",
       " (0.000897059518867213, 'County_Burke'),\n",
       " (0.0008833177245018839, 'County_Alleghany'),\n",
       " (0.0008561693546560438, 'County_Moore'),\n",
       " (0.000855747043806718, 'County_Mecklenburg'),\n",
       " (0.0008423214190808722, 'County_Macon'),\n",
       " (0.0008269268552409074, 'County_Guilford'),\n",
       " (0.0007923804969206225, 'County_Rowan'),\n",
       " (0.0007835465196357287, 'County_Stokes'),\n",
       " (0.0007553065440329547, 'County_Pitt'),\n",
       " (0.0007410667438484675, 'County_Chowan'),\n",
       " (0.0006999551280502294, 'County_Madison'),\n",
       " (0.0006913457509008246, 'County_Alamance'),\n",
       " (0.0006718353175340398, 'County_Robeson'),\n",
       " (0.0006717354838483851, 'County_Henderson'),\n",
       " (0.0006564412686142749, 'County_Wake'),\n",
       " (0.0006016005807111021, 'County_Perquimans'),\n",
       " (0.0005981803336211946, 'County_Bertie'),\n",
       " (0.0005821846219530896, 'County_Cleveland'),\n",
       " (0.000570187044741001, 'County_Montgomery'),\n",
       " (0.0005553520390205975, 'County_Warren'),\n",
       " (0.0005516965761065458, 'County_Greene'),\n",
       " (0.0005471528989622155, 'County_Buncombe'),\n",
       " (0.0004882973173341953, 'County_Tyrrell'),\n",
       " (0.00041914082080968327, 'County_Davidson'),\n",
       " (0.000404940009051764, 'County_Gaston'),\n",
       " (0.00040163910867557854, 'County_Graham'),\n",
       " (0.0003822859562284574, 'County_Cabarrus'),\n",
       " (0.0003094527536967078, 'County_Hertford'),\n",
       " (0.0002766326618477334, 'County_Avery'),\n",
       " (7.960789210789236e-05, 'County_Caswell'),\n",
       " (7.902311861151128e-05, 'County_Nash'),\n",
       " (4.684744268077585e-06, 'County_Northampton'),\n",
       " (0.0, 'County_Lee'),\n",
       " (0.0, 'County_Edgecombe'),\n",
       " (0.0, 'County_Ashe')]"
      ]
     },
     "execution_count": 17,
     "metadata": {},
     "output_type": "execute_result"
    }
   ],
   "source": [
    "# List the features sorted in descending order by feature importance\n",
    "sorted(zip(rf_model.feature_importances_, X.columns), reverse=True)\n",
    "\n",
    "\n",
    "\n"
   ]
  },
  {
   "cell_type": "markdown",
   "id": "7d1e0c34",
   "metadata": {},
   "source": [
    "# Hypertune features"
   ]
  },
  {
   "cell_type": "code",
   "execution_count": 18,
   "id": "b06a34f1",
   "metadata": {},
   "outputs": [
    {
     "data": {
      "text/plain": [
       "Counter({'down': 1838, 'up': 119})"
      ]
     },
     "execution_count": 18,
     "metadata": {},
     "output_type": "execute_result"
    }
   ],
   "source": [
    "# Resample the training data with the BalancedRandomForestClassifier\n",
    "from imblearn.ensemble import BalancedRandomForestClassifier\n",
    "rf_model = BalancedRandomForestClassifier(n_estimators=900, random_state=1) \n",
    "rf_model = rf_model.fit(X_train, y_train)\n",
    "Counter(y_train['Price_Status'])"
   ]
  },
  {
   "cell_type": "code",
   "execution_count": 19,
   "id": "4c1b6d54",
   "metadata": {},
   "outputs": [
    {
     "data": {
      "text/plain": [
       "array([[532,  84],\n",
       "       [  0,  37]], dtype=int64)"
      ]
     },
     "execution_count": 19,
     "metadata": {},
     "output_type": "execute_result"
    }
   ],
   "source": [
    "# Display the confusion matrix\n",
    "from sklearn.metrics import confusion_matrix\n",
    "\n",
    "y_pred = rf_model.predict(X_test)\n",
    "confusion_matrix(y_test, y_pred)\n"
   ]
  },
  {
   "cell_type": "code",
   "execution_count": 20,
   "id": "019b0fe6",
   "metadata": {},
   "outputs": [
    {
     "data": {
      "text/plain": [
       "0.9318181818181819"
      ]
     },
     "execution_count": 20,
     "metadata": {},
     "output_type": "execute_result"
    }
   ],
   "source": [
    "# Calculated the balanced accuracy score\n",
    "from sklearn.metrics import balanced_accuracy_score\n",
    "\n",
    "balanced_accuracy_score(y_test, y_pred)"
   ]
  },
  {
   "cell_type": "code",
   "execution_count": 21,
   "id": "771f0c67",
   "metadata": {},
   "outputs": [
    {
     "name": "stdout",
     "output_type": "stream",
     "text": [
      "              precision    recall  f1-score   support\n",
      "\n",
      "        down       1.00      0.86      0.93       616\n",
      "          up       0.31      1.00      0.47        37\n",
      "\n",
      "    accuracy                           0.87       653\n",
      "   macro avg       0.65      0.93      0.70       653\n",
      "weighted avg       0.96      0.87      0.90       653\n",
      "\n"
     ]
    }
   ],
   "source": [
    "# Print the imbalanced classification report\n",
    "from sklearn.metrics import classification_report\n",
    "print(classification_report(y_test, y_pred))"
   ]
  },
  {
   "cell_type": "code",
   "execution_count": null,
   "id": "356b7ab0",
   "metadata": {},
   "outputs": [],
   "source": []
  },
  {
   "cell_type": "code",
   "execution_count": null,
   "id": "801905b2",
   "metadata": {},
   "outputs": [],
   "source": [
    "# heat map of feature correlation\n",
    "plt.rcParams['figure.figsize']=35,35\n",
    "g = sns.heatmap(df.corr(),annot=True, fmt = \".1f\")"
   ]
  },
  {
   "cell_type": "code",
   "execution_count": null,
   "id": "1cda0fb6",
   "metadata": {},
   "outputs": [],
   "source": [
    "# distribution plot of column\n",
    "sns.distplot(df['median_listing_price'])"
   ]
  },
  {
   "cell_type": "code",
   "execution_count": null,
   "id": "be6a7d70",
   "metadata": {},
   "outputs": [],
   "source": [
    "# convert Price_class to numeric, distribution of median_listing_price increase|decrease month/month\n",
    "df['Price_Status'] = df['Price_Status'].replace(['up','down'],['1','0'])\n",
    "sns.distplot(df['Price_Status'])"
   ]
  },
  {
   "cell_type": "code",
   "execution_count": null,
   "id": "42bd7b6f",
   "metadata": {},
   "outputs": [],
   "source": [
    "# Reference code for heatmaps :https://www.kaggle.com/code/bsivavenu/house-price-calculation-methods-for-beginners\n",
    "\n",
    "# most correlated features\n",
    "corrmat = df.corr()\n",
    "top_corr_features = corrmat.index[abs(corrmat[\"median_listing_price\"])>0.30]\n",
    "plt.figure(figsize=(10,10))\n",
    "g = sns.heatmap(df[top_corr_features].corr(),annot=True,cmap=\"mako\")"
   ]
  },
  {
   "cell_type": "code",
   "execution_count": null,
   "id": "be902be7",
   "metadata": {},
   "outputs": [],
   "source": [
    "# seaborn linear regression fit: median listing price vs median square feet\n",
    "sns.jointplot(data=df, x=\"median_listing_price\", y=\"median_square_feet\", kind=\"reg\")\n",
    "\n",
    "# outliers present"
   ]
  },
  {
   "cell_type": "code",
   "execution_count": null,
   "id": "c5e34dc2",
   "metadata": {},
   "outputs": [],
   "source": [
    "#median_listing_price vs average listing price\n",
    "sns.jointplot(data=df, x=\"median_listing_price\", y=\"average_listing_price\", kind=\"reg\")"
   ]
  },
  {
   "cell_type": "code",
   "execution_count": null,
   "id": "38b9fe7a",
   "metadata": {},
   "outputs": [],
   "source": [
    "# seaborn linear regression fit: median listing price vs median square feet\n",
    "sns.jointplot(data=df, x=\"median_listing_price\", y=\"violent_crime_rate\", kind=\"reg\")"
   ]
  },
  {
   "cell_type": "code",
   "execution_count": null,
   "id": "8accea62",
   "metadata": {},
   "outputs": [],
   "source": [
    "#median listing price vs Year\n",
    "sns.jointplot(data=df, x=\"median_listing_price\", y=\"Year\", kind=\"reg\")"
   ]
  },
  {
   "cell_type": "code",
   "execution_count": null,
   "id": "66974d08",
   "metadata": {},
   "outputs": [],
   "source": [
    "# Find Missing Ratio of Dataset\n",
    "# reference: https://stackoverflow.com/questions/51070985/find-out-the-percentage-of-missing-values-in-each-column-in-the-given-dataset\n",
    "#percent_missing = df.isnull().sum() * 100 / len(df)\n",
    "#missing_value_df = pd.DataFrame({'column_name': df.columns,\n",
    "                                 #'percent_missing': percent_missing})\n",
    "#missing_value_df"
   ]
  },
  {
   "cell_type": "code",
   "execution_count": null,
   "id": "d8adbf4e",
   "metadata": {},
   "outputs": [],
   "source": [
    "# reference\n",
    "# https://www.kaggle.com/code/kanncaa1/machine-learning-tutorial-for-beginners/notebook\n",
    "#https://www.kaggle.com/code/erick5/predicting-house-prices-with-machine-learning/notebook"
   ]
  },
  {
   "cell_type": "code",
   "execution_count": null,
   "id": "eea96774",
   "metadata": {},
   "outputs": [],
   "source": [
    "# dict of county names with values\n",
    "#county_names = df.County.unique()\n",
    "#county_di = dict(zip(county_names, range(len(county_names))))\n",
    "#county_di"
   ]
  },
  {
   "cell_type": "code",
   "execution_count": null,
   "id": "065f620a",
   "metadata": {},
   "outputs": [],
   "source": [
    "# county names with #'s'\n",
    "#df_new = df.copy()\n",
    "#df_new['County'].replace(county_di, inplace=True)\n",
    "#df_new.head()"
   ]
  },
  {
   "cell_type": "code",
   "execution_count": null,
   "id": "ca8cfaa9",
   "metadata": {},
   "outputs": [],
   "source": [
    "#df_new.to_csv(\"c:/tmp/courses.csv\",header=False)"
   ]
  },
  {
   "cell_type": "code",
   "execution_count": null,
   "id": "d5fce5ee",
   "metadata": {},
   "outputs": [],
   "source": [
    "# copy the data\n",
    "#df_max_scaled = df_data.copy()\n",
    "  \n",
    "# apply normalization techniques\n",
    "#for column in df_max_scaled.columns:\n",
    "    #df_max_scaled[column] = df_max_scaled[column]  / df_max_scaled[column].abs().max()\n",
    "      \n",
    "# view normalized data\n",
    "#display(df_max_scaled)"
   ]
  }
 ],
 "metadata": {
  "kernelspec": {
   "display_name": "mlenv3",
   "language": "python",
   "name": "mlenv3"
  },
  "language_info": {
   "codemirror_mode": {
    "name": "ipython",
    "version": 3
   },
   "file_extension": ".py",
   "mimetype": "text/x-python",
   "name": "python",
   "nbconvert_exporter": "python",
   "pygments_lexer": "ipython3",
   "version": "3.8.13"
  }
 },
 "nbformat": 4,
 "nbformat_minor": 5
}
