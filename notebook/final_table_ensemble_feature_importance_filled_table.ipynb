{
 "cells": [
  {
   "cell_type": "code",
   "execution_count": 1,
   "id": "10ba8193",
   "metadata": {},
   "outputs": [],
   "source": [
    "import warnings\n",
    "warnings.filterwarnings('ignore')\n",
    "import numpy as np\n",
    "import pandas as pd\n",
    "from pathlib import Path\n",
    "from collections import Counter\n",
    "import matplotlib.pyplot as plt\n",
    "import seaborn as sns"
   ]
  },
  {
   "cell_type": "code",
   "execution_count": 2,
   "id": "09981171",
   "metadata": {},
   "outputs": [],
   "source": [
    "from sklearn.metrics import balanced_accuracy_score\n",
    "from sklearn.metrics import confusion_matrix\n",
    "from sklearn.metrics import classification_report"
   ]
  },
  {
   "cell_type": "markdown",
   "id": "eb5f269e",
   "metadata": {},
   "source": [
    "Read the CSV and Perform Basic Data Cleaning"
   ]
  },
  {
   "cell_type": "code",
   "execution_count": 3,
   "id": "d46a365d",
   "metadata": {},
   "outputs": [
    {
     "data": {
      "text/html": [
       "<div>\n",
       "<style scoped>\n",
       "    .dataframe tbody tr th:only-of-type {\n",
       "        vertical-align: middle;\n",
       "    }\n",
       "\n",
       "    .dataframe tbody tr th {\n",
       "        vertical-align: top;\n",
       "    }\n",
       "\n",
       "    .dataframe thead th {\n",
       "        text-align: right;\n",
       "    }\n",
       "</style>\n",
       "<table border=\"1\" class=\"dataframe\">\n",
       "  <thead>\n",
       "    <tr style=\"text-align: right;\">\n",
       "      <th></th>\n",
       "      <th>Date</th>\n",
       "      <th>Year</th>\n",
       "      <th>County</th>\n",
       "      <th>median_listing_price</th>\n",
       "      <th>active_listing_count</th>\n",
       "      <th>median_days_on_market</th>\n",
       "      <th>new_listing_count</th>\n",
       "      <th>price_increased_count</th>\n",
       "      <th>price_reduced_count</th>\n",
       "      <th>median_square_feet</th>\n",
       "      <th>average_listing_price</th>\n",
       "      <th>total_listing_count</th>\n",
       "      <th>violent_crime_rate</th>\n",
       "      <th>30_Year_Fixed_Rate</th>\n",
       "      <th>Number_of_Schools</th>\n",
       "      <th>median_listing_price_mm</th>\n",
       "      <th>Number_of_Parks</th>\n",
       "    </tr>\n",
       "  </thead>\n",
       "  <tbody>\n",
       "    <tr>\n",
       "      <th>0</th>\n",
       "      <td>2022-06</td>\n",
       "      <td>2022</td>\n",
       "      <td>Alamance</td>\n",
       "      <td>382500</td>\n",
       "      <td>298</td>\n",
       "      <td>18</td>\n",
       "      <td>452</td>\n",
       "      <td>12</td>\n",
       "      <td>108</td>\n",
       "      <td>2112</td>\n",
       "      <td>443362</td>\n",
       "      <td>644</td>\n",
       "      <td>NaN</td>\n",
       "      <td>5.52</td>\n",
       "      <td>NaN</td>\n",
       "      <td>0.034063</td>\n",
       "      <td>54.0</td>\n",
       "    </tr>\n",
       "    <tr>\n",
       "      <th>1</th>\n",
       "      <td>2022-06</td>\n",
       "      <td>2022</td>\n",
       "      <td>Alexander</td>\n",
       "      <td>312450</td>\n",
       "      <td>34</td>\n",
       "      <td>35</td>\n",
       "      <td>28</td>\n",
       "      <td>0</td>\n",
       "      <td>20</td>\n",
       "      <td>1942</td>\n",
       "      <td>370648</td>\n",
       "      <td>59</td>\n",
       "      <td>NaN</td>\n",
       "      <td>5.52</td>\n",
       "      <td>NaN</td>\n",
       "      <td>0.016428</td>\n",
       "      <td>25.0</td>\n",
       "    </tr>\n",
       "    <tr>\n",
       "      <th>2</th>\n",
       "      <td>2022-06</td>\n",
       "      <td>2022</td>\n",
       "      <td>Alleghany</td>\n",
       "      <td>389000</td>\n",
       "      <td>54</td>\n",
       "      <td>39</td>\n",
       "      <td>24</td>\n",
       "      <td>0</td>\n",
       "      <td>20</td>\n",
       "      <td>1904</td>\n",
       "      <td>422802</td>\n",
       "      <td>92</td>\n",
       "      <td>NaN</td>\n",
       "      <td>5.52</td>\n",
       "      <td>NaN</td>\n",
       "      <td>-0.038200</td>\n",
       "      <td>0.0</td>\n",
       "    </tr>\n",
       "    <tr>\n",
       "      <th>3</th>\n",
       "      <td>2022-06</td>\n",
       "      <td>2022</td>\n",
       "      <td>Anson</td>\n",
       "      <td>170000</td>\n",
       "      <td>22</td>\n",
       "      <td>34</td>\n",
       "      <td>16</td>\n",
       "      <td>0</td>\n",
       "      <td>8</td>\n",
       "      <td>1502</td>\n",
       "      <td>262240</td>\n",
       "      <td>48</td>\n",
       "      <td>NaN</td>\n",
       "      <td>5.52</td>\n",
       "      <td>NaN</td>\n",
       "      <td>0.218638</td>\n",
       "      <td>3.0</td>\n",
       "    </tr>\n",
       "    <tr>\n",
       "      <th>4</th>\n",
       "      <td>2022-06</td>\n",
       "      <td>2022</td>\n",
       "      <td>Ashe</td>\n",
       "      <td>485000</td>\n",
       "      <td>76</td>\n",
       "      <td>31</td>\n",
       "      <td>48</td>\n",
       "      <td>0</td>\n",
       "      <td>20</td>\n",
       "      <td>1907</td>\n",
       "      <td>592879</td>\n",
       "      <td>137</td>\n",
       "      <td>NaN</td>\n",
       "      <td>5.52</td>\n",
       "      <td>NaN</td>\n",
       "      <td>-0.088346</td>\n",
       "      <td>5.0</td>\n",
       "    </tr>\n",
       "  </tbody>\n",
       "</table>\n",
       "</div>"
      ],
      "text/plain": [
       "      Date  Year     County  median_listing_price  active_listing_count  \\\n",
       "0  2022-06  2022   Alamance                382500                   298   \n",
       "1  2022-06  2022  Alexander                312450                    34   \n",
       "2  2022-06  2022  Alleghany                389000                    54   \n",
       "3  2022-06  2022      Anson                170000                    22   \n",
       "4  2022-06  2022       Ashe                485000                    76   \n",
       "\n",
       "   median_days_on_market  new_listing_count  price_increased_count  \\\n",
       "0                     18                452                     12   \n",
       "1                     35                 28                      0   \n",
       "2                     39                 24                      0   \n",
       "3                     34                 16                      0   \n",
       "4                     31                 48                      0   \n",
       "\n",
       "   price_reduced_count  median_square_feet  average_listing_price  \\\n",
       "0                  108                2112                 443362   \n",
       "1                   20                1942                 370648   \n",
       "2                   20                1904                 422802   \n",
       "3                    8                1502                 262240   \n",
       "4                   20                1907                 592879   \n",
       "\n",
       "   total_listing_count violent_crime_rate  30_Year_Fixed_Rate  \\\n",
       "0                  644                NaN                5.52   \n",
       "1                   59                NaN                5.52   \n",
       "2                   92                NaN                5.52   \n",
       "3                   48                NaN                5.52   \n",
       "4                  137                NaN                5.52   \n",
       "\n",
       "   Number_of_Schools  median_listing_price_mm  Number_of_Parks  \n",
       "0                NaN                 0.034063             54.0  \n",
       "1                NaN                 0.016428             25.0  \n",
       "2                NaN                -0.038200              0.0  \n",
       "3                NaN                 0.218638              3.0  \n",
       "4                NaN                -0.088346              5.0  "
      ]
     },
     "execution_count": 3,
     "metadata": {},
     "output_type": "execute_result"
    }
   ],
   "source": [
    "df = pd.read_csv(r'C:\\Users\\earth\\Desktop\\class_folder\\FinalProject\\Resources\\filled_final_table.csv')\n",
    "df.head()\n"
   ]
  },
  {
   "cell_type": "code",
   "execution_count": 28,
   "id": "b1649e7a",
   "metadata": {},
   "outputs": [
    {
     "data": {
      "text/html": [
       "<div>\n",
       "<style scoped>\n",
       "    .dataframe tbody tr th:only-of-type {\n",
       "        vertical-align: middle;\n",
       "    }\n",
       "\n",
       "    .dataframe tbody tr th {\n",
       "        vertical-align: top;\n",
       "    }\n",
       "\n",
       "    .dataframe thead th {\n",
       "        text-align: right;\n",
       "    }\n",
       "</style>\n",
       "<table border=\"1\" class=\"dataframe\">\n",
       "  <thead>\n",
       "    <tr style=\"text-align: right;\">\n",
       "      <th></th>\n",
       "      <th>Date</th>\n",
       "      <th>Year</th>\n",
       "      <th>County</th>\n",
       "      <th>median_listing_price</th>\n",
       "      <th>active_listing_count</th>\n",
       "      <th>median_days_on_market</th>\n",
       "      <th>new_listing_count</th>\n",
       "      <th>price_increased_count</th>\n",
       "      <th>price_reduced_count</th>\n",
       "      <th>median_square_feet</th>\n",
       "      <th>average_listing_price</th>\n",
       "      <th>total_listing_count</th>\n",
       "      <th>violent_crime_rate</th>\n",
       "      <th>30_Year_Fixed_Rate</th>\n",
       "      <th>Number_of_Schools</th>\n",
       "      <th>median_listing_price_mm</th>\n",
       "      <th>Number_of_Parks</th>\n",
       "      <th>Price_Status</th>\n",
       "    </tr>\n",
       "  </thead>\n",
       "  <tbody>\n",
       "    <tr>\n",
       "      <th>0</th>\n",
       "      <td>2022-06</td>\n",
       "      <td>2022</td>\n",
       "      <td>Alamance</td>\n",
       "      <td>382500</td>\n",
       "      <td>298</td>\n",
       "      <td>18</td>\n",
       "      <td>452</td>\n",
       "      <td>12</td>\n",
       "      <td>108</td>\n",
       "      <td>2112</td>\n",
       "      <td>443362</td>\n",
       "      <td>644</td>\n",
       "      <td>NaN</td>\n",
       "      <td>5.52</td>\n",
       "      <td>NaN</td>\n",
       "      <td>0.034063</td>\n",
       "      <td>54.0</td>\n",
       "      <td>up</td>\n",
       "    </tr>\n",
       "    <tr>\n",
       "      <th>1</th>\n",
       "      <td>2022-06</td>\n",
       "      <td>2022</td>\n",
       "      <td>Alexander</td>\n",
       "      <td>312450</td>\n",
       "      <td>34</td>\n",
       "      <td>35</td>\n",
       "      <td>28</td>\n",
       "      <td>0</td>\n",
       "      <td>20</td>\n",
       "      <td>1942</td>\n",
       "      <td>370648</td>\n",
       "      <td>59</td>\n",
       "      <td>NaN</td>\n",
       "      <td>5.52</td>\n",
       "      <td>NaN</td>\n",
       "      <td>0.016428</td>\n",
       "      <td>25.0</td>\n",
       "      <td>up</td>\n",
       "    </tr>\n",
       "    <tr>\n",
       "      <th>2</th>\n",
       "      <td>2022-06</td>\n",
       "      <td>2022</td>\n",
       "      <td>Alleghany</td>\n",
       "      <td>389000</td>\n",
       "      <td>54</td>\n",
       "      <td>39</td>\n",
       "      <td>24</td>\n",
       "      <td>0</td>\n",
       "      <td>20</td>\n",
       "      <td>1904</td>\n",
       "      <td>422802</td>\n",
       "      <td>92</td>\n",
       "      <td>NaN</td>\n",
       "      <td>5.52</td>\n",
       "      <td>NaN</td>\n",
       "      <td>-0.038200</td>\n",
       "      <td>0.0</td>\n",
       "      <td>down</td>\n",
       "    </tr>\n",
       "    <tr>\n",
       "      <th>3</th>\n",
       "      <td>2022-06</td>\n",
       "      <td>2022</td>\n",
       "      <td>Anson</td>\n",
       "      <td>170000</td>\n",
       "      <td>22</td>\n",
       "      <td>34</td>\n",
       "      <td>16</td>\n",
       "      <td>0</td>\n",
       "      <td>8</td>\n",
       "      <td>1502</td>\n",
       "      <td>262240</td>\n",
       "      <td>48</td>\n",
       "      <td>NaN</td>\n",
       "      <td>5.52</td>\n",
       "      <td>NaN</td>\n",
       "      <td>0.218638</td>\n",
       "      <td>3.0</td>\n",
       "      <td>up</td>\n",
       "    </tr>\n",
       "    <tr>\n",
       "      <th>4</th>\n",
       "      <td>2022-06</td>\n",
       "      <td>2022</td>\n",
       "      <td>Ashe</td>\n",
       "      <td>485000</td>\n",
       "      <td>76</td>\n",
       "      <td>31</td>\n",
       "      <td>48</td>\n",
       "      <td>0</td>\n",
       "      <td>20</td>\n",
       "      <td>1907</td>\n",
       "      <td>592879</td>\n",
       "      <td>137</td>\n",
       "      <td>NaN</td>\n",
       "      <td>5.52</td>\n",
       "      <td>NaN</td>\n",
       "      <td>-0.088346</td>\n",
       "      <td>5.0</td>\n",
       "      <td>down</td>\n",
       "    </tr>\n",
       "  </tbody>\n",
       "</table>\n",
       "</div>"
      ],
      "text/plain": [
       "      Date  Year     County  median_listing_price  active_listing_count  \\\n",
       "0  2022-06  2022   Alamance                382500                   298   \n",
       "1  2022-06  2022  Alexander                312450                    34   \n",
       "2  2022-06  2022  Alleghany                389000                    54   \n",
       "3  2022-06  2022      Anson                170000                    22   \n",
       "4  2022-06  2022       Ashe                485000                    76   \n",
       "\n",
       "   median_days_on_market  new_listing_count  price_increased_count  \\\n",
       "0                     18                452                     12   \n",
       "1                     35                 28                      0   \n",
       "2                     39                 24                      0   \n",
       "3                     34                 16                      0   \n",
       "4                     31                 48                      0   \n",
       "\n",
       "   price_reduced_count  median_square_feet  average_listing_price  \\\n",
       "0                  108                2112                 443362   \n",
       "1                   20                1942                 370648   \n",
       "2                   20                1904                 422802   \n",
       "3                    8                1502                 262240   \n",
       "4                   20                1907                 592879   \n",
       "\n",
       "   total_listing_count  violent_crime_rate  30_Year_Fixed_Rate  \\\n",
       "0                  644                 NaN                5.52   \n",
       "1                   59                 NaN                5.52   \n",
       "2                   92                 NaN                5.52   \n",
       "3                   48                 NaN                5.52   \n",
       "4                  137                 NaN                5.52   \n",
       "\n",
       "   Number_of_Schools  median_listing_price_mm  Number_of_Parks Price_Status  \n",
       "0                NaN                 0.034063             54.0           up  \n",
       "1                NaN                 0.016428             25.0           up  \n",
       "2                NaN                -0.038200              0.0         down  \n",
       "3                NaN                 0.218638              3.0           up  \n",
       "4                NaN                -0.088346              5.0         down  "
      ]
     },
     "execution_count": 28,
     "metadata": {},
     "output_type": "execute_result"
    }
   ],
   "source": [
    "#conditional based column = np.where(df['median_listing_price_mm'] (x>=0), 'up(1)', 'down(0)')\n",
    "df['Price_Status'] = np.where(df['median_listing_price_mm']>=0, 'up', 'down')\n",
    "df['violent_crime_rate']= df['violent_crime_rate'].str.replace(',','').astype(float)\n",
    "df.head()"
   ]
  },
  {
   "cell_type": "code",
   "execution_count": 29,
   "id": "058f04bb",
   "metadata": {},
   "outputs": [
    {
     "data": {
      "text/plain": [
       "Year                         int64\n",
       "County                      object\n",
       "median_listing_price         int64\n",
       "active_listing_count         int64\n",
       "median_days_on_market        int64\n",
       "new_listing_count            int64\n",
       "price_increased_count        int64\n",
       "price_reduced_count          int64\n",
       "median_square_feet           int64\n",
       "average_listing_price        int64\n",
       "total_listing_count          int64\n",
       "violent_crime_rate         float64\n",
       "30_Year_Fixed_Rate         float64\n",
       "Number_of_Schools          float64\n",
       "median_listing_price_mm    float64\n",
       "Number_of_Parks            float64\n",
       "Price_Status                object\n",
       "dtype: object"
      ]
     },
     "execution_count": 29,
     "metadata": {},
     "output_type": "execute_result"
    }
   ],
   "source": [
    "df_new1 = df.drop(['Date'], axis=1)\n",
    "df_new1.dtypes"
   ]
  },
  {
   "cell_type": "code",
   "execution_count": 30,
   "id": "eee32972",
   "metadata": {},
   "outputs": [
    {
     "data": {
      "text/plain": [
       "array([2022, 2021, 2020, 2019, 2018, 2017, 2016], dtype=int64)"
      ]
     },
     "execution_count": 30,
     "metadata": {},
     "output_type": "execute_result"
    }
   ],
   "source": [
    "df_new1[\"Year\"].unique()"
   ]
  },
  {
   "cell_type": "code",
   "execution_count": 31,
   "id": "c15abb0b",
   "metadata": {},
   "outputs": [],
   "source": [
    "filter_df = df_new1[df_new1['Year'] <2019]\n",
    "#filter_df[\"Year\"].unique()"
   ]
  },
  {
   "cell_type": "code",
   "execution_count": 32,
   "id": "e122b9c2",
   "metadata": {},
   "outputs": [],
   "source": [
    "\n",
    "columns = [\n",
    "     \"Year\", \"County\", \n",
    "    \"active_listing_count\", \"median_days_on_market\", \"new_listing_count\",\n",
    "    \"price_increased_count\", \"price_reduced_count\", \"median_square_feet\",\n",
    "    \"total_listing_count\", \"violent_crime_rate\",\"Number_of_Parks\",\n",
    "    \"Number_of_Schools\",\"30_Year_Fixed_Rate\", \n",
    "     \"Price_Status\"]\n",
    "\n",
    "target = [\"Price_Status\"]"
   ]
  },
  {
   "cell_type": "code",
   "execution_count": 33,
   "id": "5fcfb5c1",
   "metadata": {},
   "outputs": [
    {
     "data": {
      "text/plain": [
       "Year                     0\n",
       "County                   0\n",
       "active_listing_count     0\n",
       "median_days_on_market    0\n",
       "new_listing_count        0\n",
       "price_increased_count    0\n",
       "price_reduced_count      0\n",
       "median_square_feet       0\n",
       "total_listing_count      0\n",
       "violent_crime_rate       0\n",
       "Number_of_Parks          0\n",
       "Number_of_Schools        0\n",
       "30_Year_Fixed_Rate       0\n",
       "Price_Status             0\n",
       "dtype: int64"
      ]
     },
     "execution_count": 33,
     "metadata": {},
     "output_type": "execute_result"
    }
   ],
   "source": [
    "# Load the data\n",
    "\n",
    "df_data = filter_df.loc[:, columns].copy()\n",
    "df_data = df_data.dropna()\n",
    "\n",
    "df_data.reset_index(inplace=True, drop=True)\n",
    "\n",
    "df_data.head()\n",
    "df_data.isnull().sum()"
   ]
  },
  {
   "cell_type": "markdown",
   "id": "115bdf03",
   "metadata": {},
   "source": [
    "Split the Data into Training and Testing"
   ]
  },
  {
   "cell_type": "code",
   "execution_count": 34,
   "id": "4413c1c3",
   "metadata": {},
   "outputs": [],
   "source": [
    "# Create our features\n",
    "X = df_data.drop('Price_Status', axis=1)\n",
    "\n",
    "X = pd.get_dummies(X)\n",
    "\n",
    "# Create our target\n",
    "y = df_data.loc[:, target].copy()\n",
    "\n"
   ]
  },
  {
   "cell_type": "code",
   "execution_count": 35,
   "id": "3bd823a3",
   "metadata": {},
   "outputs": [
    {
     "data": {
      "text/plain": [
       "Price_Status\n",
       "up              1448\n",
       "down            1162\n",
       "dtype: int64"
      ]
     },
     "execution_count": 35,
     "metadata": {},
     "output_type": "execute_result"
    }
   ],
   "source": [
    "# Check the balance of our target values\n",
    "y.value_counts()"
   ]
  },
  {
   "cell_type": "code",
   "execution_count": 36,
   "id": "27bc11e6",
   "metadata": {},
   "outputs": [
    {
     "data": {
      "text/plain": [
       "(653, 104)"
      ]
     },
     "execution_count": 36,
     "metadata": {},
     "output_type": "execute_result"
    }
   ],
   "source": [
    "from sklearn.model_selection import train_test_split\n",
    "X_train, X_test, y_train, y_test = train_test_split(X, \n",
    "                                                    y, \n",
    "                                                    random_state=1) \n",
    "                                                 \n",
    "X_test.shape\n"
   ]
  },
  {
   "cell_type": "markdown",
   "id": "5ea496dc",
   "metadata": {},
   "source": [
    "Balanced Random Forest Classifier¶"
   ]
  },
  {
   "cell_type": "code",
   "execution_count": 37,
   "id": "7840dc2e",
   "metadata": {},
   "outputs": [
    {
     "data": {
      "text/plain": [
       "Counter({'down': 864, 'up': 1093})"
      ]
     },
     "execution_count": 37,
     "metadata": {},
     "output_type": "execute_result"
    }
   ],
   "source": [
    "# Resample the training data with the BalancedRandomForestClassifier\n",
    "from imblearn.ensemble import BalancedRandomForestClassifier\n",
    "rf_model = BalancedRandomForestClassifier(n_estimators=100, random_state=1) \n",
    "rf_model = rf_model.fit(X_train, y_train)\n",
    "Counter(y_train['Price_Status'])"
   ]
  },
  {
   "cell_type": "code",
   "execution_count": 38,
   "id": "6a7402da",
   "metadata": {},
   "outputs": [
    {
     "data": {
      "text/plain": [
       "array([[162, 136],\n",
       "       [162, 193]], dtype=int64)"
      ]
     },
     "execution_count": 38,
     "metadata": {},
     "output_type": "execute_result"
    }
   ],
   "source": [
    "# Display the confusion matrix\n",
    "from sklearn.metrics import confusion_matrix\n",
    "\n",
    "y_pred = rf_model.predict(X_test)\n",
    "confusion_matrix(y_test, y_pred)\n"
   ]
  },
  {
   "cell_type": "code",
   "execution_count": 39,
   "id": "f7c477c3",
   "metadata": {},
   "outputs": [
    {
     "data": {
      "text/plain": [
       "0.5436430664524057"
      ]
     },
     "execution_count": 39,
     "metadata": {},
     "output_type": "execute_result"
    }
   ],
   "source": [
    "# Calculated the balanced accuracy score\n",
    "from sklearn.metrics import balanced_accuracy_score\n",
    "\n",
    "balanced_accuracy_score(y_test, y_pred)\n",
    "\n",
    "# score changes to 1.0 if violent_crime_rate is converted from object to float"
   ]
  },
  {
   "cell_type": "code",
   "execution_count": 40,
   "id": "c388c8b3",
   "metadata": {},
   "outputs": [
    {
     "name": "stdout",
     "output_type": "stream",
     "text": [
      "              precision    recall  f1-score   support\n",
      "\n",
      "        down       0.50      0.54      0.52       298\n",
      "          up       0.59      0.54      0.56       355\n",
      "\n",
      "    accuracy                           0.54       653\n",
      "   macro avg       0.54      0.54      0.54       653\n",
      "weighted avg       0.55      0.54      0.54       653\n",
      "\n"
     ]
    }
   ],
   "source": [
    "# Print the imbalanced classification report\n",
    "from sklearn.metrics import classification_report\n",
    "print(classification_report(y_test, y_pred))"
   ]
  },
  {
   "cell_type": "code",
   "execution_count": 41,
   "id": "6f4d0a50",
   "metadata": {},
   "outputs": [
    {
     "data": {
      "text/plain": [
       "[(0.10671278415466, '30_Year_Fixed_Rate'),\n",
       " (0.10096187499467439, 'active_listing_count'),\n",
       " (0.10089983780866356, 'median_days_on_market'),\n",
       " (0.10030907920154715, 'median_square_feet'),\n",
       " (0.09677620884921763, 'total_listing_count'),\n",
       " (0.08711799004372474, 'new_listing_count'),\n",
       " (0.08689255814566962, 'price_reduced_count'),\n",
       " (0.055766691604878356, 'violent_crime_rate'),\n",
       " (0.04388434602107332, 'Number_of_Schools'),\n",
       " (0.03942473932878671, 'price_increased_count'),\n",
       " (0.03647066187110157, 'Number_of_Parks'),\n",
       " (0.024335716315164187, 'Year'),\n",
       " (0.003395867613404141, 'County_Swain'),\n",
       " (0.0028051118133615004, 'County_Rutherford'),\n",
       " (0.002511960467145174, 'County_Duplin'),\n",
       " (0.0020618194621488304, 'County_Orange'),\n",
       " (0.0020215274389601976, 'County_Stanly'),\n",
       " (0.0019855941135636856, 'County_Henderson'),\n",
       " (0.0019730372687337, 'County_Clay'),\n",
       " (0.0018865602554889811, 'County_Stokes'),\n",
       " (0.001810053704152922, 'County_Cleveland'),\n",
       " (0.0017691052059457463, 'County_Wilkes'),\n",
       " (0.0017510276278626, 'County_Halifax'),\n",
       " (0.001713585374535722, 'County_Columbus'),\n",
       " (0.0016913075675902103, 'County_Hoke'),\n",
       " (0.001684506339716614, 'County_Alamance'),\n",
       " (0.0016809902840312608, 'County_Richmond'),\n",
       " (0.0016556789188816117, 'County_Alleghany'),\n",
       " (0.001653597845476888, 'County_Forsyth'),\n",
       " (0.00164354325515486, 'County_Haywood'),\n",
       " (0.001636238950050342, 'County_Lenoir'),\n",
       " (0.0016298091451422436, 'County_Wayne'),\n",
       " (0.0016170497963639207, 'County_Transylvania'),\n",
       " (0.0015956289145247667, 'County_Surry'),\n",
       " (0.001582063194661637, 'County_Wilson'),\n",
       " (0.001577267694623279, 'County_Jackson'),\n",
       " (0.0015577106058050237, 'County_Avery'),\n",
       " (0.0015395455515398435, 'County_Beaufort'),\n",
       " (0.0015170325997016958, 'County_Pasquotank'),\n",
       " (0.0015090534627108952, 'County_Davidson'),\n",
       " (0.001468227790923796, 'County_Craven'),\n",
       " (0.0014555444915036182, 'County_Alexander'),\n",
       " (0.0014486294395683105, 'County_Vance'),\n",
       " (0.001447388037103263, 'County_Catawba'),\n",
       " (0.0014264476652338526, 'County_Rowan'),\n",
       " (0.0014263953408905205, 'County_Yancey'),\n",
       " (0.0014018066280176795, 'County_Pender'),\n",
       " (0.001384892134964264, 'County_Person'),\n",
       " (0.0013839267599434707, 'County_Davie'),\n",
       " (0.0013748921066700742, 'County_Montgomery'),\n",
       " (0.001370504973973739, 'County_Lincoln'),\n",
       " (0.0013489665457829339, 'County_Polk'),\n",
       " (0.0013441598133534026, 'County_Chatham'),\n",
       " (0.001343020066958941, 'County_Pamlico'),\n",
       " (0.0013293921719427448, 'County_Randolph'),\n",
       " (0.0013141419177082505, 'County_Madison'),\n",
       " (0.0012967211873507092, 'County_Burke'),\n",
       " (0.0012913438114361695, 'County_Northampton'),\n",
       " (0.0012668335239600505, 'County_Rockingham'),\n",
       " (0.00124745571850023, 'County_Pitt'),\n",
       " (0.0012331596963124154, 'County_Robeson'),\n",
       " (0.0012317078428333396, 'County_Iredell'),\n",
       " (0.0012300718583486026, 'County_Currituck'),\n",
       " (0.0012241153964516341, 'County_Gaston'),\n",
       " (0.0012232071715145777, 'County_Sampson'),\n",
       " (0.0012207844061535259, 'County_Perquimans'),\n",
       " (0.001214488956940399, 'County_Martin'),\n",
       " (0.0012130993001308991, 'County_Watauga'),\n",
       " (0.0012068374566367673, 'County_Hertford'),\n",
       " (0.0012062032834950433, 'County_Carteret'),\n",
       " (0.0011829986239697756, 'County_Franklin'),\n",
       " (0.0011821538079457342, 'County_Bertie'),\n",
       " (0.0011813751645486955, 'County_Caldwell'),\n",
       " (0.0011738481650630734, 'County_Onslow'),\n",
       " (0.0011567355583391868, 'County_Dare'),\n",
       " (0.0011338124700430237, 'County_Johnston'),\n",
       " (0.0011317983827788432, 'County_Cabarrus'),\n",
       " (0.001129102539285588, 'County_Yadkin'),\n",
       " (0.001089935048498306, 'County_Union'),\n",
       " (0.0010791786244030304, 'County_Chowan'),\n",
       " (0.0010544968218846422, 'County_Granville'),\n",
       " (0.001025568582884326, 'County_Moore'),\n",
       " (0.0010157966689297957, 'County_Warren'),\n",
       " (0.0009969389740732693, 'County_Macon'),\n",
       " (0.000982422196081586, 'County_Cherokee'),\n",
       " (0.000969913946913269, 'County_Brunswick'),\n",
       " (0.00095341060741106, 'County_Harnett'),\n",
       " (0.0009520827606294738, 'County_Scotland'),\n",
       " (0.0009164224180834336, 'County_Caswell'),\n",
       " (0.0008526380611666482, 'County_Anson'),\n",
       " (0.0008430780644703201, 'County_Camden'),\n",
       " (0.000759816975139269, 'County_Guilford'),\n",
       " (0.0007519640645264231, 'County_Tyrrell'),\n",
       " (0.000739388622655674, 'County_Graham'),\n",
       " (0.000736945793162449, 'County_Edgecombe'),\n",
       " (0.0006950006034672868, 'County_Greene'),\n",
       " (0.0006745796994352788, 'County_Cumberland'),\n",
       " (0.0005528416805375513, 'County_Durham'),\n",
       " (0.0005258269580400919, 'County_Buncombe'),\n",
       " (0.0005101476467835316, 'County_Lee'),\n",
       " (0.0005027794348907456, 'County_Wake'),\n",
       " (0.00042749945263251195, 'County_Mecklenburg'),\n",
       " (0.00036243971736997353, 'County_Ashe'),\n",
       " (0.00017393355891356571, 'County_Nash')]"
      ]
     },
     "execution_count": 41,
     "metadata": {},
     "output_type": "execute_result"
    }
   ],
   "source": [
    "# List the features sorted in descending order by feature importance\n",
    "sorted(zip(rf_model.feature_importances_, X.columns), reverse=True)\n",
    "\n",
    "\n",
    "\n"
   ]
  },
  {
   "cell_type": "markdown",
   "id": "7d1e0c34",
   "metadata": {},
   "source": [
    "# Hypertune features"
   ]
  },
  {
   "cell_type": "code",
   "execution_count": 54,
   "id": "b06a34f1",
   "metadata": {},
   "outputs": [
    {
     "data": {
      "text/plain": [
       "Counter({'down': 864, 'up': 1093})"
      ]
     },
     "execution_count": 54,
     "metadata": {},
     "output_type": "execute_result"
    }
   ],
   "source": [
    "# Resample the training data with the BalancedRandomForestClassifier\n",
    "from imblearn.ensemble import BalancedRandomForestClassifier\n",
    "rf_model = BalancedRandomForestClassifier(n_estimators=900, random_state=1) \n",
    "rf_model = rf_model.fit(X_train, y_train)\n",
    "Counter(y_train['Price_Status'])"
   ]
  },
  {
   "cell_type": "code",
   "execution_count": 55,
   "id": "4c1b6d54",
   "metadata": {},
   "outputs": [
    {
     "data": {
      "text/plain": [
       "array([[157, 141],\n",
       "       [153, 202]], dtype=int64)"
      ]
     },
     "execution_count": 55,
     "metadata": {},
     "output_type": "execute_result"
    }
   ],
   "source": [
    "# Display the confusion matrix\n",
    "from sklearn.metrics import confusion_matrix\n",
    "\n",
    "y_pred = rf_model.predict(X_test)\n",
    "confusion_matrix(y_test, y_pred)\n"
   ]
  },
  {
   "cell_type": "code",
   "execution_count": 56,
   "id": "019b0fe6",
   "metadata": {},
   "outputs": [
    {
     "data": {
      "text/plain": [
       "0.5479298610454675"
      ]
     },
     "execution_count": 56,
     "metadata": {},
     "output_type": "execute_result"
    }
   ],
   "source": [
    "# Calculated the balanced accuracy score\n",
    "from sklearn.metrics import balanced_accuracy_score\n",
    "\n",
    "balanced_accuracy_score(y_test, y_pred)"
   ]
  },
  {
   "cell_type": "code",
   "execution_count": 57,
   "id": "771f0c67",
   "metadata": {},
   "outputs": [
    {
     "name": "stdout",
     "output_type": "stream",
     "text": [
      "              precision    recall  f1-score   support\n",
      "\n",
      "        down       0.51      0.53      0.52       298\n",
      "          up       0.59      0.57      0.58       355\n",
      "\n",
      "    accuracy                           0.55       653\n",
      "   macro avg       0.55      0.55      0.55       653\n",
      "weighted avg       0.55      0.55      0.55       653\n",
      "\n"
     ]
    }
   ],
   "source": [
    "# Print the imbalanced classification report\n",
    "from sklearn.metrics import classification_report\n",
    "print(classification_report(y_test, y_pred))"
   ]
  },
  {
   "cell_type": "code",
   "execution_count": null,
   "id": "356b7ab0",
   "metadata": {},
   "outputs": [],
   "source": []
  },
  {
   "cell_type": "code",
   "execution_count": null,
   "id": "801905b2",
   "metadata": {},
   "outputs": [],
   "source": [
    "# heat map of feature correlation\n",
    "plt.rcParams['figure.figsize']=35,35\n",
    "g = sns.heatmap(df.corr(),annot=True, fmt = \".1f\")"
   ]
  },
  {
   "cell_type": "code",
   "execution_count": null,
   "id": "1cda0fb6",
   "metadata": {},
   "outputs": [],
   "source": [
    "# distribution plot of column\n",
    "sns.distplot(df['median_listing_price'])"
   ]
  },
  {
   "cell_type": "code",
   "execution_count": null,
   "id": "be6a7d70",
   "metadata": {},
   "outputs": [],
   "source": [
    "# convert Price_class to numeric, distribution of median_listing_price increase|decrease month/month\n",
    "df['Price_Status'] = df['Price_Status'].replace(['up','down'],['1','0'])\n",
    "sns.distplot(df['Price_Status'])"
   ]
  },
  {
   "cell_type": "code",
   "execution_count": null,
   "id": "42bd7b6f",
   "metadata": {},
   "outputs": [],
   "source": [
    "# Reference code for heatmaps :https://www.kaggle.com/code/bsivavenu/house-price-calculation-methods-for-beginners\n",
    "\n",
    "# most correlated features\n",
    "corrmat = df.corr()\n",
    "top_corr_features = corrmat.index[abs(corrmat[\"median_listing_price\"])>0.30]\n",
    "plt.figure(figsize=(10,10))\n",
    "g = sns.heatmap(df[top_corr_features].corr(),annot=True,cmap=\"mako\")"
   ]
  },
  {
   "cell_type": "code",
   "execution_count": null,
   "id": "be902be7",
   "metadata": {},
   "outputs": [],
   "source": [
    "# seaborn linear regression fit: median listing price vs median square feet\n",
    "sns.jointplot(data=df, x=\"median_listing_price\", y=\"median_square_feet\", kind=\"reg\")\n",
    "\n",
    "# outliers present"
   ]
  },
  {
   "cell_type": "code",
   "execution_count": null,
   "id": "c5e34dc2",
   "metadata": {},
   "outputs": [],
   "source": [
    "#median_listing_price vs average listing price\n",
    "sns.jointplot(data=df, x=\"median_listing_price\", y=\"average_listing_price\", kind=\"reg\")"
   ]
  },
  {
   "cell_type": "code",
   "execution_count": null,
   "id": "38b9fe7a",
   "metadata": {},
   "outputs": [],
   "source": [
    "# seaborn linear regression fit: median listing price vs median square feet\n",
    "sns.jointplot(data=df, x=\"median_listing_price\", y=\"violent_crime_rate\", kind=\"reg\")"
   ]
  },
  {
   "cell_type": "code",
   "execution_count": null,
   "id": "8accea62",
   "metadata": {},
   "outputs": [],
   "source": [
    "#median listing price vs Year\n",
    "sns.jointplot(data=df, x=\"median_listing_price\", y=\"Year\", kind=\"reg\")"
   ]
  },
  {
   "cell_type": "code",
   "execution_count": null,
   "id": "66974d08",
   "metadata": {},
   "outputs": [],
   "source": [
    "# Find Missing Ratio of Dataset\n",
    "# reference: https://stackoverflow.com/questions/51070985/find-out-the-percentage-of-missing-values-in-each-column-in-the-given-dataset\n",
    "#percent_missing = df.isnull().sum() * 100 / len(df)\n",
    "#missing_value_df = pd.DataFrame({'column_name': df.columns,\n",
    "                                 #'percent_missing': percent_missing})\n",
    "#missing_value_df"
   ]
  },
  {
   "cell_type": "code",
   "execution_count": null,
   "id": "d8adbf4e",
   "metadata": {},
   "outputs": [],
   "source": [
    "# reference\n",
    "# https://www.kaggle.com/code/kanncaa1/machine-learning-tutorial-for-beginners/notebook\n",
    "#https://www.kaggle.com/code/erick5/predicting-house-prices-with-machine-learning/notebook"
   ]
  },
  {
   "cell_type": "code",
   "execution_count": null,
   "id": "eea96774",
   "metadata": {},
   "outputs": [],
   "source": [
    "# dict of county names with values\n",
    "#county_names = df.County.unique()\n",
    "#county_di = dict(zip(county_names, range(len(county_names))))\n",
    "#county_di"
   ]
  },
  {
   "cell_type": "code",
   "execution_count": null,
   "id": "065f620a",
   "metadata": {},
   "outputs": [],
   "source": [
    "# county names with #'s'\n",
    "#df_new = df.copy()\n",
    "#df_new['County'].replace(county_di, inplace=True)\n",
    "#df_new.head()"
   ]
  },
  {
   "cell_type": "code",
   "execution_count": null,
   "id": "ca8cfaa9",
   "metadata": {},
   "outputs": [],
   "source": [
    "#df_new.to_csv(\"c:/tmp/courses.csv\",header=False)"
   ]
  },
  {
   "cell_type": "code",
   "execution_count": null,
   "id": "d5fce5ee",
   "metadata": {},
   "outputs": [],
   "source": [
    "# copy the data\n",
    "#df_max_scaled = df_data.copy()\n",
    "  \n",
    "# apply normalization techniques\n",
    "#for column in df_max_scaled.columns:\n",
    "    #df_max_scaled[column] = df_max_scaled[column]  / df_max_scaled[column].abs().max()\n",
    "      \n",
    "# view normalized data\n",
    "#display(df_max_scaled)"
   ]
  }
 ],
 "metadata": {
  "kernelspec": {
   "display_name": "mlenv3",
   "language": "python",
   "name": "mlenv3"
  },
  "language_info": {
   "codemirror_mode": {
    "name": "ipython",
    "version": 3
   },
   "file_extension": ".py",
   "mimetype": "text/x-python",
   "name": "python",
   "nbconvert_exporter": "python",
   "pygments_lexer": "ipython3",
   "version": "3.8.13"
  }
 },
 "nbformat": 4,
 "nbformat_minor": 5
}
