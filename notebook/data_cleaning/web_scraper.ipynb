{
 "cells": [
  {
   "cell_type": "code",
   "execution_count": null,
   "id": "315e94dd",
   "metadata": {},
   "outputs": [],
   "source": [
    "# Import Splinter and BeautifulSoup\n",
    "from splinter import Browser\n",
    "from bs4 import BeautifulSoup as soup\n",
    "from webdriver_manager.chrome import ChromeDriverManager\n",
    "import pandas as pd\n",
    "pd.set_option('display.max_rows', None)"
   ]
  },
  {
   "cell_type": "code",
   "execution_count": null,
   "id": "fe1ba1d5",
   "metadata": {},
   "outputs": [],
   "source": [
    "# read in to get zipcode \n",
    "zipcode_df = pd.read_csv(\"zipcode.csv\")\n",
    "zipcode_df.reset_index(inplace=True)\n",
    "zipcode_df.head()"
   ]
  },
  {
   "cell_type": "code",
   "execution_count": null,
   "id": "bcfaccf4",
   "metadata": {},
   "outputs": [],
   "source": [
    "# convert to dictinary to pass in input field\n",
    "zipcode = dict(zip(zipcode_df.index,zipcode_df.postal_code))\n",
    "zipcode"
   ]
  },
  {
   "cell_type": "code",
   "execution_count": null,
   "id": "2936ddc9",
   "metadata": {},
   "outputs": [],
   "source": [
    "print(zipcode[1])\n",
    "\n"
   ]
  },
  {
   "cell_type": "code",
   "execution_count": null,
   "id": "5b96d240",
   "metadata": {},
   "outputs": [],
   "source": [
    "# set up splinter\n",
    "executable_path={\"executable_path\": ChromeDriverManager().install()}\n",
    "browser = Browser(\"chrome\", **executable_path, headless=False)\n"
   ]
  },
  {
   "cell_type": "code",
   "execution_count": null,
   "id": "6ee4c55a",
   "metadata": {},
   "outputs": [],
   "source": [
    "# Visit the site, assign link to URL.\n",
    "url = 'https://crimegrade.org/crime-in-my-area/'\n",
    "browser.visit(url)"
   ]
  },
  {
   "cell_type": "code",
   "execution_count": null,
   "id": "8b995433",
   "metadata": {},
   "outputs": [],
   "source": [
    "# Parse the HTML: BeautifulSoup will parse HTML, store compoenents as objects to access.\n",
    "html = browser.html\n",
    "html_soup = soup(html, 'html.parser')\n"
   ]
  },
  {
   "cell_type": "code",
   "execution_count": null,
   "id": "50f6af30",
   "metadata": {},
   "outputs": [],
   "source": [
    "# Scrape the Title\n",
    "title = html_soup.find('h1').text\n",
    "title"
   ]
  },
  {
   "cell_type": "code",
   "execution_count": null,
   "id": "25011e55",
   "metadata": {},
   "outputs": [],
   "source": [
    "# Scrape the input field for zipcode\n",
    "form = html_soup.find('input', class_='FormBodyInput')\n",
    "print(form)"
   ]
  },
  {
   "cell_type": "code",
   "execution_count": null,
   "id": "82b8e0b5",
   "metadata": {},
   "outputs": [],
   "source": [
    "browser.find_by_id('zip-code-form').fill(zipcode[3])"
   ]
  },
  {
   "cell_type": "code",
   "execution_count": null,
   "id": "d1f74e52",
   "metadata": {},
   "outputs": [],
   "source": [
    "form = html_soup.find('input', class_='FormBodySubmit')\n",
    "print(form)"
   ]
  },
  {
   "cell_type": "code",
   "execution_count": null,
   "id": "7dd2ebf4",
   "metadata": {},
   "outputs": [],
   "source": [
    "browser.find_by_id('submit').first.click()"
   ]
  },
  {
   "cell_type": "code",
   "execution_count": null,
   "id": "1eb15f39",
   "metadata": {},
   "outputs": [],
   "source": [
    "div = html_soup.find(\"div\", { \"class\" : \"one_half\" })\n",
    "for x in div:\n",
    "    print(x)"
   ]
  },
  {
   "cell_type": "code",
   "execution_count": null,
   "id": "adb5ce9c",
   "metadata": {},
   "outputs": [],
   "source": []
  },
  {
   "cell_type": "code",
   "execution_count": null,
   "id": "029f26fb",
   "metadata": {},
   "outputs": [],
   "source": []
  },
  {
   "cell_type": "code",
   "execution_count": null,
   "id": "d0600c20",
   "metadata": {},
   "outputs": [],
   "source": [
    "# write output to csv\n",
    "with open('title'.csv', 'w', encoding='utf8', newline='') as f:\n",
    "    thewriter = writer(f)\n",
    "    header = []\n",
    "    thewriter.writerow(header)"
   ]
  },
  {
   "cell_type": "code",
   "execution_count": null,
   "id": "80c4c1aa",
   "metadata": {},
   "outputs": [],
   "source": []
  }
 ],
 "metadata": {
  "kernelspec": {
   "display_name": "Python 3 (ipykernel)",
   "language": "python",
   "name": "python3"
  },
  "language_info": {
   "codemirror_mode": {
    "name": "ipython",
    "version": 3
   },
   "file_extension": ".py",
   "mimetype": "text/x-python",
   "name": "python",
   "nbconvert_exporter": "python",
   "pygments_lexer": "ipython3",
   "version": "3.9.7"
  }
 },
 "nbformat": 4,
 "nbformat_minor": 5
}
