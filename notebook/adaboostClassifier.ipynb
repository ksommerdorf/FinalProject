{
 "cells": [
  {
   "cell_type": "code",
   "execution_count": 1,
   "id": "bd696aec",
   "metadata": {},
   "outputs": [
    {
     "name": "stdout",
     "output_type": "stream",
     "text": [
      "(1, )\n"
     ]
    }
   ],
   "source": [
    "import bitdotio \n",
    "from pprintpp import pprint\n",
    "\n",
    "b = bitdotio.bitdotio(<password>)\n",
    "\n",
    "conn = b.get_connection(<db>)\n",
    "cur = conn.cursor()\n",
    "cur.execute(\"SELECT 1\")\n",
    "pprint(cur.fetchone())"
   ]
  },
  {
   "cell_type": "code",
   "execution_count": 2,
   "id": "5b475746",
   "metadata": {},
   "outputs": [],
   "source": [
    "import csv\n",
    "from io import StringIO\n",
    "import time\n",
    "\n",
    "import pandas as pd\n",
    "from sqlalchemy import create_engine\n",
    "#from config import pg_string"
   ]
  },
  {
   "cell_type": "code",
   "execution_count": 3,
   "id": "4ebc1f87",
   "metadata": {},
   "outputs": [
    {
     "data": {
      "text/html": [
       "<div>\n",
       "<style scoped>\n",
       "    .dataframe tbody tr th:only-of-type {\n",
       "        vertical-align: middle;\n",
       "    }\n",
       "\n",
       "    .dataframe tbody tr th {\n",
       "        vertical-align: top;\n",
       "    }\n",
       "\n",
       "    .dataframe thead th {\n",
       "        text-align: right;\n",
       "    }\n",
       "</style>\n",
       "<table border=\"1\" class=\"dataframe\">\n",
       "  <thead>\n",
       "    <tr style=\"text-align: right;\">\n",
       "      <th></th>\n",
       "      <th>date</th>\n",
       "      <th>year</th>\n",
       "      <th>county</th>\n",
       "      <th>median_listing_price</th>\n",
       "      <th>active_listing_count</th>\n",
       "      <th>median_days_on_market</th>\n",
       "      <th>new_listing_count</th>\n",
       "      <th>price_increased_count</th>\n",
       "      <th>price_reduced_count</th>\n",
       "      <th>median_square_feet</th>\n",
       "      <th>average_listing_price</th>\n",
       "      <th>total_listing_count</th>\n",
       "      <th>violent_crime_rate</th>\n",
       "      <th>30_year_fixed_rate</th>\n",
       "      <th>number_of_schools</th>\n",
       "      <th>median_listing_price_mm</th>\n",
       "      <th>number_of_parks</th>\n",
       "    </tr>\n",
       "  </thead>\n",
       "  <tbody>\n",
       "    <tr>\n",
       "      <th>0</th>\n",
       "      <td>2022-06</td>\n",
       "      <td>2022</td>\n",
       "      <td>Alamance</td>\n",
       "      <td>382500</td>\n",
       "      <td>298</td>\n",
       "      <td>18</td>\n",
       "      <td>452</td>\n",
       "      <td>12</td>\n",
       "      <td>108</td>\n",
       "      <td>2112</td>\n",
       "      <td>443362</td>\n",
       "      <td>644</td>\n",
       "      <td>None</td>\n",
       "      <td>5.52</td>\n",
       "      <td>NaN</td>\n",
       "      <td>0.034063</td>\n",
       "      <td>54.0</td>\n",
       "    </tr>\n",
       "    <tr>\n",
       "      <th>1</th>\n",
       "      <td>2022-06</td>\n",
       "      <td>2022</td>\n",
       "      <td>Alexander</td>\n",
       "      <td>312450</td>\n",
       "      <td>34</td>\n",
       "      <td>35</td>\n",
       "      <td>28</td>\n",
       "      <td>0</td>\n",
       "      <td>20</td>\n",
       "      <td>1942</td>\n",
       "      <td>370648</td>\n",
       "      <td>59</td>\n",
       "      <td>None</td>\n",
       "      <td>5.52</td>\n",
       "      <td>NaN</td>\n",
       "      <td>0.016428</td>\n",
       "      <td>25.0</td>\n",
       "    </tr>\n",
       "    <tr>\n",
       "      <th>2</th>\n",
       "      <td>2022-06</td>\n",
       "      <td>2022</td>\n",
       "      <td>Alleghany</td>\n",
       "      <td>389000</td>\n",
       "      <td>54</td>\n",
       "      <td>39</td>\n",
       "      <td>24</td>\n",
       "      <td>0</td>\n",
       "      <td>20</td>\n",
       "      <td>1904</td>\n",
       "      <td>422802</td>\n",
       "      <td>92</td>\n",
       "      <td>None</td>\n",
       "      <td>5.52</td>\n",
       "      <td>NaN</td>\n",
       "      <td>-0.038200</td>\n",
       "      <td>0.0</td>\n",
       "    </tr>\n",
       "    <tr>\n",
       "      <th>3</th>\n",
       "      <td>2022-06</td>\n",
       "      <td>2022</td>\n",
       "      <td>Anson</td>\n",
       "      <td>170000</td>\n",
       "      <td>22</td>\n",
       "      <td>34</td>\n",
       "      <td>16</td>\n",
       "      <td>0</td>\n",
       "      <td>8</td>\n",
       "      <td>1502</td>\n",
       "      <td>262240</td>\n",
       "      <td>48</td>\n",
       "      <td>None</td>\n",
       "      <td>5.52</td>\n",
       "      <td>NaN</td>\n",
       "      <td>0.218638</td>\n",
       "      <td>3.0</td>\n",
       "    </tr>\n",
       "    <tr>\n",
       "      <th>4</th>\n",
       "      <td>2022-06</td>\n",
       "      <td>2022</td>\n",
       "      <td>Ashe</td>\n",
       "      <td>485000</td>\n",
       "      <td>76</td>\n",
       "      <td>31</td>\n",
       "      <td>48</td>\n",
       "      <td>0</td>\n",
       "      <td>20</td>\n",
       "      <td>1907</td>\n",
       "      <td>592879</td>\n",
       "      <td>137</td>\n",
       "      <td>None</td>\n",
       "      <td>5.52</td>\n",
       "      <td>NaN</td>\n",
       "      <td>-0.088346</td>\n",
       "      <td>5.0</td>\n",
       "    </tr>\n",
       "  </tbody>\n",
       "</table>\n",
       "</div>"
      ],
      "text/plain": [
       "      date  year     county  median_listing_price  active_listing_count  \\\n",
       "0  2022-06  2022   Alamance                382500                   298   \n",
       "1  2022-06  2022  Alexander                312450                    34   \n",
       "2  2022-06  2022  Alleghany                389000                    54   \n",
       "3  2022-06  2022      Anson                170000                    22   \n",
       "4  2022-06  2022       Ashe                485000                    76   \n",
       "\n",
       "   median_days_on_market  new_listing_count  price_increased_count  \\\n",
       "0                     18                452                     12   \n",
       "1                     35                 28                      0   \n",
       "2                     39                 24                      0   \n",
       "3                     34                 16                      0   \n",
       "4                     31                 48                      0   \n",
       "\n",
       "   price_reduced_count  median_square_feet  average_listing_price  \\\n",
       "0                  108                2112                 443362   \n",
       "1                   20                1942                 370648   \n",
       "2                   20                1904                 422802   \n",
       "3                    8                1502                 262240   \n",
       "4                   20                1907                 592879   \n",
       "\n",
       "   total_listing_count violent_crime_rate  30_year_fixed_rate  \\\n",
       "0                  644               None                5.52   \n",
       "1                   59               None                5.52   \n",
       "2                   92               None                5.52   \n",
       "3                   48               None                5.52   \n",
       "4                  137               None                5.52   \n",
       "\n",
       "   number_of_schools  median_listing_price_mm  number_of_parks  \n",
       "0                NaN                 0.034063             54.0  \n",
       "1                NaN                 0.016428             25.0  \n",
       "2                NaN                -0.038200              0.0  \n",
       "3                NaN                 0.218638              3.0  \n",
       "4                NaN                -0.088346              5.0  "
      ]
     },
     "execution_count": 3,
     "metadata": {},
     "output_type": "execute_result"
    }
   ],
   "source": [
    "# Create SQLAlchemy engine to manage our database connections\n",
    "# Note that we bump the statement_timeout to 60 seconds\n",
    "# pool_pre_ping=True \n",
    "engine = create_engine(<postgresqlstring>\n",
    "                       , pool_pre_ping=True)\n",
    "# SQL for querying an entire table\n",
    "sql = f'''\n",
    "    SELECT *\n",
    "    FROM \"filled_final_table\";\n",
    "'''\n",
    "# Return SQL query as a pandas dataframe\n",
    "with engine.connect() as conn:\n",
    "    # Set 1 minute statement timeout (units are milliseconds)\n",
    "    conn.execute(\"SET statement_timeout = 60000;\")\n",
    "    df = pd.read_sql(sql, conn)\n",
    "df.head()"
   ]
  },
  {
   "cell_type": "code",
   "execution_count": 18,
   "id": "c06dc3eb",
   "metadata": {},
   "outputs": [],
   "source": [
    "import warnings\n",
    "warnings.filterwarnings('ignore')\n",
    "import numpy as np\n",
    "import pandas as pd\n",
    "from pathlib import Path\n",
    "from collections import Counter\n",
    "import matplotlib.pyplot as plt\n",
    "import seaborn as sns\n",
    "from sklearn.metrics import accuracy_score\n",
    "from sklearn.metrics import confusion_matrix\n",
    "from sklearn.preprocessing import StandardScaler\n",
    "from sklearn.metrics import classification_report"
   ]
  },
  {
   "cell_type": "code",
   "execution_count": 5,
   "id": "6cc9f331",
   "metadata": {},
   "outputs": [
    {
     "data": {
      "text/html": [
       "<div>\n",
       "<style scoped>\n",
       "    .dataframe tbody tr th:only-of-type {\n",
       "        vertical-align: middle;\n",
       "    }\n",
       "\n",
       "    .dataframe tbody tr th {\n",
       "        vertical-align: top;\n",
       "    }\n",
       "\n",
       "    .dataframe thead th {\n",
       "        text-align: right;\n",
       "    }\n",
       "</style>\n",
       "<table border=\"1\" class=\"dataframe\">\n",
       "  <thead>\n",
       "    <tr style=\"text-align: right;\">\n",
       "      <th></th>\n",
       "      <th>date</th>\n",
       "      <th>year</th>\n",
       "      <th>county</th>\n",
       "      <th>median_listing_price</th>\n",
       "      <th>active_listing_count</th>\n",
       "      <th>median_days_on_market</th>\n",
       "      <th>new_listing_count</th>\n",
       "      <th>price_increased_count</th>\n",
       "      <th>price_reduced_count</th>\n",
       "      <th>median_square_feet</th>\n",
       "      <th>average_listing_price</th>\n",
       "      <th>total_listing_count</th>\n",
       "      <th>violent_crime_rate</th>\n",
       "      <th>30_year_fixed_rate</th>\n",
       "      <th>number_of_schools</th>\n",
       "      <th>median_listing_price_mm</th>\n",
       "      <th>number_of_parks</th>\n",
       "      <th>Price_Status</th>\n",
       "    </tr>\n",
       "  </thead>\n",
       "  <tbody>\n",
       "    <tr>\n",
       "      <th>0</th>\n",
       "      <td>2022-06</td>\n",
       "      <td>2022</td>\n",
       "      <td>Alamance</td>\n",
       "      <td>382500</td>\n",
       "      <td>298</td>\n",
       "      <td>18</td>\n",
       "      <td>452</td>\n",
       "      <td>12</td>\n",
       "      <td>108</td>\n",
       "      <td>2112</td>\n",
       "      <td>443362</td>\n",
       "      <td>644</td>\n",
       "      <td>NaN</td>\n",
       "      <td>5.52</td>\n",
       "      <td>NaN</td>\n",
       "      <td>0.034063</td>\n",
       "      <td>54.0</td>\n",
       "      <td>1</td>\n",
       "    </tr>\n",
       "    <tr>\n",
       "      <th>1</th>\n",
       "      <td>2022-06</td>\n",
       "      <td>2022</td>\n",
       "      <td>Alexander</td>\n",
       "      <td>312450</td>\n",
       "      <td>34</td>\n",
       "      <td>35</td>\n",
       "      <td>28</td>\n",
       "      <td>0</td>\n",
       "      <td>20</td>\n",
       "      <td>1942</td>\n",
       "      <td>370648</td>\n",
       "      <td>59</td>\n",
       "      <td>NaN</td>\n",
       "      <td>5.52</td>\n",
       "      <td>NaN</td>\n",
       "      <td>0.016428</td>\n",
       "      <td>25.0</td>\n",
       "      <td>1</td>\n",
       "    </tr>\n",
       "    <tr>\n",
       "      <th>2</th>\n",
       "      <td>2022-06</td>\n",
       "      <td>2022</td>\n",
       "      <td>Alleghany</td>\n",
       "      <td>389000</td>\n",
       "      <td>54</td>\n",
       "      <td>39</td>\n",
       "      <td>24</td>\n",
       "      <td>0</td>\n",
       "      <td>20</td>\n",
       "      <td>1904</td>\n",
       "      <td>422802</td>\n",
       "      <td>92</td>\n",
       "      <td>NaN</td>\n",
       "      <td>5.52</td>\n",
       "      <td>NaN</td>\n",
       "      <td>-0.038200</td>\n",
       "      <td>0.0</td>\n",
       "      <td>0</td>\n",
       "    </tr>\n",
       "    <tr>\n",
       "      <th>3</th>\n",
       "      <td>2022-06</td>\n",
       "      <td>2022</td>\n",
       "      <td>Anson</td>\n",
       "      <td>170000</td>\n",
       "      <td>22</td>\n",
       "      <td>34</td>\n",
       "      <td>16</td>\n",
       "      <td>0</td>\n",
       "      <td>8</td>\n",
       "      <td>1502</td>\n",
       "      <td>262240</td>\n",
       "      <td>48</td>\n",
       "      <td>NaN</td>\n",
       "      <td>5.52</td>\n",
       "      <td>NaN</td>\n",
       "      <td>0.218638</td>\n",
       "      <td>3.0</td>\n",
       "      <td>1</td>\n",
       "    </tr>\n",
       "    <tr>\n",
       "      <th>4</th>\n",
       "      <td>2022-06</td>\n",
       "      <td>2022</td>\n",
       "      <td>Ashe</td>\n",
       "      <td>485000</td>\n",
       "      <td>76</td>\n",
       "      <td>31</td>\n",
       "      <td>48</td>\n",
       "      <td>0</td>\n",
       "      <td>20</td>\n",
       "      <td>1907</td>\n",
       "      <td>592879</td>\n",
       "      <td>137</td>\n",
       "      <td>NaN</td>\n",
       "      <td>5.52</td>\n",
       "      <td>NaN</td>\n",
       "      <td>-0.088346</td>\n",
       "      <td>5.0</td>\n",
       "      <td>0</td>\n",
       "    </tr>\n",
       "  </tbody>\n",
       "</table>\n",
       "</div>"
      ],
      "text/plain": [
       "      date  year     county  median_listing_price  active_listing_count  \\\n",
       "0  2022-06  2022   Alamance                382500                   298   \n",
       "1  2022-06  2022  Alexander                312450                    34   \n",
       "2  2022-06  2022  Alleghany                389000                    54   \n",
       "3  2022-06  2022      Anson                170000                    22   \n",
       "4  2022-06  2022       Ashe                485000                    76   \n",
       "\n",
       "   median_days_on_market  new_listing_count  price_increased_count  \\\n",
       "0                     18                452                     12   \n",
       "1                     35                 28                      0   \n",
       "2                     39                 24                      0   \n",
       "3                     34                 16                      0   \n",
       "4                     31                 48                      0   \n",
       "\n",
       "   price_reduced_count  median_square_feet  average_listing_price  \\\n",
       "0                  108                2112                 443362   \n",
       "1                   20                1942                 370648   \n",
       "2                   20                1904                 422802   \n",
       "3                    8                1502                 262240   \n",
       "4                   20                1907                 592879   \n",
       "\n",
       "   total_listing_count  violent_crime_rate  30_year_fixed_rate  \\\n",
       "0                  644                 NaN                5.52   \n",
       "1                   59                 NaN                5.52   \n",
       "2                   92                 NaN                5.52   \n",
       "3                   48                 NaN                5.52   \n",
       "4                  137                 NaN                5.52   \n",
       "\n",
       "   number_of_schools  median_listing_price_mm  number_of_parks  Price_Status  \n",
       "0                NaN                 0.034063             54.0             1  \n",
       "1                NaN                 0.016428             25.0             1  \n",
       "2                NaN                -0.038200              0.0             0  \n",
       "3                NaN                 0.218638              3.0             1  \n",
       "4                NaN                -0.088346              5.0             0  "
      ]
     },
     "execution_count": 5,
     "metadata": {},
     "output_type": "execute_result"
    }
   ],
   "source": [
    "#conditional based column = np.where(df['median_listing_price_mm'] (x>=0), 'up(1)', 'down(0)')\n",
    "df['Price_Status'] = np.where(df['median_listing_price_mm']>=0, 1, 0)\n",
    "df['violent_crime_rate']= df['violent_crime_rate'].str.replace(',','').astype(float)\n",
    "df.head()"
   ]
  },
  {
   "cell_type": "code",
   "execution_count": 6,
   "id": "97a5aeae",
   "metadata": {},
   "outputs": [
    {
     "name": "stdout",
     "output_type": "stream",
     "text": [
      "Price Status for the classes are: Price_Status\n",
      "0    3017\n",
      "1    4179\n",
      "dtype: int64\n"
     ]
    },
    {
     "data": {
      "text/plain": [
       "<AxesSubplot:xlabel='Price_Status'>"
      ]
     },
     "execution_count": 6,
     "metadata": {},
     "output_type": "execute_result"
    },
    {
     "data": {
      "image/png": "[encoded data removed]",
      "text/plain": [
       "<Figure size 432x288 with 1 Axes>"
      ]
     },
     "metadata": {
      "needs_background": "light"
     },
     "output_type": "display_data"
    }
   ],
   "source": [
    " #Get a count of each class for the price status\n",
    "df.groupby('Price_Status').count()\n",
    "print('Price Status for the classes are:', df.groupby('Price_Status').size())\n",
    "plot_df = df[['Price_Status', 'year']]\n",
    "plot_by_df = plot_df.rename(columns={\"year\": \"Count\"})\n",
    "plot_by_df.groupby('Price_Status').count().plot.bar()"
   ]
  },
  {
   "cell_type": "code",
   "execution_count": 7,
   "id": "4d1ae526",
   "metadata": {},
   "outputs": [
    {
     "data": {
      "image/png": "[encoded data removed]",
      "text/plain": [
       "<Figure size 432x288 with 1 Axes>"
      ]
     },
     "metadata": {
      "needs_background": "light"
     },
     "output_type": "display_data"
    }
   ],
   "source": [
    "ax = sns.boxplot(x=\"year\", y=\"median_listing_price\", data=df)"
   ]
  },
  {
   "cell_type": "code",
   "execution_count": 8,
   "id": "6481fd32",
   "metadata": {},
   "outputs": [
    {
     "data": {
      "text/plain": [
       "year                         int64\n",
       "county                      object\n",
       "median_listing_price         int64\n",
       "active_listing_count         int64\n",
       "median_days_on_market        int64\n",
       "new_listing_count            int64\n",
       "price_increased_count        int64\n",
       "price_reduced_count          int64\n",
       "median_square_feet           int64\n",
       "average_listing_price        int64\n",
       "total_listing_count          int64\n",
       "violent_crime_rate         float64\n",
       "30_year_fixed_rate         float64\n",
       "number_of_schools          float64\n",
       "median_listing_price_mm    float64\n",
       "number_of_parks            float64\n",
       "Price_Status                 int32\n",
       "dtype: object"
      ]
     },
     "execution_count": 8,
     "metadata": {},
     "output_type": "execute_result"
    }
   ],
   "source": [
    "df_new1 = df.drop(['date'], axis=1)\n",
    "df_new1.dtypes"
   ]
  },
  {
   "cell_type": "code",
   "execution_count": 9,
   "id": "c2f1896a",
   "metadata": {},
   "outputs": [
    {
     "data": {
      "text/plain": [
       "array([2018, 2017, 2016], dtype=int64)"
      ]
     },
     "execution_count": 9,
     "metadata": {},
     "output_type": "execute_result"
    }
   ],
   "source": [
    "filter_df = df_new1[df_new1['year'] <2019]\n",
    "filter_df[\"year\"].unique()"
   ]
  },
  {
   "cell_type": "code",
   "execution_count": 10,
   "id": "725d1af3",
   "metadata": {},
   "outputs": [
    {
     "data": {
      "text/plain": [
       "3000"
      ]
     },
     "execution_count": 10,
     "metadata": {},
     "output_type": "execute_result"
    }
   ],
   "source": [
    "len(filter_df)"
   ]
  },
  {
   "cell_type": "code",
   "execution_count": 11,
   "id": "b63db88b",
   "metadata": {},
   "outputs": [],
   "source": [
    "# leave 'median_listing_price' in columns? Price_Status is classifier for median_listing_price (increased(up)/decreased(down))\n",
    "columns = [\n",
    "      \"county\", \"year\",\n",
    "    \"active_listing_count\", \"median_days_on_market\", \"new_listing_count\",\n",
    "    \"price_increased_count\", \"price_reduced_count\", \"median_square_feet\",\n",
    "    \"total_listing_count\", \"violent_crime_rate\",\"number_of_parks\",\n",
    "    \"number_of_schools\",\"30_year_fixed_rate\", \n",
    "     \"Price_Status\"]\n",
    "\n",
    "# conditional column 'Price_status' is condition on 'median_listing...mm' which is \"the percentage change\n",
    "# in the median listing price from the previous month.\" An increase is 'up', decrease is 'down'.\n",
    "\n",
    "# df['Price_Status'] = np.where(df['median_listing_price_mm']>=0, 'up', 'down')\n",
    "\n",
    "\n",
    "# https://www.realtor.com/research/data/\n",
    "\n",
    "target = [\"Price_Status\"]"
   ]
  },
  {
   "cell_type": "code",
   "execution_count": 12,
   "id": "4bcdf550",
   "metadata": {},
   "outputs": [
    {
     "data": {
      "text/plain": [
       "2610"
      ]
     },
     "execution_count": 12,
     "metadata": {},
     "output_type": "execute_result"
    }
   ],
   "source": [
    "# Load the data\n",
    "\n",
    "df_data = filter_df.loc[:, columns].copy()\n",
    "df_data = df_data.dropna()\n",
    "\n",
    "df_data.reset_index(inplace=True, drop=True)\n",
    "\n",
    "df_data.head()\n",
    "len(df_data)"
   ]
  },
  {
   "cell_type": "code",
   "execution_count": 13,
   "id": "de8ac883",
   "metadata": {},
   "outputs": [
    {
     "name": "stdout",
     "output_type": "stream",
     "text": [
      "Price Status for the classes are: Price_Status\n",
      "0    1162\n",
      "1    1448\n",
      "dtype: int64\n"
     ]
    },
    {
     "data": {
      "text/plain": [
       "<AxesSubplot:xlabel='Price_Status'>"
      ]
     },
     "execution_count": 13,
     "metadata": {},
     "output_type": "execute_result"
    },
    {
     "data": {
      "image/png": "[encoded data removed]",
      "text/plain": [
       "<Figure size 432x288 with 1 Axes>"
      ]
     },
     "metadata": {
      "needs_background": "light"
     },
     "output_type": "display_data"
    }
   ],
   "source": [
    "# Get a count of each class for the price status\n",
    "\n",
    "print('Price Status for the classes are:', df_data.groupby('Price_Status').size())\n",
    "plot_df = df_data[['Price_Status', 'year']]\n",
    "plot_by_df = plot_df.rename(columns={\"year\": \"Count\"})\n",
    "plot_by_df.groupby('Price_Status').count().plot.bar()"
   ]
  },
  {
   "cell_type": "markdown",
   "id": "a8a536ad",
   "metadata": {},
   "source": [
    "SPLIT TEST TRAIN"
   ]
  },
  {
   "cell_type": "code",
   "execution_count": 14,
   "id": "08e79c92",
   "metadata": {},
   "outputs": [],
   "source": [
    "# Create our features\n",
    "X = df_data.drop('Price_Status', axis=1)\n",
    "\n",
    "X = pd.get_dummies(X)\n",
    "\n",
    "# Create our target\n",
    "y = df_data.loc[:, target].copy()\n"
   ]
  },
  {
   "cell_type": "code",
   "execution_count": 15,
   "id": "83d7aad4",
   "metadata": {},
   "outputs": [
    {
     "data": {
      "text/plain": [
       "Price_Status\n",
       "1               1448\n",
       "0               1162\n",
       "dtype: int64"
      ]
     },
     "execution_count": 15,
     "metadata": {},
     "output_type": "execute_result"
    }
   ],
   "source": [
    "# Check the balance of our target values\n",
    "y.value_counts()"
   ]
  },
  {
   "cell_type": "code",
   "execution_count": 16,
   "id": "78bc6ef1",
   "metadata": {},
   "outputs": [
    {
     "data": {
      "text/plain": [
       "(1957, 104)"
      ]
     },
     "execution_count": 16,
     "metadata": {},
     "output_type": "execute_result"
    }
   ],
   "source": [
    "from sklearn.model_selection import train_test_split\n",
    "X_train, X_test, y_train, y_test = train_test_split(X, \n",
    "                                                    y, \n",
    "                                                    random_state=1, \n",
    "                                                  stratify=y)\n",
    "X_train.shape\n"
   ]
  },
  {
   "cell_type": "markdown",
   "id": "2b123530",
   "metadata": {},
   "source": [
    "ADABOOST Classifier"
   ]
  },
  {
   "cell_type": "code",
   "execution_count": 19,
   "id": "0ba86bd1",
   "metadata": {},
   "outputs": [],
   "source": [
    "#preprocess data\n",
    "scaler = StandardScaler()\n",
    "scaler.fit(X_train)\n",
    "X_train_scale = scaler.transform(X_train)\n",
    "X_test_scale = scaler.transform(X_test)\n"
   ]
  },
  {
   "cell_type": "code",
   "execution_count": 20,
   "id": "a2b456c7",
   "metadata": {},
   "outputs": [
    {
     "data": {
      "text/plain": [
       "0.5620214395099541"
      ]
     },
     "execution_count": 20,
     "metadata": {},
     "output_type": "execute_result"
    }
   ],
   "source": [
    "from sklearn.ensemble import AdaBoostClassifier,GradientBoostingClassifier\n",
    "ad_model = AdaBoostClassifier(n_estimators=200, random_state=1) \n",
    "ad_model = ad_model.fit(X_train_scale, y_train)\n",
    "y_pred = ad_model.predict(X_test_scale)\n",
    "accuracy_score( y_test, y_pred)"
   ]
  },
  {
   "cell_type": "code",
   "execution_count": 21,
   "id": "6ef97361",
   "metadata": {},
   "outputs": [
    {
     "name": "stdout",
     "output_type": "stream",
     "text": [
      "              precision    recall  f1-score   support\n",
      "\n",
      "           0       0.51      0.42      0.46       291\n",
      "           1       0.59      0.68      0.63       362\n",
      "\n",
      "    accuracy                           0.56       653\n",
      "   macro avg       0.55      0.55      0.55       653\n",
      "weighted avg       0.56      0.56      0.56       653\n",
      "\n"
     ]
    }
   ],
   "source": [
    "# Print the classification report\n",
    "from sklearn.metrics import classification_report\n",
    "print(classification_report(y_test, y_pred))"
   ]
  },
  {
   "cell_type": "code",
   "execution_count": 23,
   "id": "a826965f",
   "metadata": {},
   "outputs": [
    {
     "data": {
      "text/plain": [
       "[(0.14, 'median_square_feet'),\n",
       " (0.135, 'median_days_on_market'),\n",
       " (0.125, 'new_listing_count'),\n",
       " (0.12, 'total_listing_count'),\n",
       " (0.105, 'active_listing_count'),\n",
       " (0.08, 'price_reduced_count'),\n",
       " (0.05, '30_year_fixed_rate'),\n",
       " (0.035, 'violent_crime_rate'),\n",
       " (0.03, 'price_increased_count'),\n",
       " (0.03, 'number_of_schools'),\n",
       " (0.01, 'year'),\n",
       " (0.005, 'number_of_parks'),\n",
       " (0.005, 'county_Warren'),\n",
       " (0.005, 'county_Union'),\n",
       " (0.005, 'county_Tyrrell'),\n",
       " (0.005, 'county_Transylvania'),\n",
       " (0.005, 'county_Swain'),\n",
       " (0.005, 'county_Surry'),\n",
       " (0.005, 'county_Stanly'),\n",
       " (0.005, 'county_Rutherford'),\n",
       " (0.005, 'county_Orange'),\n",
       " (0.005, 'county_Northampton'),\n",
       " (0.005, 'county_Moore'),\n",
       " (0.005, 'county_Martin'),\n",
       " (0.005, 'county_Madison'),\n",
       " (0.005, 'county_Lenoir'),\n",
       " (0.005, 'county_Jackson'),\n",
       " (0.005, 'county_Guilford'),\n",
       " (0.005, 'county_Granville'),\n",
       " (0.005, 'county_Edgecombe'),\n",
       " (0.005, 'county_Durham'),\n",
       " (0.005, 'county_Davidson'),\n",
       " (0.005, 'county_Craven'),\n",
       " (0.005, 'county_Columbus'),\n",
       " (0.005, 'county_Cleveland'),\n",
       " (0.005, 'county_Carteret'),\n",
       " (0.005, 'county_Buncombe'),\n",
       " (0.005, 'county_Avery'),\n",
       " (0.005, 'county_Ashe'),\n",
       " (0.0, 'county_Yancey'),\n",
       " (0.0, 'county_Yadkin'),\n",
       " (0.0, 'county_Wilson'),\n",
       " (0.0, 'county_Wilkes'),\n",
       " (0.0, 'county_Wayne'),\n",
       " (0.0, 'county_Watauga'),\n",
       " (0.0, 'county_Wake'),\n",
       " (0.0, 'county_Vance'),\n",
       " (0.0, 'county_Stokes'),\n",
       " (0.0, 'county_Scotland'),\n",
       " (0.0, 'county_Sampson'),\n",
       " (0.0, 'county_Rowan'),\n",
       " (0.0, 'county_Rockingham'),\n",
       " (0.0, 'county_Robeson'),\n",
       " (0.0, 'county_Richmond'),\n",
       " (0.0, 'county_Randolph'),\n",
       " (0.0, 'county_Polk'),\n",
       " (0.0, 'county_Pitt'),\n",
       " (0.0, 'county_Person'),\n",
       " (0.0, 'county_Perquimans'),\n",
       " (0.0, 'county_Pender'),\n",
       " (0.0, 'county_Pasquotank'),\n",
       " (0.0, 'county_Pamlico'),\n",
       " (0.0, 'county_Onslow'),\n",
       " (0.0, 'county_Nash'),\n",
       " (0.0, 'county_Montgomery'),\n",
       " (0.0, 'county_Mecklenburg'),\n",
       " (0.0, 'county_Macon'),\n",
       " (0.0, 'county_Lincoln'),\n",
       " (0.0, 'county_Lee'),\n",
       " (0.0, 'county_Johnston'),\n",
       " (0.0, 'county_Iredell'),\n",
       " (0.0, 'county_Hoke'),\n",
       " (0.0, 'county_Hertford'),\n",
       " (0.0, 'county_Henderson'),\n",
       " (0.0, 'county_Haywood'),\n",
       " (0.0, 'county_Harnett'),\n",
       " (0.0, 'county_Halifax'),\n",
       " (0.0, 'county_Greene'),\n",
       " (0.0, 'county_Graham'),\n",
       " (0.0, 'county_Gaston'),\n",
       " (0.0, 'county_Franklin'),\n",
       " (0.0, 'county_Forsyth'),\n",
       " (0.0, 'county_Duplin'),\n",
       " (0.0, 'county_Davie'),\n",
       " (0.0, 'county_Dare'),\n",
       " (0.0, 'county_Currituck'),\n",
       " (0.0, 'county_Cumberland'),\n",
       " (0.0, 'county_Clay'),\n",
       " (0.0, 'county_Chowan'),\n",
       " (0.0, 'county_Cherokee'),\n",
       " (0.0, 'county_Chatham'),\n",
       " (0.0, 'county_Catawba'),\n",
       " (0.0, 'county_Caswell'),\n",
       " (0.0, 'county_Camden'),\n",
       " (0.0, 'county_Caldwell'),\n",
       " (0.0, 'county_Cabarrus'),\n",
       " (0.0, 'county_Burke'),\n",
       " (0.0, 'county_Brunswick'),\n",
       " (0.0, 'county_Bertie'),\n",
       " (0.0, 'county_Beaufort'),\n",
       " (0.0, 'county_Anson'),\n",
       " (0.0, 'county_Alleghany'),\n",
       " (0.0, 'county_Alexander'),\n",
       " (0.0, 'county_Alamance')]"
      ]
     },
     "execution_count": 23,
     "metadata": {},
     "output_type": "execute_result"
    }
   ],
   "source": [
    "# List the features sorted in descending order by feature importance\n",
    "sorted(zip(ad_model.feature_importances_, X.columns), reverse=True)"
   ]
  },
  {
   "cell_type": "markdown",
   "id": "0923dc74",
   "metadata": {},
   "source": [
    "## Hypertune Features"
   ]
  },
  {
   "cell_type": "code",
   "execution_count": 24,
   "id": "eedbe689",
   "metadata": {},
   "outputs": [
    {
     "data": {
      "text/plain": [
       "{'algorithm': 'SAMME.R',\n",
       " 'base_estimator': None,\n",
       " 'learning_rate': 1.0,\n",
       " 'n_estimators': 200,\n",
       " 'random_state': 1}"
      ]
     },
     "execution_count": 24,
     "metadata": {},
     "output_type": "execute_result"
    }
   ],
   "source": [
    "ad_model.get_params()"
   ]
  },
  {
   "cell_type": "code",
   "execution_count": 27,
   "id": "27421f22",
   "metadata": {},
   "outputs": [
    {
     "name": "stdout",
     "output_type": "stream",
     "text": [
      "Fitting 3 folds for each of 8 candidates, totalling 24 fits\n",
      "[CV] END ..................algorithm=SAMME, n_estimators=100; total time=   0.7s\n",
      "[CV] END ..................algorithm=SAMME, n_estimators=100; total time=   1.9s\n",
      "[CV] END ..................algorithm=SAMME, n_estimators=100; total time=   1.8s\n",
      "[CV] END ..................algorithm=SAMME, n_estimators=200; total time=   3.4s\n",
      "[CV] END ..................algorithm=SAMME, n_estimators=200; total time=   4.0s\n",
      "[CV] END ..................algorithm=SAMME, n_estimators=200; total time=   3.9s\n",
      "[CV] END ..................algorithm=SAMME, n_estimators=300; total time=   3.6s\n",
      "[CV] END ..................algorithm=SAMME, n_estimators=300; total time=   2.0s\n",
      "[CV] END ..................algorithm=SAMME, n_estimators=300; total time=   4.3s\n",
      "[CV] END ..................algorithm=SAMME, n_estimators=400; total time=   7.4s\n",
      "[CV] END ..................algorithm=SAMME, n_estimators=400; total time=   4.2s\n",
      "[CV] END ..................algorithm=SAMME, n_estimators=400; total time=   5.0s\n",
      "[CV] END ................algorithm=SAMME.R, n_estimators=100; total time=   2.0s\n",
      "[CV] END ................algorithm=SAMME.R, n_estimators=100; total time=   1.7s\n",
      "[CV] END ................algorithm=SAMME.R, n_estimators=100; total time=   1.9s\n",
      "[CV] END ................algorithm=SAMME.R, n_estimators=200; total time=   4.0s\n",
      "[CV] END ................algorithm=SAMME.R, n_estimators=200; total time=   4.7s\n",
      "[CV] END ................algorithm=SAMME.R, n_estimators=200; total time=   3.6s\n",
      "[CV] END ................algorithm=SAMME.R, n_estimators=300; total time=   5.3s\n",
      "[CV] END ................algorithm=SAMME.R, n_estimators=300; total time=   5.7s\n",
      "[CV] END ................algorithm=SAMME.R, n_estimators=300; total time=   6.5s\n",
      "[CV] END ................algorithm=SAMME.R, n_estimators=400; total time=   8.8s\n",
      "[CV] END ................algorithm=SAMME.R, n_estimators=400; total time=   7.7s\n",
      "[CV] END ................algorithm=SAMME.R, n_estimators=400; total time=   7.6s\n"
     ]
    },
    {
     "data": {
      "text/html": [
       "<style>#sk-container-id-1 {color: black;background-color: white;}#sk-container-id-1 pre{padding: 0;}#sk-container-id-1 div.sk-toggleable {background-color: white;}#sk-container-id-1 label.sk-toggleable__label {cursor: pointer;display: block;width: 100%;margin-bottom: 0;padding: 0.3em;box-sizing: border-box;text-align: center;}#sk-container-id-1 label.sk-toggleable__label-arrow:before {content: \"▸\";float: left;margin-right: 0.25em;color: #696969;}#sk-container-id-1 label.sk-toggleable__label-arrow:hover:before {color: black;}#sk-container-id-1 div.sk-estimator:hover label.sk-toggleable__label-arrow:before {color: black;}#sk-container-id-1 div.sk-toggleable__content {max-height: 0;max-width: 0;overflow: hidden;text-align: left;background-color: #f0f8ff;}#sk-container-id-1 div.sk-toggleable__content pre {margin: 0.2em;color: black;border-radius: 0.25em;background-color: #f0f8ff;}#sk-container-id-1 input.sk-toggleable__control:checked~div.sk-toggleable__content {max-height: 200px;max-width: 100%;overflow: auto;}#sk-container-id-1 input.sk-toggleable__control:checked~label.sk-toggleable__label-arrow:before {content: \"▾\";}#sk-container-id-1 div.sk-estimator input.sk-toggleable__control:checked~label.sk-toggleable__label {background-color: #d4ebff;}#sk-container-id-1 div.sk-label input.sk-toggleable__control:checked~label.sk-toggleable__label {background-color: #d4ebff;}#sk-container-id-1 input.sk-hidden--visually {border: 0;clip: rect(1px 1px 1px 1px);clip: rect(1px, 1px, 1px, 1px);height: 1px;margin: -1px;overflow: hidden;padding: 0;position: absolute;width: 1px;}#sk-container-id-1 div.sk-estimator {font-family: monospace;background-color: #f0f8ff;border: 1px dotted black;border-radius: 0.25em;box-sizing: border-box;margin-bottom: 0.5em;}#sk-container-id-1 div.sk-estimator:hover {background-color: #d4ebff;}#sk-container-id-1 div.sk-parallel-item::after {content: \"\";width: 100%;border-bottom: 1px solid gray;flex-grow: 1;}#sk-container-id-1 div.sk-label:hover label.sk-toggleable__label {background-color: #d4ebff;}#sk-container-id-1 div.sk-serial::before {content: \"\";position: absolute;border-left: 1px solid gray;box-sizing: border-box;top: 0;bottom: 0;left: 50%;z-index: 0;}#sk-container-id-1 div.sk-serial {display: flex;flex-direction: column;align-items: center;background-color: white;padding-right: 0.2em;padding-left: 0.2em;position: relative;}#sk-container-id-1 div.sk-item {position: relative;z-index: 1;}#sk-container-id-1 div.sk-parallel {display: flex;align-items: stretch;justify-content: center;background-color: white;position: relative;}#sk-container-id-1 div.sk-item::before, #sk-container-id-1 div.sk-parallel-item::before {content: \"\";position: absolute;border-left: 1px solid gray;box-sizing: border-box;top: 0;bottom: 0;left: 50%;z-index: -1;}#sk-container-id-1 div.sk-parallel-item {display: flex;flex-direction: column;z-index: 1;position: relative;background-color: white;}#sk-container-id-1 div.sk-parallel-item:first-child::after {align-self: flex-end;width: 50%;}#sk-container-id-1 div.sk-parallel-item:last-child::after {align-self: flex-start;width: 50%;}#sk-container-id-1 div.sk-parallel-item:only-child::after {width: 0;}#sk-container-id-1 div.sk-dashed-wrapped {border: 1px dashed gray;margin: 0 0.4em 0.5em 0.4em;box-sizing: border-box;padding-bottom: 0.4em;background-color: white;}#sk-container-id-1 div.sk-label label {font-family: monospace;font-weight: bold;display: inline-block;line-height: 1.2em;}#sk-container-id-1 div.sk-label-container {text-align: center;}#sk-container-id-1 div.sk-container {/* jupyter's `normalize.less` sets `[hidden] { display: none; }` but bootstrap.min.css set `[hidden] { display: none !important; }` so we also need the `!important` here to be able to override the default hidden behavior on the sphinx rendered scikit-learn.org. See: https://github.com/scikit-learn/scikit-learn/issues/21755 */display: inline-block !important;position: relative;}#sk-container-id-1 div.sk-text-repr-fallback {display: none;}</style><div id=\"sk-container-id-1\" class=\"sk-top-container\"><div class=\"sk-text-repr-fallback\"><pre>RandomizedSearchCV(cv=3, estimator=AdaBoostClassifier(), n_iter=100,\n",
       "                   param_distributions={&#x27;algorithm&#x27;: [&#x27;SAMME&#x27;, &#x27;SAMME.R&#x27;],\n",
       "                                        &#x27;n_estimators&#x27;: [100, 200, 300, 400]},\n",
       "                   random_state=1, verbose=2)</pre><b>In a Jupyter environment, please rerun this cell to show the HTML representation or trust the notebook. <br />On GitHub, the HTML representation is unable to render, please try loading this page with nbviewer.org.</b></div><div class=\"sk-container\" hidden><div class=\"sk-item sk-dashed-wrapped\"><div class=\"sk-label-container\"><div class=\"sk-label sk-toggleable\"><input class=\"sk-toggleable__control sk-hidden--visually\" id=\"sk-estimator-id-1\" type=\"checkbox\" ><label for=\"sk-estimator-id-1\" class=\"sk-toggleable__label sk-toggleable__label-arrow\">RandomizedSearchCV</label><div class=\"sk-toggleable__content\"><pre>RandomizedSearchCV(cv=3, estimator=AdaBoostClassifier(), n_iter=100,\n",
       "                   param_distributions={&#x27;algorithm&#x27;: [&#x27;SAMME&#x27;, &#x27;SAMME.R&#x27;],\n",
       "                                        &#x27;n_estimators&#x27;: [100, 200, 300, 400]},\n",
       "                   random_state=1, verbose=2)</pre></div></div></div><div class=\"sk-parallel\"><div class=\"sk-parallel-item\"><div class=\"sk-item\"><div class=\"sk-label-container\"><div class=\"sk-label sk-toggleable\"><input class=\"sk-toggleable__control sk-hidden--visually\" id=\"sk-estimator-id-2\" type=\"checkbox\" ><label for=\"sk-estimator-id-2\" class=\"sk-toggleable__label sk-toggleable__label-arrow\">estimator: AdaBoostClassifier</label><div class=\"sk-toggleable__content\"><pre>AdaBoostClassifier()</pre></div></div></div><div class=\"sk-serial\"><div class=\"sk-item\"><div class=\"sk-estimator sk-toggleable\"><input class=\"sk-toggleable__control sk-hidden--visually\" id=\"sk-estimator-id-3\" type=\"checkbox\" ><label for=\"sk-estimator-id-3\" class=\"sk-toggleable__label sk-toggleable__label-arrow\">AdaBoostClassifier</label><div class=\"sk-toggleable__content\"><pre>AdaBoostClassifier()</pre></div></div></div></div></div></div></div></div></div></div>"
      ],
      "text/plain": [
       "RandomizedSearchCV(cv=3, estimator=AdaBoostClassifier(), n_iter=100,\n",
       "                   param_distributions={'algorithm': ['SAMME', 'SAMME.R'],\n",
       "                                        'n_estimators': [100, 200, 300, 400]},\n",
       "                   random_state=1, verbose=2)"
      ]
     },
     "execution_count": 27,
     "metadata": {},
     "output_type": "execute_result"
    }
   ],
   "source": [
    "from sklearn.model_selection import RandomizedSearchCV\n",
    "\n",
    "# Create the random grid search to use to find the best hyperparameters\n",
    "random_grid = {'n_estimators': [100,200,300,400],\n",
    "               'algorithm': ['SAMME','SAMME.R']}\n",
    "\n",
    "ad = AdaBoostClassifier()\n",
    "# using 3 fold of cross validation, radom search parameters with 100 different combinations. \n",
    "\n",
    "ad_search = RandomizedSearchCV(ad, random_grid,\n",
    "               n_iter = 100, cv =3, verbose = 2, random_state = 1)\n",
    "\n",
    "# fit to model\n",
    "\n",
    "ad_search.fit(X_train_scale, y_train)"
   ]
  },
  {
   "cell_type": "code",
   "execution_count": 29,
   "id": "1b563055",
   "metadata": {},
   "outputs": [
    {
     "name": "stdout",
     "output_type": "stream",
     "text": [
      "{'n_estimators': 100, 'algorithm': 'SAMME'}\n",
      "0.5728140061443644\n"
     ]
    }
   ],
   "source": [
    "print(ad_search.best_params_)\n",
    "print(ad_search.best_score_)"
   ]
  },
  {
   "cell_type": "markdown",
   "id": "35e3bdb2",
   "metadata": {},
   "source": [
    "## Run AdaBoostClassifier with best parameters"
   ]
  },
  {
   "cell_type": "code",
   "execution_count": 37,
   "id": "4e57a183",
   "metadata": {},
   "outputs": [
    {
     "data": {
      "text/plain": [
       "array([[122, 169],\n",
       "       [117, 245]], dtype=int64)"
      ]
     },
     "execution_count": 37,
     "metadata": {},
     "output_type": "execute_result"
    }
   ],
   "source": [
    "# predictions based on best parameters\n",
    "AdaBoostClassifierPred = ad_search.predict(X_test_scale)\n",
    "confusion_matrix(y_test, y_pred)"
   ]
  },
  {
   "cell_type": "code",
   "execution_count": 38,
   "id": "96b408a6",
   "metadata": {},
   "outputs": [
    {
     "name": "stdout",
     "output_type": "stream",
     "text": [
      "              precision    recall  f1-score   support\n",
      "\n",
      "           0       0.62      0.23      0.33       291\n",
      "           1       0.59      0.89      0.71       362\n",
      "\n",
      "    accuracy                           0.59       653\n",
      "   macro avg       0.61      0.56      0.52       653\n",
      "weighted avg       0.60      0.59      0.54       653\n",
      "\n"
     ]
    }
   ],
   "source": [
    "# Print classification report\n",
    "print(classification_report(y_test, AdaBoostClassifierPred))"
   ]
  },
  {
   "cell_type": "markdown",
   "id": "25d9e9aa",
   "metadata": {},
   "source": [
    "## AdaboostClassifier built with best parameters\n"
   ]
  },
  {
   "cell_type": "code",
   "execution_count": 43,
   "id": "2b50ada9",
   "metadata": {},
   "outputs": [
    {
     "data": {
      "text/plain": [
       "0.5941807044410413"
      ]
     },
     "execution_count": 43,
     "metadata": {},
     "output_type": "execute_result"
    }
   ],
   "source": [
    "from sklearn.ensemble import AdaBoostClassifier,GradientBoostingClassifier\n",
    "ad_model1 = AdaBoostClassifier(n_estimators=100, algorithm = 'SAMME', random_state=1) \n",
    "ad_model1 = ad_model1.fit(X_train_scale, y_train)\n",
    "y_pred1 = ad_model1.predict(X_test_scale)\n",
    "accuracy_score( y_test, y_pred)"
   ]
  },
  {
   "cell_type": "code",
   "execution_count": 44,
   "id": "272642fe",
   "metadata": {},
   "outputs": [
    {
     "name": "stdout",
     "output_type": "stream",
     "text": [
      "              precision    recall  f1-score   support\n",
      "\n",
      "           0       0.62      0.23      0.33       291\n",
      "           1       0.59      0.89      0.71       362\n",
      "\n",
      "    accuracy                           0.59       653\n",
      "   macro avg       0.61      0.56      0.52       653\n",
      "weighted avg       0.60      0.59      0.54       653\n",
      "\n"
     ]
    }
   ],
   "source": [
    "# Print classification report\n",
    "print(classification_report(y_test, y_pred1))"
   ]
  },
  {
   "cell_type": "code",
   "execution_count": null,
   "id": "3c49ed56",
   "metadata": {},
   "outputs": [],
   "source": []
  }
 ],
 "metadata": {
  "kernelspec": {
   "display_name": "mlenv3",
   "language": "python",
   "name": "mlenv3"
  },
  "language_info": {
   "codemirror_mode": {
    "name": "ipython",
    "version": 3
   },
   "file_extension": ".py",
   "mimetype": "text/x-python",
   "name": "python",
   "nbconvert_exporter": "python",
   "pygments_lexer": "ipython3",
   "version": "3.8.13"
  }
 },
 "nbformat": 4,
 "nbformat_minor": 5
}
