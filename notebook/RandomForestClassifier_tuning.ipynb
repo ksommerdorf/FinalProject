{
 "cells": [
  {
   "cell_type": "code",
   "execution_count": 1,
   "id": "bd14e176",
   "metadata": {},
   "outputs": [
    {
     "name": "stdout",
     "output_type": "stream",
     "text": [
      "(1, )\n"
     ]
    }
   ],
   "source": [
    "import bitdotio \n",
    "from pprintpp import pprint\n",
    "\n",
    "b = bitdotio.bitdotio(<password>)\n",
    "\n",
    "conn = b.get_connection(<db>)\n",
    "cur = conn.cursor()\n",
    "cur.execute(\"SELECT 1\")\n",
    "pprint(cur.fetchone())"
   ]
  },
  {
   "cell_type": "code",
   "execution_count": 2,
   "id": "7f31b0b8",
   "metadata": {},
   "outputs": [],
   "source": [
    "import csv\n",
    "from io import StringIO\n",
    "import time\n",
    "\n",
    "import pandas as pd\n",
    "from sqlalchemy import create_engine\n",
    "#from config import pg_string"
   ]
  },
  {
   "cell_type": "code",
   "execution_count": 3,
   "id": "4cba81c9",
   "metadata": {},
   "outputs": [
    {
     "data": {
      "text/html": [
       "<div>\n",
       "<style scoped>\n",
       "    .dataframe tbody tr th:only-of-type {\n",
       "        vertical-align: middle;\n",
       "    }\n",
       "\n",
       "    .dataframe tbody tr th {\n",
       "        vertical-align: top;\n",
       "    }\n",
       "\n",
       "    .dataframe thead th {\n",
       "        text-align: right;\n",
       "    }\n",
       "</style>\n",
       "<table border=\"1\" class=\"dataframe\">\n",
       "  <thead>\n",
       "    <tr style=\"text-align: right;\">\n",
       "      <th></th>\n",
       "      <th>date</th>\n",
       "      <th>year</th>\n",
       "      <th>county</th>\n",
       "      <th>median_listing_price</th>\n",
       "      <th>active_listing_count</th>\n",
       "      <th>median_days_on_market</th>\n",
       "      <th>new_listing_count</th>\n",
       "      <th>price_increased_count</th>\n",
       "      <th>price_reduced_count</th>\n",
       "      <th>median_square_feet</th>\n",
       "      <th>average_listing_price</th>\n",
       "      <th>total_listing_count</th>\n",
       "      <th>violent_crime_rate</th>\n",
       "      <th>30_year_fixed_rate</th>\n",
       "      <th>number_of_schools</th>\n",
       "      <th>median_listing_price_mm</th>\n",
       "      <th>number_of_parks</th>\n",
       "    </tr>\n",
       "  </thead>\n",
       "  <tbody>\n",
       "    <tr>\n",
       "      <th>0</th>\n",
       "      <td>2022-06</td>\n",
       "      <td>2022</td>\n",
       "      <td>Alamance</td>\n",
       "      <td>382500</td>\n",
       "      <td>298</td>\n",
       "      <td>18</td>\n",
       "      <td>452</td>\n",
       "      <td>12</td>\n",
       "      <td>108</td>\n",
       "      <td>2112</td>\n",
       "      <td>443362</td>\n",
       "      <td>644</td>\n",
       "      <td>None</td>\n",
       "      <td>5.52</td>\n",
       "      <td>NaN</td>\n",
       "      <td>0.034063</td>\n",
       "      <td>54.0</td>\n",
       "    </tr>\n",
       "    <tr>\n",
       "      <th>1</th>\n",
       "      <td>2022-06</td>\n",
       "      <td>2022</td>\n",
       "      <td>Alexander</td>\n",
       "      <td>312450</td>\n",
       "      <td>34</td>\n",
       "      <td>35</td>\n",
       "      <td>28</td>\n",
       "      <td>0</td>\n",
       "      <td>20</td>\n",
       "      <td>1942</td>\n",
       "      <td>370648</td>\n",
       "      <td>59</td>\n",
       "      <td>None</td>\n",
       "      <td>5.52</td>\n",
       "      <td>NaN</td>\n",
       "      <td>0.016428</td>\n",
       "      <td>25.0</td>\n",
       "    </tr>\n",
       "    <tr>\n",
       "      <th>2</th>\n",
       "      <td>2022-06</td>\n",
       "      <td>2022</td>\n",
       "      <td>Alleghany</td>\n",
       "      <td>389000</td>\n",
       "      <td>54</td>\n",
       "      <td>39</td>\n",
       "      <td>24</td>\n",
       "      <td>0</td>\n",
       "      <td>20</td>\n",
       "      <td>1904</td>\n",
       "      <td>422802</td>\n",
       "      <td>92</td>\n",
       "      <td>None</td>\n",
       "      <td>5.52</td>\n",
       "      <td>NaN</td>\n",
       "      <td>-0.038200</td>\n",
       "      <td>0.0</td>\n",
       "    </tr>\n",
       "    <tr>\n",
       "      <th>3</th>\n",
       "      <td>2022-06</td>\n",
       "      <td>2022</td>\n",
       "      <td>Anson</td>\n",
       "      <td>170000</td>\n",
       "      <td>22</td>\n",
       "      <td>34</td>\n",
       "      <td>16</td>\n",
       "      <td>0</td>\n",
       "      <td>8</td>\n",
       "      <td>1502</td>\n",
       "      <td>262240</td>\n",
       "      <td>48</td>\n",
       "      <td>None</td>\n",
       "      <td>5.52</td>\n",
       "      <td>NaN</td>\n",
       "      <td>0.218638</td>\n",
       "      <td>3.0</td>\n",
       "    </tr>\n",
       "    <tr>\n",
       "      <th>4</th>\n",
       "      <td>2022-06</td>\n",
       "      <td>2022</td>\n",
       "      <td>Ashe</td>\n",
       "      <td>485000</td>\n",
       "      <td>76</td>\n",
       "      <td>31</td>\n",
       "      <td>48</td>\n",
       "      <td>0</td>\n",
       "      <td>20</td>\n",
       "      <td>1907</td>\n",
       "      <td>592879</td>\n",
       "      <td>137</td>\n",
       "      <td>None</td>\n",
       "      <td>5.52</td>\n",
       "      <td>NaN</td>\n",
       "      <td>-0.088346</td>\n",
       "      <td>5.0</td>\n",
       "    </tr>\n",
       "  </tbody>\n",
       "</table>\n",
       "</div>"
      ],
      "text/plain": [
       "      date  year     county  median_listing_price  active_listing_count  \\\n",
       "0  2022-06  2022   Alamance                382500                   298   \n",
       "1  2022-06  2022  Alexander                312450                    34   \n",
       "2  2022-06  2022  Alleghany                389000                    54   \n",
       "3  2022-06  2022      Anson                170000                    22   \n",
       "4  2022-06  2022       Ashe                485000                    76   \n",
       "\n",
       "   median_days_on_market  new_listing_count  price_increased_count  \\\n",
       "0                     18                452                     12   \n",
       "1                     35                 28                      0   \n",
       "2                     39                 24                      0   \n",
       "3                     34                 16                      0   \n",
       "4                     31                 48                      0   \n",
       "\n",
       "   price_reduced_count  median_square_feet  average_listing_price  \\\n",
       "0                  108                2112                 443362   \n",
       "1                   20                1942                 370648   \n",
       "2                   20                1904                 422802   \n",
       "3                    8                1502                 262240   \n",
       "4                   20                1907                 592879   \n",
       "\n",
       "   total_listing_count violent_crime_rate  30_year_fixed_rate  \\\n",
       "0                  644               None                5.52   \n",
       "1                   59               None                5.52   \n",
       "2                   92               None                5.52   \n",
       "3                   48               None                5.52   \n",
       "4                  137               None                5.52   \n",
       "\n",
       "   number_of_schools  median_listing_price_mm  number_of_parks  \n",
       "0                NaN                 0.034063             54.0  \n",
       "1                NaN                 0.016428             25.0  \n",
       "2                NaN                -0.038200              0.0  \n",
       "3                NaN                 0.218638              3.0  \n",
       "4                NaN                -0.088346              5.0  "
      ]
     },
     "execution_count": 3,
     "metadata": {},
     "output_type": "execute_result"
    }
   ],
   "source": [
    "# Create SQLAlchemy engine to manage our database connections\n",
    "# Note that we bump the statement_timeout to 60 seconds\n",
    "# pool_pre_ping=True \n",
    "engine = create_engine(<postgresql>\n",
    "                       , pool_pre_ping=True)\n",
    "# SQL for querying an entire table\n",
    "sql = f'''\n",
    "    SELECT *\n",
    "    FROM \"filled_final_table\";\n",
    "'''\n",
    "# Return SQL query as a pandas dataframe\n",
    "with engine.connect() as conn:\n",
    "    # Set 1 minute statement timeout (units are milliseconds)\n",
    "    conn.execute(\"SET statement_timeout = 60000;\")\n",
    "    df = pd.read_sql(sql, conn)\n",
    "df.head()"
   ]
  },
  {
   "cell_type": "code",
   "execution_count": 4,
   "id": "10ba8193",
   "metadata": {},
   "outputs": [],
   "source": [
    "import warnings\n",
    "warnings.filterwarnings('ignore')\n",
    "import numpy as np\n",
    "import pandas as pd\n",
    "from pathlib import Path\n",
    "from collections import Counter\n",
    "import matplotlib.pyplot as plt\n",
    "import seaborn as sns"
   ]
  },
  {
   "cell_type": "code",
   "execution_count": 19,
   "id": "09981171",
   "metadata": {},
   "outputs": [],
   "source": [
    "from sklearn.metrics import balanced_accuracy_score\n",
    "from sklearn.metrics import confusion_matrix\n",
    "from sklearn.metrics import classification_report\n",
    "from sklearn.preprocessing import MinMaxScaler"
   ]
  },
  {
   "cell_type": "markdown",
   "id": "eb5f269e",
   "metadata": {},
   "source": [
    " Perform Basic Data Cleaning"
   ]
  },
  {
   "cell_type": "code",
   "execution_count": 6,
   "id": "b1649e7a",
   "metadata": {},
   "outputs": [
    {
     "data": {
      "text/html": [
       "<div>\n",
       "<style scoped>\n",
       "    .dataframe tbody tr th:only-of-type {\n",
       "        vertical-align: middle;\n",
       "    }\n",
       "\n",
       "    .dataframe tbody tr th {\n",
       "        vertical-align: top;\n",
       "    }\n",
       "\n",
       "    .dataframe thead th {\n",
       "        text-align: right;\n",
       "    }\n",
       "</style>\n",
       "<table border=\"1\" class=\"dataframe\">\n",
       "  <thead>\n",
       "    <tr style=\"text-align: right;\">\n",
       "      <th></th>\n",
       "      <th>date</th>\n",
       "      <th>year</th>\n",
       "      <th>county</th>\n",
       "      <th>median_listing_price</th>\n",
       "      <th>active_listing_count</th>\n",
       "      <th>median_days_on_market</th>\n",
       "      <th>new_listing_count</th>\n",
       "      <th>price_increased_count</th>\n",
       "      <th>price_reduced_count</th>\n",
       "      <th>median_square_feet</th>\n",
       "      <th>average_listing_price</th>\n",
       "      <th>total_listing_count</th>\n",
       "      <th>violent_crime_rate</th>\n",
       "      <th>30_year_fixed_rate</th>\n",
       "      <th>number_of_schools</th>\n",
       "      <th>median_listing_price_mm</th>\n",
       "      <th>number_of_parks</th>\n",
       "      <th>Price_Status</th>\n",
       "    </tr>\n",
       "  </thead>\n",
       "  <tbody>\n",
       "    <tr>\n",
       "      <th>0</th>\n",
       "      <td>2022-06</td>\n",
       "      <td>2022</td>\n",
       "      <td>Alamance</td>\n",
       "      <td>382500</td>\n",
       "      <td>298</td>\n",
       "      <td>18</td>\n",
       "      <td>452</td>\n",
       "      <td>12</td>\n",
       "      <td>108</td>\n",
       "      <td>2112</td>\n",
       "      <td>443362</td>\n",
       "      <td>644</td>\n",
       "      <td>NaN</td>\n",
       "      <td>5.52</td>\n",
       "      <td>NaN</td>\n",
       "      <td>0.034063</td>\n",
       "      <td>54.0</td>\n",
       "      <td>up</td>\n",
       "    </tr>\n",
       "    <tr>\n",
       "      <th>1</th>\n",
       "      <td>2022-06</td>\n",
       "      <td>2022</td>\n",
       "      <td>Alexander</td>\n",
       "      <td>312450</td>\n",
       "      <td>34</td>\n",
       "      <td>35</td>\n",
       "      <td>28</td>\n",
       "      <td>0</td>\n",
       "      <td>20</td>\n",
       "      <td>1942</td>\n",
       "      <td>370648</td>\n",
       "      <td>59</td>\n",
       "      <td>NaN</td>\n",
       "      <td>5.52</td>\n",
       "      <td>NaN</td>\n",
       "      <td>0.016428</td>\n",
       "      <td>25.0</td>\n",
       "      <td>up</td>\n",
       "    </tr>\n",
       "    <tr>\n",
       "      <th>2</th>\n",
       "      <td>2022-06</td>\n",
       "      <td>2022</td>\n",
       "      <td>Alleghany</td>\n",
       "      <td>389000</td>\n",
       "      <td>54</td>\n",
       "      <td>39</td>\n",
       "      <td>24</td>\n",
       "      <td>0</td>\n",
       "      <td>20</td>\n",
       "      <td>1904</td>\n",
       "      <td>422802</td>\n",
       "      <td>92</td>\n",
       "      <td>NaN</td>\n",
       "      <td>5.52</td>\n",
       "      <td>NaN</td>\n",
       "      <td>-0.038200</td>\n",
       "      <td>0.0</td>\n",
       "      <td>down</td>\n",
       "    </tr>\n",
       "    <tr>\n",
       "      <th>3</th>\n",
       "      <td>2022-06</td>\n",
       "      <td>2022</td>\n",
       "      <td>Anson</td>\n",
       "      <td>170000</td>\n",
       "      <td>22</td>\n",
       "      <td>34</td>\n",
       "      <td>16</td>\n",
       "      <td>0</td>\n",
       "      <td>8</td>\n",
       "      <td>1502</td>\n",
       "      <td>262240</td>\n",
       "      <td>48</td>\n",
       "      <td>NaN</td>\n",
       "      <td>5.52</td>\n",
       "      <td>NaN</td>\n",
       "      <td>0.218638</td>\n",
       "      <td>3.0</td>\n",
       "      <td>up</td>\n",
       "    </tr>\n",
       "    <tr>\n",
       "      <th>4</th>\n",
       "      <td>2022-06</td>\n",
       "      <td>2022</td>\n",
       "      <td>Ashe</td>\n",
       "      <td>485000</td>\n",
       "      <td>76</td>\n",
       "      <td>31</td>\n",
       "      <td>48</td>\n",
       "      <td>0</td>\n",
       "      <td>20</td>\n",
       "      <td>1907</td>\n",
       "      <td>592879</td>\n",
       "      <td>137</td>\n",
       "      <td>NaN</td>\n",
       "      <td>5.52</td>\n",
       "      <td>NaN</td>\n",
       "      <td>-0.088346</td>\n",
       "      <td>5.0</td>\n",
       "      <td>down</td>\n",
       "    </tr>\n",
       "  </tbody>\n",
       "</table>\n",
       "</div>"
      ],
      "text/plain": [
       "      date  year     county  median_listing_price  active_listing_count  \\\n",
       "0  2022-06  2022   Alamance                382500                   298   \n",
       "1  2022-06  2022  Alexander                312450                    34   \n",
       "2  2022-06  2022  Alleghany                389000                    54   \n",
       "3  2022-06  2022      Anson                170000                    22   \n",
       "4  2022-06  2022       Ashe                485000                    76   \n",
       "\n",
       "   median_days_on_market  new_listing_count  price_increased_count  \\\n",
       "0                     18                452                     12   \n",
       "1                     35                 28                      0   \n",
       "2                     39                 24                      0   \n",
       "3                     34                 16                      0   \n",
       "4                     31                 48                      0   \n",
       "\n",
       "   price_reduced_count  median_square_feet  average_listing_price  \\\n",
       "0                  108                2112                 443362   \n",
       "1                   20                1942                 370648   \n",
       "2                   20                1904                 422802   \n",
       "3                    8                1502                 262240   \n",
       "4                   20                1907                 592879   \n",
       "\n",
       "   total_listing_count  violent_crime_rate  30_year_fixed_rate  \\\n",
       "0                  644                 NaN                5.52   \n",
       "1                   59                 NaN                5.52   \n",
       "2                   92                 NaN                5.52   \n",
       "3                   48                 NaN                5.52   \n",
       "4                  137                 NaN                5.52   \n",
       "\n",
       "   number_of_schools  median_listing_price_mm  number_of_parks Price_Status  \n",
       "0                NaN                 0.034063             54.0           up  \n",
       "1                NaN                 0.016428             25.0           up  \n",
       "2                NaN                -0.038200              0.0         down  \n",
       "3                NaN                 0.218638              3.0           up  \n",
       "4                NaN                -0.088346              5.0         down  "
      ]
     },
     "execution_count": 6,
     "metadata": {},
     "output_type": "execute_result"
    }
   ],
   "source": [
    "#conditional based column = np.where(df['median_listing_price_mm'] (x>=0), 'up(1)', 'down(0)')\n",
    "df['Price_Status'] = np.where(df['median_listing_price_mm']>=0, 'up', 'down')\n",
    "df['violent_crime_rate']= df['violent_crime_rate'].str.replace(',','').astype(float)\n",
    "df.head()"
   ]
  },
  {
   "cell_type": "code",
   "execution_count": 7,
   "id": "0904d658",
   "metadata": {},
   "outputs": [
    {
     "name": "stdout",
     "output_type": "stream",
     "text": [
      "Price Status for the classes are: Price_Status\n",
      "down    3017\n",
      "up      4179\n",
      "dtype: int64\n"
     ]
    },
    {
     "data": {
      "text/plain": [
       "<AxesSubplot:xlabel='Price_Status'>"
      ]
     },
     "execution_count": 7,
     "metadata": {},
     "output_type": "execute_result"
    },
    {
     "data": {
      "image/png": "[encoded data removed]",
      "text/plain": [
       "<Figure size 432x288 with 1 Axes>"
      ]
     },
     "metadata": {
      "needs_background": "light"
     },
     "output_type": "display_data"
    }
   ],
   "source": [
    "# Get a count of each class for the price status\n",
    "\n",
    "print('Price Status for the classes are:', df.groupby('Price_Status').size())\n",
    "plot_df = df[['Price_Status', 'year']]\n",
    "plot_by_df = plot_df.rename(columns={\"year\": \"Count\"})\n",
    "plot_by_df.groupby('Price_Status').count().plot.bar()"
   ]
  },
  {
   "cell_type": "code",
   "execution_count": 8,
   "id": "058f04bb",
   "metadata": {},
   "outputs": [
    {
     "data": {
      "text/plain": [
       "year                         int64\n",
       "county                      object\n",
       "median_listing_price         int64\n",
       "active_listing_count         int64\n",
       "median_days_on_market        int64\n",
       "new_listing_count            int64\n",
       "price_increased_count        int64\n",
       "price_reduced_count          int64\n",
       "median_square_feet           int64\n",
       "average_listing_price        int64\n",
       "total_listing_count          int64\n",
       "violent_crime_rate         float64\n",
       "30_year_fixed_rate         float64\n",
       "number_of_schools          float64\n",
       "median_listing_price_mm    float64\n",
       "number_of_parks            float64\n",
       "Price_Status                object\n",
       "dtype: object"
      ]
     },
     "execution_count": 8,
     "metadata": {},
     "output_type": "execute_result"
    }
   ],
   "source": [
    "df_new1 = df.drop(['date'], axis=1)\n",
    "df_new1.dtypes"
   ]
  },
  {
   "cell_type": "code",
   "execution_count": 9,
   "id": "eee32972",
   "metadata": {},
   "outputs": [
    {
     "data": {
      "text/plain": [
       "array([2022, 2021, 2020, 2019, 2018, 2017, 2016], dtype=int64)"
      ]
     },
     "execution_count": 9,
     "metadata": {},
     "output_type": "execute_result"
    }
   ],
   "source": [
    "df_new1[\"year\"].unique()"
   ]
  },
  {
   "cell_type": "code",
   "execution_count": 10,
   "id": "c15abb0b",
   "metadata": {},
   "outputs": [],
   "source": [
    "filter_df = df_new1[df_new1['year'] <2019]\n",
    "#filter_df[\"Year\"].unique()"
   ]
  },
  {
   "cell_type": "code",
   "execution_count": 11,
   "id": "7655cd25",
   "metadata": {},
   "outputs": [
    {
     "data": {
      "text/plain": [
       "3000"
      ]
     },
     "execution_count": 11,
     "metadata": {},
     "output_type": "execute_result"
    }
   ],
   "source": [
    "len(filter_df)"
   ]
  },
  {
   "cell_type": "code",
   "execution_count": 12,
   "id": "e122b9c2",
   "metadata": {},
   "outputs": [],
   "source": [
    "\n",
    "columns = [\n",
    "      \"county\", \"year\",\n",
    "    \"active_listing_count\", \"median_days_on_market\", \"new_listing_count\",\n",
    "    \"price_increased_count\", \"price_reduced_count\", \"median_square_feet\",\n",
    "    \"total_listing_count\", \"violent_crime_rate\",\"30_year_fixed_rate\", 'number_of_schools',\n",
    "     'number_of_parks',\"Price_Status\"]\n",
    "\n",
    "target = [\"Price_Status\"]"
   ]
  },
  {
   "cell_type": "code",
   "execution_count": 13,
   "id": "5fcfb5c1",
   "metadata": {},
   "outputs": [
    {
     "data": {
      "text/plain": [
       "2610"
      ]
     },
     "execution_count": 13,
     "metadata": {},
     "output_type": "execute_result"
    }
   ],
   "source": [
    "# Load the data\n",
    "\n",
    "df_data = filter_df.loc[:, columns].copy()\n",
    "df_data = df_data.dropna()\n",
    "\n",
    "df_data.reset_index(inplace=True, drop=True)\n",
    "\n",
    "df_data.head()\n",
    "len(df_data)"
   ]
  },
  {
   "cell_type": "code",
   "execution_count": 14,
   "id": "eb607fc9",
   "metadata": {},
   "outputs": [
    {
     "name": "stdout",
     "output_type": "stream",
     "text": [
      "Price Status for the classes are: Price_Status\n",
      "down    1162\n",
      "up      1448\n",
      "dtype: int64\n"
     ]
    },
    {
     "data": {
      "text/plain": [
       "<AxesSubplot:xlabel='Price_Status'>"
      ]
     },
     "execution_count": 14,
     "metadata": {},
     "output_type": "execute_result"
    },
    {
     "data": {
      "image/png": "[encoded data removed]",
      "text/plain": [
       "<Figure size 432x288 with 1 Axes>"
      ]
     },
     "metadata": {
      "needs_background": "light"
     },
     "output_type": "display_data"
    }
   ],
   "source": [
    "# Get a count of each class for the price status\n",
    "\n",
    "print('Price Status for the classes are:', df_data.groupby('Price_Status').size())\n",
    "plot_df = df_data[['Price_Status', 'year']]\n",
    "plot_by_df = plot_df.rename(columns={\"year\": \"Count\"})\n",
    "plot_by_df.groupby('Price_Status').count().plot.bar()"
   ]
  },
  {
   "cell_type": "markdown",
   "id": "115bdf03",
   "metadata": {},
   "source": [
    "Split the Data into Training and Testing"
   ]
  },
  {
   "cell_type": "code",
   "execution_count": 21,
   "id": "4413c1c3",
   "metadata": {},
   "outputs": [],
   "source": [
    "# Create our features\n",
    "X = df_data.drop('Price_Status', axis=1)\n",
    "\n",
    "X = pd.get_dummies(X)\n",
    "\n",
    "# Create our target\n",
    "y = df_data.loc[:, target].copy()\n",
    "\n"
   ]
  },
  {
   "cell_type": "code",
   "execution_count": 22,
   "id": "3bd823a3",
   "metadata": {},
   "outputs": [
    {
     "data": {
      "text/plain": [
       "Price_Status\n",
       "up              1448\n",
       "down            1162\n",
       "dtype: int64"
      ]
     },
     "execution_count": 22,
     "metadata": {},
     "output_type": "execute_result"
    }
   ],
   "source": [
    "# Check the balance of our target values\n",
    "y.value_counts()"
   ]
  },
  {
   "cell_type": "code",
   "execution_count": 23,
   "id": "27bc11e6",
   "metadata": {},
   "outputs": [
    {
     "data": {
      "text/plain": [
       "(653, 104)"
      ]
     },
     "execution_count": 23,
     "metadata": {},
     "output_type": "execute_result"
    }
   ],
   "source": [
    "from sklearn.model_selection import train_test_split\n",
    "X_train, X_test, y_train, y_test = train_test_split(X, \n",
    "                                                    y, \n",
    "                                                    random_state=1) \n",
    "                                                 \n",
    "X_test.shape\n"
   ]
  },
  {
   "cell_type": "code",
   "execution_count": 24,
   "id": "7a8baba5",
   "metadata": {},
   "outputs": [],
   "source": [
    "#preprocess data\n",
    "scaler = MinMaxScaler()\n",
    "scaler.fit(X_train)\n",
    "X_train_scale = scaler.transform(X_train)\n",
    "X_test_scale = scaler.transform(X_test)\n"
   ]
  },
  {
   "cell_type": "markdown",
   "id": "5ea496dc",
   "metadata": {},
   "source": [
    " Random Forest Classifier"
   ]
  },
  {
   "cell_type": "code",
   "execution_count": 26,
   "id": "7840dc2e",
   "metadata": {},
   "outputs": [
    {
     "data": {
      "text/plain": [
       "Counter({'down': 868, 'up': 1089})"
      ]
     },
     "execution_count": 26,
     "metadata": {},
     "output_type": "execute_result"
    }
   ],
   "source": [
    "# Resample the training data with the RandomForestClassifier\n",
    "from sklearn.ensemble import RandomForestClassifier\n",
    "rf_model = RandomForestClassifier(n_estimators=100, max_depth=6,min_samples_split=4, random_state=1) \n",
    "rf_model = rf_model.fit(X_train_scale, y_train)\n",
    "Counter(y_train['Price_Status'])"
   ]
  },
  {
   "cell_type": "code",
   "execution_count": 27,
   "id": "6a7402da",
   "metadata": {},
   "outputs": [
    {
     "data": {
      "text/plain": [
       "array([[ 50, 244],\n",
       "       [ 29, 330]], dtype=int64)"
      ]
     },
     "execution_count": 27,
     "metadata": {},
     "output_type": "execute_result"
    }
   ],
   "source": [
    "# Display the confusion matrix\n",
    "from sklearn.metrics import confusion_matrix\n",
    "\n",
    "y_pred = rf_model.predict(X_test_scale)\n",
    "confusion_matrix(y_test, y_pred)\n"
   ]
  },
  {
   "cell_type": "code",
   "execution_count": 28,
   "id": "f7c477c3",
   "metadata": {},
   "outputs": [
    {
     "data": {
      "text/plain": [
       "0.5819295558958653"
      ]
     },
     "execution_count": 28,
     "metadata": {},
     "output_type": "execute_result"
    }
   ],
   "source": [
    "# Calculated the balanced accuracy score\n",
    "from sklearn.metrics import accuracy_score\n",
    "\n",
    "accuracy_score(y_test, y_pred)\n",
    "\n"
   ]
  },
  {
   "cell_type": "code",
   "execution_count": 29,
   "id": "c388c8b3",
   "metadata": {},
   "outputs": [
    {
     "name": "stdout",
     "output_type": "stream",
     "text": [
      "              precision    recall  f1-score   support\n",
      "\n",
      "        down       0.63      0.17      0.27       294\n",
      "          up       0.57      0.92      0.71       359\n",
      "\n",
      "    accuracy                           0.58       653\n",
      "   macro avg       0.60      0.54      0.49       653\n",
      "weighted avg       0.60      0.58      0.51       653\n",
      "\n"
     ]
    }
   ],
   "source": [
    "# Print the classification report\n",
    "from sklearn.metrics import classification_report\n",
    "print(classification_report(y_test, y_pred))"
   ]
  },
  {
   "cell_type": "code",
   "execution_count": 30,
   "id": "6f4d0a50",
   "metadata": {},
   "outputs": [
    {
     "data": {
      "text/plain": [
       "[(0.16563488107265045, '30_year_fixed_rate'),\n",
       " (0.08878685041735769, 'active_listing_count'),\n",
       " (0.08217738834575501, 'year'),\n",
       " (0.07745534977102153, 'total_listing_count'),\n",
       " (0.07472050167138451, 'price_reduced_count'),\n",
       " (0.06520516303408458, 'median_square_feet'),\n",
       " (0.06454226052325872, 'new_listing_count'),\n",
       " (0.059140837498338386, 'median_days_on_market'),\n",
       " (0.046388990196724246, 'violent_crime_rate'),\n",
       " (0.04220268508980879, 'price_increased_count'),\n",
       " (0.03424892900124634, 'number_of_parks'),\n",
       " (0.030586567770631273, 'number_of_schools'),\n",
       " (0.013280781849042703, 'county_Swain'),\n",
       " (0.008903579905736996, 'county_Forsyth'),\n",
       " (0.007492899898238425, 'county_Rutherford'),\n",
       " (0.0065595708829353505, 'county_Davidson'),\n",
       " (0.005961203174118005, 'county_Orange'),\n",
       " (0.005693060356295421, 'county_Vance'),\n",
       " (0.005599413454061498, 'county_Alamance'),\n",
       " (0.005205915377088345, 'county_Robeson'),\n",
       " (0.003567560484440969, 'county_Stanly'),\n",
       " (0.003318495345317377, 'county_Carteret'),\n",
       " (0.003187883730790771, 'county_Bertie'),\n",
       " (0.0030078048040257255, 'county_Onslow'),\n",
       " (0.0027259425202428296, 'county_Duplin'),\n",
       " (0.002682152914378616, 'county_Martin'),\n",
       " (0.0026729682001954374, 'county_Anson'),\n",
       " (0.0025516122098540152, 'county_Richmond'),\n",
       " (0.002537438257546636, 'county_Pender'),\n",
       " (0.0024904785713822895, 'county_Cabarrus'),\n",
       " (0.002476325821790802, 'county_Wilson'),\n",
       " (0.002366036796123912, 'county_Hoke'),\n",
       " (0.0022516128694385906, 'county_Wake'),\n",
       " (0.002217434660395851, 'county_Surry'),\n",
       " (0.002209913037047292, 'county_Iredell'),\n",
       " (0.0021278679923528547, 'county_Cleveland'),\n",
       " (0.002061811769420327, 'county_Watauga'),\n",
       " (0.0020161431819668853, 'county_Halifax'),\n",
       " (0.0019086126817230368, 'county_Greene'),\n",
       " (0.0018510920965438499, 'county_Northampton'),\n",
       " (0.0017830160777165367, 'county_Lee'),\n",
       " (0.001773257009339503, 'county_Guilford'),\n",
       " (0.0017696375401139847, 'county_Alleghany'),\n",
       " (0.001753733856396335, 'county_Rockingham'),\n",
       " (0.0017521287270698255, 'county_Gaston'),\n",
       " (0.0017383569305272357, 'county_Johnston'),\n",
       " (0.0016728475322286445, 'county_Cumberland'),\n",
       " (0.00163843192538348, 'county_Macon'),\n",
       " (0.001584619921513502, 'county_Hertford'),\n",
       " (0.0015436078850469491, 'county_Columbus'),\n",
       " (0.0015334824458458967, 'county_Graham'),\n",
       " (0.0014944695459463456, 'county_Henderson'),\n",
       " (0.001490165954183035, 'county_Beaufort'),\n",
       " (0.0014673012316235952, 'county_Yancey'),\n",
       " (0.0014135565594279981, 'county_Chowan'),\n",
       " (0.0013789152945379963, 'county_Craven'),\n",
       " (0.0013316861374495633, 'county_Stokes'),\n",
       " (0.0013232560704420954, 'county_Warren'),\n",
       " (0.0012930449018714657, 'county_Burke'),\n",
       " (0.0012755269664859207, 'county_Currituck'),\n",
       " (0.001270593650400587, 'county_Brunswick'),\n",
       " (0.001225528380551206, 'county_Caswell'),\n",
       " (0.0012232750989128406, 'county_Union'),\n",
       " (0.0011859058793518697, 'county_Catawba'),\n",
       " (0.0011600937913565541, 'county_Alexander'),\n",
       " (0.0010596782970024696, 'county_Lincoln'),\n",
       " (0.0010039054586598478, 'county_Pamlico'),\n",
       " (0.00099347971496257, 'county_Edgecombe'),\n",
       " (0.0009751942045947718, 'county_Lenoir'),\n",
       " (0.000951937852138221, 'county_Mecklenburg'),\n",
       " (0.0009449234033259468, 'county_Tyrrell'),\n",
       " (0.000927841906767842, 'county_Haywood'),\n",
       " (0.0009070649881133822, 'county_Camden'),\n",
       " (0.0008196520694703324, 'county_Rowan'),\n",
       " (0.0008044345683705008, 'county_Davie'),\n",
       " (0.0007944181607847699, 'county_Jackson'),\n",
       " (0.0007895700870774147, 'county_Nash'),\n",
       " (0.0007892621027101845, 'county_Transylvania'),\n",
       " (0.0007817764353971623, 'county_Sampson'),\n",
       " (0.0007742320404761798, 'county_Montgomery'),\n",
       " (0.0007362219177279727, 'county_Wayne'),\n",
       " (0.0007322047029897486, 'county_Person'),\n",
       " (0.0007254572702670222, 'county_Buncombe'),\n",
       " (0.0006814824356892447, 'county_Yadkin'),\n",
       " (0.0006535397664783024, 'county_Dare'),\n",
       " (0.0006198802176837551, 'county_Franklin'),\n",
       " (0.0005822224022403216, 'county_Clay'),\n",
       " (0.0005717198284229383, 'county_Polk'),\n",
       " (0.0005307351145461045, 'county_Randolph'),\n",
       " (0.0005182480913174762, 'county_Ashe'),\n",
       " (0.0004699416700932012, 'county_Durham'),\n",
       " (0.00044452097109165534, 'county_Caldwell'),\n",
       " (0.00042720808234063945, 'county_Scotland'),\n",
       " (0.0004241150526539881, 'county_Avery'),\n",
       " (0.00032184682571969936, 'county_Pasquotank'),\n",
       " (0.0003018608710635522, 'county_Perquimans'),\n",
       " (0.00026044377084641075, 'county_Moore'),\n",
       " (0.0002126908325140309, 'county_Chatham'),\n",
       " (0.00016130880524774572, 'county_Pitt'),\n",
       " (9.165529743090395e-05, 'county_Madison'),\n",
       " (7.291575906478476e-05, 'county_Cherokee'),\n",
       " (4.995247623948419e-05, 'county_Harnett'),\n",
       " (0.0, 'county_Wilkes'),\n",
       " (0.0, 'county_Granville')]"
      ]
     },
     "execution_count": 30,
     "metadata": {},
     "output_type": "execute_result"
    }
   ],
   "source": [
    "# List the features sorted in descending order by feature importance\n",
    "sorted(zip(rf_model.feature_importances_, X.columns), reverse=True)\n",
    "\n",
    "\n",
    "\n"
   ]
  },
  {
   "cell_type": "markdown",
   "id": "7d1e0c34",
   "metadata": {},
   "source": [
    "# Hypertune features"
   ]
  },
  {
   "cell_type": "code",
   "execution_count": 31,
   "id": "75d379ad",
   "metadata": {},
   "outputs": [
    {
     "data": {
      "text/plain": [
       "{'bootstrap': True,\n",
       " 'ccp_alpha': 0.0,\n",
       " 'class_weight': None,\n",
       " 'criterion': 'gini',\n",
       " 'max_depth': 6,\n",
       " 'max_features': 'sqrt',\n",
       " 'max_leaf_nodes': None,\n",
       " 'max_samples': None,\n",
       " 'min_impurity_decrease': 0.0,\n",
       " 'min_samples_leaf': 1,\n",
       " 'min_samples_split': 4,\n",
       " 'min_weight_fraction_leaf': 0.0,\n",
       " 'n_estimators': 100,\n",
       " 'n_jobs': None,\n",
       " 'oob_score': False,\n",
       " 'random_state': 1,\n",
       " 'verbose': 0,\n",
       " 'warm_start': False}"
      ]
     },
     "execution_count": 31,
     "metadata": {},
     "output_type": "execute_result"
    }
   ],
   "source": [
    "rf_model.get_params()"
   ]
  },
  {
   "cell_type": "code",
   "execution_count": 32,
   "id": "f9a6cd3f",
   "metadata": {},
   "outputs": [
    {
     "name": "stdout",
     "output_type": "stream",
     "text": [
      "Fitting 3 folds for each of 48 candidates, totalling 144 fits\n",
      "[CV] END criterion=gini, max_features=auto, n_estimators=100; total time=   0.8s\n",
      "[CV] END criterion=gini, max_features=auto, n_estimators=100; total time=   0.6s\n",
      "[CV] END criterion=gini, max_features=auto, n_estimators=100; total time=   0.4s\n",
      "[CV] END criterion=gini, max_features=auto, n_estimators=200; total time=   1.0s\n",
      "[CV] END criterion=gini, max_features=auto, n_estimators=200; total time=   0.9s\n",
      "[CV] END criterion=gini, max_features=auto, n_estimators=200; total time=   1.5s\n",
      "[CV] END criterion=gini, max_features=auto, n_estimators=300; total time=   1.6s\n",
      "[CV] END criterion=gini, max_features=auto, n_estimators=300; total time=   1.3s\n",
      "[CV] END criterion=gini, max_features=auto, n_estimators=300; total time=   1.3s\n",
      "[CV] END criterion=gini, max_features=auto, n_estimators=400; total time=   1.8s\n",
      "[CV] END criterion=gini, max_features=auto, n_estimators=400; total time=   1.7s\n",
      "[CV] END criterion=gini, max_features=auto, n_estimators=400; total time=   1.8s\n",
      "[CV] END criterion=gini, max_features=sqrt, n_estimators=100; total time=   0.3s\n",
      "[CV] END criterion=gini, max_features=sqrt, n_estimators=100; total time=   0.4s\n",
      "[CV] END criterion=gini, max_features=sqrt, n_estimators=100; total time=   0.4s\n",
      "[CV] END criterion=gini, max_features=sqrt, n_estimators=200; total time=   0.8s\n",
      "[CV] END criterion=gini, max_features=sqrt, n_estimators=200; total time=   0.8s\n",
      "[CV] END criterion=gini, max_features=sqrt, n_estimators=200; total time=   1.1s\n",
      "[CV] END criterion=gini, max_features=sqrt, n_estimators=300; total time=   1.3s\n",
      "[CV] END criterion=gini, max_features=sqrt, n_estimators=300; total time=   1.2s\n",
      "[CV] END criterion=gini, max_features=sqrt, n_estimators=300; total time=   1.3s\n",
      "[CV] END criterion=gini, max_features=sqrt, n_estimators=400; total time=   1.7s\n",
      "[CV] END criterion=gini, max_features=sqrt, n_estimators=400; total time=   1.6s\n",
      "[CV] END criterion=gini, max_features=sqrt, n_estimators=400; total time=   3.2s\n",
      "[CV] END criterion=gini, max_features=log2, n_estimators=100; total time=   0.4s\n",
      "[CV] END criterion=gini, max_features=log2, n_estimators=100; total time=   0.3s\n",
      "[CV] END criterion=gini, max_features=log2, n_estimators=100; total time=   0.3s\n",
      "[CV] END criterion=gini, max_features=log2, n_estimators=200; total time=   0.9s\n",
      "[CV] END criterion=gini, max_features=log2, n_estimators=200; total time=   1.7s\n",
      "[CV] END criterion=gini, max_features=log2, n_estimators=200; total time=   0.9s\n",
      "[CV] END criterion=gini, max_features=log2, n_estimators=300; total time=   1.4s\n",
      "[CV] END criterion=gini, max_features=log2, n_estimators=300; total time=   2.1s\n",
      "[CV] END criterion=gini, max_features=log2, n_estimators=300; total time=   1.4s\n",
      "[CV] END criterion=gini, max_features=log2, n_estimators=400; total time=   1.9s\n",
      "[CV] END criterion=gini, max_features=log2, n_estimators=400; total time=   1.8s\n",
      "[CV] END criterion=gini, max_features=log2, n_estimators=400; total time=   2.2s\n",
      "[CV] END criterion=gini, max_features=None, n_estimators=100; total time=   1.7s\n",
      "[CV] END criterion=gini, max_features=None, n_estimators=100; total time=   1.7s\n",
      "[CV] END criterion=gini, max_features=None, n_estimators=100; total time=   1.7s\n",
      "[CV] END criterion=gini, max_features=None, n_estimators=200; total time=   3.4s\n",
      "[CV] END criterion=gini, max_features=None, n_estimators=200; total time=   3.7s\n",
      "[CV] END criterion=gini, max_features=None, n_estimators=200; total time=   2.8s\n",
      "[CV] END criterion=gini, max_features=None, n_estimators=300; total time=   4.3s\n",
      "[CV] END criterion=gini, max_features=None, n_estimators=300; total time=   4.6s\n",
      "[CV] END criterion=gini, max_features=None, n_estimators=300; total time=   5.9s\n",
      "[CV] END criterion=gini, max_features=None, n_estimators=400; total time=   7.6s\n",
      "[CV] END criterion=gini, max_features=None, n_estimators=400; total time=   7.1s\n",
      "[CV] END criterion=gini, max_features=None, n_estimators=400; total time=   6.6s\n",
      "[CV] END criterion=entropy, max_features=auto, n_estimators=100; total time=   0.5s\n",
      "[CV] END criterion=entropy, max_features=auto, n_estimators=100; total time=   0.5s\n",
      "[CV] END criterion=entropy, max_features=auto, n_estimators=100; total time=   0.5s\n",
      "[CV] END criterion=entropy, max_features=auto, n_estimators=200; total time=   1.0s\n",
      "[CV] END criterion=entropy, max_features=auto, n_estimators=200; total time=   1.0s\n",
      "[CV] END criterion=entropy, max_features=auto, n_estimators=200; total time=   1.1s\n",
      "[CV] END criterion=entropy, max_features=auto, n_estimators=300; total time=   1.6s\n",
      "[CV] END criterion=entropy, max_features=auto, n_estimators=300; total time=   1.7s\n",
      "[CV] END criterion=entropy, max_features=auto, n_estimators=300; total time=   5.3s\n",
      "[CV] END criterion=entropy, max_features=auto, n_estimators=400; total time=   9.7s\n",
      "[CV] END criterion=entropy, max_features=auto, n_estimators=400; total time=   5.8s\n",
      "[CV] END criterion=entropy, max_features=auto, n_estimators=400; total time=   6.7s\n",
      "[CV] END criterion=entropy, max_features=sqrt, n_estimators=100; total time=   1.9s\n",
      "[CV] END criterion=entropy, max_features=sqrt, n_estimators=100; total time=   1.4s\n",
      "[CV] END criterion=entropy, max_features=sqrt, n_estimators=100; total time=   1.1s\n",
      "[CV] END criterion=entropy, max_features=sqrt, n_estimators=200; total time=   2.5s\n",
      "[CV] END criterion=entropy, max_features=sqrt, n_estimators=200; total time=   3.0s\n",
      "[CV] END criterion=entropy, max_features=sqrt, n_estimators=200; total time=   3.7s\n",
      "[CV] END criterion=entropy, max_features=sqrt, n_estimators=300; total time=   4.8s\n",
      "[CV] END criterion=entropy, max_features=sqrt, n_estimators=300; total time=   3.0s\n",
      "[CV] END criterion=entropy, max_features=sqrt, n_estimators=300; total time=   6.1s\n",
      "[CV] END criterion=entropy, max_features=sqrt, n_estimators=400; total time=   3.3s\n",
      "[CV] END criterion=entropy, max_features=sqrt, n_estimators=400; total time=   7.9s\n",
      "[CV] END criterion=entropy, max_features=sqrt, n_estimators=400; total time=   9.0s\n",
      "[CV] END criterion=entropy, max_features=log2, n_estimators=100; total time=   2.0s\n",
      "[CV] END criterion=entropy, max_features=log2, n_estimators=100; total time=   1.9s\n",
      "[CV] END criterion=entropy, max_features=log2, n_estimators=100; total time=   1.9s\n",
      "[CV] END criterion=entropy, max_features=log2, n_estimators=200; total time=   3.4s\n",
      "[CV] END criterion=entropy, max_features=log2, n_estimators=200; total time=   3.7s\n",
      "[CV] END criterion=entropy, max_features=log2, n_estimators=200; total time=   3.8s\n",
      "[CV] END criterion=entropy, max_features=log2, n_estimators=300; total time=   5.8s\n",
      "[CV] END criterion=entropy, max_features=log2, n_estimators=300; total time=   5.4s\n",
      "[CV] END criterion=entropy, max_features=log2, n_estimators=300; total time=   4.8s\n",
      "[CV] END criterion=entropy, max_features=log2, n_estimators=400; total time=   7.0s\n",
      "[CV] END criterion=entropy, max_features=log2, n_estimators=400; total time=   6.5s\n",
      "[CV] END criterion=entropy, max_features=log2, n_estimators=400; total time=   4.8s\n",
      "[CV] END criterion=entropy, max_features=None, n_estimators=100; total time=   5.8s\n",
      "[CV] END criterion=entropy, max_features=None, n_estimators=100; total time=   4.4s\n",
      "[CV] END criterion=entropy, max_features=None, n_estimators=100; total time=   2.4s\n",
      "[CV] END criterion=entropy, max_features=None, n_estimators=200; total time=   6.5s\n",
      "[CV] END criterion=entropy, max_features=None, n_estimators=200; total time=   4.9s\n",
      "[CV] END criterion=entropy, max_features=None, n_estimators=200; total time=   4.8s\n",
      "[CV] END criterion=entropy, max_features=None, n_estimators=300; total time=   9.0s\n",
      "[CV] END criterion=entropy, max_features=None, n_estimators=300; total time=  12.8s\n",
      "[CV] END criterion=entropy, max_features=None, n_estimators=300; total time=  22.0s\n",
      "[CV] END criterion=entropy, max_features=None, n_estimators=400; total time=  28.6s\n",
      "[CV] END criterion=entropy, max_features=None, n_estimators=400; total time=  34.0s\n",
      "[CV] END criterion=entropy, max_features=None, n_estimators=400; total time=  18.9s\n",
      "[CV] END criterion=log_loss, max_features=auto, n_estimators=100; total time=   0.5s\n",
      "[CV] END criterion=log_loss, max_features=auto, n_estimators=100; total time=   0.5s\n",
      "[CV] END criterion=log_loss, max_features=auto, n_estimators=100; total time=   0.5s\n"
     ]
    },
    {
     "name": "stdout",
     "output_type": "stream",
     "text": [
      "[CV] END criterion=log_loss, max_features=auto, n_estimators=200; total time=   1.1s\n",
      "[CV] END criterion=log_loss, max_features=auto, n_estimators=200; total time=   1.0s\n",
      "[CV] END criterion=log_loss, max_features=auto, n_estimators=200; total time=   2.1s\n",
      "[CV] END criterion=log_loss, max_features=auto, n_estimators=300; total time=   2.4s\n",
      "[CV] END criterion=log_loss, max_features=auto, n_estimators=300; total time=   1.6s\n",
      "[CV] END criterion=log_loss, max_features=auto, n_estimators=300; total time=   1.6s\n",
      "[CV] END criterion=log_loss, max_features=auto, n_estimators=400; total time=   2.2s\n",
      "[CV] END criterion=log_loss, max_features=auto, n_estimators=400; total time=   2.2s\n",
      "[CV] END criterion=log_loss, max_features=auto, n_estimators=400; total time=   2.2s\n",
      "[CV] END criterion=log_loss, max_features=sqrt, n_estimators=100; total time=   0.5s\n",
      "[CV] END criterion=log_loss, max_features=sqrt, n_estimators=100; total time=   0.5s\n",
      "[CV] END criterion=log_loss, max_features=sqrt, n_estimators=100; total time=   0.6s\n",
      "[CV] END criterion=log_loss, max_features=sqrt, n_estimators=200; total time=   1.1s\n",
      "[CV] END criterion=log_loss, max_features=sqrt, n_estimators=200; total time=   1.0s\n",
      "[CV] END criterion=log_loss, max_features=sqrt, n_estimators=200; total time=   1.0s\n",
      "[CV] END criterion=log_loss, max_features=sqrt, n_estimators=300; total time=   1.6s\n",
      "[CV] END criterion=log_loss, max_features=sqrt, n_estimators=300; total time=   1.5s\n",
      "[CV] END criterion=log_loss, max_features=sqrt, n_estimators=300; total time=   1.6s\n",
      "[CV] END criterion=log_loss, max_features=sqrt, n_estimators=400; total time=   2.1s\n",
      "[CV] END criterion=log_loss, max_features=sqrt, n_estimators=400; total time=   2.1s\n",
      "[CV] END criterion=log_loss, max_features=sqrt, n_estimators=400; total time=   2.1s\n",
      "[CV] END criterion=log_loss, max_features=log2, n_estimators=100; total time=   0.4s\n",
      "[CV] END criterion=log_loss, max_features=log2, n_estimators=100; total time=   0.4s\n",
      "[CV] END criterion=log_loss, max_features=log2, n_estimators=100; total time=   0.4s\n",
      "[CV] END criterion=log_loss, max_features=log2, n_estimators=200; total time=   0.9s\n",
      "[CV] END criterion=log_loss, max_features=log2, n_estimators=200; total time=   0.9s\n",
      "[CV] END criterion=log_loss, max_features=log2, n_estimators=200; total time=   0.9s\n",
      "[CV] END criterion=log_loss, max_features=log2, n_estimators=300; total time=   1.4s\n",
      "[CV] END criterion=log_loss, max_features=log2, n_estimators=300; total time=   1.3s\n",
      "[CV] END criterion=log_loss, max_features=log2, n_estimators=300; total time=   1.4s\n",
      "[CV] END criterion=log_loss, max_features=log2, n_estimators=400; total time=   1.8s\n",
      "[CV] END criterion=log_loss, max_features=log2, n_estimators=400; total time=   1.9s\n",
      "[CV] END criterion=log_loss, max_features=log2, n_estimators=400; total time=   1.9s\n",
      "[CV] END criterion=log_loss, max_features=None, n_estimators=100; total time=   2.1s\n",
      "[CV] END criterion=log_loss, max_features=None, n_estimators=100; total time=   2.1s\n",
      "[CV] END criterion=log_loss, max_features=None, n_estimators=100; total time=   2.3s\n",
      "[CV] END criterion=log_loss, max_features=None, n_estimators=200; total time=   4.2s\n",
      "[CV] END criterion=log_loss, max_features=None, n_estimators=200; total time=   4.3s\n",
      "[CV] END criterion=log_loss, max_features=None, n_estimators=200; total time=   4.4s\n",
      "[CV] END criterion=log_loss, max_features=None, n_estimators=300; total time=   6.3s\n",
      "[CV] END criterion=log_loss, max_features=None, n_estimators=300; total time=   6.4s\n",
      "[CV] END criterion=log_loss, max_features=None, n_estimators=300; total time=   6.8s\n",
      "[CV] END criterion=log_loss, max_features=None, n_estimators=400; total time=   8.5s\n",
      "[CV] END criterion=log_loss, max_features=None, n_estimators=400; total time=   8.5s\n",
      "[CV] END criterion=log_loss, max_features=None, n_estimators=400; total time=   9.0s\n"
     ]
    },
    {
     "data": {
      "text/html": [
       "<style>#sk-container-id-1 {color: black;background-color: white;}#sk-container-id-1 pre{padding: 0;}#sk-container-id-1 div.sk-toggleable {background-color: white;}#sk-container-id-1 label.sk-toggleable__label {cursor: pointer;display: block;width: 100%;margin-bottom: 0;padding: 0.3em;box-sizing: border-box;text-align: center;}#sk-container-id-1 label.sk-toggleable__label-arrow:before {content: \"▸\";float: left;margin-right: 0.25em;color: #696969;}#sk-container-id-1 label.sk-toggleable__label-arrow:hover:before {color: black;}#sk-container-id-1 div.sk-estimator:hover label.sk-toggleable__label-arrow:before {color: black;}#sk-container-id-1 div.sk-toggleable__content {max-height: 0;max-width: 0;overflow: hidden;text-align: left;background-color: #f0f8ff;}#sk-container-id-1 div.sk-toggleable__content pre {margin: 0.2em;color: black;border-radius: 0.25em;background-color: #f0f8ff;}#sk-container-id-1 input.sk-toggleable__control:checked~div.sk-toggleable__content {max-height: 200px;max-width: 100%;overflow: auto;}#sk-container-id-1 input.sk-toggleable__control:checked~label.sk-toggleable__label-arrow:before {content: \"▾\";}#sk-container-id-1 div.sk-estimator input.sk-toggleable__control:checked~label.sk-toggleable__label {background-color: #d4ebff;}#sk-container-id-1 div.sk-label input.sk-toggleable__control:checked~label.sk-toggleable__label {background-color: #d4ebff;}#sk-container-id-1 input.sk-hidden--visually {border: 0;clip: rect(1px 1px 1px 1px);clip: rect(1px, 1px, 1px, 1px);height: 1px;margin: -1px;overflow: hidden;padding: 0;position: absolute;width: 1px;}#sk-container-id-1 div.sk-estimator {font-family: monospace;background-color: #f0f8ff;border: 1px dotted black;border-radius: 0.25em;box-sizing: border-box;margin-bottom: 0.5em;}#sk-container-id-1 div.sk-estimator:hover {background-color: #d4ebff;}#sk-container-id-1 div.sk-parallel-item::after {content: \"\";width: 100%;border-bottom: 1px solid gray;flex-grow: 1;}#sk-container-id-1 div.sk-label:hover label.sk-toggleable__label {background-color: #d4ebff;}#sk-container-id-1 div.sk-serial::before {content: \"\";position: absolute;border-left: 1px solid gray;box-sizing: border-box;top: 0;bottom: 0;left: 50%;z-index: 0;}#sk-container-id-1 div.sk-serial {display: flex;flex-direction: column;align-items: center;background-color: white;padding-right: 0.2em;padding-left: 0.2em;position: relative;}#sk-container-id-1 div.sk-item {position: relative;z-index: 1;}#sk-container-id-1 div.sk-parallel {display: flex;align-items: stretch;justify-content: center;background-color: white;position: relative;}#sk-container-id-1 div.sk-item::before, #sk-container-id-1 div.sk-parallel-item::before {content: \"\";position: absolute;border-left: 1px solid gray;box-sizing: border-box;top: 0;bottom: 0;left: 50%;z-index: -1;}#sk-container-id-1 div.sk-parallel-item {display: flex;flex-direction: column;z-index: 1;position: relative;background-color: white;}#sk-container-id-1 div.sk-parallel-item:first-child::after {align-self: flex-end;width: 50%;}#sk-container-id-1 div.sk-parallel-item:last-child::after {align-self: flex-start;width: 50%;}#sk-container-id-1 div.sk-parallel-item:only-child::after {width: 0;}#sk-container-id-1 div.sk-dashed-wrapped {border: 1px dashed gray;margin: 0 0.4em 0.5em 0.4em;box-sizing: border-box;padding-bottom: 0.4em;background-color: white;}#sk-container-id-1 div.sk-label label {font-family: monospace;font-weight: bold;display: inline-block;line-height: 1.2em;}#sk-container-id-1 div.sk-label-container {text-align: center;}#sk-container-id-1 div.sk-container {/* jupyter's `normalize.less` sets `[hidden] { display: none; }` but bootstrap.min.css set `[hidden] { display: none !important; }` so we also need the `!important` here to be able to override the default hidden behavior on the sphinx rendered scikit-learn.org. See: https://github.com/scikit-learn/scikit-learn/issues/21755 */display: inline-block !important;position: relative;}#sk-container-id-1 div.sk-text-repr-fallback {display: none;}</style><div id=\"sk-container-id-1\" class=\"sk-top-container\"><div class=\"sk-text-repr-fallback\"><pre>RandomizedSearchCV(cv=3, estimator=RandomForestClassifier(), n_iter=100,\n",
       "                   param_distributions={&#x27;criterion&#x27;: [&#x27;gini&#x27;, &#x27;entropy&#x27;,\n",
       "                                                      &#x27;log_loss&#x27;],\n",
       "                                        &#x27;max_features&#x27;: [&#x27;auto&#x27;, &#x27;sqrt&#x27;, &#x27;log2&#x27;,\n",
       "                                                         None],\n",
       "                                        &#x27;n_estimators&#x27;: [100, 200, 300, 400]},\n",
       "                   random_state=1, verbose=2)</pre><b>In a Jupyter environment, please rerun this cell to show the HTML representation or trust the notebook. <br />On GitHub, the HTML representation is unable to render, please try loading this page with nbviewer.org.</b></div><div class=\"sk-container\" hidden><div class=\"sk-item sk-dashed-wrapped\"><div class=\"sk-label-container\"><div class=\"sk-label sk-toggleable\"><input class=\"sk-toggleable__control sk-hidden--visually\" id=\"sk-estimator-id-1\" type=\"checkbox\" ><label for=\"sk-estimator-id-1\" class=\"sk-toggleable__label sk-toggleable__label-arrow\">RandomizedSearchCV</label><div class=\"sk-toggleable__content\"><pre>RandomizedSearchCV(cv=3, estimator=RandomForestClassifier(), n_iter=100,\n",
       "                   param_distributions={&#x27;criterion&#x27;: [&#x27;gini&#x27;, &#x27;entropy&#x27;,\n",
       "                                                      &#x27;log_loss&#x27;],\n",
       "                                        &#x27;max_features&#x27;: [&#x27;auto&#x27;, &#x27;sqrt&#x27;, &#x27;log2&#x27;,\n",
       "                                                         None],\n",
       "                                        &#x27;n_estimators&#x27;: [100, 200, 300, 400]},\n",
       "                   random_state=1, verbose=2)</pre></div></div></div><div class=\"sk-parallel\"><div class=\"sk-parallel-item\"><div class=\"sk-item\"><div class=\"sk-label-container\"><div class=\"sk-label sk-toggleable\"><input class=\"sk-toggleable__control sk-hidden--visually\" id=\"sk-estimator-id-2\" type=\"checkbox\" ><label for=\"sk-estimator-id-2\" class=\"sk-toggleable__label sk-toggleable__label-arrow\">estimator: RandomForestClassifier</label><div class=\"sk-toggleable__content\"><pre>RandomForestClassifier()</pre></div></div></div><div class=\"sk-serial\"><div class=\"sk-item\"><div class=\"sk-estimator sk-toggleable\"><input class=\"sk-toggleable__control sk-hidden--visually\" id=\"sk-estimator-id-3\" type=\"checkbox\" ><label for=\"sk-estimator-id-3\" class=\"sk-toggleable__label sk-toggleable__label-arrow\">RandomForestClassifier</label><div class=\"sk-toggleable__content\"><pre>RandomForestClassifier()</pre></div></div></div></div></div></div></div></div></div></div>"
      ],
      "text/plain": [
       "RandomizedSearchCV(cv=3, estimator=RandomForestClassifier(), n_iter=100,\n",
       "                   param_distributions={'criterion': ['gini', 'entropy',\n",
       "                                                      'log_loss'],\n",
       "                                        'max_features': ['auto', 'sqrt', 'log2',\n",
       "                                                         None],\n",
       "                                        'n_estimators': [100, 200, 300, 400]},\n",
       "                   random_state=1, verbose=2)"
      ]
     },
     "execution_count": 32,
     "metadata": {},
     "output_type": "execute_result"
    }
   ],
   "source": [
    "from sklearn.model_selection import RandomizedSearchCV\n",
    "\n",
    "# Create the random grid search to use to find the best hyperparameters\n",
    "random_grid = {'n_estimators': [100,200,300,400],\n",
    "               'max_features': ['auto','sqrt', 'log2', None],\n",
    "                'criterion':['gini','entropy','log_loss']}\n",
    "\n",
    "rf = RandomForestClassifier()\n",
    "# using 4 fold of cross validation, radom search parameters with 100 different \n",
    "# combinations. Use all avaiable cores.\n",
    "\n",
    "rf_search = RandomizedSearchCV(rf, random_grid,\n",
    "               n_iter = 100, cv =3, verbose = 2, random_state = 1)\n",
    "\n",
    "# fit to model\n",
    "\n",
    "rf_search.fit(X_train, y_train)"
   ]
  },
  {
   "cell_type": "code",
   "execution_count": 33,
   "id": "2b5e4ce8",
   "metadata": {},
   "outputs": [
    {
     "name": "stdout",
     "output_type": "stream",
     "text": [
      "{'n_estimators': 200, 'max_features': 'auto', 'criterion': 'gini'}\n",
      "0.5758713128333287\n"
     ]
    }
   ],
   "source": [
    "print(rf_search.best_params_)\n",
    "print(rf_search.best_score_)"
   ]
  },
  {
   "cell_type": "markdown",
   "id": "bc651424",
   "metadata": {},
   "source": [
    "## Run RandomForestClassifier with best parameters"
   ]
  },
  {
   "cell_type": "code",
   "execution_count": 43,
   "id": "4b8ba558",
   "metadata": {},
   "outputs": [
    {
     "data": {
      "text/plain": [
       "array([[ 50, 244],\n",
       "       [ 29, 330]], dtype=int64)"
      ]
     },
     "execution_count": 43,
     "metadata": {},
     "output_type": "execute_result"
    }
   ],
   "source": [
    "RandomForestClassifierPred = rf_search.predict(X_test_scale)\n",
    "confusion_matrix(y_test, y_pred)"
   ]
  },
  {
   "cell_type": "code",
   "execution_count": null,
   "id": "62503828",
   "metadata": {},
   "outputs": [],
   "source": [
    "# Calculated the balanced accuracy score\n",
    "from sklearn.metrics import accuracy_score\n",
    "\n",
    "accuracy_score(y_test, y_pred)"
   ]
  },
  {
   "cell_type": "code",
   "execution_count": 44,
   "id": "6a39c3a2",
   "metadata": {},
   "outputs": [
    {
     "name": "stdout",
     "output_type": "stream",
     "text": [
      "              precision    recall  f1-score   support\n",
      "\n",
      "        down       0.49      0.39      0.44       294\n",
      "          up       0.57      0.66      0.61       359\n",
      "\n",
      "    accuracy                           0.54       653\n",
      "   macro avg       0.53      0.53      0.52       653\n",
      "weighted avg       0.53      0.54      0.53       653\n",
      "\n"
     ]
    }
   ],
   "source": [
    "# Print classification report\n",
    "print(classification_report(y_test, randomForestGridTuned))"
   ]
  },
  {
   "cell_type": "markdown",
   "id": "fc9428c9",
   "metadata": {},
   "source": [
    "## With SMOTE"
   ]
  },
  {
   "cell_type": "code",
   "execution_count": 45,
   "id": "b06a34f1",
   "metadata": {},
   "outputs": [
    {
     "data": {
      "text/plain": [
       "Counter({'down': 1089, 'up': 1089})"
      ]
     },
     "execution_count": 45,
     "metadata": {},
     "output_type": "execute_result"
    }
   ],
   "source": [
    "# Resample the training data with SMOTE\n",
    "from imblearn.over_sampling import SMOTE\n",
    "\n",
    "X_resampled, y_resampled = SMOTE(random_state=1, sampling_strategy='auto').fit_resample(\n",
    "    X_train_scale, y_train)\n",
    "\n",
    "Counter(y_resampled['Price_Status'])"
   ]
  },
  {
   "cell_type": "code",
   "execution_count": 46,
   "id": "9b537019",
   "metadata": {},
   "outputs": [
    {
     "name": "stdout",
     "output_type": "stream",
     "text": [
      "Fitting 3 folds for each of 48 candidates, totalling 144 fits\n",
      "[CV] END criterion=gini, max_features=auto, n_estimators=100; total time=   0.5s\n",
      "[CV] END criterion=gini, max_features=auto, n_estimators=100; total time=   1.0s\n",
      "[CV] END criterion=gini, max_features=auto, n_estimators=100; total time=   0.5s\n",
      "[CV] END criterion=gini, max_features=auto, n_estimators=200; total time=   0.9s\n",
      "[CV] END criterion=gini, max_features=auto, n_estimators=200; total time=   0.9s\n",
      "[CV] END criterion=gini, max_features=auto, n_estimators=200; total time=   0.9s\n",
      "[CV] END criterion=gini, max_features=auto, n_estimators=300; total time=   1.4s\n",
      "[CV] END criterion=gini, max_features=auto, n_estimators=300; total time=   1.4s\n",
      "[CV] END criterion=gini, max_features=auto, n_estimators=300; total time=   2.9s\n",
      "[CV] END criterion=gini, max_features=auto, n_estimators=400; total time=   3.0s\n",
      "[CV] END criterion=gini, max_features=auto, n_estimators=400; total time=   7.2s\n",
      "[CV] END criterion=gini, max_features=auto, n_estimators=400; total time=   5.7s\n",
      "[CV] END criterion=gini, max_features=sqrt, n_estimators=100; total time=   1.3s\n",
      "[CV] END criterion=gini, max_features=sqrt, n_estimators=100; total time=   0.5s\n",
      "[CV] END criterion=gini, max_features=sqrt, n_estimators=100; total time=   0.4s\n",
      "[CV] END criterion=gini, max_features=sqrt, n_estimators=200; total time=   1.1s\n",
      "[CV] END criterion=gini, max_features=sqrt, n_estimators=200; total time=   0.9s\n",
      "[CV] END criterion=gini, max_features=sqrt, n_estimators=200; total time=   1.2s\n",
      "[CV] END criterion=gini, max_features=sqrt, n_estimators=300; total time=   4.7s\n",
      "[CV] END criterion=gini, max_features=sqrt, n_estimators=300; total time=   1.7s\n",
      "[CV] END criterion=gini, max_features=sqrt, n_estimators=300; total time=   1.6s\n",
      "[CV] END criterion=gini, max_features=sqrt, n_estimators=400; total time=   3.1s\n",
      "[CV] END criterion=gini, max_features=sqrt, n_estimators=400; total time=   5.2s\n",
      "[CV] END criterion=gini, max_features=sqrt, n_estimators=400; total time=   3.3s\n",
      "[CV] END criterion=gini, max_features=log2, n_estimators=100; total time=   0.3s\n",
      "[CV] END criterion=gini, max_features=log2, n_estimators=100; total time=   0.3s\n",
      "[CV] END criterion=gini, max_features=log2, n_estimators=100; total time=   0.3s\n",
      "[CV] END criterion=gini, max_features=log2, n_estimators=200; total time=   0.8s\n",
      "[CV] END criterion=gini, max_features=log2, n_estimators=200; total time=   0.8s\n",
      "[CV] END criterion=gini, max_features=log2, n_estimators=200; total time=   0.8s\n",
      "[CV] END criterion=gini, max_features=log2, n_estimators=300; total time=   1.3s\n",
      "[CV] END criterion=gini, max_features=log2, n_estimators=300; total time=   2.4s\n",
      "[CV] END criterion=gini, max_features=log2, n_estimators=300; total time=   1.7s\n",
      "[CV] END criterion=gini, max_features=log2, n_estimators=400; total time=   2.0s\n",
      "[CV] END criterion=gini, max_features=log2, n_estimators=400; total time=   1.7s\n",
      "[CV] END criterion=gini, max_features=log2, n_estimators=400; total time=   2.0s\n",
      "[CV] END criterion=gini, max_features=None, n_estimators=100; total time=   1.6s\n",
      "[CV] END criterion=gini, max_features=None, n_estimators=100; total time=   2.0s\n",
      "[CV] END criterion=gini, max_features=None, n_estimators=100; total time=   3.2s\n",
      "[CV] END criterion=gini, max_features=None, n_estimators=200; total time=   7.0s\n",
      "[CV] END criterion=gini, max_features=None, n_estimators=200; total time=   5.1s\n",
      "[CV] END criterion=gini, max_features=None, n_estimators=200; total time=   3.2s\n",
      "[CV] END criterion=gini, max_features=None, n_estimators=300; total time=   5.9s\n",
      "[CV] END criterion=gini, max_features=None, n_estimators=300; total time=   5.7s\n",
      "[CV] END criterion=gini, max_features=None, n_estimators=300; total time=   5.8s\n",
      "[CV] END criterion=gini, max_features=None, n_estimators=400; total time=   5.9s\n",
      "[CV] END criterion=gini, max_features=None, n_estimators=400; total time=   5.6s\n",
      "[CV] END criterion=gini, max_features=None, n_estimators=400; total time=   6.1s\n",
      "[CV] END criterion=entropy, max_features=auto, n_estimators=100; total time=   0.5s\n",
      "[CV] END criterion=entropy, max_features=auto, n_estimators=100; total time=   0.5s\n",
      "[CV] END criterion=entropy, max_features=auto, n_estimators=100; total time=   0.5s\n",
      "[CV] END criterion=entropy, max_features=auto, n_estimators=200; total time=   1.1s\n",
      "[CV] END criterion=entropy, max_features=auto, n_estimators=200; total time=   1.1s\n",
      "[CV] END criterion=entropy, max_features=auto, n_estimators=200; total time=   1.1s\n",
      "[CV] END criterion=entropy, max_features=auto, n_estimators=300; total time=   4.7s\n",
      "[CV] END criterion=entropy, max_features=auto, n_estimators=300; total time=   2.0s\n",
      "[CV] END criterion=entropy, max_features=auto, n_estimators=300; total time=   2.3s\n",
      "[CV] END criterion=entropy, max_features=auto, n_estimators=400; total time=   3.0s\n",
      "[CV] END criterion=entropy, max_features=auto, n_estimators=400; total time=   3.1s\n",
      "[CV] END criterion=entropy, max_features=auto, n_estimators=400; total time=   2.5s\n",
      "[CV] END criterion=entropy, max_features=sqrt, n_estimators=100; total time=   0.5s\n",
      "[CV] END criterion=entropy, max_features=sqrt, n_estimators=100; total time=   0.5s\n",
      "[CV] END criterion=entropy, max_features=sqrt, n_estimators=100; total time=   0.5s\n",
      "[CV] END criterion=entropy, max_features=sqrt, n_estimators=200; total time=   1.2s\n",
      "[CV] END criterion=entropy, max_features=sqrt, n_estimators=200; total time=   1.1s\n",
      "[CV] END criterion=entropy, max_features=sqrt, n_estimators=200; total time=   1.1s\n",
      "[CV] END criterion=entropy, max_features=sqrt, n_estimators=300; total time=   1.7s\n",
      "[CV] END criterion=entropy, max_features=sqrt, n_estimators=300; total time=   1.7s\n",
      "[CV] END criterion=entropy, max_features=sqrt, n_estimators=300; total time=   1.7s\n",
      "[CV] END criterion=entropy, max_features=sqrt, n_estimators=400; total time=   2.4s\n",
      "[CV] END criterion=entropy, max_features=sqrt, n_estimators=400; total time=   2.2s\n",
      "[CV] END criterion=entropy, max_features=sqrt, n_estimators=400; total time=   2.3s\n",
      "[CV] END criterion=entropy, max_features=log2, n_estimators=100; total time=   0.4s\n",
      "[CV] END criterion=entropy, max_features=log2, n_estimators=100; total time=   0.4s\n",
      "[CV] END criterion=entropy, max_features=log2, n_estimators=100; total time=   0.5s\n",
      "[CV] END criterion=entropy, max_features=log2, n_estimators=200; total time=   1.0s\n",
      "[CV] END criterion=entropy, max_features=log2, n_estimators=200; total time=   1.1s\n",
      "[CV] END criterion=entropy, max_features=log2, n_estimators=200; total time=   1.3s\n",
      "[CV] END criterion=entropy, max_features=log2, n_estimators=300; total time=   1.7s\n",
      "[CV] END criterion=entropy, max_features=log2, n_estimators=300; total time=   1.5s\n",
      "[CV] END criterion=entropy, max_features=log2, n_estimators=300; total time=   1.6s\n",
      "[CV] END criterion=entropy, max_features=log2, n_estimators=400; total time=   2.1s\n",
      "[CV] END criterion=entropy, max_features=log2, n_estimators=400; total time=   2.2s\n",
      "[CV] END criterion=entropy, max_features=log2, n_estimators=400; total time=   2.4s\n",
      "[CV] END criterion=entropy, max_features=None, n_estimators=100; total time=   3.0s\n",
      "[CV] END criterion=entropy, max_features=None, n_estimators=100; total time=   2.4s\n",
      "[CV] END criterion=entropy, max_features=None, n_estimators=100; total time=   3.6s\n",
      "[CV] END criterion=entropy, max_features=None, n_estimators=200; total time=   8.7s\n",
      "[CV] END criterion=entropy, max_features=None, n_estimators=200; total time=   4.9s\n",
      "[CV] END criterion=entropy, max_features=None, n_estimators=200; total time=   5.6s\n",
      "[CV] END criterion=entropy, max_features=None, n_estimators=300; total time=   7.9s\n",
      "[CV] END criterion=entropy, max_features=None, n_estimators=300; total time=   6.9s\n",
      "[CV] END criterion=entropy, max_features=None, n_estimators=300; total time=   8.2s\n",
      "[CV] END criterion=entropy, max_features=None, n_estimators=400; total time=   9.8s\n",
      "[CV] END criterion=entropy, max_features=None, n_estimators=400; total time=   9.7s\n",
      "[CV] END criterion=entropy, max_features=None, n_estimators=400; total time=  10.5s\n",
      "[CV] END criterion=log_loss, max_features=auto, n_estimators=100; total time=   0.5s\n",
      "[CV] END criterion=log_loss, max_features=auto, n_estimators=100; total time=   0.5s\n",
      "[CV] END criterion=log_loss, max_features=auto, n_estimators=100; total time=   0.5s\n"
     ]
    },
    {
     "name": "stdout",
     "output_type": "stream",
     "text": [
      "[CV] END criterion=log_loss, max_features=auto, n_estimators=200; total time=   1.2s\n",
      "[CV] END criterion=log_loss, max_features=auto, n_estimators=200; total time=   1.1s\n",
      "[CV] END criterion=log_loss, max_features=auto, n_estimators=200; total time=   1.1s\n",
      "[CV] END criterion=log_loss, max_features=auto, n_estimators=300; total time=   1.8s\n",
      "[CV] END criterion=log_loss, max_features=auto, n_estimators=300; total time=   1.8s\n",
      "[CV] END criterion=log_loss, max_features=auto, n_estimators=300; total time=   1.7s\n",
      "[CV] END criterion=log_loss, max_features=auto, n_estimators=400; total time=   3.8s\n",
      "[CV] END criterion=log_loss, max_features=auto, n_estimators=400; total time=   4.6s\n",
      "[CV] END criterion=log_loss, max_features=auto, n_estimators=400; total time=  10.2s\n",
      "[CV] END criterion=log_loss, max_features=sqrt, n_estimators=100; total time=   2.2s\n",
      "[CV] END criterion=log_loss, max_features=sqrt, n_estimators=100; total time=   2.1s\n",
      "[CV] END criterion=log_loss, max_features=sqrt, n_estimators=100; total time=   2.0s\n",
      "[CV] END criterion=log_loss, max_features=sqrt, n_estimators=200; total time=   3.8s\n",
      "[CV] END criterion=log_loss, max_features=sqrt, n_estimators=200; total time=   1.1s\n",
      "[CV] END criterion=log_loss, max_features=sqrt, n_estimators=200; total time=   1.1s\n",
      "[CV] END criterion=log_loss, max_features=sqrt, n_estimators=300; total time=   1.7s\n",
      "[CV] END criterion=log_loss, max_features=sqrt, n_estimators=300; total time=   1.7s\n",
      "[CV] END criterion=log_loss, max_features=sqrt, n_estimators=300; total time=   1.7s\n",
      "[CV] END criterion=log_loss, max_features=sqrt, n_estimators=400; total time=   2.4s\n",
      "[CV] END criterion=log_loss, max_features=sqrt, n_estimators=400; total time=   2.3s\n",
      "[CV] END criterion=log_loss, max_features=sqrt, n_estimators=400; total time=   2.3s\n",
      "[CV] END criterion=log_loss, max_features=log2, n_estimators=100; total time=   0.4s\n",
      "[CV] END criterion=log_loss, max_features=log2, n_estimators=100; total time=   0.4s\n",
      "[CV] END criterion=log_loss, max_features=log2, n_estimators=100; total time=   0.5s\n",
      "[CV] END criterion=log_loss, max_features=log2, n_estimators=200; total time=   1.0s\n",
      "[CV] END criterion=log_loss, max_features=log2, n_estimators=200; total time=   0.9s\n",
      "[CV] END criterion=log_loss, max_features=log2, n_estimators=200; total time=   0.9s\n",
      "[CV] END criterion=log_loss, max_features=log2, n_estimators=300; total time=   1.5s\n",
      "[CV] END criterion=log_loss, max_features=log2, n_estimators=300; total time=   1.6s\n",
      "[CV] END criterion=log_loss, max_features=log2, n_estimators=300; total time=   1.4s\n",
      "[CV] END criterion=log_loss, max_features=log2, n_estimators=400; total time=   2.0s\n",
      "[CV] END criterion=log_loss, max_features=log2, n_estimators=400; total time=   2.0s\n",
      "[CV] END criterion=log_loss, max_features=log2, n_estimators=400; total time=   2.0s\n",
      "[CV] END criterion=log_loss, max_features=None, n_estimators=100; total time=   2.4s\n",
      "[CV] END criterion=log_loss, max_features=None, n_estimators=100; total time=   2.2s\n",
      "[CV] END criterion=log_loss, max_features=None, n_estimators=100; total time=   2.5s\n",
      "[CV] END criterion=log_loss, max_features=None, n_estimators=200; total time=   4.8s\n",
      "[CV] END criterion=log_loss, max_features=None, n_estimators=200; total time=   4.4s\n",
      "[CV] END criterion=log_loss, max_features=None, n_estimators=200; total time=   8.2s\n",
      "[CV] END criterion=log_loss, max_features=None, n_estimators=300; total time=   9.8s\n",
      "[CV] END criterion=log_loss, max_features=None, n_estimators=300; total time=   8.2s\n",
      "[CV] END criterion=log_loss, max_features=None, n_estimators=300; total time=   8.1s\n",
      "[CV] END criterion=log_loss, max_features=None, n_estimators=400; total time=  11.6s\n",
      "[CV] END criterion=log_loss, max_features=None, n_estimators=400; total time=  10.4s\n",
      "[CV] END criterion=log_loss, max_features=None, n_estimators=400; total time=  10.2s\n"
     ]
    },
    {
     "data": {
      "text/html": [
       "<style>#sk-container-id-3 {color: black;background-color: white;}#sk-container-id-3 pre{padding: 0;}#sk-container-id-3 div.sk-toggleable {background-color: white;}#sk-container-id-3 label.sk-toggleable__label {cursor: pointer;display: block;width: 100%;margin-bottom: 0;padding: 0.3em;box-sizing: border-box;text-align: center;}#sk-container-id-3 label.sk-toggleable__label-arrow:before {content: \"▸\";float: left;margin-right: 0.25em;color: #696969;}#sk-container-id-3 label.sk-toggleable__label-arrow:hover:before {color: black;}#sk-container-id-3 div.sk-estimator:hover label.sk-toggleable__label-arrow:before {color: black;}#sk-container-id-3 div.sk-toggleable__content {max-height: 0;max-width: 0;overflow: hidden;text-align: left;background-color: #f0f8ff;}#sk-container-id-3 div.sk-toggleable__content pre {margin: 0.2em;color: black;border-radius: 0.25em;background-color: #f0f8ff;}#sk-container-id-3 input.sk-toggleable__control:checked~div.sk-toggleable__content {max-height: 200px;max-width: 100%;overflow: auto;}#sk-container-id-3 input.sk-toggleable__control:checked~label.sk-toggleable__label-arrow:before {content: \"▾\";}#sk-container-id-3 div.sk-estimator input.sk-toggleable__control:checked~label.sk-toggleable__label {background-color: #d4ebff;}#sk-container-id-3 div.sk-label input.sk-toggleable__control:checked~label.sk-toggleable__label {background-color: #d4ebff;}#sk-container-id-3 input.sk-hidden--visually {border: 0;clip: rect(1px 1px 1px 1px);clip: rect(1px, 1px, 1px, 1px);height: 1px;margin: -1px;overflow: hidden;padding: 0;position: absolute;width: 1px;}#sk-container-id-3 div.sk-estimator {font-family: monospace;background-color: #f0f8ff;border: 1px dotted black;border-radius: 0.25em;box-sizing: border-box;margin-bottom: 0.5em;}#sk-container-id-3 div.sk-estimator:hover {background-color: #d4ebff;}#sk-container-id-3 div.sk-parallel-item::after {content: \"\";width: 100%;border-bottom: 1px solid gray;flex-grow: 1;}#sk-container-id-3 div.sk-label:hover label.sk-toggleable__label {background-color: #d4ebff;}#sk-container-id-3 div.sk-serial::before {content: \"\";position: absolute;border-left: 1px solid gray;box-sizing: border-box;top: 0;bottom: 0;left: 50%;z-index: 0;}#sk-container-id-3 div.sk-serial {display: flex;flex-direction: column;align-items: center;background-color: white;padding-right: 0.2em;padding-left: 0.2em;position: relative;}#sk-container-id-3 div.sk-item {position: relative;z-index: 1;}#sk-container-id-3 div.sk-parallel {display: flex;align-items: stretch;justify-content: center;background-color: white;position: relative;}#sk-container-id-3 div.sk-item::before, #sk-container-id-3 div.sk-parallel-item::before {content: \"\";position: absolute;border-left: 1px solid gray;box-sizing: border-box;top: 0;bottom: 0;left: 50%;z-index: -1;}#sk-container-id-3 div.sk-parallel-item {display: flex;flex-direction: column;z-index: 1;position: relative;background-color: white;}#sk-container-id-3 div.sk-parallel-item:first-child::after {align-self: flex-end;width: 50%;}#sk-container-id-3 div.sk-parallel-item:last-child::after {align-self: flex-start;width: 50%;}#sk-container-id-3 div.sk-parallel-item:only-child::after {width: 0;}#sk-container-id-3 div.sk-dashed-wrapped {border: 1px dashed gray;margin: 0 0.4em 0.5em 0.4em;box-sizing: border-box;padding-bottom: 0.4em;background-color: white;}#sk-container-id-3 div.sk-label label {font-family: monospace;font-weight: bold;display: inline-block;line-height: 1.2em;}#sk-container-id-3 div.sk-label-container {text-align: center;}#sk-container-id-3 div.sk-container {/* jupyter's `normalize.less` sets `[hidden] { display: none; }` but bootstrap.min.css set `[hidden] { display: none !important; }` so we also need the `!important` here to be able to override the default hidden behavior on the sphinx rendered scikit-learn.org. See: https://github.com/scikit-learn/scikit-learn/issues/21755 */display: inline-block !important;position: relative;}#sk-container-id-3 div.sk-text-repr-fallback {display: none;}</style><div id=\"sk-container-id-3\" class=\"sk-top-container\"><div class=\"sk-text-repr-fallback\"><pre>RandomizedSearchCV(cv=3, estimator=RandomForestClassifier(), n_iter=100,\n",
       "                   param_distributions={&#x27;criterion&#x27;: [&#x27;gini&#x27;, &#x27;entropy&#x27;,\n",
       "                                                      &#x27;log_loss&#x27;],\n",
       "                                        &#x27;max_features&#x27;: [&#x27;auto&#x27;, &#x27;sqrt&#x27;, &#x27;log2&#x27;,\n",
       "                                                         None],\n",
       "                                        &#x27;n_estimators&#x27;: [100, 200, 300, 400]},\n",
       "                   random_state=1, verbose=2)</pre><b>In a Jupyter environment, please rerun this cell to show the HTML representation or trust the notebook. <br />On GitHub, the HTML representation is unable to render, please try loading this page with nbviewer.org.</b></div><div class=\"sk-container\" hidden><div class=\"sk-item sk-dashed-wrapped\"><div class=\"sk-label-container\"><div class=\"sk-label sk-toggleable\"><input class=\"sk-toggleable__control sk-hidden--visually\" id=\"sk-estimator-id-5\" type=\"checkbox\" ><label for=\"sk-estimator-id-5\" class=\"sk-toggleable__label sk-toggleable__label-arrow\">RandomizedSearchCV</label><div class=\"sk-toggleable__content\"><pre>RandomizedSearchCV(cv=3, estimator=RandomForestClassifier(), n_iter=100,\n",
       "                   param_distributions={&#x27;criterion&#x27;: [&#x27;gini&#x27;, &#x27;entropy&#x27;,\n",
       "                                                      &#x27;log_loss&#x27;],\n",
       "                                        &#x27;max_features&#x27;: [&#x27;auto&#x27;, &#x27;sqrt&#x27;, &#x27;log2&#x27;,\n",
       "                                                         None],\n",
       "                                        &#x27;n_estimators&#x27;: [100, 200, 300, 400]},\n",
       "                   random_state=1, verbose=2)</pre></div></div></div><div class=\"sk-parallel\"><div class=\"sk-parallel-item\"><div class=\"sk-item\"><div class=\"sk-label-container\"><div class=\"sk-label sk-toggleable\"><input class=\"sk-toggleable__control sk-hidden--visually\" id=\"sk-estimator-id-6\" type=\"checkbox\" ><label for=\"sk-estimator-id-6\" class=\"sk-toggleable__label sk-toggleable__label-arrow\">estimator: RandomForestClassifier</label><div class=\"sk-toggleable__content\"><pre>RandomForestClassifier()</pre></div></div></div><div class=\"sk-serial\"><div class=\"sk-item\"><div class=\"sk-estimator sk-toggleable\"><input class=\"sk-toggleable__control sk-hidden--visually\" id=\"sk-estimator-id-7\" type=\"checkbox\" ><label for=\"sk-estimator-id-7\" class=\"sk-toggleable__label sk-toggleable__label-arrow\">RandomForestClassifier</label><div class=\"sk-toggleable__content\"><pre>RandomForestClassifier()</pre></div></div></div></div></div></div></div></div></div></div>"
      ],
      "text/plain": [
       "RandomizedSearchCV(cv=3, estimator=RandomForestClassifier(), n_iter=100,\n",
       "                   param_distributions={'criterion': ['gini', 'entropy',\n",
       "                                                      'log_loss'],\n",
       "                                        'max_features': ['auto', 'sqrt', 'log2',\n",
       "                                                         None],\n",
       "                                        'n_estimators': [100, 200, 300, 400]},\n",
       "                   random_state=1, verbose=2)"
      ]
     },
     "execution_count": 46,
     "metadata": {},
     "output_type": "execute_result"
    }
   ],
   "source": [
    "# Train the random forest classifier model using the resampled data\n",
    "model_SMOTE =rf_search\n",
    "\n",
    "model_SMOTE.fit(X_resampled, y_resampled)"
   ]
  },
  {
   "cell_type": "code",
   "execution_count": 47,
   "id": "4c1b6d54",
   "metadata": {},
   "outputs": [
    {
     "data": {
      "text/plain": [
       "array([[287,   7],\n",
       "       [352,   7]], dtype=int64)"
      ]
     },
     "execution_count": 47,
     "metadata": {},
     "output_type": "execute_result"
    }
   ],
   "source": [
    "# Display the confusion matrix\n",
    "from sklearn.metrics import confusion_matrix\n",
    "\n",
    "y_pred = rf_model.predict(X_test)\n",
    "confusion_matrix(y_test, y_pred)\n"
   ]
  },
  {
   "cell_type": "code",
   "execution_count": 48,
   "id": "019b0fe6",
   "metadata": {},
   "outputs": [
    {
     "data": {
      "text/plain": [
       "0.497844541716408"
      ]
     },
     "execution_count": 48,
     "metadata": {},
     "output_type": "execute_result"
    }
   ],
   "source": [
    "# Calculated the balanced accuracy score\n",
    "from sklearn.metrics import balanced_accuracy_score\n",
    "\n",
    "balanced_accuracy_score(y_test, y_pred)"
   ]
  },
  {
   "cell_type": "code",
   "execution_count": 49,
   "id": "771f0c67",
   "metadata": {},
   "outputs": [
    {
     "name": "stdout",
     "output_type": "stream",
     "text": [
      "              precision    recall  f1-score   support\n",
      "\n",
      "        down       0.45      0.98      0.62       294\n",
      "          up       0.50      0.02      0.04       359\n",
      "\n",
      "    accuracy                           0.45       653\n",
      "   macro avg       0.47      0.50      0.33       653\n",
      "weighted avg       0.48      0.45      0.30       653\n",
      "\n"
     ]
    }
   ],
   "source": [
    "# Print the imbalanced classification report\n",
    "from sklearn.metrics import classification_report\n",
    "print(classification_report(y_test, y_pred))"
   ]
  },
  {
   "cell_type": "code",
   "execution_count": null,
   "id": "356b7ab0",
   "metadata": {},
   "outputs": [],
   "source": []
  },
  {
   "cell_type": "code",
   "execution_count": null,
   "id": "0be6b60d",
   "metadata": {},
   "outputs": [],
   "source": []
  }
 ],
 "metadata": {
  "kernelspec": {
   "display_name": "mlenv3",
   "language": "python",
   "name": "mlenv3"
  },
  "language_info": {
   "codemirror_mode": {
    "name": "ipython",
    "version": 3
   },
   "file_extension": ".py",
   "mimetype": "text/x-python",
   "name": "python",
   "nbconvert_exporter": "python",
   "pygments_lexer": "ipython3",
   "version": "3.8.13"
  }
 },
 "nbformat": 4,
 "nbformat_minor": 5
}
