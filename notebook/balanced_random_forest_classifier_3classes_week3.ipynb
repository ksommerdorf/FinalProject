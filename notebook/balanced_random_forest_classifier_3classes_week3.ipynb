{
 "cells": [
  {
   "cell_type": "code",
   "execution_count": 94,
   "id": "10ba8193",
   "metadata": {},
   "outputs": [],
   "source": [
    "import warnings\n",
    "warnings.filterwarnings('ignore')\n",
    "import numpy as np\n",
    "import pandas as pd\n",
    "from pathlib import Path\n",
    "from collections import Counter\n",
    "import matplotlib.pyplot as plt\n",
    "import seaborn as sns"
   ]
  },
  {
   "cell_type": "code",
   "execution_count": 95,
   "id": "09981171",
   "metadata": {},
   "outputs": [],
   "source": [
    "from sklearn.metrics import balanced_accuracy_score\n",
    "from sklearn.metrics import confusion_matrix\n",
    "from sklearn.metrics import classification_report"
   ]
  },
  {
   "cell_type": "markdown",
   "id": "eb5f269e",
   "metadata": {},
   "source": [
    "Read the CSV and Perform Basic Data Cleaning"
   ]
  },
  {
   "cell_type": "code",
   "execution_count": 105,
   "id": "d46a365d",
   "metadata": {},
   "outputs": [
    {
     "data": {
      "text/html": [
       "<div>\n",
       "<style scoped>\n",
       "    .dataframe tbody tr th:only-of-type {\n",
       "        vertical-align: middle;\n",
       "    }\n",
       "\n",
       "    .dataframe tbody tr th {\n",
       "        vertical-align: top;\n",
       "    }\n",
       "\n",
       "    .dataframe thead th {\n",
       "        text-align: right;\n",
       "    }\n",
       "</style>\n",
       "<table border=\"1\" class=\"dataframe\">\n",
       "  <thead>\n",
       "    <tr style=\"text-align: right;\">\n",
       "      <th></th>\n",
       "      <th>Date</th>\n",
       "      <th>Year</th>\n",
       "      <th>County</th>\n",
       "      <th>median_listing_price</th>\n",
       "      <th>active_listing_count</th>\n",
       "      <th>median_days_on_market</th>\n",
       "      <th>new_listing_count</th>\n",
       "      <th>price_increased_count</th>\n",
       "      <th>price_reduced_count</th>\n",
       "      <th>median_square_feet</th>\n",
       "      <th>average_listing_price</th>\n",
       "      <th>total_listing_count</th>\n",
       "      <th>violent_crime_rate</th>\n",
       "      <th>30_Year_Fixed_Rate</th>\n",
       "      <th>Number_of_Schools</th>\n",
       "      <th>median_listing_price_mm</th>\n",
       "      <th>Number_of_Parks</th>\n",
       "    </tr>\n",
       "  </thead>\n",
       "  <tbody>\n",
       "    <tr>\n",
       "      <th>0</th>\n",
       "      <td>2022-06</td>\n",
       "      <td>2022</td>\n",
       "      <td>Alamance</td>\n",
       "      <td>382500</td>\n",
       "      <td>298</td>\n",
       "      <td>18</td>\n",
       "      <td>452</td>\n",
       "      <td>12</td>\n",
       "      <td>108</td>\n",
       "      <td>2112</td>\n",
       "      <td>443362</td>\n",
       "      <td>644</td>\n",
       "      <td>NaN</td>\n",
       "      <td>5.52</td>\n",
       "      <td>NaN</td>\n",
       "      <td>0.034063</td>\n",
       "      <td>54.0</td>\n",
       "    </tr>\n",
       "    <tr>\n",
       "      <th>2596</th>\n",
       "      <td>2020-04</td>\n",
       "      <td>2020</td>\n",
       "      <td>Alamance</td>\n",
       "      <td>267450</td>\n",
       "      <td>538</td>\n",
       "      <td>46</td>\n",
       "      <td>276</td>\n",
       "      <td>24</td>\n",
       "      <td>56</td>\n",
       "      <td>2096</td>\n",
       "      <td>323437</td>\n",
       "      <td>736</td>\n",
       "      <td>505.5</td>\n",
       "      <td>3.31</td>\n",
       "      <td>NaN</td>\n",
       "      <td>0.019071</td>\n",
       "      <td>54.0</td>\n",
       "    </tr>\n",
       "    <tr>\n",
       "      <th>2696</th>\n",
       "      <td>2020-03</td>\n",
       "      <td>2020</td>\n",
       "      <td>Alamance</td>\n",
       "      <td>262445</td>\n",
       "      <td>505</td>\n",
       "      <td>48</td>\n",
       "      <td>304</td>\n",
       "      <td>16</td>\n",
       "      <td>84</td>\n",
       "      <td>2036</td>\n",
       "      <td>306255</td>\n",
       "      <td>718</td>\n",
       "      <td>505.5</td>\n",
       "      <td>3.45</td>\n",
       "      <td>NaN</td>\n",
       "      <td>0.029600</td>\n",
       "      <td>54.0</td>\n",
       "    </tr>\n",
       "    <tr>\n",
       "      <th>2796</th>\n",
       "      <td>2020-02</td>\n",
       "      <td>2020</td>\n",
       "      <td>Alamance</td>\n",
       "      <td>254900</td>\n",
       "      <td>517</td>\n",
       "      <td>66</td>\n",
       "      <td>248</td>\n",
       "      <td>8</td>\n",
       "      <td>88</td>\n",
       "      <td>1988</td>\n",
       "      <td>301949</td>\n",
       "      <td>714</td>\n",
       "      <td>505.5</td>\n",
       "      <td>3.47</td>\n",
       "      <td>NaN</td>\n",
       "      <td>0.032828</td>\n",
       "      <td>54.0</td>\n",
       "    </tr>\n",
       "    <tr>\n",
       "      <th>2896</th>\n",
       "      <td>2020-01</td>\n",
       "      <td>2020</td>\n",
       "      <td>Alamance</td>\n",
       "      <td>246798</td>\n",
       "      <td>566</td>\n",
       "      <td>75</td>\n",
       "      <td>256</td>\n",
       "      <td>12</td>\n",
       "      <td>172</td>\n",
       "      <td>1953</td>\n",
       "      <td>288490</td>\n",
       "      <td>743</td>\n",
       "      <td>505.5</td>\n",
       "      <td>3.62</td>\n",
       "      <td>NaN</td>\n",
       "      <td>0.037271</td>\n",
       "      <td>54.0</td>\n",
       "    </tr>\n",
       "  </tbody>\n",
       "</table>\n",
       "</div>"
      ],
      "text/plain": [
       "         Date  Year    County  median_listing_price  active_listing_count  \\\n",
       "0     2022-06  2022  Alamance                382500                   298   \n",
       "2596  2020-04  2020  Alamance                267450                   538   \n",
       "2696  2020-03  2020  Alamance                262445                   505   \n",
       "2796  2020-02  2020  Alamance                254900                   517   \n",
       "2896  2020-01  2020  Alamance                246798                   566   \n",
       "\n",
       "      median_days_on_market  new_listing_count  price_increased_count  \\\n",
       "0                        18                452                     12   \n",
       "2596                     46                276                     24   \n",
       "2696                     48                304                     16   \n",
       "2796                     66                248                      8   \n",
       "2896                     75                256                     12   \n",
       "\n",
       "      price_reduced_count  median_square_feet  average_listing_price  \\\n",
       "0                     108                2112                 443362   \n",
       "2596                   56                2096                 323437   \n",
       "2696                   84                2036                 306255   \n",
       "2796                   88                1988                 301949   \n",
       "2896                  172                1953                 288490   \n",
       "\n",
       "      total_listing_count violent_crime_rate  30_Year_Fixed_Rate  \\\n",
       "0                     644                NaN                5.52   \n",
       "2596                  736              505.5                3.31   \n",
       "2696                  718              505.5                3.45   \n",
       "2796                  714              505.5                3.47   \n",
       "2896                  743              505.5                3.62   \n",
       "\n",
       "      Number_of_Schools  median_listing_price_mm  Number_of_Parks  \n",
       "0                   NaN                 0.034063             54.0  \n",
       "2596                NaN                 0.019071             54.0  \n",
       "2696                NaN                 0.029600             54.0  \n",
       "2796                NaN                 0.032828             54.0  \n",
       "2896                NaN                 0.037271             54.0  "
      ]
     },
     "execution_count": 105,
     "metadata": {},
     "output_type": "execute_result"
    }
   ],
   "source": [
    "df = pd.read_csv(r'C:\\Users\\earth\\Desktop\\final_project\\filled_final_table.csv')\n",
    "df= df.sort_values('County')\n",
    "df.head()\n"
   ]
  },
  {
   "cell_type": "code",
   "execution_count": 102,
   "id": "d7f179a7",
   "metadata": {},
   "outputs": [],
   "source": [
    "# Class column based on percent change from 'median_listing_price_mm' : reference:https://stackoverflow.com/questions/21702342/creating-a-new-column-based-on-if-elif-else-condition\n",
    "def f(row):\n",
    "    if row['median_listing_price_mm'] == 0:\n",
    "        val = 0 # same\n",
    "    elif row['median_listing_price_mm'] > 0:\n",
    "        val = 2 # up\n",
    "    else:\n",
    "        val = 1 # down\n",
    "    return val"
   ]
  },
  {
   "cell_type": "code",
   "execution_count": 103,
   "id": "00278e95",
   "metadata": {},
   "outputs": [
    {
     "data": {
      "text/html": [
       "<div>\n",
       "<style scoped>\n",
       "    .dataframe tbody tr th:only-of-type {\n",
       "        vertical-align: middle;\n",
       "    }\n",
       "\n",
       "    .dataframe tbody tr th {\n",
       "        vertical-align: top;\n",
       "    }\n",
       "\n",
       "    .dataframe thead th {\n",
       "        text-align: right;\n",
       "    }\n",
       "</style>\n",
       "<table border=\"1\" class=\"dataframe\">\n",
       "  <thead>\n",
       "    <tr style=\"text-align: right;\">\n",
       "      <th></th>\n",
       "      <th>Date</th>\n",
       "      <th>Year</th>\n",
       "      <th>County</th>\n",
       "      <th>median_listing_price</th>\n",
       "      <th>active_listing_count</th>\n",
       "      <th>median_days_on_market</th>\n",
       "      <th>new_listing_count</th>\n",
       "      <th>price_increased_count</th>\n",
       "      <th>price_reduced_count</th>\n",
       "      <th>median_square_feet</th>\n",
       "      <th>average_listing_price</th>\n",
       "      <th>total_listing_count</th>\n",
       "      <th>violent_crime_rate</th>\n",
       "      <th>30_Year_Fixed_Rate</th>\n",
       "      <th>Number_of_Schools</th>\n",
       "      <th>median_listing_price_mm</th>\n",
       "      <th>Number_of_Parks</th>\n",
       "      <th>Price_Status</th>\n",
       "    </tr>\n",
       "  </thead>\n",
       "  <tbody>\n",
       "    <tr>\n",
       "      <th>0</th>\n",
       "      <td>2022-06</td>\n",
       "      <td>2022</td>\n",
       "      <td>Alamance</td>\n",
       "      <td>382500</td>\n",
       "      <td>298</td>\n",
       "      <td>18</td>\n",
       "      <td>452</td>\n",
       "      <td>12</td>\n",
       "      <td>108</td>\n",
       "      <td>2112</td>\n",
       "      <td>443362</td>\n",
       "      <td>644</td>\n",
       "      <td>NaN</td>\n",
       "      <td>5.52</td>\n",
       "      <td>NaN</td>\n",
       "      <td>0.034063</td>\n",
       "      <td>54.0</td>\n",
       "      <td>2</td>\n",
       "    </tr>\n",
       "    <tr>\n",
       "      <th>2596</th>\n",
       "      <td>2020-04</td>\n",
       "      <td>2020</td>\n",
       "      <td>Alamance</td>\n",
       "      <td>267450</td>\n",
       "      <td>538</td>\n",
       "      <td>46</td>\n",
       "      <td>276</td>\n",
       "      <td>24</td>\n",
       "      <td>56</td>\n",
       "      <td>2096</td>\n",
       "      <td>323437</td>\n",
       "      <td>736</td>\n",
       "      <td>505.5</td>\n",
       "      <td>3.31</td>\n",
       "      <td>NaN</td>\n",
       "      <td>0.019071</td>\n",
       "      <td>54.0</td>\n",
       "      <td>2</td>\n",
       "    </tr>\n",
       "    <tr>\n",
       "      <th>2696</th>\n",
       "      <td>2020-03</td>\n",
       "      <td>2020</td>\n",
       "      <td>Alamance</td>\n",
       "      <td>262445</td>\n",
       "      <td>505</td>\n",
       "      <td>48</td>\n",
       "      <td>304</td>\n",
       "      <td>16</td>\n",
       "      <td>84</td>\n",
       "      <td>2036</td>\n",
       "      <td>306255</td>\n",
       "      <td>718</td>\n",
       "      <td>505.5</td>\n",
       "      <td>3.45</td>\n",
       "      <td>NaN</td>\n",
       "      <td>0.029600</td>\n",
       "      <td>54.0</td>\n",
       "      <td>2</td>\n",
       "    </tr>\n",
       "    <tr>\n",
       "      <th>2796</th>\n",
       "      <td>2020-02</td>\n",
       "      <td>2020</td>\n",
       "      <td>Alamance</td>\n",
       "      <td>254900</td>\n",
       "      <td>517</td>\n",
       "      <td>66</td>\n",
       "      <td>248</td>\n",
       "      <td>8</td>\n",
       "      <td>88</td>\n",
       "      <td>1988</td>\n",
       "      <td>301949</td>\n",
       "      <td>714</td>\n",
       "      <td>505.5</td>\n",
       "      <td>3.47</td>\n",
       "      <td>NaN</td>\n",
       "      <td>0.032828</td>\n",
       "      <td>54.0</td>\n",
       "      <td>2</td>\n",
       "    </tr>\n",
       "    <tr>\n",
       "      <th>2896</th>\n",
       "      <td>2020-01</td>\n",
       "      <td>2020</td>\n",
       "      <td>Alamance</td>\n",
       "      <td>246798</td>\n",
       "      <td>566</td>\n",
       "      <td>75</td>\n",
       "      <td>256</td>\n",
       "      <td>12</td>\n",
       "      <td>172</td>\n",
       "      <td>1953</td>\n",
       "      <td>288490</td>\n",
       "      <td>743</td>\n",
       "      <td>505.5</td>\n",
       "      <td>3.62</td>\n",
       "      <td>NaN</td>\n",
       "      <td>0.037271</td>\n",
       "      <td>54.0</td>\n",
       "      <td>2</td>\n",
       "    </tr>\n",
       "  </tbody>\n",
       "</table>\n",
       "</div>"
      ],
      "text/plain": [
       "         Date  Year    County  median_listing_price  active_listing_count  \\\n",
       "0     2022-06  2022  Alamance                382500                   298   \n",
       "2596  2020-04  2020  Alamance                267450                   538   \n",
       "2696  2020-03  2020  Alamance                262445                   505   \n",
       "2796  2020-02  2020  Alamance                254900                   517   \n",
       "2896  2020-01  2020  Alamance                246798                   566   \n",
       "\n",
       "      median_days_on_market  new_listing_count  price_increased_count  \\\n",
       "0                        18                452                     12   \n",
       "2596                     46                276                     24   \n",
       "2696                     48                304                     16   \n",
       "2796                     66                248                      8   \n",
       "2896                     75                256                     12   \n",
       "\n",
       "      price_reduced_count  median_square_feet  average_listing_price  \\\n",
       "0                     108                2112                 443362   \n",
       "2596                   56                2096                 323437   \n",
       "2696                   84                2036                 306255   \n",
       "2796                   88                1988                 301949   \n",
       "2896                  172                1953                 288490   \n",
       "\n",
       "      total_listing_count violent_crime_rate  30_Year_Fixed_Rate  \\\n",
       "0                     644                NaN                5.52   \n",
       "2596                  736              505.5                3.31   \n",
       "2696                  718              505.5                3.45   \n",
       "2796                  714              505.5                3.47   \n",
       "2896                  743              505.5                3.62   \n",
       "\n",
       "      Number_of_Schools  median_listing_price_mm  Number_of_Parks  \\\n",
       "0                   NaN                 0.034063             54.0   \n",
       "2596                NaN                 0.019071             54.0   \n",
       "2696                NaN                 0.029600             54.0   \n",
       "2796                NaN                 0.032828             54.0   \n",
       "2896                NaN                 0.037271             54.0   \n",
       "\n",
       "      Price_Status  \n",
       "0                2  \n",
       "2596             2  \n",
       "2696             2  \n",
       "2796             2  \n",
       "2896             2  "
      ]
     },
     "execution_count": 103,
     "metadata": {},
     "output_type": "execute_result"
    }
   ],
   "source": [
    "df['Price_Status'] = df.apply(f, axis=1)\n",
    "df.head()"
   ]
  },
  {
   "cell_type": "code",
   "execution_count": 104,
   "id": "fea2d2d2",
   "metadata": {},
   "outputs": [
    {
     "data": {
      "text/html": [
       "<div>\n",
       "<style scoped>\n",
       "    .dataframe tbody tr th:only-of-type {\n",
       "        vertical-align: middle;\n",
       "    }\n",
       "\n",
       "    .dataframe tbody tr th {\n",
       "        vertical-align: top;\n",
       "    }\n",
       "\n",
       "    .dataframe thead th {\n",
       "        text-align: right;\n",
       "    }\n",
       "</style>\n",
       "<table border=\"1\" class=\"dataframe\">\n",
       "  <thead>\n",
       "    <tr style=\"text-align: right;\">\n",
       "      <th></th>\n",
       "      <th>Date</th>\n",
       "      <th>Year</th>\n",
       "      <th>County</th>\n",
       "      <th>median_listing_price</th>\n",
       "      <th>active_listing_count</th>\n",
       "      <th>median_days_on_market</th>\n",
       "      <th>new_listing_count</th>\n",
       "      <th>price_increased_count</th>\n",
       "      <th>price_reduced_count</th>\n",
       "      <th>median_square_feet</th>\n",
       "      <th>average_listing_price</th>\n",
       "      <th>total_listing_count</th>\n",
       "      <th>violent_crime_rate</th>\n",
       "      <th>30_Year_Fixed_Rate</th>\n",
       "      <th>Number_of_Schools</th>\n",
       "      <th>median_listing_price_mm</th>\n",
       "      <th>Number_of_Parks</th>\n",
       "      <th>Price_Status</th>\n",
       "    </tr>\n",
       "  </thead>\n",
       "  <tbody>\n",
       "    <tr>\n",
       "      <th>4515</th>\n",
       "      <td>2018-09</td>\n",
       "      <td>2018</td>\n",
       "      <td>Cherokee</td>\n",
       "      <td>200000</td>\n",
       "      <td>630</td>\n",
       "      <td>98</td>\n",
       "      <td>108</td>\n",
       "      <td>0</td>\n",
       "      <td>84</td>\n",
       "      <td>1783</td>\n",
       "      <td>265680</td>\n",
       "      <td>635</td>\n",
       "      <td>272.1</td>\n",
       "      <td>4.63</td>\n",
       "      <td>26.0</td>\n",
       "      <td>-0.069551</td>\n",
       "      <td>2.0</td>\n",
       "      <td>1</td>\n",
       "    </tr>\n",
       "    <tr>\n",
       "      <th>4115</th>\n",
       "      <td>2019-01</td>\n",
       "      <td>2019</td>\n",
       "      <td>Cherokee</td>\n",
       "      <td>196000</td>\n",
       "      <td>470</td>\n",
       "      <td>142</td>\n",
       "      <td>64</td>\n",
       "      <td>0</td>\n",
       "      <td>32</td>\n",
       "      <td>1700</td>\n",
       "      <td>263252</td>\n",
       "      <td>474</td>\n",
       "      <td>302.1</td>\n",
       "      <td>4.46</td>\n",
       "      <td>NaN</td>\n",
       "      <td>-0.015075</td>\n",
       "      <td>2.0</td>\n",
       "      <td>1</td>\n",
       "    </tr>\n",
       "    <tr>\n",
       "      <th>2915</th>\n",
       "      <td>2020-01</td>\n",
       "      <td>2020</td>\n",
       "      <td>Cherokee</td>\n",
       "      <td>219850</td>\n",
       "      <td>422</td>\n",
       "      <td>113</td>\n",
       "      <td>104</td>\n",
       "      <td>0</td>\n",
       "      <td>48</td>\n",
       "      <td>1640</td>\n",
       "      <td>270729</td>\n",
       "      <td>551</td>\n",
       "      <td>305.8</td>\n",
       "      <td>3.62</td>\n",
       "      <td>NaN</td>\n",
       "      <td>0.000227</td>\n",
       "      <td>2.0</td>\n",
       "      <td>2</td>\n",
       "    </tr>\n",
       "    <tr>\n",
       "      <th>4415</th>\n",
       "      <td>2018-10</td>\n",
       "      <td>2018</td>\n",
       "      <td>Cherokee</td>\n",
       "      <td>199900</td>\n",
       "      <td>628</td>\n",
       "      <td>112</td>\n",
       "      <td>120</td>\n",
       "      <td>4</td>\n",
       "      <td>96</td>\n",
       "      <td>1750</td>\n",
       "      <td>262052</td>\n",
       "      <td>634</td>\n",
       "      <td>272.1</td>\n",
       "      <td>4.83</td>\n",
       "      <td>26.0</td>\n",
       "      <td>-0.000500</td>\n",
       "      <td>2.0</td>\n",
       "      <td>1</td>\n",
       "    </tr>\n",
       "    <tr>\n",
       "      <th>3615</th>\n",
       "      <td>2019-06</td>\n",
       "      <td>2019</td>\n",
       "      <td>Cherokee</td>\n",
       "      <td>199900</td>\n",
       "      <td>524</td>\n",
       "      <td>83</td>\n",
       "      <td>128</td>\n",
       "      <td>8</td>\n",
       "      <td>80</td>\n",
       "      <td>1632</td>\n",
       "      <td>252800</td>\n",
       "      <td>635</td>\n",
       "      <td>302.1</td>\n",
       "      <td>3.80</td>\n",
       "      <td>NaN</td>\n",
       "      <td>0.000000</td>\n",
       "      <td>2.0</td>\n",
       "      <td>0</td>\n",
       "    </tr>\n",
       "    <tr>\n",
       "      <th>...</th>\n",
       "      <td>...</td>\n",
       "      <td>...</td>\n",
       "      <td>...</td>\n",
       "      <td>...</td>\n",
       "      <td>...</td>\n",
       "      <td>...</td>\n",
       "      <td>...</td>\n",
       "      <td>...</td>\n",
       "      <td>...</td>\n",
       "      <td>...</td>\n",
       "      <td>...</td>\n",
       "      <td>...</td>\n",
       "      <td>...</td>\n",
       "      <td>...</td>\n",
       "      <td>...</td>\n",
       "      <td>...</td>\n",
       "      <td>...</td>\n",
       "      <td>...</td>\n",
       "    </tr>\n",
       "    <tr>\n",
       "      <th>1316</th>\n",
       "      <td>2021-05</td>\n",
       "      <td>2021</td>\n",
       "      <td>Cherokee</td>\n",
       "      <td>299900</td>\n",
       "      <td>158</td>\n",
       "      <td>48</td>\n",
       "      <td>172</td>\n",
       "      <td>4</td>\n",
       "      <td>44</td>\n",
       "      <td>1730</td>\n",
       "      <td>365952</td>\n",
       "      <td>420</td>\n",
       "      <td>NaN</td>\n",
       "      <td>2.96</td>\n",
       "      <td>NaN</td>\n",
       "      <td>0.127656</td>\n",
       "      <td>2.0</td>\n",
       "      <td>2</td>\n",
       "    </tr>\n",
       "    <tr>\n",
       "      <th>816</th>\n",
       "      <td>2021-10</td>\n",
       "      <td>2021</td>\n",
       "      <td>Cherokee</td>\n",
       "      <td>324900</td>\n",
       "      <td>214</td>\n",
       "      <td>59</td>\n",
       "      <td>120</td>\n",
       "      <td>0</td>\n",
       "      <td>60</td>\n",
       "      <td>1703</td>\n",
       "      <td>385870</td>\n",
       "      <td>459</td>\n",
       "      <td>NaN</td>\n",
       "      <td>3.07</td>\n",
       "      <td>NaN</td>\n",
       "      <td>0.096709</td>\n",
       "      <td>2.0</td>\n",
       "      <td>2</td>\n",
       "    </tr>\n",
       "    <tr>\n",
       "      <th>7115</th>\n",
       "      <td>2016-07</td>\n",
       "      <td>2016</td>\n",
       "      <td>Cherokee</td>\n",
       "      <td>174900</td>\n",
       "      <td>936</td>\n",
       "      <td>101</td>\n",
       "      <td>124</td>\n",
       "      <td>4</td>\n",
       "      <td>120</td>\n",
       "      <td>1620</td>\n",
       "      <td>217919</td>\n",
       "      <td>939</td>\n",
       "      <td>210.6</td>\n",
       "      <td>3.44</td>\n",
       "      <td>28.0</td>\n",
       "      <td>NaN</td>\n",
       "      <td>2.0</td>\n",
       "      <td>1</td>\n",
       "    </tr>\n",
       "    <tr>\n",
       "      <th>518</th>\n",
       "      <td>2022-01</td>\n",
       "      <td>2022</td>\n",
       "      <td>Cherokee</td>\n",
       "      <td>314900</td>\n",
       "      <td>138</td>\n",
       "      <td>79</td>\n",
       "      <td>84</td>\n",
       "      <td>4</td>\n",
       "      <td>24</td>\n",
       "      <td>1600</td>\n",
       "      <td>445990</td>\n",
       "      <td>340</td>\n",
       "      <td>NaN</td>\n",
       "      <td>3.45</td>\n",
       "      <td>NaN</td>\n",
       "      <td>0.004786</td>\n",
       "      <td>2.0</td>\n",
       "      <td>2</td>\n",
       "    </tr>\n",
       "    <tr>\n",
       "      <th>319</th>\n",
       "      <td>2022-03</td>\n",
       "      <td>2022</td>\n",
       "      <td>Cherokee</td>\n",
       "      <td>389000</td>\n",
       "      <td>142</td>\n",
       "      <td>52</td>\n",
       "      <td>132</td>\n",
       "      <td>4</td>\n",
       "      <td>28</td>\n",
       "      <td>1931</td>\n",
       "      <td>440467</td>\n",
       "      <td>367</td>\n",
       "      <td>NaN</td>\n",
       "      <td>4.17</td>\n",
       "      <td>NaN</td>\n",
       "      <td>0.045699</td>\n",
       "      <td>2.0</td>\n",
       "      <td>2</td>\n",
       "    </tr>\n",
       "  </tbody>\n",
       "</table>\n",
       "<p>72 rows × 18 columns</p>\n",
       "</div>"
      ],
      "text/plain": [
       "         Date  Year    County  median_listing_price  active_listing_count  \\\n",
       "4515  2018-09  2018  Cherokee                200000                   630   \n",
       "4115  2019-01  2019  Cherokee                196000                   470   \n",
       "2915  2020-01  2020  Cherokee                219850                   422   \n",
       "4415  2018-10  2018  Cherokee                199900                   628   \n",
       "3615  2019-06  2019  Cherokee                199900                   524   \n",
       "...       ...   ...       ...                   ...                   ...   \n",
       "1316  2021-05  2021  Cherokee                299900                   158   \n",
       "816   2021-10  2021  Cherokee                324900                   214   \n",
       "7115  2016-07  2016  Cherokee                174900                   936   \n",
       "518   2022-01  2022  Cherokee                314900                   138   \n",
       "319   2022-03  2022  Cherokee                389000                   142   \n",
       "\n",
       "      median_days_on_market  new_listing_count  price_increased_count  \\\n",
       "4515                     98                108                      0   \n",
       "4115                    142                 64                      0   \n",
       "2915                    113                104                      0   \n",
       "4415                    112                120                      4   \n",
       "3615                     83                128                      8   \n",
       "...                     ...                ...                    ...   \n",
       "1316                     48                172                      4   \n",
       "816                      59                120                      0   \n",
       "7115                    101                124                      4   \n",
       "518                      79                 84                      4   \n",
       "319                      52                132                      4   \n",
       "\n",
       "      price_reduced_count  median_square_feet  average_listing_price  \\\n",
       "4515                   84                1783                 265680   \n",
       "4115                   32                1700                 263252   \n",
       "2915                   48                1640                 270729   \n",
       "4415                   96                1750                 262052   \n",
       "3615                   80                1632                 252800   \n",
       "...                   ...                 ...                    ...   \n",
       "1316                   44                1730                 365952   \n",
       "816                    60                1703                 385870   \n",
       "7115                  120                1620                 217919   \n",
       "518                    24                1600                 445990   \n",
       "319                    28                1931                 440467   \n",
       "\n",
       "      total_listing_count violent_crime_rate  30_Year_Fixed_Rate  \\\n",
       "4515                  635              272.1                4.63   \n",
       "4115                  474              302.1                4.46   \n",
       "2915                  551              305.8                3.62   \n",
       "4415                  634              272.1                4.83   \n",
       "3615                  635              302.1                3.80   \n",
       "...                   ...                ...                 ...   \n",
       "1316                  420                NaN                2.96   \n",
       "816                   459                NaN                3.07   \n",
       "7115                  939              210.6                3.44   \n",
       "518                   340                NaN                3.45   \n",
       "319                   367                NaN                4.17   \n",
       "\n",
       "      Number_of_Schools  median_listing_price_mm  Number_of_Parks  \\\n",
       "4515               26.0                -0.069551              2.0   \n",
       "4115                NaN                -0.015075              2.0   \n",
       "2915                NaN                 0.000227              2.0   \n",
       "4415               26.0                -0.000500              2.0   \n",
       "3615                NaN                 0.000000              2.0   \n",
       "...                 ...                      ...              ...   \n",
       "1316                NaN                 0.127656              2.0   \n",
       "816                 NaN                 0.096709              2.0   \n",
       "7115               28.0                      NaN              2.0   \n",
       "518                 NaN                 0.004786              2.0   \n",
       "319                 NaN                 0.045699              2.0   \n",
       "\n",
       "      Price_Status  \n",
       "4515             1  \n",
       "4115             1  \n",
       "2915             2  \n",
       "4415             1  \n",
       "3615             0  \n",
       "...            ...  \n",
       "1316             2  \n",
       "816              2  \n",
       "7115             1  \n",
       "518              2  \n",
       "319              2  \n",
       "\n",
       "[72 rows x 18 columns]"
      ]
     },
     "execution_count": 104,
     "metadata": {},
     "output_type": "execute_result"
    }
   ],
   "source": [
    "df.query('County == \"Cherokee\"')"
   ]
  },
  {
   "cell_type": "code",
   "execution_count": 6,
   "id": "3098f5f3",
   "metadata": {},
   "outputs": [],
   "source": [
    "# convert county names to numbers ,dictionary of county names with values\n",
    "county_names = df.County.unique()\n",
    "county_di = dict(zip(county_names, range(len(county_names))))\n",
    "#county_di"
   ]
  },
  {
   "cell_type": "code",
   "execution_count": 7,
   "id": "fdf5b83f",
   "metadata": {},
   "outputs": [
    {
     "data": {
      "text/html": [
       "<div>\n",
       "<style scoped>\n",
       "    .dataframe tbody tr th:only-of-type {\n",
       "        vertical-align: middle;\n",
       "    }\n",
       "\n",
       "    .dataframe tbody tr th {\n",
       "        vertical-align: top;\n",
       "    }\n",
       "\n",
       "    .dataframe thead th {\n",
       "        text-align: right;\n",
       "    }\n",
       "</style>\n",
       "<table border=\"1\" class=\"dataframe\">\n",
       "  <thead>\n",
       "    <tr style=\"text-align: right;\">\n",
       "      <th></th>\n",
       "      <th>Date</th>\n",
       "      <th>Year</th>\n",
       "      <th>County</th>\n",
       "      <th>median_listing_price</th>\n",
       "      <th>active_listing_count</th>\n",
       "      <th>median_days_on_market</th>\n",
       "      <th>new_listing_count</th>\n",
       "      <th>price_increased_count</th>\n",
       "      <th>price_reduced_count</th>\n",
       "      <th>median_square_feet</th>\n",
       "      <th>average_listing_price</th>\n",
       "      <th>total_listing_count</th>\n",
       "      <th>violent_crime_rate</th>\n",
       "      <th>30_Year_Fixed_Rate</th>\n",
       "      <th>Number_of_Schools</th>\n",
       "      <th>median_listing_price_mm</th>\n",
       "      <th>Number_of_Parks</th>\n",
       "      <th>Price_Status</th>\n",
       "    </tr>\n",
       "  </thead>\n",
       "  <tbody>\n",
       "    <tr>\n",
       "      <th>2417</th>\n",
       "      <td>2020-06</td>\n",
       "      <td>2020</td>\n",
       "      <td>0</td>\n",
       "      <td>282450.0</td>\n",
       "      <td>423.0</td>\n",
       "      <td>53.0</td>\n",
       "      <td>352.0</td>\n",
       "      <td>28.0</td>\n",
       "      <td>124.0</td>\n",
       "      <td>2235.0</td>\n",
       "      <td>350926.0</td>\n",
       "      <td>699.0</td>\n",
       "      <td>505.50</td>\n",
       "      <td>3.16</td>\n",
       "      <td>NaN</td>\n",
       "      <td>0.012366</td>\n",
       "      <td>54.0</td>\n",
       "      <td>2</td>\n",
       "    </tr>\n",
       "    <tr>\n",
       "      <th>2982</th>\n",
       "      <td>2020-01</td>\n",
       "      <td>2020</td>\n",
       "      <td>0</td>\n",
       "      <td>246798.0</td>\n",
       "      <td>566.0</td>\n",
       "      <td>75.0</td>\n",
       "      <td>256.0</td>\n",
       "      <td>12.0</td>\n",
       "      <td>172.0</td>\n",
       "      <td>1953.0</td>\n",
       "      <td>288490.0</td>\n",
       "      <td>743.0</td>\n",
       "      <td>505.50</td>\n",
       "      <td>3.62</td>\n",
       "      <td>NaN</td>\n",
       "      <td>0.037269</td>\n",
       "      <td>54.0</td>\n",
       "      <td>2</td>\n",
       "    </tr>\n",
       "    <tr>\n",
       "      <th>4046</th>\n",
       "      <td>2019-02</td>\n",
       "      <td>2019</td>\n",
       "      <td>0</td>\n",
       "      <td>255000.0</td>\n",
       "      <td>681.0</td>\n",
       "      <td>101.0</td>\n",
       "      <td>320.0</td>\n",
       "      <td>32.0</td>\n",
       "      <td>152.0</td>\n",
       "      <td>2181.0</td>\n",
       "      <td>286615.0</td>\n",
       "      <td>780.0</td>\n",
       "      <td>420.2</td>\n",
       "      <td>4.37</td>\n",
       "      <td>NaN</td>\n",
       "      <td>0.043235</td>\n",
       "      <td>54.0</td>\n",
       "      <td>2</td>\n",
       "    </tr>\n",
       "    <tr>\n",
       "      <th>1274</th>\n",
       "      <td>2021-06</td>\n",
       "      <td>2021</td>\n",
       "      <td>0</td>\n",
       "      <td>280000.0</td>\n",
       "      <td>197.0</td>\n",
       "      <td>20.0</td>\n",
       "      <td>388.0</td>\n",
       "      <td>12.0</td>\n",
       "      <td>48.0</td>\n",
       "      <td>1892.0</td>\n",
       "      <td>411055.0</td>\n",
       "      <td>569.0</td>\n",
       "      <td>NaN</td>\n",
       "      <td>2.98</td>\n",
       "      <td>NaN</td>\n",
       "      <td>0.018182</td>\n",
       "      <td>54.0</td>\n",
       "      <td>2</td>\n",
       "    </tr>\n",
       "    <tr>\n",
       "      <th>4981</th>\n",
       "      <td>2018-05</td>\n",
       "      <td>2018</td>\n",
       "      <td>0</td>\n",
       "      <td>239900.0</td>\n",
       "      <td>809.0</td>\n",
       "      <td>64.0</td>\n",
       "      <td>408.0</td>\n",
       "      <td>48.0</td>\n",
       "      <td>200.0</td>\n",
       "      <td>2069.0</td>\n",
       "      <td>273460.0</td>\n",
       "      <td>956.0</td>\n",
       "      <td>419.9</td>\n",
       "      <td>4.59</td>\n",
       "      <td>94.0</td>\n",
       "      <td>NaN</td>\n",
       "      <td>54.0</td>\n",
       "      <td>1</td>\n",
       "    </tr>\n",
       "  </tbody>\n",
       "</table>\n",
       "</div>"
      ],
      "text/plain": [
       "         Date  Year  County  median_listing_price  active_listing_count  \\\n",
       "2417  2020-06  2020       0              282450.0                 423.0   \n",
       "2982  2020-01  2020       0              246798.0                 566.0   \n",
       "4046  2019-02  2019       0              255000.0                 681.0   \n",
       "1274  2021-06  2021       0              280000.0                 197.0   \n",
       "4981  2018-05  2018       0              239900.0                 809.0   \n",
       "\n",
       "      median_days_on_market  new_listing_count  price_increased_count  \\\n",
       "2417                   53.0              352.0                   28.0   \n",
       "2982                   75.0              256.0                   12.0   \n",
       "4046                  101.0              320.0                   32.0   \n",
       "1274                   20.0              388.0                   12.0   \n",
       "4981                   64.0              408.0                   48.0   \n",
       "\n",
       "      price_reduced_count  median_square_feet  average_listing_price  \\\n",
       "2417                124.0              2235.0               350926.0   \n",
       "2982                172.0              1953.0               288490.0   \n",
       "4046                152.0              2181.0               286615.0   \n",
       "1274                 48.0              1892.0               411055.0   \n",
       "4981                200.0              2069.0               273460.0   \n",
       "\n",
       "      total_listing_count violent_crime_rate  30_Year_Fixed_Rate  \\\n",
       "2417                699.0             505.50                3.16   \n",
       "2982                743.0             505.50                3.62   \n",
       "4046                780.0              420.2                4.37   \n",
       "1274                569.0                NaN                2.98   \n",
       "4981                956.0              419.9                4.59   \n",
       "\n",
       "      Number_of_Schools  median_listing_price_mm  Number_of_Parks  \\\n",
       "2417                NaN                 0.012366             54.0   \n",
       "2982                NaN                 0.037269             54.0   \n",
       "4046                NaN                 0.043235             54.0   \n",
       "1274                NaN                 0.018182             54.0   \n",
       "4981               94.0                      NaN             54.0   \n",
       "\n",
       "      Price_Status  \n",
       "2417             2  \n",
       "2982             2  \n",
       "4046             2  \n",
       "1274             2  \n",
       "4981             1  "
      ]
     },
     "execution_count": 7,
     "metadata": {},
     "output_type": "execute_result"
    }
   ],
   "source": [
    "# county names with #'s'\n",
    "df_num = df.copy()\n",
    "df_num['County'].replace(county_di, inplace=True)\n",
    "df_num.head()"
   ]
  },
  {
   "cell_type": "code",
   "execution_count": 8,
   "id": "058f04bb",
   "metadata": {},
   "outputs": [
    {
     "data": {
      "text/plain": [
       "Date                        object\n",
       "Year                         int64\n",
       "County                       int64\n",
       "median_listing_price       float64\n",
       "active_listing_count       float64\n",
       "median_days_on_market      float64\n",
       "new_listing_count          float64\n",
       "price_increased_count      float64\n",
       "price_reduced_count        float64\n",
       "median_square_feet         float64\n",
       "average_listing_price      float64\n",
       "total_listing_count        float64\n",
       "violent_crime_rate         float64\n",
       "30_Year_Fixed_Rate         float64\n",
       "Number_of_Schools          float64\n",
       "median_listing_price_mm    float64\n",
       "Number_of_Parks            float64\n",
       "Price_Status                 int64\n",
       "dtype: object"
      ]
     },
     "execution_count": 8,
     "metadata": {},
     "output_type": "execute_result"
    }
   ],
   "source": [
    "df_num['violent_crime_rate'] = df_num['violent_crime_rate'].str.replace(',','').astype(float)\n",
    "df_num.dtypes\n"
   ]
  },
  {
   "cell_type": "code",
   "execution_count": 9,
   "id": "b0506058",
   "metadata": {},
   "outputs": [
    {
     "data": {
      "text/plain": [
       "Year                         int64\n",
       "County                       int64\n",
       "median_listing_price       float64\n",
       "active_listing_count       float64\n",
       "median_days_on_market      float64\n",
       "new_listing_count          float64\n",
       "price_increased_count      float64\n",
       "price_reduced_count        float64\n",
       "median_square_feet         float64\n",
       "average_listing_price      float64\n",
       "total_listing_count        float64\n",
       "violent_crime_rate         float64\n",
       "30_Year_Fixed_Rate         float64\n",
       "Number_of_Schools          float64\n",
       "median_listing_price_mm    float64\n",
       "Number_of_Parks            float64\n",
       "Price_Status                 int64\n",
       "dtype: object"
      ]
     },
     "execution_count": 9,
     "metadata": {},
     "output_type": "execute_result"
    }
   ],
   "source": [
    "df_new1 = df_num.drop(['Date'], axis=1)\n",
    "df_new1.dtypes"
   ]
  },
  {
   "cell_type": "code",
   "execution_count": 10,
   "id": "c15abb0b",
   "metadata": {},
   "outputs": [
    {
     "data": {
      "text/plain": [
       "array([2018, 2016, 2017], dtype=int64)"
      ]
     },
     "execution_count": 10,
     "metadata": {},
     "output_type": "execute_result"
    }
   ],
   "source": [
    "filter_df = df_new1[df_new1['Year'] <2019]\n",
    "filter_df[\"Year\"].unique()"
   ]
  },
  {
   "cell_type": "code",
   "execution_count": 11,
   "id": "eee32972",
   "metadata": {},
   "outputs": [
    {
     "data": {
      "text/plain": [
       "3000"
      ]
     },
     "execution_count": 11,
     "metadata": {},
     "output_type": "execute_result"
    }
   ],
   "source": [
    "\n",
    "len(filter_df)\n"
   ]
  },
  {
   "cell_type": "code",
   "execution_count": 12,
   "id": "e122b9c2",
   "metadata": {},
   "outputs": [],
   "source": [
    "# leave 'median_listing_price' in columns? Price_Status is classifier for median_listing_price (increased(up)/decreased(down))\n",
    "columns = [\n",
    "      \"County\", \n",
    "    \"active_listing_count\", \"median_days_on_market\", \"new_listing_count\",\n",
    "    \"price_increased_count\", \"price_reduced_count\", \"median_square_feet\",\n",
    "    \"total_listing_count\", \"violent_crime_rate\",\"Number_of_Parks\",\n",
    "    \"Number_of_Schools\",\"30_Year_Fixed_Rate\", \n",
    "     \"Price_Status\"]\n",
    "\n",
    "# conditional column 'Price_status' is condition on 'median_listing...mm' which is \"the percentage change\n",
    "# in the median listing price from the previous month.\" An increase is 'up', decrease is 'down'.\n",
    "\n",
    "# df['Price_Status'] = np.where(df['median_listing_price_mm']>=0, 'up', 'down')\n",
    "\n",
    "\n",
    "# https://www.realtor.com/research/data/\n",
    "\n",
    "target = [\"Price_Status\"]"
   ]
  },
  {
   "cell_type": "code",
   "execution_count": 13,
   "id": "5fcfb5c1",
   "metadata": {},
   "outputs": [
    {
     "data": {
      "text/plain": [
       "2610"
      ]
     },
     "execution_count": 13,
     "metadata": {},
     "output_type": "execute_result"
    }
   ],
   "source": [
    "# Load the data\n",
    "\n",
    "df_data = filter_df.loc[:, columns].copy()\n",
    "df_data = df_data.dropna()\n",
    "\n",
    "df_data.reset_index(inplace=True, drop=True)\n",
    "\n",
    "df_data.head()\n",
    "len(df_data)"
   ]
  },
  {
   "cell_type": "code",
   "execution_count": 58,
   "id": "2cf74d75",
   "metadata": {},
   "outputs": [
    {
     "data": {
      "text/plain": [
       "Year                     0\n",
       "County                   0\n",
       "active_listing_count     0\n",
       "median_days_on_market    0\n",
       "new_listing_count        0\n",
       "price_increased_count    0\n",
       "price_reduced_count      0\n",
       "median_square_feet       0\n",
       "total_listing_count      0\n",
       "violent_crime_rate       0\n",
       "Number_of_Parks          0\n",
       "Number_of_Schools        0\n",
       "30_Year_Fixed_Rate       0\n",
       "Price_Status             0\n",
       "dtype: int64"
      ]
     },
     "execution_count": 58,
     "metadata": {},
     "output_type": "execute_result"
    }
   ],
   "source": [
    "df_data.isnull().sum()"
   ]
  },
  {
   "cell_type": "markdown",
   "id": "115bdf03",
   "metadata": {},
   "source": [
    "Split the Data into Training and Testing"
   ]
  },
  {
   "cell_type": "code",
   "execution_count": 14,
   "id": "4413c1c3",
   "metadata": {},
   "outputs": [],
   "source": [
    "# Create our features\n",
    "X = df_data.drop('Price_Status', axis=1)\n",
    "\n",
    "X = pd.get_dummies(X)\n",
    "\n",
    "# Create our target\n",
    "y = df_data.loc[:, target].copy()\n",
    "\n"
   ]
  },
  {
   "cell_type": "code",
   "execution_count": 15,
   "id": "2b68aecc",
   "metadata": {},
   "outputs": [
    {
     "data": {
      "text/html": [
       "<div>\n",
       "<style scoped>\n",
       "    .dataframe tbody tr th:only-of-type {\n",
       "        vertical-align: middle;\n",
       "    }\n",
       "\n",
       "    .dataframe tbody tr th {\n",
       "        vertical-align: top;\n",
       "    }\n",
       "\n",
       "    .dataframe thead th {\n",
       "        text-align: right;\n",
       "    }\n",
       "</style>\n",
       "<table border=\"1\" class=\"dataframe\">\n",
       "  <thead>\n",
       "    <tr style=\"text-align: right;\">\n",
       "      <th></th>\n",
       "      <th>County</th>\n",
       "      <th>active_listing_count</th>\n",
       "      <th>median_days_on_market</th>\n",
       "      <th>new_listing_count</th>\n",
       "      <th>price_increased_count</th>\n",
       "      <th>price_reduced_count</th>\n",
       "      <th>median_square_feet</th>\n",
       "      <th>total_listing_count</th>\n",
       "      <th>violent_crime_rate</th>\n",
       "      <th>Number_of_Parks</th>\n",
       "      <th>Number_of_Schools</th>\n",
       "      <th>30_Year_Fixed_Rate</th>\n",
       "    </tr>\n",
       "  </thead>\n",
       "  <tbody>\n",
       "    <tr>\n",
       "      <th>count</th>\n",
       "      <td>2610.000000</td>\n",
       "      <td>2610.000000</td>\n",
       "      <td>2610.000000</td>\n",
       "      <td>2610.00000</td>\n",
       "      <td>2610.000000</td>\n",
       "      <td>2610.000000</td>\n",
       "      <td>2610.000000</td>\n",
       "      <td>2610.000000</td>\n",
       "      <td>2610.000000</td>\n",
       "      <td>2610.000000</td>\n",
       "      <td>2610.000000</td>\n",
       "      <td>2610.000000</td>\n",
       "    </tr>\n",
       "    <tr>\n",
       "      <th>mean</th>\n",
       "      <td>49.977011</td>\n",
       "      <td>568.260536</td>\n",
       "      <td>113.965900</td>\n",
       "      <td>156.97931</td>\n",
       "      <td>15.834483</td>\n",
       "      <td>132.331034</td>\n",
       "      <td>2067.973180</td>\n",
       "      <td>728.490421</td>\n",
       "      <td>285.934483</td>\n",
       "      <td>90.041379</td>\n",
       "      <td>79.308046</td>\n",
       "      <td>4.130632</td>\n",
       "    </tr>\n",
       "    <tr>\n",
       "      <th>std</th>\n",
       "      <td>29.500236</td>\n",
       "      <td>650.648846</td>\n",
       "      <td>41.824278</td>\n",
       "      <td>282.25789</td>\n",
       "      <td>45.725834</td>\n",
       "      <td>233.366958</td>\n",
       "      <td>343.581847</td>\n",
       "      <td>917.663347</td>\n",
       "      <td>176.313277</td>\n",
       "      <td>217.889553</td>\n",
       "      <td>99.827387</td>\n",
       "      <td>0.406472</td>\n",
       "    </tr>\n",
       "    <tr>\n",
       "      <th>min</th>\n",
       "      <td>0.000000</td>\n",
       "      <td>12.000000</td>\n",
       "      <td>18.000000</td>\n",
       "      <td>0.00000</td>\n",
       "      <td>0.000000</td>\n",
       "      <td>0.000000</td>\n",
       "      <td>1295.000000</td>\n",
       "      <td>14.000000</td>\n",
       "      <td>19.500000</td>\n",
       "      <td>0.000000</td>\n",
       "      <td>3.000000</td>\n",
       "      <td>3.440000</td>\n",
       "    </tr>\n",
       "    <tr>\n",
       "      <th>25%</th>\n",
       "      <td>24.000000</td>\n",
       "      <td>159.000000</td>\n",
       "      <td>84.000000</td>\n",
       "      <td>28.00000</td>\n",
       "      <td>0.000000</td>\n",
       "      <td>20.000000</td>\n",
       "      <td>1847.250000</td>\n",
       "      <td>179.000000</td>\n",
       "      <td>167.000000</td>\n",
       "      <td>10.000000</td>\n",
       "      <td>25.000000</td>\n",
       "      <td>3.900000</td>\n",
       "    </tr>\n",
       "    <tr>\n",
       "      <th>50%</th>\n",
       "      <td>49.000000</td>\n",
       "      <td>367.000000</td>\n",
       "      <td>107.000000</td>\n",
       "      <td>72.00000</td>\n",
       "      <td>4.000000</td>\n",
       "      <td>60.000000</td>\n",
       "      <td>1996.000000</td>\n",
       "      <td>434.000000</td>\n",
       "      <td>227.700000</td>\n",
       "      <td>25.000000</td>\n",
       "      <td>47.000000</td>\n",
       "      <td>4.050000</td>\n",
       "    </tr>\n",
       "    <tr>\n",
       "      <th>75%</th>\n",
       "      <td>77.000000</td>\n",
       "      <td>681.500000</td>\n",
       "      <td>137.000000</td>\n",
       "      <td>168.00000</td>\n",
       "      <td>12.000000</td>\n",
       "      <td>144.000000</td>\n",
       "      <td>2250.000000</td>\n",
       "      <td>917.750000</td>\n",
       "      <td>365.300000</td>\n",
       "      <td>83.000000</td>\n",
       "      <td>98.000000</td>\n",
       "      <td>4.530000</td>\n",
       "    </tr>\n",
       "    <tr>\n",
       "      <th>max</th>\n",
       "      <td>99.000000</td>\n",
       "      <td>4908.000000</td>\n",
       "      <td>330.000000</td>\n",
       "      <td>2256.00000</td>\n",
       "      <td>488.000000</td>\n",
       "      <td>2180.000000</td>\n",
       "      <td>3527.000000</td>\n",
       "      <td>5986.000000</td>\n",
       "      <td>920.300000</td>\n",
       "      <td>1627.000000</td>\n",
       "      <td>574.000000</td>\n",
       "      <td>4.870000</td>\n",
       "    </tr>\n",
       "  </tbody>\n",
       "</table>\n",
       "</div>"
      ],
      "text/plain": [
       "            County  active_listing_count  median_days_on_market  \\\n",
       "count  2610.000000           2610.000000            2610.000000   \n",
       "mean     49.977011            568.260536             113.965900   \n",
       "std      29.500236            650.648846              41.824278   \n",
       "min       0.000000             12.000000              18.000000   \n",
       "25%      24.000000            159.000000              84.000000   \n",
       "50%      49.000000            367.000000             107.000000   \n",
       "75%      77.000000            681.500000             137.000000   \n",
       "max      99.000000           4908.000000             330.000000   \n",
       "\n",
       "       new_listing_count  price_increased_count  price_reduced_count  \\\n",
       "count         2610.00000            2610.000000          2610.000000   \n",
       "mean           156.97931              15.834483           132.331034   \n",
       "std            282.25789              45.725834           233.366958   \n",
       "min              0.00000               0.000000             0.000000   \n",
       "25%             28.00000               0.000000            20.000000   \n",
       "50%             72.00000               4.000000            60.000000   \n",
       "75%            168.00000              12.000000           144.000000   \n",
       "max           2256.00000             488.000000          2180.000000   \n",
       "\n",
       "       median_square_feet  total_listing_count  violent_crime_rate  \\\n",
       "count         2610.000000          2610.000000         2610.000000   \n",
       "mean          2067.973180           728.490421          285.934483   \n",
       "std            343.581847           917.663347          176.313277   \n",
       "min           1295.000000            14.000000           19.500000   \n",
       "25%           1847.250000           179.000000          167.000000   \n",
       "50%           1996.000000           434.000000          227.700000   \n",
       "75%           2250.000000           917.750000          365.300000   \n",
       "max           3527.000000          5986.000000          920.300000   \n",
       "\n",
       "       Number_of_Parks  Number_of_Schools  30_Year_Fixed_Rate  \n",
       "count      2610.000000        2610.000000         2610.000000  \n",
       "mean         90.041379          79.308046            4.130632  \n",
       "std         217.889553          99.827387            0.406472  \n",
       "min           0.000000           3.000000            3.440000  \n",
       "25%          10.000000          25.000000            3.900000  \n",
       "50%          25.000000          47.000000            4.050000  \n",
       "75%          83.000000          98.000000            4.530000  \n",
       "max        1627.000000         574.000000            4.870000  "
      ]
     },
     "execution_count": 15,
     "metadata": {},
     "output_type": "execute_result"
    }
   ],
   "source": [
    "X.describe()\n"
   ]
  },
  {
   "cell_type": "code",
   "execution_count": 16,
   "id": "3bd823a3",
   "metadata": {},
   "outputs": [
    {
     "data": {
      "text/plain": [
       "Price_Status\n",
       "1               2454\n",
       "2                133\n",
       "0                 23\n",
       "dtype: int64"
      ]
     },
     "execution_count": 16,
     "metadata": {},
     "output_type": "execute_result"
    }
   ],
   "source": [
    "# Check the balance of our target values\n",
    "y.value_counts()"
   ]
  },
  {
   "cell_type": "code",
   "execution_count": 17,
   "id": "27bc11e6",
   "metadata": {},
   "outputs": [
    {
     "data": {
      "text/plain": [
       "(1957, 12)"
      ]
     },
     "execution_count": 17,
     "metadata": {},
     "output_type": "execute_result"
    }
   ],
   "source": [
    "from sklearn.model_selection import train_test_split\n",
    "X_train, X_test, y_train, y_test = train_test_split(X, \n",
    "                                                    y, \n",
    "                                                    random_state=1, \n",
    "                                                  stratify=y)\n",
    "X_train.shape\n"
   ]
  },
  {
   "cell_type": "markdown",
   "id": "5ea496dc",
   "metadata": {},
   "source": [
    "Balanced Random Forest Classifier¶"
   ]
  },
  {
   "cell_type": "code",
   "execution_count": 30,
   "id": "7840dc2e",
   "metadata": {},
   "outputs": [
    {
     "data": {
      "text/plain": [
       "Counter({2: 100, 1: 1840, 0: 17})"
      ]
     },
     "execution_count": 30,
     "metadata": {},
     "output_type": "execute_result"
    }
   ],
   "source": [
    "# Resample the training data with the BalancedRandomForestClassifier\n",
    "from imblearn.ensemble import BalancedRandomForestClassifier\n",
    "from sklearn.metrics import accuracy_score\n",
    "rf_model = BalancedRandomForestClassifier(n_estimators=2500, max_depth=6, min_samples_split=4, random_state=1) \n",
    "rf_model = rf_model.fit(X_train, y_train)\n",
    "Counter(y_train['Price_Status'])"
   ]
  },
  {
   "cell_type": "code",
   "execution_count": 31,
   "id": "6a7402da",
   "metadata": {},
   "outputs": [
    {
     "data": {
      "text/plain": [
       "0.5932122528213734"
      ]
     },
     "execution_count": 31,
     "metadata": {},
     "output_type": "execute_result"
    }
   ],
   "source": [
    "# Display the confusion matrix\n",
    "from sklearn.metrics import confusion_matrix\n",
    "\n",
    "y_pred = rf_model.predict(X_test)\n",
    "balanced_accuracy_score(y_test, y_pred)\n"
   ]
  },
  {
   "cell_type": "code",
   "execution_count": 22,
   "id": "f7c477c3",
   "metadata": {},
   "outputs": [],
   "source": [
    "# Calculated the balanced accuracy score\n",
    "#from sklearn.metrics import balanced_accuracy_score\n",
    "\n",
    "#balanced_accuracy_score(y_test, y_pred)\n",
    "\n"
   ]
  },
  {
   "cell_type": "code",
   "execution_count": 32,
   "id": "63d6a0d1",
   "metadata": {},
   "outputs": [
    {
     "name": "stdout",
     "output_type": "stream",
     "text": [
      "              precision    recall  f1-score   support\n",
      "\n",
      "           0       0.02      0.17      0.03         6\n",
      "           1       1.00      0.79      0.89       614\n",
      "           2       0.25      0.82      0.39        33\n",
      "\n",
      "    accuracy                           0.79       653\n",
      "   macro avg       0.42      0.59      0.43       653\n",
      "weighted avg       0.95      0.79      0.85       653\n",
      "\n"
     ]
    }
   ],
   "source": [
    "# Print the imbalanced classification report\n",
    "from sklearn.metrics import classification_report\n",
    "print(classification_report(y_test, y_pred))"
   ]
  },
  {
   "cell_type": "code",
   "execution_count": 33,
   "id": "6f4d0a50",
   "metadata": {},
   "outputs": [
    {
     "data": {
      "text/plain": [
       "[(0.27142414236919604, '30_Year_Fixed_Rate'),\n",
       " (0.09664850706868736, 'Number_of_Schools'),\n",
       " (0.08589166029848276, 'median_days_on_market'),\n",
       " (0.07182699583195722, 'total_listing_count'),\n",
       " (0.06866745491916126, 'median_square_feet'),\n",
       " (0.06633116456334778, 'Number_of_Parks'),\n",
       " (0.06270904267198049, 'violent_crime_rate'),\n",
       " (0.062279528711767014, 'active_listing_count'),\n",
       " (0.06155175314515802, 'price_reduced_count'),\n",
       " (0.0609491957994908, 'new_listing_count'),\n",
       " (0.053478286459812736, 'County'),\n",
       " (0.03824226816095862, 'price_increased_count')]"
      ]
     },
     "execution_count": 33,
     "metadata": {},
     "output_type": "execute_result"
    }
   ],
   "source": [
    "# List the features sorted in descending order by feature importance\n",
    "sorted(zip(rf_model.feature_importances_, X.columns), reverse=True)\n",
    "\n",
    "\n",
    "\n"
   ]
  },
  {
   "cell_type": "code",
   "execution_count": 34,
   "id": "85c51cbc",
   "metadata": {},
   "outputs": [],
   "source": [
    "from sklearn.ensemble import AdaBoostClassifier,GradientBoostingClassifier"
   ]
  },
  {
   "cell_type": "code",
   "execution_count": 88,
   "id": "75188d23",
   "metadata": {},
   "outputs": [
    {
     "data": {
      "text/plain": [
       "0.4786628499983549"
      ]
     },
     "execution_count": 88,
     "metadata": {},
     "output_type": "execute_result"
    }
   ],
   "source": [
    "ad_model = AdaBoostClassifier(n_estimators=1000, random_state=1) \n",
    "ad_model = ad_model.fit(X_train, y_train)\n",
    "y_pred = ad_model.predict(X_test)\n",
    "balanced_accuracy_score(y_test, y_pred)"
   ]
  },
  {
   "cell_type": "code",
   "execution_count": 36,
   "id": "2871fa00",
   "metadata": {},
   "outputs": [
    {
     "data": {
      "text/plain": [
       "0.4655183759418287"
      ]
     },
     "execution_count": 36,
     "metadata": {},
     "output_type": "execute_result"
    }
   ],
   "source": [
    "gb_model = GradientBoostingClassifier(n_estimators=2000, random_state=1) \n",
    "gb_model = gb_model.fit(X_train, y_train)\n",
    "y_pred = gb_model.predict(X_test)\n",
    "balanced_accuracy_score(y_test, y_pred)"
   ]
  },
  {
   "cell_type": "markdown",
   "id": "1ca96a3a",
   "metadata": {},
   "source": [
    "Nearest Centroid Classifier "
   ]
  },
  {
   "cell_type": "code",
   "execution_count": 37,
   "id": "e85b82d2",
   "metadata": {},
   "outputs": [
    {
     "data": {
      "text/plain": [
       "0.33843797856049007"
      ]
     },
     "execution_count": 37,
     "metadata": {},
     "output_type": "execute_result"
    }
   ],
   "source": [
    " from sklearn.neighbors import NearestCentroid\n",
    "nc_model = NearestCentroid()\n",
    "nc_model.fit(X_train, y_train)\n",
    "y_pred = nc_model.predict(X_test)\n",
    "accuracy_score(y_test, y_pred)"
   ]
  },
  {
   "cell_type": "markdown",
   "id": "df5600fd",
   "metadata": {},
   "source": [
    "SMOTE Oversampling"
   ]
  },
  {
   "cell_type": "code",
   "execution_count": 38,
   "id": "4eef775e",
   "metadata": {},
   "outputs": [
    {
     "data": {
      "text/plain": [
       "Counter({2: 1840, 1: 1840, 0: 1840})"
      ]
     },
     "execution_count": 38,
     "metadata": {},
     "output_type": "execute_result"
    }
   ],
   "source": [
    "# Resample the training data with SMOTE\n",
    "from imblearn.over_sampling import SMOTE\n",
    "\n",
    "X_resampled, y_resampled = SMOTE(random_state=1, sampling_strategy='auto').fit_resample(\n",
    "    X_train, y_train)\n",
    "\n",
    "Counter(y_resampled['Price_Status'])"
   ]
  },
  {
   "cell_type": "code",
   "execution_count": 39,
   "id": "8bcce496",
   "metadata": {},
   "outputs": [
    {
     "data": {
      "text/html": [
       "<style>#sk-container-id-1 {color: black;background-color: white;}#sk-container-id-1 pre{padding: 0;}#sk-container-id-1 div.sk-toggleable {background-color: white;}#sk-container-id-1 label.sk-toggleable__label {cursor: pointer;display: block;width: 100%;margin-bottom: 0;padding: 0.3em;box-sizing: border-box;text-align: center;}#sk-container-id-1 label.sk-toggleable__label-arrow:before {content: \"▸\";float: left;margin-right: 0.25em;color: #696969;}#sk-container-id-1 label.sk-toggleable__label-arrow:hover:before {color: black;}#sk-container-id-1 div.sk-estimator:hover label.sk-toggleable__label-arrow:before {color: black;}#sk-container-id-1 div.sk-toggleable__content {max-height: 0;max-width: 0;overflow: hidden;text-align: left;background-color: #f0f8ff;}#sk-container-id-1 div.sk-toggleable__content pre {margin: 0.2em;color: black;border-radius: 0.25em;background-color: #f0f8ff;}#sk-container-id-1 input.sk-toggleable__control:checked~div.sk-toggleable__content {max-height: 200px;max-width: 100%;overflow: auto;}#sk-container-id-1 input.sk-toggleable__control:checked~label.sk-toggleable__label-arrow:before {content: \"▾\";}#sk-container-id-1 div.sk-estimator input.sk-toggleable__control:checked~label.sk-toggleable__label {background-color: #d4ebff;}#sk-container-id-1 div.sk-label input.sk-toggleable__control:checked~label.sk-toggleable__label {background-color: #d4ebff;}#sk-container-id-1 input.sk-hidden--visually {border: 0;clip: rect(1px 1px 1px 1px);clip: rect(1px, 1px, 1px, 1px);height: 1px;margin: -1px;overflow: hidden;padding: 0;position: absolute;width: 1px;}#sk-container-id-1 div.sk-estimator {font-family: monospace;background-color: #f0f8ff;border: 1px dotted black;border-radius: 0.25em;box-sizing: border-box;margin-bottom: 0.5em;}#sk-container-id-1 div.sk-estimator:hover {background-color: #d4ebff;}#sk-container-id-1 div.sk-parallel-item::after {content: \"\";width: 100%;border-bottom: 1px solid gray;flex-grow: 1;}#sk-container-id-1 div.sk-label:hover label.sk-toggleable__label {background-color: #d4ebff;}#sk-container-id-1 div.sk-serial::before {content: \"\";position: absolute;border-left: 1px solid gray;box-sizing: border-box;top: 0;bottom: 0;left: 50%;z-index: 0;}#sk-container-id-1 div.sk-serial {display: flex;flex-direction: column;align-items: center;background-color: white;padding-right: 0.2em;padding-left: 0.2em;position: relative;}#sk-container-id-1 div.sk-item {position: relative;z-index: 1;}#sk-container-id-1 div.sk-parallel {display: flex;align-items: stretch;justify-content: center;background-color: white;position: relative;}#sk-container-id-1 div.sk-item::before, #sk-container-id-1 div.sk-parallel-item::before {content: \"\";position: absolute;border-left: 1px solid gray;box-sizing: border-box;top: 0;bottom: 0;left: 50%;z-index: -1;}#sk-container-id-1 div.sk-parallel-item {display: flex;flex-direction: column;z-index: 1;position: relative;background-color: white;}#sk-container-id-1 div.sk-parallel-item:first-child::after {align-self: flex-end;width: 50%;}#sk-container-id-1 div.sk-parallel-item:last-child::after {align-self: flex-start;width: 50%;}#sk-container-id-1 div.sk-parallel-item:only-child::after {width: 0;}#sk-container-id-1 div.sk-dashed-wrapped {border: 1px dashed gray;margin: 0 0.4em 0.5em 0.4em;box-sizing: border-box;padding-bottom: 0.4em;background-color: white;}#sk-container-id-1 div.sk-label label {font-family: monospace;font-weight: bold;display: inline-block;line-height: 1.2em;}#sk-container-id-1 div.sk-label-container {text-align: center;}#sk-container-id-1 div.sk-container {/* jupyter's `normalize.less` sets `[hidden] { display: none; }` but bootstrap.min.css set `[hidden] { display: none !important; }` so we also need the `!important` here to be able to override the default hidden behavior on the sphinx rendered scikit-learn.org. See: https://github.com/scikit-learn/scikit-learn/issues/21755 */display: inline-block !important;position: relative;}#sk-container-id-1 div.sk-text-repr-fallback {display: none;}</style><div id=\"sk-container-id-1\" class=\"sk-top-container\"><div class=\"sk-text-repr-fallback\"><pre>BalancedRandomForestClassifier(max_depth=6, min_samples_split=4,\n",
       "                               n_estimators=2500, random_state=1)</pre><b>In a Jupyter environment, please rerun this cell to show the HTML representation or trust the notebook. <br />On GitHub, the HTML representation is unable to render, please try loading this page with nbviewer.org.</b></div><div class=\"sk-container\" hidden><div class=\"sk-item\"><div class=\"sk-estimator sk-toggleable\"><input class=\"sk-toggleable__control sk-hidden--visually\" id=\"sk-estimator-id-1\" type=\"checkbox\" checked><label for=\"sk-estimator-id-1\" class=\"sk-toggleable__label sk-toggleable__label-arrow\">BalancedRandomForestClassifier</label><div class=\"sk-toggleable__content\"><pre>BalancedRandomForestClassifier(max_depth=6, min_samples_split=4,\n",
       "                               n_estimators=2500, random_state=1)</pre></div></div></div></div></div>"
      ],
      "text/plain": [
       "BalancedRandomForestClassifier(max_depth=6, min_samples_split=4,\n",
       "                               n_estimators=2500, random_state=1)"
      ]
     },
     "execution_count": 39,
     "metadata": {},
     "output_type": "execute_result"
    }
   ],
   "source": [
    "# Train the random forest classifier model using the resampled data\n",
    "model_SMOTE =rf_model\n",
    "\n",
    "model_SMOTE.fit(X_resampled, y_resampled)"
   ]
  },
  {
   "cell_type": "code",
   "execution_count": 40,
   "id": "d9cfa92d",
   "metadata": {},
   "outputs": [
    {
     "data": {
      "text/plain": [
       "0.585546013884776"
      ]
     },
     "execution_count": 40,
     "metadata": {},
     "output_type": "execute_result"
    }
   ],
   "source": [
    "# Calculated the balanced accuracy score\n",
    "y_pred = model_SMOTE.predict(X_test)\n",
    "\n",
    "balanced_accuracy_score(y_test, y_pred)"
   ]
  },
  {
   "cell_type": "markdown",
   "id": "419e241c",
   "metadata": {},
   "source": [
    "AdaBoostClassifier SMOTE train"
   ]
  },
  {
   "cell_type": "code",
   "execution_count": 41,
   "id": "dd46bbf0",
   "metadata": {},
   "outputs": [
    {
     "data": {
      "text/html": [
       "<style>#sk-container-id-2 {color: black;background-color: white;}#sk-container-id-2 pre{padding: 0;}#sk-container-id-2 div.sk-toggleable {background-color: white;}#sk-container-id-2 label.sk-toggleable__label {cursor: pointer;display: block;width: 100%;margin-bottom: 0;padding: 0.3em;box-sizing: border-box;text-align: center;}#sk-container-id-2 label.sk-toggleable__label-arrow:before {content: \"▸\";float: left;margin-right: 0.25em;color: #696969;}#sk-container-id-2 label.sk-toggleable__label-arrow:hover:before {color: black;}#sk-container-id-2 div.sk-estimator:hover label.sk-toggleable__label-arrow:before {color: black;}#sk-container-id-2 div.sk-toggleable__content {max-height: 0;max-width: 0;overflow: hidden;text-align: left;background-color: #f0f8ff;}#sk-container-id-2 div.sk-toggleable__content pre {margin: 0.2em;color: black;border-radius: 0.25em;background-color: #f0f8ff;}#sk-container-id-2 input.sk-toggleable__control:checked~div.sk-toggleable__content {max-height: 200px;max-width: 100%;overflow: auto;}#sk-container-id-2 input.sk-toggleable__control:checked~label.sk-toggleable__label-arrow:before {content: \"▾\";}#sk-container-id-2 div.sk-estimator input.sk-toggleable__control:checked~label.sk-toggleable__label {background-color: #d4ebff;}#sk-container-id-2 div.sk-label input.sk-toggleable__control:checked~label.sk-toggleable__label {background-color: #d4ebff;}#sk-container-id-2 input.sk-hidden--visually {border: 0;clip: rect(1px 1px 1px 1px);clip: rect(1px, 1px, 1px, 1px);height: 1px;margin: -1px;overflow: hidden;padding: 0;position: absolute;width: 1px;}#sk-container-id-2 div.sk-estimator {font-family: monospace;background-color: #f0f8ff;border: 1px dotted black;border-radius: 0.25em;box-sizing: border-box;margin-bottom: 0.5em;}#sk-container-id-2 div.sk-estimator:hover {background-color: #d4ebff;}#sk-container-id-2 div.sk-parallel-item::after {content: \"\";width: 100%;border-bottom: 1px solid gray;flex-grow: 1;}#sk-container-id-2 div.sk-label:hover label.sk-toggleable__label {background-color: #d4ebff;}#sk-container-id-2 div.sk-serial::before {content: \"\";position: absolute;border-left: 1px solid gray;box-sizing: border-box;top: 0;bottom: 0;left: 50%;z-index: 0;}#sk-container-id-2 div.sk-serial {display: flex;flex-direction: column;align-items: center;background-color: white;padding-right: 0.2em;padding-left: 0.2em;position: relative;}#sk-container-id-2 div.sk-item {position: relative;z-index: 1;}#sk-container-id-2 div.sk-parallel {display: flex;align-items: stretch;justify-content: center;background-color: white;position: relative;}#sk-container-id-2 div.sk-item::before, #sk-container-id-2 div.sk-parallel-item::before {content: \"\";position: absolute;border-left: 1px solid gray;box-sizing: border-box;top: 0;bottom: 0;left: 50%;z-index: -1;}#sk-container-id-2 div.sk-parallel-item {display: flex;flex-direction: column;z-index: 1;position: relative;background-color: white;}#sk-container-id-2 div.sk-parallel-item:first-child::after {align-self: flex-end;width: 50%;}#sk-container-id-2 div.sk-parallel-item:last-child::after {align-self: flex-start;width: 50%;}#sk-container-id-2 div.sk-parallel-item:only-child::after {width: 0;}#sk-container-id-2 div.sk-dashed-wrapped {border: 1px dashed gray;margin: 0 0.4em 0.5em 0.4em;box-sizing: border-box;padding-bottom: 0.4em;background-color: white;}#sk-container-id-2 div.sk-label label {font-family: monospace;font-weight: bold;display: inline-block;line-height: 1.2em;}#sk-container-id-2 div.sk-label-container {text-align: center;}#sk-container-id-2 div.sk-container {/* jupyter's `normalize.less` sets `[hidden] { display: none; }` but bootstrap.min.css set `[hidden] { display: none !important; }` so we also need the `!important` here to be able to override the default hidden behavior on the sphinx rendered scikit-learn.org. See: https://github.com/scikit-learn/scikit-learn/issues/21755 */display: inline-block !important;position: relative;}#sk-container-id-2 div.sk-text-repr-fallback {display: none;}</style><div id=\"sk-container-id-2\" class=\"sk-top-container\"><div class=\"sk-text-repr-fallback\"><pre>AdaBoostClassifier(n_estimators=1000, random_state=1)</pre><b>In a Jupyter environment, please rerun this cell to show the HTML representation or trust the notebook. <br />On GitHub, the HTML representation is unable to render, please try loading this page with nbviewer.org.</b></div><div class=\"sk-container\" hidden><div class=\"sk-item\"><div class=\"sk-estimator sk-toggleable\"><input class=\"sk-toggleable__control sk-hidden--visually\" id=\"sk-estimator-id-2\" type=\"checkbox\" checked><label for=\"sk-estimator-id-2\" class=\"sk-toggleable__label sk-toggleable__label-arrow\">AdaBoostClassifier</label><div class=\"sk-toggleable__content\"><pre>AdaBoostClassifier(n_estimators=1000, random_state=1)</pre></div></div></div></div></div>"
      ],
      "text/plain": [
       "AdaBoostClassifier(n_estimators=1000, random_state=1)"
      ]
     },
     "execution_count": 41,
     "metadata": {},
     "output_type": "execute_result"
    }
   ],
   "source": [
    "# Train the adaboost classifier model using the resampled data\n",
    "model_SMOTE =ad_model\n",
    "\n",
    "model_SMOTE.fit(X_resampled, y_resampled)"
   ]
  },
  {
   "cell_type": "code",
   "execution_count": 42,
   "id": "d58c276a",
   "metadata": {},
   "outputs": [
    {
     "data": {
      "text/plain": [
       "0.49452176488007105"
      ]
     },
     "execution_count": 42,
     "metadata": {},
     "output_type": "execute_result"
    }
   ],
   "source": [
    "# Calculated the balanced accuracy score\n",
    "y_pred = model_SMOTE.predict(X_test)\n",
    "\n",
    "balanced_accuracy_score(y_test, y_pred)"
   ]
  },
  {
   "cell_type": "markdown",
   "id": "0a5db571",
   "metadata": {},
   "source": [
    "SMOTE LogisticRegression"
   ]
  },
  {
   "cell_type": "code",
   "execution_count": 44,
   "id": "7f66a5b7",
   "metadata": {},
   "outputs": [
    {
     "data": {
      "text/plain": [
       "Counter({2: 1840, 1: 1840, 0: 1840})"
      ]
     },
     "execution_count": 44,
     "metadata": {},
     "output_type": "execute_result"
    }
   ],
   "source": [
    "# Resample the training data with SMOTE\n",
    "from imblearn.over_sampling import SMOTE\n",
    "\n",
    "X_resampled, y_resampled = SMOTE(random_state=1, sampling_strategy='auto').fit_resample(\n",
    "    X_train, y_train)\n",
    "\n",
    "Counter(y_resampled['Price_Status'])"
   ]
  },
  {
   "cell_type": "code",
   "execution_count": 77,
   "id": "2a3364f5",
   "metadata": {},
   "outputs": [
    {
     "data": {
      "text/html": [
       "<style>#sk-container-id-18 {color: black;background-color: white;}#sk-container-id-18 pre{padding: 0;}#sk-container-id-18 div.sk-toggleable {background-color: white;}#sk-container-id-18 label.sk-toggleable__label {cursor: pointer;display: block;width: 100%;margin-bottom: 0;padding: 0.3em;box-sizing: border-box;text-align: center;}#sk-container-id-18 label.sk-toggleable__label-arrow:before {content: \"▸\";float: left;margin-right: 0.25em;color: #696969;}#sk-container-id-18 label.sk-toggleable__label-arrow:hover:before {color: black;}#sk-container-id-18 div.sk-estimator:hover label.sk-toggleable__label-arrow:before {color: black;}#sk-container-id-18 div.sk-toggleable__content {max-height: 0;max-width: 0;overflow: hidden;text-align: left;background-color: #f0f8ff;}#sk-container-id-18 div.sk-toggleable__content pre {margin: 0.2em;color: black;border-radius: 0.25em;background-color: #f0f8ff;}#sk-container-id-18 input.sk-toggleable__control:checked~div.sk-toggleable__content {max-height: 200px;max-width: 100%;overflow: auto;}#sk-container-id-18 input.sk-toggleable__control:checked~label.sk-toggleable__label-arrow:before {content: \"▾\";}#sk-container-id-18 div.sk-estimator input.sk-toggleable__control:checked~label.sk-toggleable__label {background-color: #d4ebff;}#sk-container-id-18 div.sk-label input.sk-toggleable__control:checked~label.sk-toggleable__label {background-color: #d4ebff;}#sk-container-id-18 input.sk-hidden--visually {border: 0;clip: rect(1px 1px 1px 1px);clip: rect(1px, 1px, 1px, 1px);height: 1px;margin: -1px;overflow: hidden;padding: 0;position: absolute;width: 1px;}#sk-container-id-18 div.sk-estimator {font-family: monospace;background-color: #f0f8ff;border: 1px dotted black;border-radius: 0.25em;box-sizing: border-box;margin-bottom: 0.5em;}#sk-container-id-18 div.sk-estimator:hover {background-color: #d4ebff;}#sk-container-id-18 div.sk-parallel-item::after {content: \"\";width: 100%;border-bottom: 1px solid gray;flex-grow: 1;}#sk-container-id-18 div.sk-label:hover label.sk-toggleable__label {background-color: #d4ebff;}#sk-container-id-18 div.sk-serial::before {content: \"\";position: absolute;border-left: 1px solid gray;box-sizing: border-box;top: 0;bottom: 0;left: 50%;z-index: 0;}#sk-container-id-18 div.sk-serial {display: flex;flex-direction: column;align-items: center;background-color: white;padding-right: 0.2em;padding-left: 0.2em;position: relative;}#sk-container-id-18 div.sk-item {position: relative;z-index: 1;}#sk-container-id-18 div.sk-parallel {display: flex;align-items: stretch;justify-content: center;background-color: white;position: relative;}#sk-container-id-18 div.sk-item::before, #sk-container-id-18 div.sk-parallel-item::before {content: \"\";position: absolute;border-left: 1px solid gray;box-sizing: border-box;top: 0;bottom: 0;left: 50%;z-index: -1;}#sk-container-id-18 div.sk-parallel-item {display: flex;flex-direction: column;z-index: 1;position: relative;background-color: white;}#sk-container-id-18 div.sk-parallel-item:first-child::after {align-self: flex-end;width: 50%;}#sk-container-id-18 div.sk-parallel-item:last-child::after {align-self: flex-start;width: 50%;}#sk-container-id-18 div.sk-parallel-item:only-child::after {width: 0;}#sk-container-id-18 div.sk-dashed-wrapped {border: 1px dashed gray;margin: 0 0.4em 0.5em 0.4em;box-sizing: border-box;padding-bottom: 0.4em;background-color: white;}#sk-container-id-18 div.sk-label label {font-family: monospace;font-weight: bold;display: inline-block;line-height: 1.2em;}#sk-container-id-18 div.sk-label-container {text-align: center;}#sk-container-id-18 div.sk-container {/* jupyter's `normalize.less` sets `[hidden] { display: none; }` but bootstrap.min.css set `[hidden] { display: none !important; }` so we also need the `!important` here to be able to override the default hidden behavior on the sphinx rendered scikit-learn.org. See: https://github.com/scikit-learn/scikit-learn/issues/21755 */display: inline-block !important;position: relative;}#sk-container-id-18 div.sk-text-repr-fallback {display: none;}</style><div id=\"sk-container-id-18\" class=\"sk-top-container\"><div class=\"sk-text-repr-fallback\"><pre>LogisticRegression(max_iter=300, multi_class=&#x27;ovr&#x27;, random_state=1,\n",
       "                   solver=&#x27;sag&#x27;)</pre><b>In a Jupyter environment, please rerun this cell to show the HTML representation or trust the notebook. <br />On GitHub, the HTML representation is unable to render, please try loading this page with nbviewer.org.</b></div><div class=\"sk-container\" hidden><div class=\"sk-item\"><div class=\"sk-estimator sk-toggleable\"><input class=\"sk-toggleable__control sk-hidden--visually\" id=\"sk-estimator-id-18\" type=\"checkbox\" checked><label for=\"sk-estimator-id-18\" class=\"sk-toggleable__label sk-toggleable__label-arrow\">LogisticRegression</label><div class=\"sk-toggleable__content\"><pre>LogisticRegression(max_iter=300, multi_class=&#x27;ovr&#x27;, random_state=1,\n",
       "                   solver=&#x27;sag&#x27;)</pre></div></div></div></div></div>"
      ],
      "text/plain": [
       "LogisticRegression(max_iter=300, multi_class='ovr', random_state=1,\n",
       "                   solver='sag')"
      ]
     },
     "execution_count": 77,
     "metadata": {},
     "output_type": "execute_result"
    }
   ],
   "source": [
    "# Train the Logistic Regression model using the resampled data\n",
    "from sklearn.linear_model import LogisticRegression\n",
    "\n",
    "model_SMOTE = LogisticRegression(solver='sag', max_iter=300, multi_class='ovr', random_state=1)\n",
    "\n",
    "model_SMOTE.fit(X_resampled, y_resampled)"
   ]
  },
  {
   "cell_type": "code",
   "execution_count": 78,
   "id": "c07b1fa1",
   "metadata": {},
   "outputs": [
    {
     "data": {
      "text/plain": [
       "0.6304412200177673"
      ]
     },
     "execution_count": 78,
     "metadata": {},
     "output_type": "execute_result"
    }
   ],
   "source": [
    "# Calculated the balanced accuracy score\n",
    "from sklearn.metrics import balanced_accuracy_score\n",
    "\n",
    "y_pred = model_SMOTE.predict(X_test)\n",
    "\n",
    "balanced_accuracy_score(y_test, y_pred)"
   ]
  },
  {
   "cell_type": "markdown",
   "id": "7ebfe05c",
   "metadata": {},
   "source": [
    "Combined sampling"
   ]
  },
  {
   "cell_type": "code",
   "execution_count": 79,
   "id": "b25954df",
   "metadata": {},
   "outputs": [
    {
     "data": {
      "text/plain": [
       "Counter({0: 2397, 1: 1897, 2: 2304})"
      ]
     },
     "execution_count": 79,
     "metadata": {},
     "output_type": "execute_result"
    }
   ],
   "source": [
    "# Resample the training data with SMOTEENN\n",
    "\n",
    "from imblearn.combine import SMOTEENN\n",
    "\n",
    "smote_enn = SMOTEENN(random_state=0)\n",
    "\n",
    "X_resampled, y_resampled = smote_enn.fit_resample(X, y)\n",
    "\n",
    "Counter(y_resampled['Price_Status'])"
   ]
  },
  {
   "cell_type": "code",
   "execution_count": 80,
   "id": "1986d398",
   "metadata": {},
   "outputs": [
    {
     "data": {
      "text/html": [
       "<style>#sk-container-id-19 {color: black;background-color: white;}#sk-container-id-19 pre{padding: 0;}#sk-container-id-19 div.sk-toggleable {background-color: white;}#sk-container-id-19 label.sk-toggleable__label {cursor: pointer;display: block;width: 100%;margin-bottom: 0;padding: 0.3em;box-sizing: border-box;text-align: center;}#sk-container-id-19 label.sk-toggleable__label-arrow:before {content: \"▸\";float: left;margin-right: 0.25em;color: #696969;}#sk-container-id-19 label.sk-toggleable__label-arrow:hover:before {color: black;}#sk-container-id-19 div.sk-estimator:hover label.sk-toggleable__label-arrow:before {color: black;}#sk-container-id-19 div.sk-toggleable__content {max-height: 0;max-width: 0;overflow: hidden;text-align: left;background-color: #f0f8ff;}#sk-container-id-19 div.sk-toggleable__content pre {margin: 0.2em;color: black;border-radius: 0.25em;background-color: #f0f8ff;}#sk-container-id-19 input.sk-toggleable__control:checked~div.sk-toggleable__content {max-height: 200px;max-width: 100%;overflow: auto;}#sk-container-id-19 input.sk-toggleable__control:checked~label.sk-toggleable__label-arrow:before {content: \"▾\";}#sk-container-id-19 div.sk-estimator input.sk-toggleable__control:checked~label.sk-toggleable__label {background-color: #d4ebff;}#sk-container-id-19 div.sk-label input.sk-toggleable__control:checked~label.sk-toggleable__label {background-color: #d4ebff;}#sk-container-id-19 input.sk-hidden--visually {border: 0;clip: rect(1px 1px 1px 1px);clip: rect(1px, 1px, 1px, 1px);height: 1px;margin: -1px;overflow: hidden;padding: 0;position: absolute;width: 1px;}#sk-container-id-19 div.sk-estimator {font-family: monospace;background-color: #f0f8ff;border: 1px dotted black;border-radius: 0.25em;box-sizing: border-box;margin-bottom: 0.5em;}#sk-container-id-19 div.sk-estimator:hover {background-color: #d4ebff;}#sk-container-id-19 div.sk-parallel-item::after {content: \"\";width: 100%;border-bottom: 1px solid gray;flex-grow: 1;}#sk-container-id-19 div.sk-label:hover label.sk-toggleable__label {background-color: #d4ebff;}#sk-container-id-19 div.sk-serial::before {content: \"\";position: absolute;border-left: 1px solid gray;box-sizing: border-box;top: 0;bottom: 0;left: 50%;z-index: 0;}#sk-container-id-19 div.sk-serial {display: flex;flex-direction: column;align-items: center;background-color: white;padding-right: 0.2em;padding-left: 0.2em;position: relative;}#sk-container-id-19 div.sk-item {position: relative;z-index: 1;}#sk-container-id-19 div.sk-parallel {display: flex;align-items: stretch;justify-content: center;background-color: white;position: relative;}#sk-container-id-19 div.sk-item::before, #sk-container-id-19 div.sk-parallel-item::before {content: \"\";position: absolute;border-left: 1px solid gray;box-sizing: border-box;top: 0;bottom: 0;left: 50%;z-index: -1;}#sk-container-id-19 div.sk-parallel-item {display: flex;flex-direction: column;z-index: 1;position: relative;background-color: white;}#sk-container-id-19 div.sk-parallel-item:first-child::after {align-self: flex-end;width: 50%;}#sk-container-id-19 div.sk-parallel-item:last-child::after {align-self: flex-start;width: 50%;}#sk-container-id-19 div.sk-parallel-item:only-child::after {width: 0;}#sk-container-id-19 div.sk-dashed-wrapped {border: 1px dashed gray;margin: 0 0.4em 0.5em 0.4em;box-sizing: border-box;padding-bottom: 0.4em;background-color: white;}#sk-container-id-19 div.sk-label label {font-family: monospace;font-weight: bold;display: inline-block;line-height: 1.2em;}#sk-container-id-19 div.sk-label-container {text-align: center;}#sk-container-id-19 div.sk-container {/* jupyter's `normalize.less` sets `[hidden] { display: none; }` but bootstrap.min.css set `[hidden] { display: none !important; }` so we also need the `!important` here to be able to override the default hidden behavior on the sphinx rendered scikit-learn.org. See: https://github.com/scikit-learn/scikit-learn/issues/21755 */display: inline-block !important;position: relative;}#sk-container-id-19 div.sk-text-repr-fallback {display: none;}</style><div id=\"sk-container-id-19\" class=\"sk-top-container\"><div class=\"sk-text-repr-fallback\"><pre>LogisticRegression(random_state=1, solver=&#x27;sag&#x27;)</pre><b>In a Jupyter environment, please rerun this cell to show the HTML representation or trust the notebook. <br />On GitHub, the HTML representation is unable to render, please try loading this page with nbviewer.org.</b></div><div class=\"sk-container\" hidden><div class=\"sk-item\"><div class=\"sk-estimator sk-toggleable\"><input class=\"sk-toggleable__control sk-hidden--visually\" id=\"sk-estimator-id-19\" type=\"checkbox\" checked><label for=\"sk-estimator-id-19\" class=\"sk-toggleable__label sk-toggleable__label-arrow\">LogisticRegression</label><div class=\"sk-toggleable__content\"><pre>LogisticRegression(random_state=1, solver=&#x27;sag&#x27;)</pre></div></div></div></div></div>"
      ],
      "text/plain": [
       "LogisticRegression(random_state=1, solver='sag')"
      ]
     },
     "execution_count": 80,
     "metadata": {},
     "output_type": "execute_result"
    }
   ],
   "source": [
    "# Train the Logistic Regression model using the resampled data\n",
    "model_combo = LogisticRegression(solver='sag', random_state=1)\n",
    "\n",
    "model_combo.fit(X_resampled, y_resampled)"
   ]
  },
  {
   "cell_type": "code",
   "execution_count": 81,
   "id": "9716ce3e",
   "metadata": {},
   "outputs": [
    {
     "data": {
      "text/plain": [
       "0.6361991247984734"
      ]
     },
     "execution_count": 81,
     "metadata": {},
     "output_type": "execute_result"
    }
   ],
   "source": [
    "# Calculated the balanced accuracy score\n",
    "y_pred = model_combo.predict(X_test)\n",
    "\n",
    "balanced_accuracy_score(y_test, y_pred)"
   ]
  },
  {
   "cell_type": "markdown",
   "id": "de9db0c8",
   "metadata": {},
   "source": [
    "Naive Bayes BernoulliNB"
   ]
  },
  {
   "cell_type": "code",
   "execution_count": 86,
   "id": "556d897b",
   "metadata": {},
   "outputs": [
    {
     "data": {
      "text/plain": [
       "0.6361991247984734"
      ]
     },
     "execution_count": 86,
     "metadata": {},
     "output_type": "execute_result"
    }
   ],
   "source": [
    "from sklearn.naive_bayes import BernoulliNB\n",
    "model_naive = BernoulliNB(fit_prior=True, alpha=0)\n",
    "model_naive.fit(X_train, y_train)\n",
    "model_naive.predict(X_test)\n",
    "balanced_accuracy_score(y_test,y_pred)"
   ]
  },
  {
   "cell_type": "code",
   "execution_count": null,
   "id": "22389961",
   "metadata": {},
   "outputs": [],
   "source": [
    "print(classification_report(y_test,y_pred))"
   ]
  },
  {
   "cell_type": "code",
   "execution_count": null,
   "id": "cf339c0e",
   "metadata": {},
   "outputs": [],
   "source": [
    "from sklearn.model_selection import cross_val_score\n",
    "scores = cross_val_score(model_naive, X, y, scoring='accuracy', n_jobs=-1)\n",
    "print (scores)"
   ]
  },
  {
   "cell_type": "code",
   "execution_count": null,
   "id": "70c9181c",
   "metadata": {},
   "outputs": [],
   "source": [
    "confusion_matrix(y_test, y_pred)"
   ]
  },
  {
   "cell_type": "code",
   "execution_count": null,
   "id": "b0f8d572",
   "metadata": {},
   "outputs": [],
   "source": []
  },
  {
   "cell_type": "code",
   "execution_count": null,
   "id": "6ef40b0e",
   "metadata": {},
   "outputs": [],
   "source": []
  },
  {
   "cell_type": "code",
   "execution_count": null,
   "id": "6c421b2a",
   "metadata": {},
   "outputs": [],
   "source": []
  },
  {
   "cell_type": "code",
   "execution_count": null,
   "id": "801905b2",
   "metadata": {},
   "outputs": [],
   "source": [
    "# heat map of feature correlation\n",
    "plt.rcParams['figure.figsize']=35,35\n",
    "g = sns.heatmap(df.corr(),annot=True, fmt = \".1f\")"
   ]
  },
  {
   "cell_type": "code",
   "execution_count": null,
   "id": "1cda0fb6",
   "metadata": {},
   "outputs": [],
   "source": [
    "# distribution plot of column\n",
    "sns.distplot(df['median_listing_price'])"
   ]
  },
  {
   "cell_type": "code",
   "execution_count": null,
   "id": "be6a7d70",
   "metadata": {},
   "outputs": [],
   "source": [
    "# convert Price_class to numeric, distribution of median_listing_price increase|decrease month/month\n",
    "df['Price_Status'] = df['Price_Status'].replace(['up','down'],['1','0'])\n",
    "sns.distplot(df['Price_Status'])"
   ]
  },
  {
   "cell_type": "code",
   "execution_count": null,
   "id": "42bd7b6f",
   "metadata": {},
   "outputs": [],
   "source": [
    "# Reference code for heatmaps :https://www.kaggle.com/code/bsivavenu/house-price-calculation-methods-for-beginners\n",
    "\n",
    "# most correlated features\n",
    "corrmat = df.corr()\n",
    "top_corr_features = corrmat.index[abs(corrmat[\"median_listing_price\"])>0.30]\n",
    "plt.figure(figsize=(10,10))\n",
    "g = sns.heatmap(df[top_corr_features].corr(),annot=True,cmap=\"mako\")"
   ]
  },
  {
   "cell_type": "code",
   "execution_count": null,
   "id": "be902be7",
   "metadata": {},
   "outputs": [],
   "source": [
    "# seaborn linear regression fit: median listing price vs median square feet\n",
    "sns.jointplot(data=df, x=\"median_listing_price\", y=\"median_square_feet\", kind=\"reg\")\n",
    "\n",
    "# outliers present"
   ]
  },
  {
   "cell_type": "code",
   "execution_count": null,
   "id": "c5e34dc2",
   "metadata": {},
   "outputs": [],
   "source": [
    "#median_listing_price vs average listing price\n",
    "sns.jointplot(data=df, x=\"median_listing_price\", y=\"average_listing_price\", kind=\"reg\")"
   ]
  },
  {
   "cell_type": "code",
   "execution_count": null,
   "id": "8accea62",
   "metadata": {},
   "outputs": [],
   "source": [
    "#median listing price vs Year\n",
    "sns.jointplot(data=df, x=\"median_listing_price\", y=\"Year\", kind=\"reg\")"
   ]
  },
  {
   "cell_type": "code",
   "execution_count": null,
   "id": "66974d08",
   "metadata": {},
   "outputs": [],
   "source": [
    "# Find Missing Ratio of Dataset\n",
    "# reference: https://stackoverflow.com/questions/51070985/find-out-the-percentage-of-missing-values-in-each-column-in-the-given-dataset\n",
    "#percent_missing = df.isnull().sum() * 100 / len(df)\n",
    "#missing_value_df = pd.DataFrame({'column_name': df.columns,\n",
    "                                 #'percent_missing': percent_missing})\n",
    "#missing_value_df"
   ]
  },
  {
   "cell_type": "code",
   "execution_count": null,
   "id": "d8adbf4e",
   "metadata": {},
   "outputs": [],
   "source": [
    "# reference\n",
    "# https://www.kaggle.com/code/kanncaa1/machine-learning-tutorial-for-beginners/notebook\n",
    "#https://www.kaggle.com/code/erick5/predicting-house-prices-with-machine-learning/notebook"
   ]
  },
  {
   "cell_type": "code",
   "execution_count": null,
   "id": "eea96774",
   "metadata": {},
   "outputs": [],
   "source": []
  },
  {
   "cell_type": "code",
   "execution_count": null,
   "id": "065f620a",
   "metadata": {},
   "outputs": [],
   "source": []
  }
 ],
 "metadata": {
  "kernelspec": {
   "display_name": "mlenv3",
   "language": "python",
   "name": "mlenv3"
  },
  "language_info": {
   "codemirror_mode": {
    "name": "ipython",
    "version": 3
   },
   "file_extension": ".py",
   "mimetype": "text/x-python",
   "name": "python",
   "nbconvert_exporter": "python",
   "pygments_lexer": "ipython3",
   "version": "3.8.13"
  }
 },
 "nbformat": 4,
 "nbformat_minor": 5
}
