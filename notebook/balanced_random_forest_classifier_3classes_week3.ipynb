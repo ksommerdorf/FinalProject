{
 "cells": [
  {
   "cell_type": "code",
   "execution_count": 1,
   "id": "10ba8193",
   "metadata": {},
   "outputs": [],
   "source": [
    "import warnings\n",
    "warnings.filterwarnings('ignore')\n",
    "import numpy as np\n",
    "import pandas as pd\n",
    "from pathlib import Path\n",
    "from collections import Counter\n",
    "import matplotlib.pyplot as plt\n",
    "import seaborn as sns"
   ]
  },
  {
   "cell_type": "code",
   "execution_count": 2,
   "id": "09981171",
   "metadata": {},
   "outputs": [],
   "source": [
    "from sklearn.metrics import balanced_accuracy_score\n",
    "from sklearn.metrics import confusion_matrix\n",
    "from sklearn.metrics import classification_report"
   ]
  },
  {
   "cell_type": "markdown",
   "id": "eb5f269e",
   "metadata": {},
   "source": [
    "Read the CSV and Perform Basic Data Cleaning"
   ]
  },
  {
   "cell_type": "code",
   "execution_count": 3,
   "id": "d46a365d",
   "metadata": {},
   "outputs": [
    {
     "data": {
      "text/plain": [
       "7196"
      ]
     },
     "execution_count": 3,
     "metadata": {},
     "output_type": "execute_result"
    }
   ],
   "source": [
    "df = pd.read_csv(r'C:\\Users\\earth\\Desktop\\class_folder\\FinalProject\\Resources\\final_table.csv')\n",
    "df= df.sort_values('County')\n",
    "df.head()\n",
    "len(df)"
   ]
  },
  {
   "cell_type": "code",
   "execution_count": 4,
   "id": "d7f179a7",
   "metadata": {},
   "outputs": [],
   "source": [
    "# Class column based on percent change from 'median_listing_price_mm' : reference:https://stackoverflow.com/questions/21702342/creating-a-new-column-based-on-if-elif-else-condition\n",
    "def f(row):\n",
    "    if row['median_listing_price_mm'] == 0:\n",
    "        val = 0 # same\n",
    "    elif row['median_listing_price_mm'] > 0:\n",
    "        val = 2 # up\n",
    "    else:\n",
    "        val = 1 # down\n",
    "    return val"
   ]
  },
  {
   "cell_type": "code",
   "execution_count": 5,
   "id": "00278e95",
   "metadata": {},
   "outputs": [
    {
     "data": {
      "text/html": [
       "<div>\n",
       "<style scoped>\n",
       "    .dataframe tbody tr th:only-of-type {\n",
       "        vertical-align: middle;\n",
       "    }\n",
       "\n",
       "    .dataframe tbody tr th {\n",
       "        vertical-align: top;\n",
       "    }\n",
       "\n",
       "    .dataframe thead th {\n",
       "        text-align: right;\n",
       "    }\n",
       "</style>\n",
       "<table border=\"1\" class=\"dataframe\">\n",
       "  <thead>\n",
       "    <tr style=\"text-align: right;\">\n",
       "      <th></th>\n",
       "      <th>Date</th>\n",
       "      <th>Year</th>\n",
       "      <th>County</th>\n",
       "      <th>median_listing_price</th>\n",
       "      <th>active_listing_count</th>\n",
       "      <th>median_days_on_market</th>\n",
       "      <th>new_listing_count</th>\n",
       "      <th>price_increased_count</th>\n",
       "      <th>price_reduced_count</th>\n",
       "      <th>median_square_feet</th>\n",
       "      <th>average_listing_price</th>\n",
       "      <th>total_listing_count</th>\n",
       "      <th>violent_crime_rate</th>\n",
       "      <th>30_Year_Fixed_Rate</th>\n",
       "      <th>Number_of_Schools</th>\n",
       "      <th>median_listing_price_mm</th>\n",
       "      <th>Number_of_Parks</th>\n",
       "      <th>Price_Status</th>\n",
       "    </tr>\n",
       "  </thead>\n",
       "  <tbody>\n",
       "    <tr>\n",
       "      <th>2417</th>\n",
       "      <td>2020-06</td>\n",
       "      <td>2020</td>\n",
       "      <td>Alamance</td>\n",
       "      <td>282450.0</td>\n",
       "      <td>423.0</td>\n",
       "      <td>53.0</td>\n",
       "      <td>352.0</td>\n",
       "      <td>28.0</td>\n",
       "      <td>124.0</td>\n",
       "      <td>2235.0</td>\n",
       "      <td>350926.0</td>\n",
       "      <td>699.0</td>\n",
       "      <td>505.50</td>\n",
       "      <td>3.16</td>\n",
       "      <td>NaN</td>\n",
       "      <td>0.012366</td>\n",
       "      <td>54.0</td>\n",
       "      <td>2</td>\n",
       "    </tr>\n",
       "    <tr>\n",
       "      <th>2982</th>\n",
       "      <td>2020-01</td>\n",
       "      <td>2020</td>\n",
       "      <td>Alamance</td>\n",
       "      <td>246798.0</td>\n",
       "      <td>566.0</td>\n",
       "      <td>75.0</td>\n",
       "      <td>256.0</td>\n",
       "      <td>12.0</td>\n",
       "      <td>172.0</td>\n",
       "      <td>1953.0</td>\n",
       "      <td>288490.0</td>\n",
       "      <td>743.0</td>\n",
       "      <td>505.50</td>\n",
       "      <td>3.62</td>\n",
       "      <td>NaN</td>\n",
       "      <td>0.037269</td>\n",
       "      <td>54.0</td>\n",
       "      <td>2</td>\n",
       "    </tr>\n",
       "    <tr>\n",
       "      <th>4046</th>\n",
       "      <td>2019-02</td>\n",
       "      <td>2019</td>\n",
       "      <td>Alamance</td>\n",
       "      <td>255000.0</td>\n",
       "      <td>681.0</td>\n",
       "      <td>101.0</td>\n",
       "      <td>320.0</td>\n",
       "      <td>32.0</td>\n",
       "      <td>152.0</td>\n",
       "      <td>2181.0</td>\n",
       "      <td>286615.0</td>\n",
       "      <td>780.0</td>\n",
       "      <td>420.2</td>\n",
       "      <td>4.37</td>\n",
       "      <td>NaN</td>\n",
       "      <td>0.043235</td>\n",
       "      <td>54.0</td>\n",
       "      <td>2</td>\n",
       "    </tr>\n",
       "    <tr>\n",
       "      <th>1274</th>\n",
       "      <td>2021-06</td>\n",
       "      <td>2021</td>\n",
       "      <td>Alamance</td>\n",
       "      <td>280000.0</td>\n",
       "      <td>197.0</td>\n",
       "      <td>20.0</td>\n",
       "      <td>388.0</td>\n",
       "      <td>12.0</td>\n",
       "      <td>48.0</td>\n",
       "      <td>1892.0</td>\n",
       "      <td>411055.0</td>\n",
       "      <td>569.0</td>\n",
       "      <td>NaN</td>\n",
       "      <td>2.98</td>\n",
       "      <td>NaN</td>\n",
       "      <td>0.018182</td>\n",
       "      <td>54.0</td>\n",
       "      <td>2</td>\n",
       "    </tr>\n",
       "    <tr>\n",
       "      <th>4981</th>\n",
       "      <td>2018-05</td>\n",
       "      <td>2018</td>\n",
       "      <td>Alamance</td>\n",
       "      <td>239900.0</td>\n",
       "      <td>809.0</td>\n",
       "      <td>64.0</td>\n",
       "      <td>408.0</td>\n",
       "      <td>48.0</td>\n",
       "      <td>200.0</td>\n",
       "      <td>2069.0</td>\n",
       "      <td>273460.0</td>\n",
       "      <td>956.0</td>\n",
       "      <td>419.9</td>\n",
       "      <td>4.59</td>\n",
       "      <td>94.0</td>\n",
       "      <td>NaN</td>\n",
       "      <td>54.0</td>\n",
       "      <td>1</td>\n",
       "    </tr>\n",
       "  </tbody>\n",
       "</table>\n",
       "</div>"
      ],
      "text/plain": [
       "         Date  Year    County  median_listing_price  active_listing_count  \\\n",
       "2417  2020-06  2020  Alamance              282450.0                 423.0   \n",
       "2982  2020-01  2020  Alamance              246798.0                 566.0   \n",
       "4046  2019-02  2019  Alamance              255000.0                 681.0   \n",
       "1274  2021-06  2021  Alamance              280000.0                 197.0   \n",
       "4981  2018-05  2018  Alamance              239900.0                 809.0   \n",
       "\n",
       "      median_days_on_market  new_listing_count  price_increased_count  \\\n",
       "2417                   53.0              352.0                   28.0   \n",
       "2982                   75.0              256.0                   12.0   \n",
       "4046                  101.0              320.0                   32.0   \n",
       "1274                   20.0              388.0                   12.0   \n",
       "4981                   64.0              408.0                   48.0   \n",
       "\n",
       "      price_reduced_count  median_square_feet  average_listing_price  \\\n",
       "2417                124.0              2235.0               350926.0   \n",
       "2982                172.0              1953.0               288490.0   \n",
       "4046                152.0              2181.0               286615.0   \n",
       "1274                 48.0              1892.0               411055.0   \n",
       "4981                200.0              2069.0               273460.0   \n",
       "\n",
       "      total_listing_count violent_crime_rate  30_Year_Fixed_Rate  \\\n",
       "2417                699.0             505.50                3.16   \n",
       "2982                743.0             505.50                3.62   \n",
       "4046                780.0              420.2                4.37   \n",
       "1274                569.0                NaN                2.98   \n",
       "4981                956.0              419.9                4.59   \n",
       "\n",
       "      Number_of_Schools  median_listing_price_mm  Number_of_Parks  \\\n",
       "2417                NaN                 0.012366             54.0   \n",
       "2982                NaN                 0.037269             54.0   \n",
       "4046                NaN                 0.043235             54.0   \n",
       "1274                NaN                 0.018182             54.0   \n",
       "4981               94.0                      NaN             54.0   \n",
       "\n",
       "      Price_Status  \n",
       "2417             2  \n",
       "2982             2  \n",
       "4046             2  \n",
       "1274             2  \n",
       "4981             1  "
      ]
     },
     "execution_count": 5,
     "metadata": {},
     "output_type": "execute_result"
    }
   ],
   "source": [
    "df['Price_Status'] = df.apply(f, axis=1)\n",
    "df.head()"
   ]
  },
  {
   "cell_type": "code",
   "execution_count": 6,
   "id": "3098f5f3",
   "metadata": {},
   "outputs": [],
   "source": [
    "# convert county names to numbers ,dictionary of county names with values\n",
    "county_names = df.County.unique()\n",
    "county_di = dict(zip(county_names, range(len(county_names))))\n",
    "#county_di"
   ]
  },
  {
   "cell_type": "code",
   "execution_count": 7,
   "id": "fdf5b83f",
   "metadata": {},
   "outputs": [
    {
     "data": {
      "text/html": [
       "<div>\n",
       "<style scoped>\n",
       "    .dataframe tbody tr th:only-of-type {\n",
       "        vertical-align: middle;\n",
       "    }\n",
       "\n",
       "    .dataframe tbody tr th {\n",
       "        vertical-align: top;\n",
       "    }\n",
       "\n",
       "    .dataframe thead th {\n",
       "        text-align: right;\n",
       "    }\n",
       "</style>\n",
       "<table border=\"1\" class=\"dataframe\">\n",
       "  <thead>\n",
       "    <tr style=\"text-align: right;\">\n",
       "      <th></th>\n",
       "      <th>Date</th>\n",
       "      <th>Year</th>\n",
       "      <th>County</th>\n",
       "      <th>median_listing_price</th>\n",
       "      <th>active_listing_count</th>\n",
       "      <th>median_days_on_market</th>\n",
       "      <th>new_listing_count</th>\n",
       "      <th>price_increased_count</th>\n",
       "      <th>price_reduced_count</th>\n",
       "      <th>median_square_feet</th>\n",
       "      <th>average_listing_price</th>\n",
       "      <th>total_listing_count</th>\n",
       "      <th>violent_crime_rate</th>\n",
       "      <th>30_Year_Fixed_Rate</th>\n",
       "      <th>Number_of_Schools</th>\n",
       "      <th>median_listing_price_mm</th>\n",
       "      <th>Number_of_Parks</th>\n",
       "      <th>Price_Status</th>\n",
       "    </tr>\n",
       "  </thead>\n",
       "  <tbody>\n",
       "    <tr>\n",
       "      <th>2417</th>\n",
       "      <td>2020-06</td>\n",
       "      <td>2020</td>\n",
       "      <td>0</td>\n",
       "      <td>282450.0</td>\n",
       "      <td>423.0</td>\n",
       "      <td>53.0</td>\n",
       "      <td>352.0</td>\n",
       "      <td>28.0</td>\n",
       "      <td>124.0</td>\n",
       "      <td>2235.0</td>\n",
       "      <td>350926.0</td>\n",
       "      <td>699.0</td>\n",
       "      <td>505.50</td>\n",
       "      <td>3.16</td>\n",
       "      <td>NaN</td>\n",
       "      <td>0.012366</td>\n",
       "      <td>54.0</td>\n",
       "      <td>2</td>\n",
       "    </tr>\n",
       "    <tr>\n",
       "      <th>2982</th>\n",
       "      <td>2020-01</td>\n",
       "      <td>2020</td>\n",
       "      <td>0</td>\n",
       "      <td>246798.0</td>\n",
       "      <td>566.0</td>\n",
       "      <td>75.0</td>\n",
       "      <td>256.0</td>\n",
       "      <td>12.0</td>\n",
       "      <td>172.0</td>\n",
       "      <td>1953.0</td>\n",
       "      <td>288490.0</td>\n",
       "      <td>743.0</td>\n",
       "      <td>505.50</td>\n",
       "      <td>3.62</td>\n",
       "      <td>NaN</td>\n",
       "      <td>0.037269</td>\n",
       "      <td>54.0</td>\n",
       "      <td>2</td>\n",
       "    </tr>\n",
       "    <tr>\n",
       "      <th>4046</th>\n",
       "      <td>2019-02</td>\n",
       "      <td>2019</td>\n",
       "      <td>0</td>\n",
       "      <td>255000.0</td>\n",
       "      <td>681.0</td>\n",
       "      <td>101.0</td>\n",
       "      <td>320.0</td>\n",
       "      <td>32.0</td>\n",
       "      <td>152.0</td>\n",
       "      <td>2181.0</td>\n",
       "      <td>286615.0</td>\n",
       "      <td>780.0</td>\n",
       "      <td>420.2</td>\n",
       "      <td>4.37</td>\n",
       "      <td>NaN</td>\n",
       "      <td>0.043235</td>\n",
       "      <td>54.0</td>\n",
       "      <td>2</td>\n",
       "    </tr>\n",
       "    <tr>\n",
       "      <th>1274</th>\n",
       "      <td>2021-06</td>\n",
       "      <td>2021</td>\n",
       "      <td>0</td>\n",
       "      <td>280000.0</td>\n",
       "      <td>197.0</td>\n",
       "      <td>20.0</td>\n",
       "      <td>388.0</td>\n",
       "      <td>12.0</td>\n",
       "      <td>48.0</td>\n",
       "      <td>1892.0</td>\n",
       "      <td>411055.0</td>\n",
       "      <td>569.0</td>\n",
       "      <td>NaN</td>\n",
       "      <td>2.98</td>\n",
       "      <td>NaN</td>\n",
       "      <td>0.018182</td>\n",
       "      <td>54.0</td>\n",
       "      <td>2</td>\n",
       "    </tr>\n",
       "    <tr>\n",
       "      <th>4981</th>\n",
       "      <td>2018-05</td>\n",
       "      <td>2018</td>\n",
       "      <td>0</td>\n",
       "      <td>239900.0</td>\n",
       "      <td>809.0</td>\n",
       "      <td>64.0</td>\n",
       "      <td>408.0</td>\n",
       "      <td>48.0</td>\n",
       "      <td>200.0</td>\n",
       "      <td>2069.0</td>\n",
       "      <td>273460.0</td>\n",
       "      <td>956.0</td>\n",
       "      <td>419.9</td>\n",
       "      <td>4.59</td>\n",
       "      <td>94.0</td>\n",
       "      <td>NaN</td>\n",
       "      <td>54.0</td>\n",
       "      <td>1</td>\n",
       "    </tr>\n",
       "  </tbody>\n",
       "</table>\n",
       "</div>"
      ],
      "text/plain": [
       "         Date  Year  County  median_listing_price  active_listing_count  \\\n",
       "2417  2020-06  2020       0              282450.0                 423.0   \n",
       "2982  2020-01  2020       0              246798.0                 566.0   \n",
       "4046  2019-02  2019       0              255000.0                 681.0   \n",
       "1274  2021-06  2021       0              280000.0                 197.0   \n",
       "4981  2018-05  2018       0              239900.0                 809.0   \n",
       "\n",
       "      median_days_on_market  new_listing_count  price_increased_count  \\\n",
       "2417                   53.0              352.0                   28.0   \n",
       "2982                   75.0              256.0                   12.0   \n",
       "4046                  101.0              320.0                   32.0   \n",
       "1274                   20.0              388.0                   12.0   \n",
       "4981                   64.0              408.0                   48.0   \n",
       "\n",
       "      price_reduced_count  median_square_feet  average_listing_price  \\\n",
       "2417                124.0              2235.0               350926.0   \n",
       "2982                172.0              1953.0               288490.0   \n",
       "4046                152.0              2181.0               286615.0   \n",
       "1274                 48.0              1892.0               411055.0   \n",
       "4981                200.0              2069.0               273460.0   \n",
       "\n",
       "      total_listing_count violent_crime_rate  30_Year_Fixed_Rate  \\\n",
       "2417                699.0             505.50                3.16   \n",
       "2982                743.0             505.50                3.62   \n",
       "4046                780.0              420.2                4.37   \n",
       "1274                569.0                NaN                2.98   \n",
       "4981                956.0              419.9                4.59   \n",
       "\n",
       "      Number_of_Schools  median_listing_price_mm  Number_of_Parks  \\\n",
       "2417                NaN                 0.012366             54.0   \n",
       "2982                NaN                 0.037269             54.0   \n",
       "4046                NaN                 0.043235             54.0   \n",
       "1274                NaN                 0.018182             54.0   \n",
       "4981               94.0                      NaN             54.0   \n",
       "\n",
       "      Price_Status  \n",
       "2417             2  \n",
       "2982             2  \n",
       "4046             2  \n",
       "1274             2  \n",
       "4981             1  "
      ]
     },
     "execution_count": 7,
     "metadata": {},
     "output_type": "execute_result"
    }
   ],
   "source": [
    "# county names with #'s'\n",
    "df_num = df.copy()\n",
    "df_num['County'].replace(county_di, inplace=True)\n",
    "df_num.head()"
   ]
  },
  {
   "cell_type": "code",
   "execution_count": 8,
   "id": "058f04bb",
   "metadata": {},
   "outputs": [
    {
     "data": {
      "text/plain": [
       "Date                        object\n",
       "Year                         int64\n",
       "County                       int64\n",
       "median_listing_price       float64\n",
       "active_listing_count       float64\n",
       "median_days_on_market      float64\n",
       "new_listing_count          float64\n",
       "price_increased_count      float64\n",
       "price_reduced_count        float64\n",
       "median_square_feet         float64\n",
       "average_listing_price      float64\n",
       "total_listing_count        float64\n",
       "violent_crime_rate         float64\n",
       "30_Year_Fixed_Rate         float64\n",
       "Number_of_Schools          float64\n",
       "median_listing_price_mm    float64\n",
       "Number_of_Parks            float64\n",
       "Price_Status                 int64\n",
       "dtype: object"
      ]
     },
     "execution_count": 8,
     "metadata": {},
     "output_type": "execute_result"
    }
   ],
   "source": [
    "df_num['violent_crime_rate'] = df_num['violent_crime_rate'].str.replace(',','').astype(float)\n",
    "df_num.dtypes\n"
   ]
  },
  {
   "cell_type": "code",
   "execution_count": 9,
   "id": "c15abb0b",
   "metadata": {},
   "outputs": [],
   "source": [
    "filter_df = df_num[df_num['Year'] <2019]\n",
    "#filter_df[\"Year\"].unique()"
   ]
  },
  {
   "cell_type": "code",
   "execution_count": 10,
   "id": "eee32972",
   "metadata": {},
   "outputs": [
    {
     "data": {
      "text/plain": [
       "3000"
      ]
     },
     "execution_count": 10,
     "metadata": {},
     "output_type": "execute_result"
    }
   ],
   "source": [
    "\n",
    "len(filter_df)\n"
   ]
  },
  {
   "cell_type": "code",
   "execution_count": null,
   "id": "e122b9c2",
   "metadata": {},
   "outputs": [],
   "source": [
    "# leave 'median_listing_price' in columns? Price_Status is classifier for median_listing_price (increased(up)/decreased(down))\n",
    "columns = [\n",
    "    \"Date\", \"Year\", \"County\", \"median_listing_price\",\n",
    "    \"active_listing_count\", \"median_days_on_market\", \"new_listing_count\",\n",
    "    \"price_increased_count\", \"price_reduced_count\", \"median_square_feet\",\n",
    "    \"total_listing_count\", \"violent_crime_rate\",\"Number_of_Parks\",\n",
    "    \"Number_of_Schools\",\"30_Year_Fixed_Rate\", \n",
    "     \"Price_Status\"]\n",
    "\n",
    "# conditional column 'Price_status' is condition on 'median_listing...mm' which is \"the percentage change\n",
    "# in the median listing price from the previous month.\" An increase is 'up', decrease is 'down'.\n",
    "\n",
    "# df['Price_Status'] = np.where(df['median_listing_price_mm']>=0, 'up', 'down')\n",
    "\n",
    "\n",
    "# https://www.realtor.com/research/data/\n",
    "\n",
    "target = [\"Price_Status\"]"
   ]
  },
  {
   "cell_type": "code",
   "execution_count": null,
   "id": "5fcfb5c1",
   "metadata": {},
   "outputs": [],
   "source": [
    "# Load the data\n",
    "\n",
    "df_data = filter_df.loc[:, columns].copy()\n",
    "df_data = df_data.dropna()\n",
    "\n",
    "df_data.reset_index(inplace=True, drop=True)\n",
    "\n",
    "df_data.head()\n",
    "df_data.isnull().sum()"
   ]
  },
  {
   "cell_type": "markdown",
   "id": "115bdf03",
   "metadata": {},
   "source": [
    "Split the Data into Training and Testing"
   ]
  },
  {
   "cell_type": "code",
   "execution_count": null,
   "id": "4413c1c3",
   "metadata": {},
   "outputs": [],
   "source": [
    "# Create our features\n",
    "X = df_data.drop('Price_Status', axis=1)\n",
    "\n",
    "X = pd.get_dummies(X)\n",
    "\n",
    "# Create our target\n",
    "y = df_data.loc[:, target].copy()\n",
    "\n"
   ]
  },
  {
   "cell_type": "code",
   "execution_count": null,
   "id": "2b68aecc",
   "metadata": {},
   "outputs": [],
   "source": [
    "X.describe()\n"
   ]
  },
  {
   "cell_type": "code",
   "execution_count": null,
   "id": "3bd823a3",
   "metadata": {},
   "outputs": [],
   "source": [
    "# Check the balance of our target values\n",
    "y.value_counts()"
   ]
  },
  {
   "cell_type": "code",
   "execution_count": null,
   "id": "27bc11e6",
   "metadata": {},
   "outputs": [],
   "source": [
    "from sklearn.model_selection import train_test_split\n",
    "X_train, X_test, y_train, y_test = train_test_split(X, \n",
    "                                                    y, \n",
    "                                                    random_state=1, \n",
    "                                                  stratify=y)\n",
    "X_train.shape\n"
   ]
  },
  {
   "cell_type": "markdown",
   "id": "5ea496dc",
   "metadata": {},
   "source": [
    "Balanced Random Forest Classifier¶"
   ]
  },
  {
   "cell_type": "code",
   "execution_count": null,
   "id": "7840dc2e",
   "metadata": {},
   "outputs": [],
   "source": [
    "# Resample the training data with the BalancedRandomForestClassifier\n",
    "from imblearn.ensemble import BalancedRandomForestClassifier\n",
    "from sklearn.metrics import accuracy_score\n",
    "rf_model = BalancedRandomForestClassifier(n_estimators=1000, random_state=1) \n",
    "rf_model = rf_model.fit(X_train, y_train)\n",
    "Counter(y_train['Price_Status'])"
   ]
  },
  {
   "cell_type": "code",
   "execution_count": null,
   "id": "6a7402da",
   "metadata": {},
   "outputs": [],
   "source": [
    "# Display the confusion matrix\n",
    "from sklearn.metrics import confusion_matrix\n",
    "\n",
    "y_pred = rf_model.predict(X_test)\n",
    "accuracy_score(y_test, y_pred)\n"
   ]
  },
  {
   "cell_type": "code",
   "execution_count": null,
   "id": "f7c477c3",
   "metadata": {},
   "outputs": [],
   "source": [
    "# Calculated the balanced accuracy score\n",
    "#from sklearn.metrics import balanced_accuracy_score\n",
    "\n",
    "#balanced_accuracy_score(y_test, y_pred)\n",
    "\n"
   ]
  },
  {
   "cell_type": "code",
   "execution_count": null,
   "id": "63d6a0d1",
   "metadata": {},
   "outputs": [],
   "source": [
    "# Print the imbalanced classification report\n",
    "from imblearn.metrics import classification_report_imbalanced\n",
    "print(classification_report_imbalanced(y_test, y_pred))"
   ]
  },
  {
   "cell_type": "code",
   "execution_count": null,
   "id": "6f4d0a50",
   "metadata": {},
   "outputs": [],
   "source": [
    "# List the features sorted in descending order by feature importance\n",
    "sorted(zip(rf_model.feature_importances_, X.columns), reverse=True)\n",
    "\n",
    "\n",
    "\n"
   ]
  },
  {
   "cell_type": "code",
   "execution_count": null,
   "id": "85c51cbc",
   "metadata": {},
   "outputs": [],
   "source": [
    "from sklearn.ensemble import AdaBoostClassifier,GradientBoostingClassifier"
   ]
  },
  {
   "cell_type": "code",
   "execution_count": null,
   "id": "75188d23",
   "metadata": {},
   "outputs": [],
   "source": [
    "ad_model = AdaBoostClassifier(n_estimators=1000, random_state=1) \n",
    "ad_model = ad_model.fit(X_train, y_train)\n",
    "y_pred = ad_model.predict(X_test)\n",
    "accuracy_score(y_test, y_pred)"
   ]
  },
  {
   "cell_type": "code",
   "execution_count": null,
   "id": "2871fa00",
   "metadata": {},
   "outputs": [],
   "source": [
    "gb_model = GradientBoostingClassifier(n_estimators=1000, random_state=1) \n",
    "gb_model = gb_model.fit(X_train, y_train)\n",
    "y_pred = gb_model.predict(X_test)\n",
    "accuracy_score(y_test, y_pred)"
   ]
  },
  {
   "cell_type": "markdown",
   "id": "1ca96a3a",
   "metadata": {},
   "source": [
    "Nearest Centroid Classifier "
   ]
  },
  {
   "cell_type": "code",
   "execution_count": null,
   "id": "e85b82d2",
   "metadata": {},
   "outputs": [],
   "source": [
    " from sklearn.neighbors import NearestCentroid\n",
    "nc_model = NearestCentroid()\n",
    "nc_model.fit(X_train, y_train)\n",
    "y_pred = nc_model.predict(X_test)\n",
    "accuracy_score(y_test, y_pred)"
   ]
  },
  {
   "cell_type": "markdown",
   "id": "df5600fd",
   "metadata": {},
   "source": [
    "SMOTE Oversampling"
   ]
  },
  {
   "cell_type": "code",
   "execution_count": null,
   "id": "4eef775e",
   "metadata": {},
   "outputs": [],
   "source": [
    "# Resample the training data with SMOTE\n",
    "from imblearn.over_sampling import SMOTE\n",
    "\n",
    "X_resampled, y_resampled = SMOTE(random_state=1, sampling_strategy='auto').fit_resample(\n",
    "    X_train, y_train)\n",
    "\n",
    "Counter(y_resampled['Price_Status'])"
   ]
  },
  {
   "cell_type": "code",
   "execution_count": null,
   "id": "8bcce496",
   "metadata": {},
   "outputs": [],
   "source": [
    "# Train the random forest classifier model using the resampled data\n",
    "model_SMOTE =rf_model\n",
    "\n",
    "model_SMOTE.fit(X_resampled, y_resampled)"
   ]
  },
  {
   "cell_type": "code",
   "execution_count": null,
   "id": "d9cfa92d",
   "metadata": {},
   "outputs": [],
   "source": [
    "# Calculated the balanced accuracy score\n",
    "y_pred = model_SMOTE.predict(X_test)\n",
    "\n",
    "balanced_accuracy_score(y_test, y_pred)"
   ]
  },
  {
   "cell_type": "markdown",
   "id": "419e241c",
   "metadata": {},
   "source": [
    "AdaBoostClassifier SMOTE train"
   ]
  },
  {
   "cell_type": "code",
   "execution_count": null,
   "id": "dd46bbf0",
   "metadata": {},
   "outputs": [],
   "source": [
    "# Train the adaboost classifier model using the resampled data\n",
    "model_SMOTE =ad_model\n",
    "\n",
    "model_SMOTE.fit(X_resampled, y_resampled)"
   ]
  },
  {
   "cell_type": "code",
   "execution_count": null,
   "id": "d58c276a",
   "metadata": {},
   "outputs": [],
   "source": [
    "# Calculated the balanced accuracy score\n",
    "y_pred = model_SMOTE.predict(X_test)\n",
    "\n",
    "balanced_accuracy_score(y_test, y_pred)"
   ]
  },
  {
   "cell_type": "markdown",
   "id": "0a5db571",
   "metadata": {},
   "source": [
    "SMOTE LogisticRegression"
   ]
  },
  {
   "cell_type": "code",
   "execution_count": null,
   "id": "7f66a5b7",
   "metadata": {},
   "outputs": [],
   "source": [
    "# Resample the training data with SMOTE\n",
    "from imblearn.over_sampling import SMOTE\n",
    "\n",
    "X_resampled, y_resampled = SMOTE(random_state=1, sampling_strategy='auto').fit_resample(\n",
    "    X_train, y_train)\n",
    "\n",
    "Counter(y_resampled['Price_Status'])"
   ]
  },
  {
   "cell_type": "code",
   "execution_count": null,
   "id": "2a3364f5",
   "metadata": {},
   "outputs": [],
   "source": [
    "# Train the Logistic Regression model using the resampled data\n",
    "from sklearn.linear_model import LogisticRegression\n",
    "\n",
    "model_SMOTE = LogisticRegression(solver='lbfgs', random_state=1)\n",
    "\n",
    "model_SMOTE.fit(X_resampled, y_resampled)"
   ]
  },
  {
   "cell_type": "code",
   "execution_count": null,
   "id": "c07b1fa1",
   "metadata": {},
   "outputs": [],
   "source": [
    "# Calculated the balanced accuracy score\n",
    "from sklearn.metrics import balanced_accuracy_score\n",
    "\n",
    "y_pred = model_SMOTE.predict(X_test)\n",
    "\n",
    "balanced_accuracy_score(y_test, y_pred)"
   ]
  },
  {
   "cell_type": "markdown",
   "id": "7ebfe05c",
   "metadata": {},
   "source": [
    "Combined sampling"
   ]
  },
  {
   "cell_type": "code",
   "execution_count": null,
   "id": "b25954df",
   "metadata": {},
   "outputs": [],
   "source": [
    "# Resample the training data with SMOTEENN\n",
    "\n",
    "from imblearn.combine import SMOTEENN\n",
    "\n",
    "smote_enn = SMOTEENN(random_state=0)\n",
    "\n",
    "X_resampled, y_resampled = smote_enn.fit_resample(X, y)\n",
    "\n",
    "Counter(y_resampled['Price_Status'])"
   ]
  },
  {
   "cell_type": "code",
   "execution_count": null,
   "id": "1986d398",
   "metadata": {},
   "outputs": [],
   "source": [
    "# Train the Logistic Regression model using the resampled data\n",
    "model_combo = LogisticRegression(solver='lbfgs', random_state=1)\n",
    "\n",
    "model_combo.fit(X_resampled, y_resampled)"
   ]
  },
  {
   "cell_type": "code",
   "execution_count": null,
   "id": "9716ce3e",
   "metadata": {},
   "outputs": [],
   "source": [
    "# Calculated the balanced accuracy score\n",
    "y_pred = model_combo.predict(X_test)\n",
    "\n",
    "balanced_accuracy_score(y_test, y_pred)"
   ]
  },
  {
   "cell_type": "markdown",
   "id": "de9db0c8",
   "metadata": {},
   "source": [
    "Naive Bayes BernoulliNB"
   ]
  },
  {
   "cell_type": "code",
   "execution_count": null,
   "id": "556d897b",
   "metadata": {},
   "outputs": [],
   "source": [
    "from sklearn.naive_bayes import BernoulliNB\n",
    "model_naive = BernoulliNB(fit_prior=True)\n",
    "model_naive.fit(X_train, y_train)\n",
    "model_naive.predict(X_test)\n",
    "model_naive.score(X_test, y_test)"
   ]
  },
  {
   "cell_type": "code",
   "execution_count": null,
   "id": "cf339c0e",
   "metadata": {},
   "outputs": [],
   "source": [
    "from sklearn.model_selection import cross_val_score\n",
    "scores = cross_val_score(model_naive, X, y, scoring='accuracy', n_jobs=-1)\n",
    "print (scores)"
   ]
  },
  {
   "cell_type": "code",
   "execution_count": null,
   "id": "70c9181c",
   "metadata": {},
   "outputs": [],
   "source": []
  },
  {
   "cell_type": "code",
   "execution_count": null,
   "id": "b0f8d572",
   "metadata": {},
   "outputs": [],
   "source": []
  },
  {
   "cell_type": "code",
   "execution_count": null,
   "id": "6ef40b0e",
   "metadata": {},
   "outputs": [],
   "source": []
  },
  {
   "cell_type": "code",
   "execution_count": null,
   "id": "6c421b2a",
   "metadata": {},
   "outputs": [],
   "source": []
  },
  {
   "cell_type": "code",
   "execution_count": null,
   "id": "801905b2",
   "metadata": {},
   "outputs": [],
   "source": [
    "# heat map of feature correlation\n",
    "plt.rcParams['figure.figsize']=35,35\n",
    "g = sns.heatmap(df.corr(),annot=True, fmt = \".1f\")"
   ]
  },
  {
   "cell_type": "code",
   "execution_count": null,
   "id": "1cda0fb6",
   "metadata": {},
   "outputs": [],
   "source": [
    "# distribution plot of column\n",
    "sns.distplot(df['median_listing_price'])"
   ]
  },
  {
   "cell_type": "code",
   "execution_count": null,
   "id": "be6a7d70",
   "metadata": {},
   "outputs": [],
   "source": [
    "# convert Price_class to numeric, distribution of median_listing_price increase|decrease month/month\n",
    "df['Price_Status'] = df['Price_Status'].replace(['up','down'],['1','0'])\n",
    "sns.distplot(df['Price_Status'])"
   ]
  },
  {
   "cell_type": "code",
   "execution_count": null,
   "id": "42bd7b6f",
   "metadata": {},
   "outputs": [],
   "source": [
    "# Reference code for heatmaps :https://www.kaggle.com/code/bsivavenu/house-price-calculation-methods-for-beginners\n",
    "\n",
    "# most correlated features\n",
    "corrmat = df.corr()\n",
    "top_corr_features = corrmat.index[abs(corrmat[\"median_listing_price\"])>0.30]\n",
    "plt.figure(figsize=(10,10))\n",
    "g = sns.heatmap(df[top_corr_features].corr(),annot=True,cmap=\"mako\")"
   ]
  },
  {
   "cell_type": "code",
   "execution_count": null,
   "id": "be902be7",
   "metadata": {},
   "outputs": [],
   "source": [
    "# seaborn linear regression fit: median listing price vs median square feet\n",
    "sns.jointplot(data=df, x=\"median_listing_price\", y=\"median_square_feet\", kind=\"reg\")\n",
    "\n",
    "# outliers present"
   ]
  },
  {
   "cell_type": "code",
   "execution_count": null,
   "id": "c5e34dc2",
   "metadata": {},
   "outputs": [],
   "source": [
    "#median_listing_price vs average listing price\n",
    "sns.jointplot(data=df, x=\"median_listing_price\", y=\"average_listing_price\", kind=\"reg\")"
   ]
  },
  {
   "cell_type": "code",
   "execution_count": null,
   "id": "8accea62",
   "metadata": {},
   "outputs": [],
   "source": [
    "#median listing price vs Year\n",
    "sns.jointplot(data=df, x=\"median_listing_price\", y=\"Year\", kind=\"reg\")"
   ]
  },
  {
   "cell_type": "code",
   "execution_count": null,
   "id": "66974d08",
   "metadata": {},
   "outputs": [],
   "source": [
    "# Find Missing Ratio of Dataset\n",
    "# reference: https://stackoverflow.com/questions/51070985/find-out-the-percentage-of-missing-values-in-each-column-in-the-given-dataset\n",
    "#percent_missing = df.isnull().sum() * 100 / len(df)\n",
    "#missing_value_df = pd.DataFrame({'column_name': df.columns,\n",
    "                                 #'percent_missing': percent_missing})\n",
    "#missing_value_df"
   ]
  },
  {
   "cell_type": "code",
   "execution_count": null,
   "id": "d8adbf4e",
   "metadata": {},
   "outputs": [],
   "source": [
    "# reference\n",
    "# https://www.kaggle.com/code/kanncaa1/machine-learning-tutorial-for-beginners/notebook\n",
    "#https://www.kaggle.com/code/erick5/predicting-house-prices-with-machine-learning/notebook"
   ]
  },
  {
   "cell_type": "code",
   "execution_count": null,
   "id": "eea96774",
   "metadata": {},
   "outputs": [],
   "source": []
  },
  {
   "cell_type": "code",
   "execution_count": null,
   "id": "065f620a",
   "metadata": {},
   "outputs": [],
   "source": []
  }
 ],
 "metadata": {
  "kernelspec": {
   "display_name": "mlenv3",
   "language": "python",
   "name": "mlenv3"
  },
  "language_info": {
   "codemirror_mode": {
    "name": "ipython",
    "version": 3
   },
   "file_extension": ".py",
   "mimetype": "text/x-python",
   "name": "python",
   "nbconvert_exporter": "python",
   "pygments_lexer": "ipython3",
   "version": "3.8.13"
  }
 },
 "nbformat": 4,
 "nbformat_minor": 5
}
