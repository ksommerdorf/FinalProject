{
 "cells": [
  {
   "cell_type": "code",
   "execution_count": 28,
   "id": "4fe2cd19",
   "metadata": {},
   "outputs": [
    {
     "name": "stdout",
     "output_type": "stream",
     "text": [
      "Requirement already satisfied: bitdotio[psycopg2-binary] in c:\\users\\kaylaa\\anaconda3\\envs\\mlenv\\lib\\site-packages (1.1.0b1)\n",
      "Requirement already satisfied: urllib3>=1.15 in c:\\users\\kaylaa\\anaconda3\\envs\\mlenv\\lib\\site-packages (from bitdotio[psycopg2-binary]) (1.26.9)\n",
      "Requirement already satisfied: certifi in c:\\users\\kaylaa\\anaconda3\\envs\\mlenv\\lib\\site-packages (from bitdotio[psycopg2-binary]) (2021.10.8)\n",
      "Requirement already satisfied: six>=1.10 in c:\\users\\kaylaa\\anaconda3\\envs\\mlenv\\lib\\site-packages (from bitdotio[psycopg2-binary]) (1.16.0)\n",
      "Requirement already satisfied: click>=8.0.1 in c:\\users\\kaylaa\\anaconda3\\envs\\mlenv\\lib\\site-packages (from bitdotio[psycopg2-binary]) (8.0.4)\n",
      "Requirement already satisfied: python-dateutil in c:\\users\\kaylaa\\anaconda3\\envs\\mlenv\\lib\\site-packages (from bitdotio[psycopg2-binary]) (2.8.2)\n",
      "Requirement already satisfied: psycopg2-binary>=2.8.6 in c:\\users\\kaylaa\\anaconda3\\envs\\mlenv\\lib\\site-packages (from bitdotio[psycopg2-binary]) (2.9.3)\n",
      "Requirement already satisfied: importlib-metadata in c:\\users\\kaylaa\\anaconda3\\envs\\mlenv\\lib\\site-packages (from click>=8.0.1->bitdotio[psycopg2-binary]) (4.11.3)\n",
      "Requirement already satisfied: colorama in c:\\users\\kaylaa\\anaconda3\\envs\\mlenv\\lib\\site-packages (from click>=8.0.1->bitdotio[psycopg2-binary]) (0.4.4)\n",
      "Requirement already satisfied: zipp>=0.5 in c:\\users\\kaylaa\\anaconda3\\envs\\mlenv\\lib\\site-packages (from importlib-metadata->click>=8.0.1->bitdotio[psycopg2-binary]) (3.7.0)\n",
      "Requirement already satisfied: typing-extensions>=3.6.4 in c:\\users\\kaylaa\\anaconda3\\envs\\mlenv\\lib\\site-packages (from importlib-metadata->click>=8.0.1->bitdotio[psycopg2-binary]) (4.1.1)\n"
     ]
    }
   ],
   "source": [
    "!pip install bitdotio[psycopg2-binary]"
   ]
  },
  {
   "cell_type": "code",
   "execution_count": 24,
   "id": "a0584876",
   "metadata": {},
   "outputs": [
    {
     "name": "stdout",
     "output_type": "stream",
     "text": [
      "Collecting pprintpp\n",
      "  Downloading pprintpp-0.4.0-py2.py3-none-any.whl (16 kB)\n",
      "Installing collected packages: pprintpp\n",
      "Successfully installed pprintpp-0.4.0\n"
     ]
    }
   ],
   "source": [
    "!pip install pprintpp"
   ]
  },
  {
   "cell_type": "code",
   "execution_count": 29,
   "id": "59407b95",
   "metadata": {},
   "outputs": [
    {
     "name": "stdout",
     "output_type": "stream",
     "text": [
      "(1, )\n"
     ]
    }
   ],
   "source": [
    "import bitdotio\n",
    "from config import bit_password\n",
    "from pprintpp import pprint\n",
    "\n",
    "b = bitdotio.bitdotio(bit_password)\n",
    "\n",
    "conn = b.get_connection('ksommerdorf/RealEstateProject')\n",
    "cur = conn.cursor()\n",
    "cur.execute(\"SELECT 1\")\n",
    "pprint(cur.fetchone())"
   ]
  },
  {
   "cell_type": "code",
   "execution_count": 34,
   "id": "0d50baef",
   "metadata": {},
   "outputs": [],
   "source": [
    "import csv\n",
    "from io import StringIO\n",
    "import time\n",
    "\n",
    "import pandas as pd\n",
    "from sqlalchemy import create_engine\n",
    "#from config import pg_string"
   ]
  },
  {
   "cell_type": "code",
   "execution_count": 38,
   "id": "5d90547c",
   "metadata": {},
   "outputs": [
    {
     "data": {
      "text/html": [
       "<div>\n",
       "<style scoped>\n",
       "    .dataframe tbody tr th:only-of-type {\n",
       "        vertical-align: middle;\n",
       "    }\n",
       "\n",
       "    .dataframe tbody tr th {\n",
       "        vertical-align: top;\n",
       "    }\n",
       "\n",
       "    .dataframe thead th {\n",
       "        text-align: right;\n",
       "    }\n",
       "</style>\n",
       "<table border=\"1\" class=\"dataframe\">\n",
       "  <thead>\n",
       "    <tr style=\"text-align: right;\">\n",
       "      <th></th>\n",
       "      <th>Unnamed: 0</th>\n",
       "      <th>date</th>\n",
       "      <th>county</th>\n",
       "      <th>county_fips</th>\n",
       "      <th>median_listing_price</th>\n",
       "      <th>active_listing_count</th>\n",
       "      <th>median_days_on_market</th>\n",
       "      <th>new_listing_count</th>\n",
       "      <th>price_increased_count</th>\n",
       "      <th>price_reduced_count</th>\n",
       "      <th>median_square_feet</th>\n",
       "      <th>average_listing_price</th>\n",
       "      <th>total_listing_count</th>\n",
       "    </tr>\n",
       "  </thead>\n",
       "  <tbody>\n",
       "    <tr>\n",
       "      <th>0</th>\n",
       "      <td>57</td>\n",
       "      <td>2022-06-01</td>\n",
       "      <td>cherokee</td>\n",
       "      <td>37039</td>\n",
       "      <td>362500</td>\n",
       "      <td>271</td>\n",
       "      <td>38</td>\n",
       "      <td>148</td>\n",
       "      <td>8</td>\n",
       "      <td>76</td>\n",
       "      <td>1904</td>\n",
       "      <td>407510</td>\n",
       "      <td>467</td>\n",
       "    </tr>\n",
       "    <tr>\n",
       "      <th>1</th>\n",
       "      <td>144</td>\n",
       "      <td>2022-06-01</td>\n",
       "      <td>craven</td>\n",
       "      <td>37049</td>\n",
       "      <td>313500</td>\n",
       "      <td>154</td>\n",
       "      <td>36</td>\n",
       "      <td>196</td>\n",
       "      <td>12</td>\n",
       "      <td>48</td>\n",
       "      <td>1927</td>\n",
       "      <td>396716</td>\n",
       "      <td>581</td>\n",
       "    </tr>\n",
       "    <tr>\n",
       "      <th>2</th>\n",
       "      <td>161</td>\n",
       "      <td>2022-06-01</td>\n",
       "      <td>catawba</td>\n",
       "      <td>37035</td>\n",
       "      <td>342450</td>\n",
       "      <td>207</td>\n",
       "      <td>34</td>\n",
       "      <td>224</td>\n",
       "      <td>0</td>\n",
       "      <td>96</td>\n",
       "      <td>1923</td>\n",
       "      <td>521108</td>\n",
       "      <td>508</td>\n",
       "    </tr>\n",
       "    <tr>\n",
       "      <th>3</th>\n",
       "      <td>240</td>\n",
       "      <td>2022-06-01</td>\n",
       "      <td>gaston</td>\n",
       "      <td>37071</td>\n",
       "      <td>330000</td>\n",
       "      <td>283</td>\n",
       "      <td>30</td>\n",
       "      <td>412</td>\n",
       "      <td>12</td>\n",
       "      <td>200</td>\n",
       "      <td>1668</td>\n",
       "      <td>377406</td>\n",
       "      <td>828</td>\n",
       "    </tr>\n",
       "    <tr>\n",
       "      <th>4</th>\n",
       "      <td>280</td>\n",
       "      <td>2022-06-01</td>\n",
       "      <td>warren</td>\n",
       "      <td>37185</td>\n",
       "      <td>275000</td>\n",
       "      <td>19</td>\n",
       "      <td>68</td>\n",
       "      <td>12</td>\n",
       "      <td>0</td>\n",
       "      <td>4</td>\n",
       "      <td>1824</td>\n",
       "      <td>419452</td>\n",
       "      <td>29</td>\n",
       "    </tr>\n",
       "  </tbody>\n",
       "</table>\n",
       "</div>"
      ],
      "text/plain": [
       "   Unnamed: 0        date    county  county_fips  median_listing_price  \\\n",
       "0          57  2022-06-01  cherokee        37039                362500   \n",
       "1         144  2022-06-01    craven        37049                313500   \n",
       "2         161  2022-06-01   catawba        37035                342450   \n",
       "3         240  2022-06-01    gaston        37071                330000   \n",
       "4         280  2022-06-01    warren        37185                275000   \n",
       "\n",
       "   active_listing_count  median_days_on_market  new_listing_count  \\\n",
       "0                   271                     38                148   \n",
       "1                   154                     36                196   \n",
       "2                   207                     34                224   \n",
       "3                   283                     30                412   \n",
       "4                    19                     68                 12   \n",
       "\n",
       "   price_increased_count  price_reduced_count  median_square_feet  \\\n",
       "0                      8                   76                1904   \n",
       "1                     12                   48                1927   \n",
       "2                      0                   96                1923   \n",
       "3                     12                  200                1668   \n",
       "4                      0                    4                1824   \n",
       "\n",
       "   average_listing_price  total_listing_count  \n",
       "0                 407510                  467  \n",
       "1                 396716                  581  \n",
       "2                 521108                  508  \n",
       "3                 377406                  828  \n",
       "4                 419452                   29  "
      ]
     },
     "execution_count": 38,
     "metadata": {},
     "output_type": "execute_result"
    }
   ],
   "source": [
    "# Create SQLAlchemy engine to manage our database connections\n",
    "# Note that we bump the statement_timeout to 60 seconds\n",
    "# pool_pre_ping=True \n",
    "engine = create_engine(pg_string, pool_pre_ping=True)\n",
    "# SQL for querying an entire table\n",
    "sql = f'''\n",
    "    SELECT *\n",
    "    FROM \"nc_hotness\";\n",
    "'''\n",
    "# Return SQL query as a pandas dataframe\n",
    "with engine.connect() as conn:\n",
    "    # Set 1 minute statement timeout (units are milliseconds)\n",
    "    conn.execute(\"SET statement_timeout = 60000;\")\n",
    "    df = pd.read_sql(sql, conn)\n",
    "df.head()"
   ]
  },
  {
   "cell_type": "code",
   "execution_count": null,
   "id": "ca082009",
   "metadata": {},
   "outputs": [],
   "source": []
  }
 ],
 "metadata": {
  "kernelspec": {
   "display_name": "mlenv",
   "language": "python",
   "name": "mlenv"
  },
  "language_info": {
   "codemirror_mode": {
    "name": "ipython",
    "version": 3
   },
   "file_extension": ".py",
   "mimetype": "text/x-python",
   "name": "python",
   "nbconvert_exporter": "python",
   "pygments_lexer": "ipython3",
   "version": "3.7.13"
  }
 },
 "nbformat": 4,
 "nbformat_minor": 5
}
