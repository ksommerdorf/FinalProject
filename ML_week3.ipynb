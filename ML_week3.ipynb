{
 "cells": [
  {
   "cell_type": "code",
   "execution_count": 1,
   "id": "855ad413",
   "metadata": {},
   "outputs": [],
   "source": [
    "import warnings\n",
    "warnings.filterwarnings('ignore')\n",
    "import numpy as np\n",
    "import pandas as pd\n",
    "from pathlib import Path\n",
    "from collections import Counter\n",
    "import matplotlib.pyplot as plt\n",
    "import seaborn as sns"
   ]
  },
  {
   "cell_type": "code",
   "execution_count": 2,
   "id": "de370d00",
   "metadata": {},
   "outputs": [],
   "source": [
    "from sklearn.metrics import balanced_accuracy_score\n",
    "from sklearn.metrics import confusion_matrix\n",
    "from imblearn.metrics import classification_report_imbalanced"
   ]
  },
  {
   "cell_type": "code",
   "execution_count": 3,
   "id": "54129168",
   "metadata": {},
   "outputs": [
    {
     "data": {
      "text/html": [
       "<div>\n",
       "<style scoped>\n",
       "    .dataframe tbody tr th:only-of-type {\n",
       "        vertical-align: middle;\n",
       "    }\n",
       "\n",
       "    .dataframe tbody tr th {\n",
       "        vertical-align: top;\n",
       "    }\n",
       "\n",
       "    .dataframe thead th {\n",
       "        text-align: right;\n",
       "    }\n",
       "</style>\n",
       "<table border=\"1\" class=\"dataframe\">\n",
       "  <thead>\n",
       "    <tr style=\"text-align: right;\">\n",
       "      <th></th>\n",
       "      <th>Date</th>\n",
       "      <th>Year</th>\n",
       "      <th>County</th>\n",
       "      <th>median_listing_price</th>\n",
       "      <th>active_listing_count</th>\n",
       "      <th>median_days_on_market</th>\n",
       "      <th>new_listing_count</th>\n",
       "      <th>price_increased_count</th>\n",
       "      <th>price_reduced_count</th>\n",
       "      <th>median_square_feet</th>\n",
       "      <th>average_listing_price</th>\n",
       "      <th>total_listing_count</th>\n",
       "      <th>violent_crime_rate</th>\n",
       "      <th>30_Year_Fixed_Rate</th>\n",
       "      <th>Number_of_Schools</th>\n",
       "      <th>median_listing_price_mm</th>\n",
       "      <th>Number_of_Parks</th>\n",
       "    </tr>\n",
       "  </thead>\n",
       "  <tbody>\n",
       "    <tr>\n",
       "      <th>0</th>\n",
       "      <td>2022-06</td>\n",
       "      <td>2022</td>\n",
       "      <td>Alamance</td>\n",
       "      <td>382500</td>\n",
       "      <td>298</td>\n",
       "      <td>18</td>\n",
       "      <td>452</td>\n",
       "      <td>12</td>\n",
       "      <td>108</td>\n",
       "      <td>2112</td>\n",
       "      <td>443362</td>\n",
       "      <td>644</td>\n",
       "      <td>NaN</td>\n",
       "      <td>5.52</td>\n",
       "      <td>NaN</td>\n",
       "      <td>0.034063</td>\n",
       "      <td>54.0</td>\n",
       "    </tr>\n",
       "    <tr>\n",
       "      <th>1</th>\n",
       "      <td>2022-06</td>\n",
       "      <td>2022</td>\n",
       "      <td>Alexander</td>\n",
       "      <td>312450</td>\n",
       "      <td>34</td>\n",
       "      <td>35</td>\n",
       "      <td>28</td>\n",
       "      <td>0</td>\n",
       "      <td>20</td>\n",
       "      <td>1942</td>\n",
       "      <td>370648</td>\n",
       "      <td>59</td>\n",
       "      <td>NaN</td>\n",
       "      <td>5.52</td>\n",
       "      <td>NaN</td>\n",
       "      <td>0.016428</td>\n",
       "      <td>25.0</td>\n",
       "    </tr>\n",
       "    <tr>\n",
       "      <th>2</th>\n",
       "      <td>2022-06</td>\n",
       "      <td>2022</td>\n",
       "      <td>Alleghany</td>\n",
       "      <td>389000</td>\n",
       "      <td>54</td>\n",
       "      <td>39</td>\n",
       "      <td>24</td>\n",
       "      <td>0</td>\n",
       "      <td>20</td>\n",
       "      <td>1904</td>\n",
       "      <td>422802</td>\n",
       "      <td>92</td>\n",
       "      <td>NaN</td>\n",
       "      <td>5.52</td>\n",
       "      <td>NaN</td>\n",
       "      <td>-0.038200</td>\n",
       "      <td>0.0</td>\n",
       "    </tr>\n",
       "    <tr>\n",
       "      <th>3</th>\n",
       "      <td>2022-06</td>\n",
       "      <td>2022</td>\n",
       "      <td>Anson</td>\n",
       "      <td>170000</td>\n",
       "      <td>22</td>\n",
       "      <td>34</td>\n",
       "      <td>16</td>\n",
       "      <td>0</td>\n",
       "      <td>8</td>\n",
       "      <td>1502</td>\n",
       "      <td>262240</td>\n",
       "      <td>48</td>\n",
       "      <td>NaN</td>\n",
       "      <td>5.52</td>\n",
       "      <td>NaN</td>\n",
       "      <td>0.218638</td>\n",
       "      <td>3.0</td>\n",
       "    </tr>\n",
       "    <tr>\n",
       "      <th>4</th>\n",
       "      <td>2022-06</td>\n",
       "      <td>2022</td>\n",
       "      <td>Ashe</td>\n",
       "      <td>485000</td>\n",
       "      <td>76</td>\n",
       "      <td>31</td>\n",
       "      <td>48</td>\n",
       "      <td>0</td>\n",
       "      <td>20</td>\n",
       "      <td>1907</td>\n",
       "      <td>592879</td>\n",
       "      <td>137</td>\n",
       "      <td>NaN</td>\n",
       "      <td>5.52</td>\n",
       "      <td>NaN</td>\n",
       "      <td>-0.088346</td>\n",
       "      <td>5.0</td>\n",
       "    </tr>\n",
       "  </tbody>\n",
       "</table>\n",
       "</div>"
      ],
      "text/plain": [
       "      Date  Year     County  median_listing_price  active_listing_count  \\\n",
       "0  2022-06  2022   Alamance                382500                   298   \n",
       "1  2022-06  2022  Alexander                312450                    34   \n",
       "2  2022-06  2022  Alleghany                389000                    54   \n",
       "3  2022-06  2022      Anson                170000                    22   \n",
       "4  2022-06  2022       Ashe                485000                    76   \n",
       "\n",
       "   median_days_on_market  new_listing_count  price_increased_count  \\\n",
       "0                     18                452                     12   \n",
       "1                     35                 28                      0   \n",
       "2                     39                 24                      0   \n",
       "3                     34                 16                      0   \n",
       "4                     31                 48                      0   \n",
       "\n",
       "   price_reduced_count  median_square_feet  average_listing_price  \\\n",
       "0                  108                2112                 443362   \n",
       "1                   20                1942                 370648   \n",
       "2                   20                1904                 422802   \n",
       "3                    8                1502                 262240   \n",
       "4                   20                1907                 592879   \n",
       "\n",
       "   total_listing_count violent_crime_rate  30_Year_Fixed_Rate  \\\n",
       "0                  644                NaN                5.52   \n",
       "1                   59                NaN                5.52   \n",
       "2                   92                NaN                5.52   \n",
       "3                   48                NaN                5.52   \n",
       "4                  137                NaN                5.52   \n",
       "\n",
       "   Number_of_Schools  median_listing_price_mm  Number_of_Parks  \n",
       "0                NaN                 0.034063             54.0  \n",
       "1                NaN                 0.016428             25.0  \n",
       "2                NaN                -0.038200              0.0  \n",
       "3                NaN                 0.218638              3.0  \n",
       "4                NaN                -0.088346              5.0  "
      ]
     },
     "execution_count": 3,
     "metadata": {},
     "output_type": "execute_result"
    }
   ],
   "source": [
    "df = pd.read_csv('Resources/filled_final_table.csv')\n",
    "df.head()"
   ]
  },
  {
   "cell_type": "code",
   "execution_count": 4,
   "id": "2a4dbbc0",
   "metadata": {},
   "outputs": [
    {
     "data": {
      "text/plain": [
       "Date                        object\n",
       "Year                         int64\n",
       "County                      object\n",
       "median_listing_price         int64\n",
       "active_listing_count         int64\n",
       "median_days_on_market        int64\n",
       "new_listing_count            int64\n",
       "price_increased_count        int64\n",
       "price_reduced_count          int64\n",
       "median_square_feet           int64\n",
       "average_listing_price        int64\n",
       "total_listing_count          int64\n",
       "violent_crime_rate          object\n",
       "30_Year_Fixed_Rate         float64\n",
       "Number_of_Schools          float64\n",
       "median_listing_price_mm    float64\n",
       "Number_of_Parks            float64\n",
       "dtype: object"
      ]
     },
     "execution_count": 4,
     "metadata": {},
     "output_type": "execute_result"
    }
   ],
   "source": [
    "df.dtypes"
   ]
  },
  {
   "cell_type": "code",
   "execution_count": 7,
   "id": "6f6fde20",
   "metadata": {},
   "outputs": [
    {
     "data": {
      "text/plain": [
       "Date                        object\n",
       "Year                         int64\n",
       "County                      object\n",
       "median_listing_price         int64\n",
       "active_listing_count         int64\n",
       "median_days_on_market        int64\n",
       "new_listing_count            int64\n",
       "price_increased_count        int64\n",
       "price_reduced_count          int64\n",
       "median_square_feet           int64\n",
       "average_listing_price        int64\n",
       "total_listing_count          int64\n",
       "violent_crime_rate         float64\n",
       "30_Year_Fixed_Rate         float64\n",
       "Number_of_Schools          float64\n",
       "median_listing_price_mm    float64\n",
       "Number_of_Parks            float64\n",
       "dtype: object"
      ]
     },
     "execution_count": 7,
     "metadata": {},
     "output_type": "execute_result"
    }
   ],
   "source": [
    "\n",
    "df['violent_crime_rate']= df['violent_crime_rate'].astype(str).str.replace(',','').astype(float)\n",
    "df.dtypes"
   ]
  },
  {
   "cell_type": "code",
   "execution_count": 8,
   "id": "7e19152a",
   "metadata": {},
   "outputs": [
    {
     "data": {
      "text/plain": [
       "array([2022, 2021, 2020, 2019, 2018, 2017, 2016])"
      ]
     },
     "execution_count": 8,
     "metadata": {},
     "output_type": "execute_result"
    }
   ],
   "source": [
    "df[\"Year\"].unique()"
   ]
  },
  {
   "cell_type": "code",
   "execution_count": 9,
   "id": "d5ed5275",
   "metadata": {},
   "outputs": [],
   "source": [
    "filter_df = df[df['Year'] <2019]"
   ]
  },
  {
   "cell_type": "code",
   "execution_count": 14,
   "id": "d1aad21b",
   "metadata": {},
   "outputs": [],
   "source": [
    "filter_df['Price_Status'] = np.where(filter_df['median_listing_price_mm']>=0, 'up', 'down')"
   ]
  },
  {
   "cell_type": "code",
   "execution_count": 15,
   "id": "c146b6bd",
   "metadata": {},
   "outputs": [
    {
     "data": {
      "text/html": [
       "<div>\n",
       "<style scoped>\n",
       "    .dataframe tbody tr th:only-of-type {\n",
       "        vertical-align: middle;\n",
       "    }\n",
       "\n",
       "    .dataframe tbody tr th {\n",
       "        vertical-align: top;\n",
       "    }\n",
       "\n",
       "    .dataframe thead th {\n",
       "        text-align: right;\n",
       "    }\n",
       "</style>\n",
       "<table border=\"1\" class=\"dataframe\">\n",
       "  <thead>\n",
       "    <tr style=\"text-align: right;\">\n",
       "      <th></th>\n",
       "      <th>Date</th>\n",
       "      <th>Year</th>\n",
       "      <th>County</th>\n",
       "      <th>median_listing_price</th>\n",
       "      <th>active_listing_count</th>\n",
       "      <th>median_days_on_market</th>\n",
       "      <th>new_listing_count</th>\n",
       "      <th>price_increased_count</th>\n",
       "      <th>price_reduced_count</th>\n",
       "      <th>median_square_feet</th>\n",
       "      <th>average_listing_price</th>\n",
       "      <th>total_listing_count</th>\n",
       "      <th>violent_crime_rate</th>\n",
       "      <th>30_Year_Fixed_Rate</th>\n",
       "      <th>Number_of_Schools</th>\n",
       "      <th>median_listing_price_mm</th>\n",
       "      <th>Number_of_Parks</th>\n",
       "      <th>Price_Status</th>\n",
       "    </tr>\n",
       "  </thead>\n",
       "  <tbody>\n",
       "    <tr>\n",
       "      <th>4196</th>\n",
       "      <td>2018-12</td>\n",
       "      <td>2018</td>\n",
       "      <td>Alamance</td>\n",
       "      <td>249900</td>\n",
       "      <td>761</td>\n",
       "      <td>78</td>\n",
       "      <td>172</td>\n",
       "      <td>28</td>\n",
       "      <td>116</td>\n",
       "      <td>2060</td>\n",
       "      <td>276731</td>\n",
       "      <td>843</td>\n",
       "      <td>419.9</td>\n",
       "      <td>4.64</td>\n",
       "      <td>94.0</td>\n",
       "      <td>0.021635</td>\n",
       "      <td>54.0</td>\n",
       "      <td>up</td>\n",
       "    </tr>\n",
       "    <tr>\n",
       "      <th>4197</th>\n",
       "      <td>2018-12</td>\n",
       "      <td>2018</td>\n",
       "      <td>Alexander</td>\n",
       "      <td>229900</td>\n",
       "      <td>90</td>\n",
       "      <td>102</td>\n",
       "      <td>8</td>\n",
       "      <td>0</td>\n",
       "      <td>16</td>\n",
       "      <td>1924</td>\n",
       "      <td>258096</td>\n",
       "      <td>103</td>\n",
       "      <td>221.9</td>\n",
       "      <td>4.64</td>\n",
       "      <td>49.0</td>\n",
       "      <td>0.108219</td>\n",
       "      <td>25.0</td>\n",
       "      <td>up</td>\n",
       "    </tr>\n",
       "    <tr>\n",
       "      <th>4198</th>\n",
       "      <td>2018-12</td>\n",
       "      <td>2018</td>\n",
       "      <td>Alleghany</td>\n",
       "      <td>114900</td>\n",
       "      <td>420</td>\n",
       "      <td>227</td>\n",
       "      <td>4</td>\n",
       "      <td>0</td>\n",
       "      <td>20</td>\n",
       "      <td>1886</td>\n",
       "      <td>179920</td>\n",
       "      <td>438</td>\n",
       "      <td>114.8</td>\n",
       "      <td>4.64</td>\n",
       "      <td>11.0</td>\n",
       "      <td>-0.000870</td>\n",
       "      <td>0.0</td>\n",
       "      <td>down</td>\n",
       "    </tr>\n",
       "    <tr>\n",
       "      <th>4199</th>\n",
       "      <td>2018-12</td>\n",
       "      <td>2018</td>\n",
       "      <td>Anson</td>\n",
       "      <td>125000</td>\n",
       "      <td>65</td>\n",
       "      <td>100</td>\n",
       "      <td>8</td>\n",
       "      <td>0</td>\n",
       "      <td>12</td>\n",
       "      <td>1500</td>\n",
       "      <td>152823</td>\n",
       "      <td>78</td>\n",
       "      <td>568.4</td>\n",
       "      <td>4.64</td>\n",
       "      <td>15.0</td>\n",
       "      <td>-0.037721</td>\n",
       "      <td>3.0</td>\n",
       "      <td>down</td>\n",
       "    </tr>\n",
       "    <tr>\n",
       "      <th>4200</th>\n",
       "      <td>2018-12</td>\n",
       "      <td>2018</td>\n",
       "      <td>Ashe</td>\n",
       "      <td>65000</td>\n",
       "      <td>899</td>\n",
       "      <td>214</td>\n",
       "      <td>28</td>\n",
       "      <td>0</td>\n",
       "      <td>52</td>\n",
       "      <td>1776</td>\n",
       "      <td>157405</td>\n",
       "      <td>957</td>\n",
       "      <td>NaN</td>\n",
       "      <td>4.64</td>\n",
       "      <td>7.0</td>\n",
       "      <td>0.000770</td>\n",
       "      <td>5.0</td>\n",
       "      <td>up</td>\n",
       "    </tr>\n",
       "  </tbody>\n",
       "</table>\n",
       "</div>"
      ],
      "text/plain": [
       "         Date  Year     County  median_listing_price  active_listing_count  \\\n",
       "4196  2018-12  2018   Alamance                249900                   761   \n",
       "4197  2018-12  2018  Alexander                229900                    90   \n",
       "4198  2018-12  2018  Alleghany                114900                   420   \n",
       "4199  2018-12  2018      Anson                125000                    65   \n",
       "4200  2018-12  2018       Ashe                 65000                   899   \n",
       "\n",
       "      median_days_on_market  new_listing_count  price_increased_count  \\\n",
       "4196                     78                172                     28   \n",
       "4197                    102                  8                      0   \n",
       "4198                    227                  4                      0   \n",
       "4199                    100                  8                      0   \n",
       "4200                    214                 28                      0   \n",
       "\n",
       "      price_reduced_count  median_square_feet  average_listing_price  \\\n",
       "4196                  116                2060                 276731   \n",
       "4197                   16                1924                 258096   \n",
       "4198                   20                1886                 179920   \n",
       "4199                   12                1500                 152823   \n",
       "4200                   52                1776                 157405   \n",
       "\n",
       "      total_listing_count  violent_crime_rate  30_Year_Fixed_Rate  \\\n",
       "4196                  843               419.9                4.64   \n",
       "4197                  103               221.9                4.64   \n",
       "4198                  438               114.8                4.64   \n",
       "4199                   78               568.4                4.64   \n",
       "4200                  957                 NaN                4.64   \n",
       "\n",
       "      Number_of_Schools  median_listing_price_mm  Number_of_Parks Price_Status  \n",
       "4196               94.0                 0.021635             54.0           up  \n",
       "4197               49.0                 0.108219             25.0           up  \n",
       "4198               11.0                -0.000870              0.0         down  \n",
       "4199               15.0                -0.037721              3.0         down  \n",
       "4200                7.0                 0.000770              5.0           up  "
      ]
     },
     "execution_count": 15,
     "metadata": {},
     "output_type": "execute_result"
    }
   ],
   "source": [
    "filter_df.head()"
   ]
  },
  {
   "cell_type": "code",
   "execution_count": 16,
   "id": "7f13d199",
   "metadata": {},
   "outputs": [],
   "source": [
    "columns = [\n",
    "    \"Date\", \"Year\", \"County\",\n",
    "    \"active_listing_count\", \"median_days_on_market\", \"new_listing_count\",\n",
    "    \"price_increased_count\", \"price_reduced_count\", \"median_square_feet\",\n",
    "    \"total_listing_count\", \"violent_crime_rate\",\"Number_of_Parks\",\n",
    "    \"Number_of_Schools\",\"30_Year_Fixed_Rate\", \n",
    "     \"Price_Status\"]\n",
    "\n",
    "target = [\"Price_Status\"]"
   ]
  },
  {
   "cell_type": "code",
   "execution_count": 17,
   "id": "83f4e24f",
   "metadata": {},
   "outputs": [
    {
     "data": {
      "text/plain": [
       "Date                     0\n",
       "Year                     0\n",
       "County                   0\n",
       "active_listing_count     0\n",
       "median_days_on_market    0\n",
       "new_listing_count        0\n",
       "price_increased_count    0\n",
       "price_reduced_count      0\n",
       "median_square_feet       0\n",
       "total_listing_count      0\n",
       "violent_crime_rate       0\n",
       "Number_of_Parks          0\n",
       "Number_of_Schools        0\n",
       "30_Year_Fixed_Rate       0\n",
       "Price_Status             0\n",
       "dtype: int64"
      ]
     },
     "execution_count": 17,
     "metadata": {},
     "output_type": "execute_result"
    }
   ],
   "source": [
    "# Load the data\n",
    "\n",
    "df_data = filter_df.loc[:, columns].copy()\n",
    "df_data = df_data.dropna()\n",
    "\n",
    "df_data.reset_index(inplace=True, drop=True)\n",
    "\n",
    "df_data.head()\n",
    "df_data.isnull().sum()"
   ]
  },
  {
   "cell_type": "code",
   "execution_count": 18,
   "id": "e604d59c",
   "metadata": {},
   "outputs": [],
   "source": [
    "# Create our features\n",
    "X = df_data.drop('Price_Status', axis=1)\n",
    "\n",
    "X = pd.get_dummies(X)\n",
    "\n",
    "# Create our target\n",
    "y = df_data.loc[:, target].copy()"
   ]
  },
  {
   "cell_type": "code",
   "execution_count": 19,
   "id": "3b432679",
   "metadata": {},
   "outputs": [
    {
     "data": {
      "text/plain": [
       "up      1448\n",
       "down    1162\n",
       "Name: Price_Status, dtype: int64"
      ]
     },
     "execution_count": 19,
     "metadata": {},
     "output_type": "execute_result"
    }
   ],
   "source": [
    "# Check the balance of our target values\n",
    "y['Price_Status'].value_counts()"
   ]
  },
  {
   "cell_type": "code",
   "execution_count": 20,
   "id": "3b33a43c",
   "metadata": {},
   "outputs": [
    {
     "data": {
      "text/plain": [
       "Counter({'Price_Status': 1})"
      ]
     },
     "execution_count": 20,
     "metadata": {},
     "output_type": "execute_result"
    }
   ],
   "source": [
    "from sklearn.model_selection import train_test_split\n",
    "X_train, X_test, y_train, y_test = train_test_split(X, y, random_state=1)\n",
    "Counter(y_train)"
   ]
  },
  {
   "cell_type": "code",
   "execution_count": 21,
   "id": "afde97f9",
   "metadata": {},
   "outputs": [
    {
     "name": "stdout",
     "output_type": "stream",
     "text": [
      "Year                       int64\n",
      "active_listing_count       int64\n",
      "median_days_on_market      int64\n",
      "new_listing_count          int64\n",
      "price_increased_count      int64\n",
      "price_reduced_count        int64\n",
      "median_square_feet         int64\n",
      "total_listing_count        int64\n",
      "violent_crime_rate       float64\n",
      "Number_of_Parks          float64\n",
      "Number_of_Schools        float64\n",
      "30_Year_Fixed_Rate       float64\n",
      "Date_2016-07               uint8\n",
      "Date_2016-08               uint8\n",
      "Date_2016-09               uint8\n",
      "Date_2016-10               uint8\n",
      "Date_2016-11               uint8\n",
      "Date_2016-12               uint8\n",
      "Date_2017-01               uint8\n",
      "Date_2017-02               uint8\n",
      "Date_2017-03               uint8\n",
      "Date_2017-04               uint8\n",
      "Date_2017-05               uint8\n",
      "Date_2017-06               uint8\n",
      "Date_2017-07               uint8\n",
      "Date_2017-08               uint8\n",
      "Date_2017-09               uint8\n",
      "Date_2017-10               uint8\n",
      "Date_2017-11               uint8\n",
      "Date_2017-12               uint8\n",
      "Date_2018-01               uint8\n",
      "Date_2018-02               uint8\n",
      "Date_2018-03               uint8\n",
      "Date_2018-04               uint8\n",
      "Date_2018-05               uint8\n",
      "Date_2018-06               uint8\n",
      "Date_2018-07               uint8\n",
      "Date_2018-08               uint8\n",
      "Date_2018-09               uint8\n",
      "Date_2018-10               uint8\n",
      "Date_2018-11               uint8\n",
      "Date_2018-12               uint8\n",
      "County_Alamance            uint8\n",
      "County_Alexander           uint8\n",
      "County_Alleghany           uint8\n",
      "County_Anson               uint8\n",
      "County_Ashe                uint8\n",
      "County_Avery               uint8\n",
      "County_Beaufort            uint8\n",
      "County_Bertie              uint8\n",
      "County_Brunswick           uint8\n",
      "County_Buncombe            uint8\n",
      "County_Burke               uint8\n",
      "County_Cabarrus            uint8\n",
      "County_Caldwell            uint8\n",
      "County_Camden              uint8\n",
      "County_Carteret            uint8\n",
      "County_Caswell             uint8\n",
      "County_Catawba             uint8\n",
      "County_Chatham             uint8\n",
      "County_Cherokee            uint8\n",
      "County_Chowan              uint8\n",
      "County_Clay                uint8\n",
      "County_Cleveland           uint8\n",
      "County_Columbus            uint8\n",
      "County_Craven              uint8\n",
      "County_Cumberland          uint8\n",
      "County_Currituck           uint8\n",
      "County_Dare                uint8\n",
      "County_Davidson            uint8\n",
      "County_Davie               uint8\n",
      "County_Duplin              uint8\n",
      "County_Durham              uint8\n",
      "County_Edgecombe           uint8\n",
      "County_Forsyth             uint8\n",
      "County_Franklin            uint8\n",
      "County_Gaston              uint8\n",
      "County_Graham              uint8\n",
      "County_Granville           uint8\n",
      "County_Greene              uint8\n",
      "County_Guilford            uint8\n",
      "County_Halifax             uint8\n",
      "County_Harnett             uint8\n",
      "County_Haywood             uint8\n",
      "County_Henderson           uint8\n",
      "County_Hertford            uint8\n",
      "County_Hoke                uint8\n",
      "County_Iredell             uint8\n",
      "County_Jackson             uint8\n",
      "County_Johnston            uint8\n",
      "County_Lee                 uint8\n",
      "County_Lenoir              uint8\n",
      "County_Lincoln             uint8\n",
      "County_Macon               uint8\n",
      "County_Madison             uint8\n",
      "County_Martin              uint8\n",
      "County_Mecklenburg         uint8\n",
      "County_Montgomery          uint8\n",
      "County_Moore               uint8\n",
      "County_Nash                uint8\n",
      "County_Northampton         uint8\n",
      "County_Onslow              uint8\n",
      "County_Orange              uint8\n",
      "County_Pamlico             uint8\n",
      "County_Pasquotank          uint8\n",
      "County_Pender              uint8\n",
      "County_Perquimans          uint8\n",
      "County_Person              uint8\n",
      "County_Pitt                uint8\n",
      "County_Polk                uint8\n",
      "County_Randolph            uint8\n",
      "County_Richmond            uint8\n",
      "County_Robeson             uint8\n",
      "County_Rockingham          uint8\n",
      "County_Rowan               uint8\n",
      "County_Rutherford          uint8\n",
      "County_Sampson             uint8\n",
      "County_Scotland            uint8\n",
      "County_Stanly              uint8\n",
      "County_Stokes              uint8\n",
      "County_Surry               uint8\n",
      "County_Swain               uint8\n",
      "County_Transylvania        uint8\n",
      "County_Tyrrell             uint8\n",
      "County_Union               uint8\n",
      "County_Vance               uint8\n",
      "County_Wake                uint8\n",
      "County_Warren              uint8\n",
      "County_Watauga             uint8\n",
      "County_Wayne               uint8\n",
      "County_Wilkes              uint8\n",
      "County_Wilson              uint8\n",
      "County_Yadkin              uint8\n",
      "County_Yancey              uint8\n",
      "dtype: object\n"
     ]
    }
   ],
   "source": [
    "with pd.option_context('display.max_rows', None, 'display.max_columns', None):\n",
    "    print(X.dtypes)"
   ]
  },
  {
   "cell_type": "markdown",
   "id": "e7282491",
   "metadata": {},
   "source": [
    "### Naive Random Oversampling"
   ]
  },
  {
   "cell_type": "code",
   "execution_count": 22,
   "id": "04b03b75",
   "metadata": {},
   "outputs": [
    {
     "data": {
      "text/plain": [
       "Counter({'Price_Status': 1})"
      ]
     },
     "execution_count": 22,
     "metadata": {},
     "output_type": "execute_result"
    }
   ],
   "source": [
    "# Resample the training data with the RandomOversampler\n",
    "from imblearn.over_sampling import RandomOverSampler\n",
    "\n",
    "ros = RandomOverSampler(random_state=1)\n",
    "X_resampled, y_resampled = ros.fit_resample(X_train, y_train)\n",
    "\n",
    "Counter(y_resampled)"
   ]
  },
  {
   "cell_type": "code",
   "execution_count": 23,
   "id": "9d16ece6",
   "metadata": {},
   "outputs": [
    {
     "data": {
      "text/plain": [
       "LogisticRegression(random_state=1)"
      ]
     },
     "execution_count": 23,
     "metadata": {},
     "output_type": "execute_result"
    }
   ],
   "source": [
    "# Train the Logistic Regression model using the resampled data\n",
    "from sklearn.linear_model import LogisticRegression\n",
    "\n",
    "model = LogisticRegression(solver='lbfgs', random_state=1)\n",
    "model.fit(X_resampled, y_resampled)"
   ]
  },
  {
   "cell_type": "code",
   "execution_count": 24,
   "id": "683aee22",
   "metadata": {},
   "outputs": [
    {
     "data": {
      "text/plain": [
       "0.49836468475281215"
      ]
     },
     "execution_count": 24,
     "metadata": {},
     "output_type": "execute_result"
    }
   ],
   "source": [
    "# Calculated the balanced accuracy score\n",
    "from sklearn.metrics import balanced_accuracy_score\n",
    "y_pred = model.predict(X_test)\n",
    "balanced_accuracy_score(y_test, y_pred)"
   ]
  },
  {
   "cell_type": "code",
   "execution_count": 25,
   "id": "ce9e7b9a",
   "metadata": {},
   "outputs": [
    {
     "data": {
      "text/plain": [
       "array([[156, 142],\n",
       "       [187, 168]])"
      ]
     },
     "execution_count": 25,
     "metadata": {},
     "output_type": "execute_result"
    }
   ],
   "source": [
    "# Display the confusion matrix\n",
    "from sklearn.metrics import confusion_matrix\n",
    "confusion_matrix(y_test, y_pred)"
   ]
  },
  {
   "cell_type": "code",
   "execution_count": 26,
   "id": "80ffba41",
   "metadata": {},
   "outputs": [
    {
     "name": "stdout",
     "output_type": "stream",
     "text": [
      "                   pre       rec       spe        f1       geo       iba       sup\n",
      "\n",
      "       down       0.45      0.52      0.47      0.49      0.50      0.25       298\n",
      "         up       0.54      0.47      0.52      0.51      0.50      0.25       355\n",
      "\n",
      "avg / total       0.50      0.50      0.50      0.50      0.50      0.25       653\n",
      "\n"
     ]
    }
   ],
   "source": [
    "# Print the imbalanced classification report\n",
    "from imblearn.metrics import classification_report_imbalanced\n",
    "print(classification_report_imbalanced(y_test, y_pred))"
   ]
  },
  {
   "cell_type": "markdown",
   "id": "b34e6ff1",
   "metadata": {},
   "source": [
    "### SMOTE Oversampling"
   ]
  },
  {
   "cell_type": "code",
   "execution_count": 27,
   "id": "224e162f",
   "metadata": {},
   "outputs": [
    {
     "data": {
      "text/plain": [
       "Counter({'Price_Status': 1})"
      ]
     },
     "execution_count": 27,
     "metadata": {},
     "output_type": "execute_result"
    }
   ],
   "source": [
    "# Resample the training data with SMOTE\n",
    "from imblearn.over_sampling import SMOTE\n",
    "\n",
    "X_resampled, y_resampled = SMOTE(random_state=1, sampling_strategy='auto').fit_resample(X_train, y_train)\n",
    "Counter(y_resampled)"
   ]
  },
  {
   "cell_type": "code",
   "execution_count": 28,
   "id": "2a11540a",
   "metadata": {},
   "outputs": [
    {
     "data": {
      "text/plain": [
       "LogisticRegression(random_state=1)"
      ]
     },
     "execution_count": 28,
     "metadata": {},
     "output_type": "execute_result"
    }
   ],
   "source": [
    "# Train the Logistic Regression model using the resampled data\n",
    "model = LogisticRegression(solver='lbfgs', random_state=1)\n",
    "model.fit(X_resampled, y_resampled)"
   ]
  },
  {
   "cell_type": "code",
   "execution_count": 29,
   "id": "69d758b4",
   "metadata": {},
   "outputs": [
    {
     "data": {
      "text/plain": [
       "0.5017203894507988"
      ]
     },
     "execution_count": 29,
     "metadata": {},
     "output_type": "execute_result"
    }
   ],
   "source": [
    "# Calculated the balanced accuracy score\n",
    "y_pred = model.predict(X_test)\n",
    "balanced_accuracy_score(y_test, y_pred)"
   ]
  },
  {
   "cell_type": "code",
   "execution_count": 30,
   "id": "bda4e5b0",
   "metadata": {},
   "outputs": [
    {
     "data": {
      "text/plain": [
       "array([[158, 140],\n",
       "       [187, 168]])"
      ]
     },
     "execution_count": 30,
     "metadata": {},
     "output_type": "execute_result"
    }
   ],
   "source": [
    "# Display the confusion matrix\n",
    "confusion_matrix(y_test, y_pred)"
   ]
  },
  {
   "cell_type": "code",
   "execution_count": 31,
   "id": "a6808a14",
   "metadata": {},
   "outputs": [
    {
     "name": "stdout",
     "output_type": "stream",
     "text": [
      "                   pre       rec       spe        f1       geo       iba       sup\n",
      "\n",
      "       down       0.46      0.53      0.47      0.49      0.50      0.25       298\n",
      "         up       0.55      0.47      0.53      0.51      0.50      0.25       355\n",
      "\n",
      "avg / total       0.51      0.50      0.50      0.50      0.50      0.25       653\n",
      "\n"
     ]
    }
   ],
   "source": [
    "# Print the imbalanced classification report\n",
    "print(classification_report_imbalanced(y_test, y_pred))"
   ]
  },
  {
   "cell_type": "markdown",
   "id": "a50aa27e",
   "metadata": {},
   "source": [
    "### Undersampling"
   ]
  },
  {
   "cell_type": "code",
   "execution_count": 32,
   "id": "71ac37e0",
   "metadata": {},
   "outputs": [
    {
     "data": {
      "text/plain": [
       "Counter({'Price_Status': 1})"
      ]
     },
     "execution_count": 32,
     "metadata": {},
     "output_type": "execute_result"
    }
   ],
   "source": [
    "# Resample the data using the ClusterCentroids resampler\n",
    "# Warning: This is a large dataset, and this step may take some time to complete\n",
    "from imblearn.under_sampling import ClusterCentroids\n",
    "\n",
    "cc = ClusterCentroids(random_state=1)\n",
    "X_resampled, y_resampled = cc.fit_resample(X_train, y_train)\n",
    "Counter(y_resampled)"
   ]
  },
  {
   "cell_type": "code",
   "execution_count": 33,
   "id": "8346ba4f",
   "metadata": {},
   "outputs": [
    {
     "data": {
      "text/plain": [
       "LogisticRegression(random_state=1)"
      ]
     },
     "execution_count": 33,
     "metadata": {},
     "output_type": "execute_result"
    }
   ],
   "source": [
    "# Train the Logistic Regression model using the resampled data\n",
    "model = LogisticRegression(solver='lbfgs', random_state=1)\n",
    "model.fit(X_resampled, y_resampled)"
   ]
  },
  {
   "cell_type": "code",
   "execution_count": 34,
   "id": "e9f46ab9",
   "metadata": {},
   "outputs": [
    {
     "data": {
      "text/plain": [
       "0.49671046412704417"
      ]
     },
     "execution_count": 34,
     "metadata": {},
     "output_type": "execute_result"
    }
   ],
   "source": [
    "# Calculated the balanced accuracy score\n",
    "y_pred = model.predict(X_test)\n",
    "balanced_accuracy_score(y_test, y_pred)"
   ]
  },
  {
   "cell_type": "code",
   "execution_count": 35,
   "id": "a5cb738e",
   "metadata": {},
   "outputs": [
    {
     "data": {
      "text/plain": [
       "array([[176, 122],\n",
       "       [212, 143]])"
      ]
     },
     "execution_count": 35,
     "metadata": {},
     "output_type": "execute_result"
    }
   ],
   "source": [
    "# Display the confusion matrix\n",
    "confusion_matrix(y_test, y_pred)"
   ]
  },
  {
   "cell_type": "code",
   "execution_count": 36,
   "id": "e7e619ad",
   "metadata": {},
   "outputs": [
    {
     "name": "stdout",
     "output_type": "stream",
     "text": [
      "                   pre       rec       spe        f1       geo       iba       sup\n",
      "\n",
      "       down       0.45      0.59      0.40      0.51      0.49      0.24       298\n",
      "         up       0.54      0.40      0.59      0.46      0.49      0.23       355\n",
      "\n",
      "avg / total       0.50      0.49      0.50      0.48      0.49      0.24       653\n",
      "\n"
     ]
    }
   ],
   "source": [
    "# Print the imbalanced classification report\n",
    "print(classification_report_imbalanced(y_test, y_pred))"
   ]
  },
  {
   "cell_type": "markdown",
   "id": "a938a9cd",
   "metadata": {},
   "source": [
    "### Combination (Over and Under) Sampling\n"
   ]
  },
  {
   "cell_type": "code",
   "execution_count": 37,
   "id": "cd209a91",
   "metadata": {},
   "outputs": [
    {
     "data": {
      "text/plain": [
       "Counter({'Price_Status': 1})"
      ]
     },
     "execution_count": 37,
     "metadata": {},
     "output_type": "execute_result"
    }
   ],
   "source": [
    "# Resample the training data with SMOTEENN\n",
    "# Warning: This is a large dataset, and this step may take some time to complete\n",
    "from imblearn.combine import SMOTEENN\n",
    "\n",
    "smote_enn = SMOTEENN(random_state=1)\n",
    "X_resampled, y_resampled = smote_enn.fit_resample(X, y)\n",
    "\n",
    "Counter(y_resampled)"
   ]
  },
  {
   "cell_type": "code",
   "execution_count": 38,
   "id": "ae8a5ceb",
   "metadata": {},
   "outputs": [
    {
     "data": {
      "text/plain": [
       "LogisticRegression()"
      ]
     },
     "execution_count": 38,
     "metadata": {},
     "output_type": "execute_result"
    }
   ],
   "source": [
    "# Train the Logistic Regression model using the resampled data\n",
    "model = LogisticRegression(solver='lbfgs')\n",
    "model.fit(X_resampled, y_resampled)"
   ]
  },
  {
   "cell_type": "code",
   "execution_count": 39,
   "id": "92df5ce0",
   "metadata": {},
   "outputs": [
    {
     "data": {
      "text/plain": [
       "0.536610265620569"
      ]
     },
     "execution_count": 39,
     "metadata": {},
     "output_type": "execute_result"
    }
   ],
   "source": [
    "# Calculated the balanced accuracy score\n",
    "y_pred = model.predict(X_test)\n",
    "balanced_accuracy_score(y_test, y_pred)"
   ]
  },
  {
   "cell_type": "code",
   "execution_count": 40,
   "id": "74583d51",
   "metadata": {},
   "outputs": [
    {
     "data": {
      "text/plain": [
       "array([[230,  68],\n",
       "       [248, 107]])"
      ]
     },
     "execution_count": 40,
     "metadata": {},
     "output_type": "execute_result"
    }
   ],
   "source": [
    "# Display the confusion matrix\n",
    "confusion_matrix(y_test, y_pred)"
   ]
  },
  {
   "cell_type": "code",
   "execution_count": 41,
   "id": "6b007994",
   "metadata": {},
   "outputs": [
    {
     "name": "stdout",
     "output_type": "stream",
     "text": [
      "                   pre       rec       spe        f1       geo       iba       sup\n",
      "\n",
      "       down       0.48      0.77      0.30      0.59      0.48      0.24       298\n",
      "         up       0.61      0.30      0.77      0.40      0.48      0.22       355\n",
      "\n",
      "avg / total       0.55      0.52      0.56      0.49      0.48      0.23       653\n",
      "\n"
     ]
    }
   ],
   "source": [
    "# Print the imbalanced classification report\n",
    "print(classification_report_imbalanced(y_test, y_pred))"
   ]
  },
  {
   "cell_type": "code",
   "execution_count": 45,
   "id": "0f47a338",
   "metadata": {},
   "outputs": [],
   "source": [
    "\n"
   ]
  },
  {
   "cell_type": "code",
   "execution_count": null,
   "id": "252cec84",
   "metadata": {},
   "outputs": [],
   "source": []
  },
  {
   "cell_type": "code",
   "execution_count": null,
   "id": "e5cce5f8",
   "metadata": {},
   "outputs": [],
   "source": []
  },
  {
   "cell_type": "code",
   "execution_count": null,
   "id": "15f26505",
   "metadata": {},
   "outputs": [],
   "source": []
  },
  {
   "cell_type": "code",
   "execution_count": null,
   "id": "2bb73aef",
   "metadata": {},
   "outputs": [],
   "source": []
  },
  {
   "cell_type": "code",
   "execution_count": null,
   "id": "832c85bc",
   "metadata": {},
   "outputs": [],
   "source": []
  }
 ],
 "metadata": {
  "kernelspec": {
   "display_name": "mlenv",
   "language": "python",
   "name": "mlenv"
  },
  "language_info": {
   "codemirror_mode": {
    "name": "ipython",
    "version": 3
   },
   "file_extension": ".py",
   "mimetype": "text/x-python",
   "name": "python",
   "nbconvert_exporter": "python",
   "pygments_lexer": "ipython3",
   "version": "3.7.13"
  }
 },
 "nbformat": 4,
 "nbformat_minor": 5
}
