{
 "cells": [
  {
   "cell_type": "code",
   "execution_count": 1,
   "id": "679fe3db",
   "metadata": {},
   "outputs": [],
   "source": [
    "import warnings\n",
    "warnings.filterwarnings('ignore')\n",
    "import numpy as np\n",
    "import pandas as pd\n",
    "from pathlib import Path\n",
    "from collections import Counter\n",
    "import matplotlib.pyplot as plt\n",
    "import seaborn as sns\n",
    "from sklearn.metrics import balanced_accuracy_score\n",
    "from sklearn.metrics import confusion_matrix\n",
    "from imblearn.metrics import classification_report_imbalanced"
   ]
  },
  {
   "cell_type": "code",
   "execution_count": 2,
   "id": "5809e7ac",
   "metadata": {},
   "outputs": [
    {
     "data": {
      "text/html": [
       "<div>\n",
       "<style scoped>\n",
       "    .dataframe tbody tr th:only-of-type {\n",
       "        vertical-align: middle;\n",
       "    }\n",
       "\n",
       "    .dataframe tbody tr th {\n",
       "        vertical-align: top;\n",
       "    }\n",
       "\n",
       "    .dataframe thead th {\n",
       "        text-align: right;\n",
       "    }\n",
       "</style>\n",
       "<table border=\"1\" class=\"dataframe\">\n",
       "  <thead>\n",
       "    <tr style=\"text-align: right;\">\n",
       "      <th></th>\n",
       "      <th>Date</th>\n",
       "      <th>Year</th>\n",
       "      <th>County</th>\n",
       "      <th>median_listing_price</th>\n",
       "      <th>active_listing_count</th>\n",
       "      <th>median_days_on_market</th>\n",
       "      <th>new_listing_count</th>\n",
       "      <th>price_increased_count</th>\n",
       "      <th>price_reduced_count</th>\n",
       "      <th>median_square_feet</th>\n",
       "      <th>average_listing_price</th>\n",
       "      <th>total_listing_count</th>\n",
       "      <th>violent_crime_rate</th>\n",
       "      <th>30_Year_Fixed_Rate</th>\n",
       "      <th>Number_of_Schools</th>\n",
       "      <th>median_listing_price_mm</th>\n",
       "      <th>Number_of_Parks</th>\n",
       "    </tr>\n",
       "  </thead>\n",
       "  <tbody>\n",
       "    <tr>\n",
       "      <th>0</th>\n",
       "      <td>2022-06</td>\n",
       "      <td>2022</td>\n",
       "      <td>Alamance</td>\n",
       "      <td>382500</td>\n",
       "      <td>298</td>\n",
       "      <td>18</td>\n",
       "      <td>452</td>\n",
       "      <td>12</td>\n",
       "      <td>108</td>\n",
       "      <td>2112</td>\n",
       "      <td>443362</td>\n",
       "      <td>644</td>\n",
       "      <td>NaN</td>\n",
       "      <td>5.52</td>\n",
       "      <td>NaN</td>\n",
       "      <td>0.034063</td>\n",
       "      <td>54.0</td>\n",
       "    </tr>\n",
       "    <tr>\n",
       "      <th>1</th>\n",
       "      <td>2022-06</td>\n",
       "      <td>2022</td>\n",
       "      <td>Alexander</td>\n",
       "      <td>312450</td>\n",
       "      <td>34</td>\n",
       "      <td>35</td>\n",
       "      <td>28</td>\n",
       "      <td>0</td>\n",
       "      <td>20</td>\n",
       "      <td>1942</td>\n",
       "      <td>370648</td>\n",
       "      <td>59</td>\n",
       "      <td>NaN</td>\n",
       "      <td>5.52</td>\n",
       "      <td>NaN</td>\n",
       "      <td>0.016428</td>\n",
       "      <td>25.0</td>\n",
       "    </tr>\n",
       "    <tr>\n",
       "      <th>2</th>\n",
       "      <td>2022-06</td>\n",
       "      <td>2022</td>\n",
       "      <td>Alleghany</td>\n",
       "      <td>389000</td>\n",
       "      <td>54</td>\n",
       "      <td>39</td>\n",
       "      <td>24</td>\n",
       "      <td>0</td>\n",
       "      <td>20</td>\n",
       "      <td>1904</td>\n",
       "      <td>422802</td>\n",
       "      <td>92</td>\n",
       "      <td>NaN</td>\n",
       "      <td>5.52</td>\n",
       "      <td>NaN</td>\n",
       "      <td>-0.038200</td>\n",
       "      <td>0.0</td>\n",
       "    </tr>\n",
       "    <tr>\n",
       "      <th>3</th>\n",
       "      <td>2022-06</td>\n",
       "      <td>2022</td>\n",
       "      <td>Anson</td>\n",
       "      <td>170000</td>\n",
       "      <td>22</td>\n",
       "      <td>34</td>\n",
       "      <td>16</td>\n",
       "      <td>0</td>\n",
       "      <td>8</td>\n",
       "      <td>1502</td>\n",
       "      <td>262240</td>\n",
       "      <td>48</td>\n",
       "      <td>NaN</td>\n",
       "      <td>5.52</td>\n",
       "      <td>NaN</td>\n",
       "      <td>0.218638</td>\n",
       "      <td>3.0</td>\n",
       "    </tr>\n",
       "    <tr>\n",
       "      <th>4</th>\n",
       "      <td>2022-06</td>\n",
       "      <td>2022</td>\n",
       "      <td>Ashe</td>\n",
       "      <td>485000</td>\n",
       "      <td>76</td>\n",
       "      <td>31</td>\n",
       "      <td>48</td>\n",
       "      <td>0</td>\n",
       "      <td>20</td>\n",
       "      <td>1907</td>\n",
       "      <td>592879</td>\n",
       "      <td>137</td>\n",
       "      <td>NaN</td>\n",
       "      <td>5.52</td>\n",
       "      <td>NaN</td>\n",
       "      <td>-0.088346</td>\n",
       "      <td>5.0</td>\n",
       "    </tr>\n",
       "  </tbody>\n",
       "</table>\n",
       "</div>"
      ],
      "text/plain": [
       "      Date  Year     County  median_listing_price  active_listing_count  \\\n",
       "0  2022-06  2022   Alamance                382500                   298   \n",
       "1  2022-06  2022  Alexander                312450                    34   \n",
       "2  2022-06  2022  Alleghany                389000                    54   \n",
       "3  2022-06  2022      Anson                170000                    22   \n",
       "4  2022-06  2022       Ashe                485000                    76   \n",
       "\n",
       "   median_days_on_market  new_listing_count  price_increased_count  \\\n",
       "0                     18                452                     12   \n",
       "1                     35                 28                      0   \n",
       "2                     39                 24                      0   \n",
       "3                     34                 16                      0   \n",
       "4                     31                 48                      0   \n",
       "\n",
       "   price_reduced_count  median_square_feet  average_listing_price  \\\n",
       "0                  108                2112                 443362   \n",
       "1                   20                1942                 370648   \n",
       "2                   20                1904                 422802   \n",
       "3                    8                1502                 262240   \n",
       "4                   20                1907                 592879   \n",
       "\n",
       "   total_listing_count violent_crime_rate  30_Year_Fixed_Rate  \\\n",
       "0                  644                NaN                5.52   \n",
       "1                   59                NaN                5.52   \n",
       "2                   92                NaN                5.52   \n",
       "3                   48                NaN                5.52   \n",
       "4                  137                NaN                5.52   \n",
       "\n",
       "   Number_of_Schools  median_listing_price_mm  Number_of_Parks  \n",
       "0                NaN                 0.034063             54.0  \n",
       "1                NaN                 0.016428             25.0  \n",
       "2                NaN                -0.038200              0.0  \n",
       "3                NaN                 0.218638              3.0  \n",
       "4                NaN                -0.088346              5.0  "
      ]
     },
     "execution_count": 2,
     "metadata": {},
     "output_type": "execute_result"
    }
   ],
   "source": [
    "df = pd.read_csv('Resources/filled_final_table.csv')\n",
    "df.head()"
   ]
  },
  {
   "cell_type": "code",
   "execution_count": 3,
   "id": "8535256b",
   "metadata": {},
   "outputs": [
    {
     "data": {
      "text/plain": [
       "Date                        object\n",
       "Year                         int64\n",
       "County                      object\n",
       "median_listing_price         int64\n",
       "active_listing_count         int64\n",
       "median_days_on_market        int64\n",
       "new_listing_count            int64\n",
       "price_increased_count        int64\n",
       "price_reduced_count          int64\n",
       "median_square_feet           int64\n",
       "average_listing_price        int64\n",
       "total_listing_count          int64\n",
       "violent_crime_rate         float64\n",
       "30_Year_Fixed_Rate         float64\n",
       "Number_of_Schools          float64\n",
       "median_listing_price_mm    float64\n",
       "Number_of_Parks            float64\n",
       "dtype: object"
      ]
     },
     "execution_count": 3,
     "metadata": {},
     "output_type": "execute_result"
    }
   ],
   "source": [
    "df['violent_crime_rate']= df['violent_crime_rate'].astype(str).str.replace(',','').astype(float)\n",
    "df.dtypes"
   ]
  },
  {
   "cell_type": "code",
   "execution_count": 4,
   "id": "da543b7b",
   "metadata": {},
   "outputs": [],
   "source": [
    "filter_df = df[df['Year'] <2019]"
   ]
  },
  {
   "cell_type": "code",
   "execution_count": 5,
   "id": "4fb481d0",
   "metadata": {},
   "outputs": [],
   "source": [
    "filter_df['Price_Status'] = np.where(filter_df['median_listing_price_mm']>=0, 'up', 'down')"
   ]
  },
  {
   "cell_type": "code",
   "execution_count": 6,
   "id": "192dfe84",
   "metadata": {},
   "outputs": [],
   "source": [
    "columns = [\n",
    "    \"Date\", \"Year\", \"County\",\n",
    "    \"active_listing_count\", \"median_days_on_market\", \"new_listing_count\",\n",
    "    \"price_increased_count\", \"price_reduced_count\", \"median_square_feet\",\n",
    "    \"total_listing_count\", \"violent_crime_rate\",\"Number_of_Parks\",\n",
    "    \"Number_of_Schools\",\"30_Year_Fixed_Rate\", \n",
    "     \"Price_Status\"]\n",
    "\n",
    "target = [\"Price_Status\"]"
   ]
  },
  {
   "cell_type": "code",
   "execution_count": 7,
   "id": "27b17f8c",
   "metadata": {},
   "outputs": [
    {
     "data": {
      "text/plain": [
       "Date                     0\n",
       "Year                     0\n",
       "County                   0\n",
       "active_listing_count     0\n",
       "median_days_on_market    0\n",
       "new_listing_count        0\n",
       "price_increased_count    0\n",
       "price_reduced_count      0\n",
       "median_square_feet       0\n",
       "total_listing_count      0\n",
       "violent_crime_rate       0\n",
       "Number_of_Parks          0\n",
       "Number_of_Schools        0\n",
       "30_Year_Fixed_Rate       0\n",
       "Price_Status             0\n",
       "dtype: int64"
      ]
     },
     "execution_count": 7,
     "metadata": {},
     "output_type": "execute_result"
    }
   ],
   "source": [
    "# Load the data\n",
    "\n",
    "df_data = filter_df.loc[:, columns].copy()\n",
    "df_data = df_data.dropna()\n",
    "\n",
    "df_data.reset_index(inplace=True, drop=True)\n",
    "\n",
    "df_data.head()\n",
    "df_data.isnull().sum()"
   ]
  },
  {
   "cell_type": "code",
   "execution_count": 8,
   "id": "0bc3e6bf",
   "metadata": {},
   "outputs": [],
   "source": [
    "# Create our features\n",
    "X = df_data.drop('Price_Status', axis=1)\n",
    "\n",
    "X = pd.get_dummies(X)\n",
    "\n",
    "# Create our target\n",
    "y = df_data.loc[:, target].copy()"
   ]
  },
  {
   "cell_type": "code",
   "execution_count": 9,
   "id": "7e4a266a",
   "metadata": {},
   "outputs": [
    {
     "data": {
      "text/plain": [
       "up      1448\n",
       "down    1162\n",
       "Name: Price_Status, dtype: int64"
      ]
     },
     "execution_count": 9,
     "metadata": {},
     "output_type": "execute_result"
    }
   ],
   "source": [
    "# Check the balance of our target values\n",
    "y['Price_Status'].value_counts()"
   ]
  },
  {
   "cell_type": "markdown",
   "id": "1fc2e22a",
   "metadata": {},
   "source": [
    "### Ensemble Learners\n"
   ]
  },
  {
   "cell_type": "code",
   "execution_count": 10,
   "id": "9fdf95bf",
   "metadata": {},
   "outputs": [
    {
     "data": {
      "text/plain": [
       "(1957, 1)"
      ]
     },
     "execution_count": 10,
     "metadata": {},
     "output_type": "execute_result"
    }
   ],
   "source": [
    "from sklearn.model_selection import train_test_split\n",
    "X_train, X_test, y_train, y_test = train_test_split(X, \n",
    "                                                    y, \n",
    "                                                    random_state=1)\n",
    "X_test.shape\n",
    "y_test.shape\n",
    "y_train.shape"
   ]
  },
  {
   "cell_type": "code",
   "execution_count": 11,
   "id": "e670e90d",
   "metadata": {},
   "outputs": [
    {
     "name": "stdout",
     "output_type": "stream",
     "text": [
      "Requirement already satisfied: imbalanced-learn==0.9.0 in /Users/kkanchi/opt/anaconda3/envs/mlenv/lib/python3.7/site-packages (0.9.0)\n",
      "Requirement already satisfied: threadpoolctl>=2.0.0 in /Users/kkanchi/opt/anaconda3/envs/mlenv/lib/python3.7/site-packages (from imbalanced-learn==0.9.0) (2.2.0)\n",
      "Collecting scikit-learn>=1.0.1\n",
      "  Downloading scikit_learn-1.0.2-cp37-cp37m-macosx_10_13_x86_64.whl (7.8 MB)\n",
      "\u001b[K     |████████████████████████████████| 7.8 MB 1.5 MB/s eta 0:00:01\n",
      "\u001b[?25hRequirement already satisfied: joblib>=0.11 in /Users/kkanchi/opt/anaconda3/envs/mlenv/lib/python3.7/site-packages (from imbalanced-learn==0.9.0) (1.1.0)\n",
      "Requirement already satisfied: numpy>=1.14.6 in /Users/kkanchi/opt/anaconda3/envs/mlenv/lib/python3.7/site-packages (from imbalanced-learn==0.9.0) (1.21.5)\n",
      "Requirement already satisfied: scipy>=1.1.0 in /Users/kkanchi/opt/anaconda3/envs/mlenv/lib/python3.7/site-packages (from imbalanced-learn==0.9.0) (1.7.3)\n",
      "Installing collected packages: scikit-learn\n",
      "  Attempting uninstall: scikit-learn\n",
      "    Found existing installation: scikit-learn 1.0\n",
      "    Uninstalling scikit-learn-1.0:\n",
      "      Successfully uninstalled scikit-learn-1.0\n",
      "Successfully installed scikit-learn-1.0.2\n",
      "Note: you may need to restart the kernel to use updated packages.\n"
     ]
    }
   ],
   "source": [
    "pip install imbalanced-learn==0.9.0"
   ]
  },
  {
   "cell_type": "code",
   "execution_count": 12,
   "id": "5a3edefe",
   "metadata": {},
   "outputs": [
    {
     "name": "stdout",
     "output_type": "stream",
     "text": [
      "Collecting scikit-learn==1.0\n",
      "  Using cached scikit_learn-1.0-cp37-cp37m-macosx_10_13_x86_64.whl (7.9 MB)\n",
      "Requirement already satisfied: threadpoolctl>=2.0.0 in /Users/kkanchi/opt/anaconda3/envs/mlenv/lib/python3.7/site-packages (from scikit-learn==1.0) (2.2.0)\n",
      "Requirement already satisfied: joblib>=0.11 in /Users/kkanchi/opt/anaconda3/envs/mlenv/lib/python3.7/site-packages (from scikit-learn==1.0) (1.1.0)\n",
      "Requirement already satisfied: numpy>=1.14.6 in /Users/kkanchi/opt/anaconda3/envs/mlenv/lib/python3.7/site-packages (from scikit-learn==1.0) (1.21.5)\n",
      "Requirement already satisfied: scipy>=1.1.0 in /Users/kkanchi/opt/anaconda3/envs/mlenv/lib/python3.7/site-packages (from scikit-learn==1.0) (1.7.3)\n",
      "Installing collected packages: scikit-learn\n",
      "  Attempting uninstall: scikit-learn\n",
      "    Found existing installation: scikit-learn 1.0.2\n",
      "    Uninstalling scikit-learn-1.0.2:\n",
      "      Successfully uninstalled scikit-learn-1.0.2\n",
      "\u001b[31mERROR: pip's dependency resolver does not currently take into account all the packages that are installed. This behaviour is the source of the following dependency conflicts.\n",
      "imbalanced-learn 0.9.0 requires scikit-learn>=1.0.1, but you have scikit-learn 1.0 which is incompatible.\u001b[0m\n",
      "Successfully installed scikit-learn-1.0\n",
      "Note: you may need to restart the kernel to use updated packages.\n"
     ]
    }
   ],
   "source": [
    "pip install scikit-learn==1.0"
   ]
  },
  {
   "cell_type": "code",
   "execution_count": 32,
   "id": "cf5d5cec",
   "metadata": {},
   "outputs": [
    {
     "data": {
      "text/plain": [
       "Counter({'Price_Status': 1})"
      ]
     },
     "execution_count": 32,
     "metadata": {},
     "output_type": "execute_result"
    }
   ],
   "source": [
    "from sklearn.model_selection import train_test_split\n",
    "X_train, X_test, y_train, y_test = train_test_split(X, y, random_state=1)\n",
    "Counter(y_train)"
   ]
  },
  {
   "cell_type": "code",
   "execution_count": 33,
   "id": "1d6482c2",
   "metadata": {},
   "outputs": [],
   "source": [
    "# Resample the training data with the BalancedRandomForestClassifier\n",
    "from imblearn.ensemble import BalancedRandomForestClassifier\n",
    "brf_model = BalancedRandomForestClassifier(n_estimators=100, random_state=1)\n",
    "\n",
    "# Fitting the model\n",
    "brf_model = brf_model.fit(X_train, y_train)\n",
    "\n",
    "# Making predictions using the testing data\n",
    "predictions = brf_model.predict(X_test)"
   ]
  },
  {
   "cell_type": "code",
   "execution_count": 34,
   "id": "d9ebc16b",
   "metadata": {},
   "outputs": [
    {
     "data": {
      "text/plain": [
       "(1957, 134)"
      ]
     },
     "execution_count": 34,
     "metadata": {},
     "output_type": "execute_result"
    }
   ],
   "source": [
    "X_train.shape"
   ]
  },
  {
   "cell_type": "code",
   "execution_count": 16,
   "id": "ce9a2c54",
   "metadata": {},
   "outputs": [
    {
     "data": {
      "text/html": [
       "<div>\n",
       "<style scoped>\n",
       "    .dataframe tbody tr th:only-of-type {\n",
       "        vertical-align: middle;\n",
       "    }\n",
       "\n",
       "    .dataframe tbody tr th {\n",
       "        vertical-align: top;\n",
       "    }\n",
       "\n",
       "    .dataframe thead th {\n",
       "        text-align: right;\n",
       "    }\n",
       "</style>\n",
       "<table border=\"1\" class=\"dataframe\">\n",
       "  <thead>\n",
       "    <tr style=\"text-align: right;\">\n",
       "      <th></th>\n",
       "      <th>Year</th>\n",
       "      <th>active_listing_count</th>\n",
       "      <th>median_days_on_market</th>\n",
       "      <th>new_listing_count</th>\n",
       "      <th>price_increased_count</th>\n",
       "      <th>price_reduced_count</th>\n",
       "      <th>median_square_feet</th>\n",
       "      <th>total_listing_count</th>\n",
       "      <th>violent_crime_rate</th>\n",
       "      <th>Number_of_Parks</th>\n",
       "      <th>...</th>\n",
       "      <th>County_Union</th>\n",
       "      <th>County_Vance</th>\n",
       "      <th>County_Wake</th>\n",
       "      <th>County_Warren</th>\n",
       "      <th>County_Watauga</th>\n",
       "      <th>County_Wayne</th>\n",
       "      <th>County_Wilkes</th>\n",
       "      <th>County_Wilson</th>\n",
       "      <th>County_Yadkin</th>\n",
       "      <th>County_Yancey</th>\n",
       "    </tr>\n",
       "  </thead>\n",
       "  <tbody>\n",
       "    <tr>\n",
       "      <th>count</th>\n",
       "      <td>2610.000000</td>\n",
       "      <td>2610.000000</td>\n",
       "      <td>2610.000000</td>\n",
       "      <td>2610.00000</td>\n",
       "      <td>2610.000000</td>\n",
       "      <td>2610.000000</td>\n",
       "      <td>2610.000000</td>\n",
       "      <td>2610.000000</td>\n",
       "      <td>2610.000000</td>\n",
       "      <td>2610.000000</td>\n",
       "      <td>...</td>\n",
       "      <td>2610.000000</td>\n",
       "      <td>2610.000000</td>\n",
       "      <td>2610.000000</td>\n",
       "      <td>2610.000000</td>\n",
       "      <td>2610.000000</td>\n",
       "      <td>2610.000000</td>\n",
       "      <td>2610.000000</td>\n",
       "      <td>2610.000000</td>\n",
       "      <td>2610.000000</td>\n",
       "      <td>2610.000000</td>\n",
       "    </tr>\n",
       "    <tr>\n",
       "      <th>mean</th>\n",
       "      <td>2017.181609</td>\n",
       "      <td>568.260536</td>\n",
       "      <td>113.965900</td>\n",
       "      <td>156.97931</td>\n",
       "      <td>15.834483</td>\n",
       "      <td>132.331034</td>\n",
       "      <td>2067.973180</td>\n",
       "      <td>728.490421</td>\n",
       "      <td>285.934483</td>\n",
       "      <td>90.041379</td>\n",
       "      <td>...</td>\n",
       "      <td>0.011494</td>\n",
       "      <td>0.011494</td>\n",
       "      <td>0.011494</td>\n",
       "      <td>0.011494</td>\n",
       "      <td>0.011494</td>\n",
       "      <td>0.011494</td>\n",
       "      <td>0.011494</td>\n",
       "      <td>0.011494</td>\n",
       "      <td>0.011494</td>\n",
       "      <td>0.011494</td>\n",
       "    </tr>\n",
       "    <tr>\n",
       "      <th>std</th>\n",
       "      <td>0.753150</td>\n",
       "      <td>650.648846</td>\n",
       "      <td>41.824278</td>\n",
       "      <td>282.25789</td>\n",
       "      <td>45.725834</td>\n",
       "      <td>233.366958</td>\n",
       "      <td>343.581847</td>\n",
       "      <td>917.663347</td>\n",
       "      <td>176.313277</td>\n",
       "      <td>217.889553</td>\n",
       "      <td>...</td>\n",
       "      <td>0.106614</td>\n",
       "      <td>0.106614</td>\n",
       "      <td>0.106614</td>\n",
       "      <td>0.106614</td>\n",
       "      <td>0.106614</td>\n",
       "      <td>0.106614</td>\n",
       "      <td>0.106614</td>\n",
       "      <td>0.106614</td>\n",
       "      <td>0.106614</td>\n",
       "      <td>0.106614</td>\n",
       "    </tr>\n",
       "    <tr>\n",
       "      <th>min</th>\n",
       "      <td>2016.000000</td>\n",
       "      <td>12.000000</td>\n",
       "      <td>18.000000</td>\n",
       "      <td>0.00000</td>\n",
       "      <td>0.000000</td>\n",
       "      <td>0.000000</td>\n",
       "      <td>1295.000000</td>\n",
       "      <td>14.000000</td>\n",
       "      <td>19.500000</td>\n",
       "      <td>0.000000</td>\n",
       "      <td>...</td>\n",
       "      <td>0.000000</td>\n",
       "      <td>0.000000</td>\n",
       "      <td>0.000000</td>\n",
       "      <td>0.000000</td>\n",
       "      <td>0.000000</td>\n",
       "      <td>0.000000</td>\n",
       "      <td>0.000000</td>\n",
       "      <td>0.000000</td>\n",
       "      <td>0.000000</td>\n",
       "      <td>0.000000</td>\n",
       "    </tr>\n",
       "    <tr>\n",
       "      <th>25%</th>\n",
       "      <td>2017.000000</td>\n",
       "      <td>159.000000</td>\n",
       "      <td>84.000000</td>\n",
       "      <td>28.00000</td>\n",
       "      <td>0.000000</td>\n",
       "      <td>20.000000</td>\n",
       "      <td>1847.250000</td>\n",
       "      <td>179.000000</td>\n",
       "      <td>167.000000</td>\n",
       "      <td>10.000000</td>\n",
       "      <td>...</td>\n",
       "      <td>0.000000</td>\n",
       "      <td>0.000000</td>\n",
       "      <td>0.000000</td>\n",
       "      <td>0.000000</td>\n",
       "      <td>0.000000</td>\n",
       "      <td>0.000000</td>\n",
       "      <td>0.000000</td>\n",
       "      <td>0.000000</td>\n",
       "      <td>0.000000</td>\n",
       "      <td>0.000000</td>\n",
       "    </tr>\n",
       "    <tr>\n",
       "      <th>50%</th>\n",
       "      <td>2017.000000</td>\n",
       "      <td>367.000000</td>\n",
       "      <td>107.000000</td>\n",
       "      <td>72.00000</td>\n",
       "      <td>4.000000</td>\n",
       "      <td>60.000000</td>\n",
       "      <td>1996.000000</td>\n",
       "      <td>434.000000</td>\n",
       "      <td>227.700000</td>\n",
       "      <td>25.000000</td>\n",
       "      <td>...</td>\n",
       "      <td>0.000000</td>\n",
       "      <td>0.000000</td>\n",
       "      <td>0.000000</td>\n",
       "      <td>0.000000</td>\n",
       "      <td>0.000000</td>\n",
       "      <td>0.000000</td>\n",
       "      <td>0.000000</td>\n",
       "      <td>0.000000</td>\n",
       "      <td>0.000000</td>\n",
       "      <td>0.000000</td>\n",
       "    </tr>\n",
       "    <tr>\n",
       "      <th>75%</th>\n",
       "      <td>2018.000000</td>\n",
       "      <td>681.500000</td>\n",
       "      <td>137.000000</td>\n",
       "      <td>168.00000</td>\n",
       "      <td>12.000000</td>\n",
       "      <td>144.000000</td>\n",
       "      <td>2250.000000</td>\n",
       "      <td>917.750000</td>\n",
       "      <td>365.300000</td>\n",
       "      <td>83.000000</td>\n",
       "      <td>...</td>\n",
       "      <td>0.000000</td>\n",
       "      <td>0.000000</td>\n",
       "      <td>0.000000</td>\n",
       "      <td>0.000000</td>\n",
       "      <td>0.000000</td>\n",
       "      <td>0.000000</td>\n",
       "      <td>0.000000</td>\n",
       "      <td>0.000000</td>\n",
       "      <td>0.000000</td>\n",
       "      <td>0.000000</td>\n",
       "    </tr>\n",
       "    <tr>\n",
       "      <th>max</th>\n",
       "      <td>2018.000000</td>\n",
       "      <td>4908.000000</td>\n",
       "      <td>330.000000</td>\n",
       "      <td>2256.00000</td>\n",
       "      <td>488.000000</td>\n",
       "      <td>2180.000000</td>\n",
       "      <td>3527.000000</td>\n",
       "      <td>5986.000000</td>\n",
       "      <td>920.300000</td>\n",
       "      <td>1627.000000</td>\n",
       "      <td>...</td>\n",
       "      <td>1.000000</td>\n",
       "      <td>1.000000</td>\n",
       "      <td>1.000000</td>\n",
       "      <td>1.000000</td>\n",
       "      <td>1.000000</td>\n",
       "      <td>1.000000</td>\n",
       "      <td>1.000000</td>\n",
       "      <td>1.000000</td>\n",
       "      <td>1.000000</td>\n",
       "      <td>1.000000</td>\n",
       "    </tr>\n",
       "  </tbody>\n",
       "</table>\n",
       "<p>8 rows × 134 columns</p>\n",
       "</div>"
      ],
      "text/plain": [
       "              Year  active_listing_count  median_days_on_market  \\\n",
       "count  2610.000000           2610.000000            2610.000000   \n",
       "mean   2017.181609            568.260536             113.965900   \n",
       "std       0.753150            650.648846              41.824278   \n",
       "min    2016.000000             12.000000              18.000000   \n",
       "25%    2017.000000            159.000000              84.000000   \n",
       "50%    2017.000000            367.000000             107.000000   \n",
       "75%    2018.000000            681.500000             137.000000   \n",
       "max    2018.000000           4908.000000             330.000000   \n",
       "\n",
       "       new_listing_count  price_increased_count  price_reduced_count  \\\n",
       "count         2610.00000            2610.000000          2610.000000   \n",
       "mean           156.97931              15.834483           132.331034   \n",
       "std            282.25789              45.725834           233.366958   \n",
       "min              0.00000               0.000000             0.000000   \n",
       "25%             28.00000               0.000000            20.000000   \n",
       "50%             72.00000               4.000000            60.000000   \n",
       "75%            168.00000              12.000000           144.000000   \n",
       "max           2256.00000             488.000000          2180.000000   \n",
       "\n",
       "       median_square_feet  total_listing_count  violent_crime_rate  \\\n",
       "count         2610.000000          2610.000000         2610.000000   \n",
       "mean          2067.973180           728.490421          285.934483   \n",
       "std            343.581847           917.663347          176.313277   \n",
       "min           1295.000000            14.000000           19.500000   \n",
       "25%           1847.250000           179.000000          167.000000   \n",
       "50%           1996.000000           434.000000          227.700000   \n",
       "75%           2250.000000           917.750000          365.300000   \n",
       "max           3527.000000          5986.000000          920.300000   \n",
       "\n",
       "       Number_of_Parks  ...  County_Union  County_Vance  County_Wake  \\\n",
       "count      2610.000000  ...   2610.000000   2610.000000  2610.000000   \n",
       "mean         90.041379  ...      0.011494      0.011494     0.011494   \n",
       "std         217.889553  ...      0.106614      0.106614     0.106614   \n",
       "min           0.000000  ...      0.000000      0.000000     0.000000   \n",
       "25%          10.000000  ...      0.000000      0.000000     0.000000   \n",
       "50%          25.000000  ...      0.000000      0.000000     0.000000   \n",
       "75%          83.000000  ...      0.000000      0.000000     0.000000   \n",
       "max        1627.000000  ...      1.000000      1.000000     1.000000   \n",
       "\n",
       "       County_Warren  County_Watauga  County_Wayne  County_Wilkes  \\\n",
       "count    2610.000000     2610.000000   2610.000000    2610.000000   \n",
       "mean        0.011494        0.011494      0.011494       0.011494   \n",
       "std         0.106614        0.106614      0.106614       0.106614   \n",
       "min         0.000000        0.000000      0.000000       0.000000   \n",
       "25%         0.000000        0.000000      0.000000       0.000000   \n",
       "50%         0.000000        0.000000      0.000000       0.000000   \n",
       "75%         0.000000        0.000000      0.000000       0.000000   \n",
       "max         1.000000        1.000000      1.000000       1.000000   \n",
       "\n",
       "       County_Wilson  County_Yadkin  County_Yancey  \n",
       "count    2610.000000    2610.000000    2610.000000  \n",
       "mean        0.011494       0.011494       0.011494  \n",
       "std         0.106614       0.106614       0.106614  \n",
       "min         0.000000       0.000000       0.000000  \n",
       "25%         0.000000       0.000000       0.000000  \n",
       "50%         0.000000       0.000000       0.000000  \n",
       "75%         0.000000       0.000000       0.000000  \n",
       "max         1.000000       1.000000       1.000000  \n",
       "\n",
       "[8 rows x 134 columns]"
      ]
     },
     "execution_count": 16,
     "metadata": {},
     "output_type": "execute_result"
    }
   ],
   "source": [
    "X.describe()"
   ]
  },
  {
   "cell_type": "code",
   "execution_count": 29,
   "id": "24858f40",
   "metadata": {},
   "outputs": [
    {
     "data": {
      "text/plain": [
       "Counter({'down': 864, 'up': 1093})"
      ]
     },
     "execution_count": 29,
     "metadata": {},
     "output_type": "execute_result"
    }
   ],
   "source": [
    "# Resample the training data with the BalancedRandomForestClassifier\n",
    "from imblearn.ensemble import BalancedRandomForestClassifier\n",
    "rf_model = BalancedRandomForestClassifier(n_estimators=100, random_state=1) \n",
    "rf_model = rf_model.fit(X_train, y_train)\n",
    "Counter(y_train['Price_Status'])"
   ]
  },
  {
   "cell_type": "code",
   "execution_count": 30,
   "id": "eecd2b2b",
   "metadata": {},
   "outputs": [
    {
     "data": {
      "text/plain": [
       "array([[161, 137],\n",
       "       [146, 209]])"
      ]
     },
     "execution_count": 30,
     "metadata": {},
     "output_type": "execute_result"
    }
   ],
   "source": [
    "# Display the confusion matrix\n",
    "from sklearn.metrics import confusion_matrix\n",
    "\n",
    "y_pred = rf_model.predict(X_test)\n",
    "confusion_matrix(y_test, y_pred)"
   ]
  },
  {
   "cell_type": "code",
   "execution_count": 35,
   "id": "49d8d1c9",
   "metadata": {},
   "outputs": [
    {
     "data": {
      "text/plain": [
       "0.5645004253710181"
      ]
     },
     "execution_count": 35,
     "metadata": {},
     "output_type": "execute_result"
    }
   ],
   "source": [
    "# Calculated the balanced accuracy score\n",
    "from sklearn.metrics import balanced_accuracy_score\n",
    "from sklearn.metrics import confusion_matrix, accuracy_score, classification_report\n",
    "\n",
    "y_pred = brf_model.predict(X_test)\n",
    "balanced_accuracy_score(y_test, y_pred)"
   ]
  },
  {
   "cell_type": "code",
   "execution_count": 36,
   "id": "f2805a2c",
   "metadata": {},
   "outputs": [
    {
     "data": {
      "text/html": [
       "<div>\n",
       "<style scoped>\n",
       "    .dataframe tbody tr th:only-of-type {\n",
       "        vertical-align: middle;\n",
       "    }\n",
       "\n",
       "    .dataframe tbody tr th {\n",
       "        vertical-align: top;\n",
       "    }\n",
       "\n",
       "    .dataframe thead th {\n",
       "        text-align: right;\n",
       "    }\n",
       "</style>\n",
       "<table border=\"1\" class=\"dataframe\">\n",
       "  <thead>\n",
       "    <tr style=\"text-align: right;\">\n",
       "      <th></th>\n",
       "      <th>Predicted 0</th>\n",
       "      <th>Predicted 1</th>\n",
       "    </tr>\n",
       "  </thead>\n",
       "  <tbody>\n",
       "    <tr>\n",
       "      <th>Actual 0</th>\n",
       "      <td>161</td>\n",
       "      <td>137</td>\n",
       "    </tr>\n",
       "    <tr>\n",
       "      <th>Actual 1</th>\n",
       "      <td>146</td>\n",
       "      <td>209</td>\n",
       "    </tr>\n",
       "  </tbody>\n",
       "</table>\n",
       "</div>"
      ],
      "text/plain": [
       "          Predicted 0  Predicted 1\n",
       "Actual 0          161          137\n",
       "Actual 1          146          209"
      ]
     },
     "execution_count": 36,
     "metadata": {},
     "output_type": "execute_result"
    }
   ],
   "source": [
    "# Display the confusion matrix\n",
    "cm = confusion_matrix(y_test, predictions)\n",
    "\n",
    "# Create a DataFrame from the confusion matrix\n",
    "cm_df = pd.DataFrame(cm, index=[\"Actual 0\", \"Actual 1\"], columns=[\"Predicted 0\", \"Predicted 1\"])\n",
    "\n",
    "cm_df"
   ]
  },
  {
   "cell_type": "code",
   "execution_count": 37,
   "id": "3cff909d",
   "metadata": {},
   "outputs": [
    {
     "name": "stdout",
     "output_type": "stream",
     "text": [
      "                   pre       rec       spe        f1       geo       iba       sup\n",
      "\n",
      "       down       0.52      0.54      0.59      0.53      0.56      0.32       298\n",
      "         up       0.60      0.59      0.54      0.60      0.56      0.32       355\n",
      "\n",
      "avg / total       0.57      0.57      0.56      0.57      0.56      0.32       653\n",
      "\n"
     ]
    }
   ],
   "source": [
    "# Print the imbalanced classification report\n",
    "print(classification_report_imbalanced(y_test, y_pred))"
   ]
  },
  {
   "cell_type": "code",
   "execution_count": 38,
   "id": "1411c526",
   "metadata": {},
   "outputs": [
    {
     "data": {
      "text/plain": [
       "[(0.0799400428498193, 'median_square_feet'),\n",
       " (0.07914113503157279, 'median_days_on_market'),\n",
       " (0.07741050378175579, 'total_listing_count'),\n",
       " (0.07729372980894128, 'active_listing_count'),\n",
       " (0.06939624893777557, 'price_reduced_count'),\n",
       " (0.06759715187860406, 'new_listing_count'),\n",
       " (0.0632074693089032, '30_Year_Fixed_Rate'),\n",
       " (0.05425894278814555, 'violent_crime_rate'),\n",
       " (0.047991644873677936, 'Number_of_Schools'),\n",
       " (0.04020975669416658, 'Number_of_Parks'),\n",
       " (0.0322096100282059, 'price_increased_count'),\n",
       " (0.017701253805088038, 'Year'),\n",
       " (0.016556278519109777, 'Date_2016-07'),\n",
       " (0.008246497465934258, 'Date_2017-04'),\n",
       " (0.008193925627171807, 'Date_2017-03'),\n",
       " (0.006322129608195239, 'Date_2017-06'),\n",
       " (0.006288128030707354, 'Date_2017-12'),\n",
       " (0.005655685269294064, 'Date_2018-03'),\n",
       " (0.005637827557722277, 'Date_2017-09'),\n",
       " (0.0056370624875779676, 'Date_2018-08'),\n",
       " (0.00553720588403463, 'Date_2017-02'),\n",
       " (0.005467247042240972, 'Date_2018-10'),\n",
       " (0.0053651048857870165, 'Date_2018-07'),\n",
       " (0.005348827075219298, 'Date_2018-04'),\n",
       " (0.0053443711415293695, 'Date_2017-05'),\n",
       " (0.005303562674261856, 'Date_2017-07'),\n",
       " (0.0052714761378900455, 'Date_2018-11'),\n",
       " (0.005223381115661351, 'Date_2018-06'),\n",
       " (0.0051833299366679745, 'Date_2017-10'),\n",
       " (0.005129611517577803, 'Date_2018-01'),\n",
       " (0.004990047465616529, 'Date_2017-01'),\n",
       " (0.004977558137854544, 'Date_2018-05'),\n",
       " (0.004695125228462975, 'Date_2018-12'),\n",
       " (0.004602281401024756, 'Date_2016-12'),\n",
       " (0.004584693030457452, 'Date_2016-11'),\n",
       " (0.004476644396387411, 'Date_2017-11'),\n",
       " (0.004450773691914978, 'Date_2017-08'),\n",
       " (0.004402012785009085, 'Date_2018-02'),\n",
       " (0.0041645106822301775, 'Date_2018-09'),\n",
       " (0.004099279366412908, 'Date_2016-10'),\n",
       " (0.00402543964315823, 'Date_2016-08'),\n",
       " (0.003686124238473195, 'County_Swain'),\n",
       " (0.0036001949550471574, 'Date_2016-09'),\n",
       " (0.0029647564336781466, 'County_Rutherford'),\n",
       " (0.0024369301954857217, 'County_Stokes'),\n",
       " (0.0023057006653000593, 'County_Stanly'),\n",
       " (0.0022213305489067704, 'County_Duplin'),\n",
       " (0.0022093276401489404, 'County_Hoke'),\n",
       " (0.002061827931940969, 'County_Surry'),\n",
       " (0.001881060266867102, 'County_Wilkes'),\n",
       " (0.0018676991508249877, 'County_Clay'),\n",
       " (0.0018201854992720681, 'County_Henderson'),\n",
       " (0.001802646114613277, 'County_Person'),\n",
       " (0.0017547232201326351, 'County_Orange'),\n",
       " (0.0017539939510097264, 'County_Cleveland'),\n",
       " (0.0017224065251624273, 'County_Yadkin'),\n",
       " (0.0017022307925188508, 'County_Halifax'),\n",
       " (0.001697244233834439, 'County_Yancey'),\n",
       " (0.0016666528142477187, 'County_Cabarrus'),\n",
       " (0.0016613497053166813, 'County_Madison'),\n",
       " (0.0016180740331925589, 'County_Columbus'),\n",
       " (0.0016160473816034724, 'County_Rockingham'),\n",
       " (0.0016156260224716884, 'County_Perquimans'),\n",
       " (0.0016141305052601754, 'County_Pamlico'),\n",
       " (0.0016088534617554424, 'County_Johnston'),\n",
       " (0.0016079107617094964, 'County_Richmond'),\n",
       " (0.0016075170150139622, 'County_Vance'),\n",
       " (0.0016043526306560912, 'County_Chatham'),\n",
       " (0.001601364677043546, 'County_Beaufort'),\n",
       " (0.0015894137409112874, 'County_Transylvania'),\n",
       " (0.0015869887040036266, 'County_Avery'),\n",
       " (0.0015866448857385135, 'County_Alleghany'),\n",
       " (0.0015853358843095158, 'County_Randolph'),\n",
       " (0.0015614376347542222, 'County_Wilson'),\n",
       " (0.0015579537106006935, 'County_Davidson'),\n",
       " (0.0015493724800646259, 'County_Lenoir'),\n",
       " (0.0015448607131007654, 'County_Camden'),\n",
       " (0.001535571098728952, 'County_Chowan'),\n",
       " (0.0015138335786239957, 'County_Burke'),\n",
       " (0.0014804082332124336, 'County_Catawba'),\n",
       " (0.0014774474812496408, 'County_Pender'),\n",
       " (0.0014357756669236457, 'County_Currituck'),\n",
       " (0.001430497497877328, 'County_Sampson'),\n",
       " (0.0013826171079812496, 'County_Haywood'),\n",
       " (0.0013797650301272586, 'County_Pasquotank'),\n",
       " (0.0013630894414399055, 'County_Wayne'),\n",
       " (0.0013331157151087389, 'County_Warren'),\n",
       " (0.0013141657325833882, 'County_Watauga'),\n",
       " (0.001309348608834231, 'County_Franklin'),\n",
       " (0.0012959545736697079, 'County_Bertie'),\n",
       " (0.0012842215359913777, 'County_Granville'),\n",
       " (0.0012658263378282327, 'County_Scotland'),\n",
       " (0.0012620100059304287, 'County_Northampton'),\n",
       " (0.0012586548212591934, 'County_Anson'),\n",
       " (0.001253336328724052, 'County_Martin'),\n",
       " (0.0012500604288306655, 'County_Carteret'),\n",
       " (0.0012386334581607906, 'County_Alamance'),\n",
       " (0.0012144515758796125, 'County_Hertford'),\n",
       " (0.0012097738680086467, 'County_Davie'),\n",
       " (0.0012025883562505218, 'County_Craven'),\n",
       " (0.0011985486151721994, 'County_Caldwell'),\n",
       " (0.0011956886804859472, 'County_Robeson'),\n",
       " (0.0011911516768776688, 'County_Jackson'),\n",
       " (0.0011897668620225134, 'County_Lincoln'),\n",
       " (0.0011865727303717215, 'County_Iredell'),\n",
       " (0.0011802197633541591, 'County_Alexander'),\n",
       " (0.0011523821750410647, 'County_Forsyth'),\n",
       " (0.00114794672601166, 'County_Montgomery'),\n",
       " (0.001147312397765621, 'County_Gaston'),\n",
       " (0.0011185142581567546, 'County_Onslow'),\n",
       " (0.0011153140298451362, 'County_Moore'),\n",
       " (0.0010900519882601348, 'County_Rowan'),\n",
       " (0.0010868220221505694, 'County_Polk'),\n",
       " (0.001065552540322108, 'County_Dare'),\n",
       " (0.0010552668908784452, 'County_Macon'),\n",
       " (0.0010070410708153455, 'County_Harnett'),\n",
       " (0.0009727728009071285, 'County_Cherokee'),\n",
       " (0.0009488562044235256, 'County_Pitt'),\n",
       " (0.000931107987198366, 'County_Graham'),\n",
       " (0.0009265609361973284, 'County_Tyrrell'),\n",
       " (0.0008478337791176827, 'County_Cumberland'),\n",
       " (0.0007841308229262364, 'County_Greene'),\n",
       " (0.0007760648608003321, 'County_Union'),\n",
       " (0.000753553792131039, 'County_Caswell'),\n",
       " (0.0007285848767470831, 'County_Durham'),\n",
       " (0.000700837459206719, 'County_Buncombe'),\n",
       " (0.0006790827683824233, 'County_Brunswick'),\n",
       " (0.0006132470486648686, 'County_Guilford'),\n",
       " (0.0004964133663638614, 'County_Wake'),\n",
       " (0.0004658625929687214, 'County_Edgecombe'),\n",
       " (0.0003646978018137846, 'County_Lee'),\n",
       " (0.0003260454264281616, 'County_Mecklenburg'),\n",
       " (0.0003042940900505838, 'County_Ashe'),\n",
       " (0.0001509777581784782, 'County_Nash')]"
      ]
     },
     "execution_count": 38,
     "metadata": {},
     "output_type": "execute_result"
    }
   ],
   "source": [
    "# List the features sorted in descending order by feature importance\n",
    "importances = brf_model.feature_importances_\n",
    "sorted(zip(brf_model.feature_importances_, X.columns), reverse=True)"
   ]
  },
  {
   "cell_type": "markdown",
   "id": "2244afd6",
   "metadata": {},
   "source": [
    "### Easy Ensemble AdaBoost Classifier"
   ]
  },
  {
   "cell_type": "code",
   "execution_count": 39,
   "id": "1d80c8df",
   "metadata": {},
   "outputs": [],
   "source": [
    "# Train the EasyEnsembleClassifier\n",
    "from imblearn.ensemble import EasyEnsembleClassifier\n",
    "eec_model = EasyEnsembleClassifier(n_estimators=200, random_state=1)\n",
    "\n",
    "# Fitting the model\n",
    "eec_model = eec_model.fit(X_train, y_train)\n",
    "\n",
    "# Making predictions using the testing data\n",
    "predictions = eec_model.predict(X_test)"
   ]
  },
  {
   "cell_type": "code",
   "execution_count": 25,
   "id": "f78d60e2",
   "metadata": {},
   "outputs": [
    {
     "data": {
      "text/plain": [
       "0.5827110312884015"
      ]
     },
     "execution_count": 25,
     "metadata": {},
     "output_type": "execute_result"
    }
   ],
   "source": [
    "# Calculated the balanced accuracy score\n",
    "y_pred = eec_model.predict(X_test)\n",
    "balanced_accuracy_score(y_test, y_pred)"
   ]
  },
  {
   "cell_type": "code",
   "execution_count": 26,
   "id": "6fe8b935",
   "metadata": {},
   "outputs": [
    {
     "data": {
      "text/html": [
       "<div>\n",
       "<style scoped>\n",
       "    .dataframe tbody tr th:only-of-type {\n",
       "        vertical-align: middle;\n",
       "    }\n",
       "\n",
       "    .dataframe tbody tr th {\n",
       "        vertical-align: top;\n",
       "    }\n",
       "\n",
       "    .dataframe thead th {\n",
       "        text-align: right;\n",
       "    }\n",
       "</style>\n",
       "<table border=\"1\" class=\"dataframe\">\n",
       "  <thead>\n",
       "    <tr style=\"text-align: right;\">\n",
       "      <th></th>\n",
       "      <th>Predicted 0</th>\n",
       "      <th>Predicted 1</th>\n",
       "    </tr>\n",
       "  </thead>\n",
       "  <tbody>\n",
       "    <tr>\n",
       "      <th>Actual 0</th>\n",
       "      <td>192</td>\n",
       "      <td>106</td>\n",
       "    </tr>\n",
       "    <tr>\n",
       "      <th>Actual 1</th>\n",
       "      <td>170</td>\n",
       "      <td>185</td>\n",
       "    </tr>\n",
       "  </tbody>\n",
       "</table>\n",
       "</div>"
      ],
      "text/plain": [
       "          Predicted 0  Predicted 1\n",
       "Actual 0          192          106\n",
       "Actual 1          170          185"
      ]
     },
     "execution_count": 26,
     "metadata": {},
     "output_type": "execute_result"
    }
   ],
   "source": [
    "# Display the confusion matrix\n",
    "cm = confusion_matrix(y_test, predictions)\n",
    "\n",
    "# Create a DataFrame from the confusion matrix\n",
    "cm_df = pd.DataFrame(cm, index=[\"Actual 0\", \"Actual 1\"], columns=[\"Predicted 0\", \"Predicted 1\"])\n",
    "\n",
    "cm_df"
   ]
  },
  {
   "cell_type": "code",
   "execution_count": 27,
   "id": "a857fd0d",
   "metadata": {},
   "outputs": [
    {
     "name": "stdout",
     "output_type": "stream",
     "text": [
      "                   pre       rec       spe        f1       geo       iba       sup\n",
      "\n",
      "       down       0.53      0.64      0.52      0.58      0.58      0.34       298\n",
      "         up       0.64      0.52      0.64      0.57      0.58      0.33       355\n",
      "\n",
      "avg / total       0.59      0.58      0.59      0.58      0.58      0.34       653\n",
      "\n"
     ]
    }
   ],
   "source": [
    "# Print the imbalanced classification report\n",
    "print(classification_report_imbalanced(y_test, y_pred))"
   ]
  },
  {
   "cell_type": "code",
   "execution_count": null,
   "id": "4f9720bb",
   "metadata": {},
   "outputs": [],
   "source": []
  },
  {
   "cell_type": "code",
   "execution_count": null,
   "id": "233c8066",
   "metadata": {},
   "outputs": [],
   "source": []
  },
  {
   "cell_type": "code",
   "execution_count": null,
   "id": "80fd3bc7",
   "metadata": {},
   "outputs": [],
   "source": []
  }
 ],
 "metadata": {
  "kernelspec": {
   "display_name": "mlenv",
   "language": "python",
   "name": "mlenv"
  },
  "language_info": {
   "codemirror_mode": {
    "name": "ipython",
    "version": 3
   },
   "file_extension": ".py",
   "mimetype": "text/x-python",
   "name": "python",
   "nbconvert_exporter": "python",
   "pygments_lexer": "ipython3",
   "version": "3.7.13"
  }
 },
 "nbformat": 4,
 "nbformat_minor": 5
}
