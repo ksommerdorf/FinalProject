{
 "cells": [
  {
   "cell_type": "code",
   "execution_count": 1,
   "id": "76949367",
   "metadata": {},
   "outputs": [],
   "source": [
    "import warnings\n",
    "warnings.filterwarnings('ignore')\n",
    "\n",
    "import pandas as pd\n",
    "import numpy as np\n",
    "\n",
    "from pathlib import Path\n",
    "import joblib\n",
    "\n",
    "from sklearn.model_selection import train_test_split\n",
    "from sklearn.preprocessing import MinMaxScaler\n",
    "from sklearn.model_selection import GridSearchCV\n",
    "\n",
    "from sklearn.metrics import classification_report, accuracy_score, precision_score, recall_score, f1_score\n",
    "from sklearn.metrics import precision_recall_curve, roc_auc_score, confusion_matrix\n",
    "import seaborn as sns\n",
    "import matplotlib.pyplot as plt\n",
    "%matplotlib inline\n",
    "\n",
    "from sklearn.ensemble import GradientBoostingClassifier"
   ]
  },
  {
   "cell_type": "code",
   "execution_count": 3,
   "id": "81b4e201",
   "metadata": {},
   "outputs": [
    {
     "data": {
      "text/html": [
       "<div>\n",
       "<style scoped>\n",
       "    .dataframe tbody tr th:only-of-type {\n",
       "        vertical-align: middle;\n",
       "    }\n",
       "\n",
       "    .dataframe tbody tr th {\n",
       "        vertical-align: top;\n",
       "    }\n",
       "\n",
       "    .dataframe thead th {\n",
       "        text-align: right;\n",
       "    }\n",
       "</style>\n",
       "<table border=\"1\" class=\"dataframe\">\n",
       "  <thead>\n",
       "    <tr style=\"text-align: right;\">\n",
       "      <th></th>\n",
       "      <th>Date</th>\n",
       "      <th>Year</th>\n",
       "      <th>County</th>\n",
       "      <th>median_listing_price</th>\n",
       "      <th>active_listing_count</th>\n",
       "      <th>median_days_on_market</th>\n",
       "      <th>new_listing_count</th>\n",
       "      <th>price_increased_count</th>\n",
       "      <th>price_reduced_count</th>\n",
       "      <th>median_square_feet</th>\n",
       "      <th>average_listing_price</th>\n",
       "      <th>total_listing_count</th>\n",
       "      <th>violent_crime_rate</th>\n",
       "      <th>30_Year_Fixed_Rate</th>\n",
       "      <th>Number_of_Schools</th>\n",
       "      <th>median_listing_price_mm</th>\n",
       "      <th>Number_of_Parks</th>\n",
       "    </tr>\n",
       "  </thead>\n",
       "  <tbody>\n",
       "    <tr>\n",
       "      <th>0</th>\n",
       "      <td>2022-06</td>\n",
       "      <td>2022</td>\n",
       "      <td>Alamance</td>\n",
       "      <td>382500</td>\n",
       "      <td>298</td>\n",
       "      <td>18</td>\n",
       "      <td>452</td>\n",
       "      <td>12</td>\n",
       "      <td>108</td>\n",
       "      <td>2112</td>\n",
       "      <td>443362</td>\n",
       "      <td>644</td>\n",
       "      <td>NaN</td>\n",
       "      <td>5.52</td>\n",
       "      <td>NaN</td>\n",
       "      <td>0.034063</td>\n",
       "      <td>54.0</td>\n",
       "    </tr>\n",
       "    <tr>\n",
       "      <th>1</th>\n",
       "      <td>2022-06</td>\n",
       "      <td>2022</td>\n",
       "      <td>Alexander</td>\n",
       "      <td>312450</td>\n",
       "      <td>34</td>\n",
       "      <td>35</td>\n",
       "      <td>28</td>\n",
       "      <td>0</td>\n",
       "      <td>20</td>\n",
       "      <td>1942</td>\n",
       "      <td>370648</td>\n",
       "      <td>59</td>\n",
       "      <td>NaN</td>\n",
       "      <td>5.52</td>\n",
       "      <td>NaN</td>\n",
       "      <td>0.016428</td>\n",
       "      <td>25.0</td>\n",
       "    </tr>\n",
       "    <tr>\n",
       "      <th>2</th>\n",
       "      <td>2022-06</td>\n",
       "      <td>2022</td>\n",
       "      <td>Alleghany</td>\n",
       "      <td>389000</td>\n",
       "      <td>54</td>\n",
       "      <td>39</td>\n",
       "      <td>24</td>\n",
       "      <td>0</td>\n",
       "      <td>20</td>\n",
       "      <td>1904</td>\n",
       "      <td>422802</td>\n",
       "      <td>92</td>\n",
       "      <td>NaN</td>\n",
       "      <td>5.52</td>\n",
       "      <td>NaN</td>\n",
       "      <td>-0.038200</td>\n",
       "      <td>0.0</td>\n",
       "    </tr>\n",
       "    <tr>\n",
       "      <th>3</th>\n",
       "      <td>2022-06</td>\n",
       "      <td>2022</td>\n",
       "      <td>Anson</td>\n",
       "      <td>170000</td>\n",
       "      <td>22</td>\n",
       "      <td>34</td>\n",
       "      <td>16</td>\n",
       "      <td>0</td>\n",
       "      <td>8</td>\n",
       "      <td>1502</td>\n",
       "      <td>262240</td>\n",
       "      <td>48</td>\n",
       "      <td>NaN</td>\n",
       "      <td>5.52</td>\n",
       "      <td>NaN</td>\n",
       "      <td>0.218638</td>\n",
       "      <td>3.0</td>\n",
       "    </tr>\n",
       "    <tr>\n",
       "      <th>4</th>\n",
       "      <td>2022-06</td>\n",
       "      <td>2022</td>\n",
       "      <td>Ashe</td>\n",
       "      <td>485000</td>\n",
       "      <td>76</td>\n",
       "      <td>31</td>\n",
       "      <td>48</td>\n",
       "      <td>0</td>\n",
       "      <td>20</td>\n",
       "      <td>1907</td>\n",
       "      <td>592879</td>\n",
       "      <td>137</td>\n",
       "      <td>NaN</td>\n",
       "      <td>5.52</td>\n",
       "      <td>NaN</td>\n",
       "      <td>-0.088346</td>\n",
       "      <td>5.0</td>\n",
       "    </tr>\n",
       "    <tr>\n",
       "      <th>...</th>\n",
       "      <td>...</td>\n",
       "      <td>...</td>\n",
       "      <td>...</td>\n",
       "      <td>...</td>\n",
       "      <td>...</td>\n",
       "      <td>...</td>\n",
       "      <td>...</td>\n",
       "      <td>...</td>\n",
       "      <td>...</td>\n",
       "      <td>...</td>\n",
       "      <td>...</td>\n",
       "      <td>...</td>\n",
       "      <td>...</td>\n",
       "      <td>...</td>\n",
       "      <td>...</td>\n",
       "      <td>...</td>\n",
       "      <td>...</td>\n",
       "    </tr>\n",
       "    <tr>\n",
       "      <th>7191</th>\n",
       "      <td>2016-07</td>\n",
       "      <td>2016</td>\n",
       "      <td>Wayne</td>\n",
       "      <td>165000</td>\n",
       "      <td>593</td>\n",
       "      <td>83</td>\n",
       "      <td>104</td>\n",
       "      <td>4</td>\n",
       "      <td>92</td>\n",
       "      <td>1868</td>\n",
       "      <td>177275</td>\n",
       "      <td>603</td>\n",
       "      <td>442</td>\n",
       "      <td>3.44</td>\n",
       "      <td>88.0</td>\n",
       "      <td>NaN</td>\n",
       "      <td>36.0</td>\n",
       "    </tr>\n",
       "    <tr>\n",
       "      <th>7192</th>\n",
       "      <td>2016-07</td>\n",
       "      <td>2016</td>\n",
       "      <td>Wilkes</td>\n",
       "      <td>234900</td>\n",
       "      <td>320</td>\n",
       "      <td>116</td>\n",
       "      <td>44</td>\n",
       "      <td>4</td>\n",
       "      <td>48</td>\n",
       "      <td>2146</td>\n",
       "      <td>337545</td>\n",
       "      <td>380</td>\n",
       "      <td>208.4</td>\n",
       "      <td>3.44</td>\n",
       "      <td>52.0</td>\n",
       "      <td>NaN</td>\n",
       "      <td>34.0</td>\n",
       "    </tr>\n",
       "    <tr>\n",
       "      <th>7193</th>\n",
       "      <td>2016-07</td>\n",
       "      <td>2016</td>\n",
       "      <td>Wilson</td>\n",
       "      <td>117500</td>\n",
       "      <td>512</td>\n",
       "      <td>52</td>\n",
       "      <td>92</td>\n",
       "      <td>8</td>\n",
       "      <td>80</td>\n",
       "      <td>1922</td>\n",
       "      <td>150833</td>\n",
       "      <td>646</td>\n",
       "      <td>398.9</td>\n",
       "      <td>3.44</td>\n",
       "      <td>87.0</td>\n",
       "      <td>NaN</td>\n",
       "      <td>70.0</td>\n",
       "    </tr>\n",
       "    <tr>\n",
       "      <th>7194</th>\n",
       "      <td>2016-07</td>\n",
       "      <td>2016</td>\n",
       "      <td>Yadkin</td>\n",
       "      <td>210000</td>\n",
       "      <td>146</td>\n",
       "      <td>142</td>\n",
       "      <td>20</td>\n",
       "      <td>0</td>\n",
       "      <td>8</td>\n",
       "      <td>2460</td>\n",
       "      <td>285062</td>\n",
       "      <td>161</td>\n",
       "      <td>231.2</td>\n",
       "      <td>3.44</td>\n",
       "      <td>16.0</td>\n",
       "      <td>NaN</td>\n",
       "      <td>4.0</td>\n",
       "    </tr>\n",
       "    <tr>\n",
       "      <th>7195</th>\n",
       "      <td>2016-07</td>\n",
       "      <td>2016</td>\n",
       "      <td>Yancey</td>\n",
       "      <td>259900</td>\n",
       "      <td>499</td>\n",
       "      <td>106</td>\n",
       "      <td>68</td>\n",
       "      <td>0</td>\n",
       "      <td>60</td>\n",
       "      <td>1835</td>\n",
       "      <td>359142</td>\n",
       "      <td>523</td>\n",
       "      <td>55.7</td>\n",
       "      <td>3.44</td>\n",
       "      <td>28.0</td>\n",
       "      <td>NaN</td>\n",
       "      <td>4.0</td>\n",
       "    </tr>\n",
       "  </tbody>\n",
       "</table>\n",
       "<p>7196 rows × 17 columns</p>\n",
       "</div>"
      ],
      "text/plain": [
       "         Date  Year     County  median_listing_price  active_listing_count  \\\n",
       "0     2022-06  2022   Alamance                382500                   298   \n",
       "1     2022-06  2022  Alexander                312450                    34   \n",
       "2     2022-06  2022  Alleghany                389000                    54   \n",
       "3     2022-06  2022      Anson                170000                    22   \n",
       "4     2022-06  2022       Ashe                485000                    76   \n",
       "...       ...   ...        ...                   ...                   ...   \n",
       "7191  2016-07  2016      Wayne                165000                   593   \n",
       "7192  2016-07  2016     Wilkes                234900                   320   \n",
       "7193  2016-07  2016     Wilson                117500                   512   \n",
       "7194  2016-07  2016     Yadkin                210000                   146   \n",
       "7195  2016-07  2016     Yancey                259900                   499   \n",
       "\n",
       "      median_days_on_market  new_listing_count  price_increased_count  \\\n",
       "0                        18                452                     12   \n",
       "1                        35                 28                      0   \n",
       "2                        39                 24                      0   \n",
       "3                        34                 16                      0   \n",
       "4                        31                 48                      0   \n",
       "...                     ...                ...                    ...   \n",
       "7191                     83                104                      4   \n",
       "7192                    116                 44                      4   \n",
       "7193                     52                 92                      8   \n",
       "7194                    142                 20                      0   \n",
       "7195                    106                 68                      0   \n",
       "\n",
       "      price_reduced_count  median_square_feet  average_listing_price  \\\n",
       "0                     108                2112                 443362   \n",
       "1                      20                1942                 370648   \n",
       "2                      20                1904                 422802   \n",
       "3                       8                1502                 262240   \n",
       "4                      20                1907                 592879   \n",
       "...                   ...                 ...                    ...   \n",
       "7191                   92                1868                 177275   \n",
       "7192                   48                2146                 337545   \n",
       "7193                   80                1922                 150833   \n",
       "7194                    8                2460                 285062   \n",
       "7195                   60                1835                 359142   \n",
       "\n",
       "      total_listing_count violent_crime_rate  30_Year_Fixed_Rate  \\\n",
       "0                     644                NaN                5.52   \n",
       "1                      59                NaN                5.52   \n",
       "2                      92                NaN                5.52   \n",
       "3                      48                NaN                5.52   \n",
       "4                     137                NaN                5.52   \n",
       "...                   ...                ...                 ...   \n",
       "7191                  603                442                3.44   \n",
       "7192                  380              208.4                3.44   \n",
       "7193                  646              398.9                3.44   \n",
       "7194                  161              231.2                3.44   \n",
       "7195                  523               55.7                3.44   \n",
       "\n",
       "      Number_of_Schools  median_listing_price_mm  Number_of_Parks  \n",
       "0                   NaN                 0.034063             54.0  \n",
       "1                   NaN                 0.016428             25.0  \n",
       "2                   NaN                -0.038200              0.0  \n",
       "3                   NaN                 0.218638              3.0  \n",
       "4                   NaN                -0.088346              5.0  \n",
       "...                 ...                      ...              ...  \n",
       "7191               88.0                      NaN             36.0  \n",
       "7192               52.0                      NaN             34.0  \n",
       "7193               87.0                      NaN             70.0  \n",
       "7194               16.0                      NaN              4.0  \n",
       "7195               28.0                      NaN              4.0  \n",
       "\n",
       "[7196 rows x 17 columns]"
      ]
     },
     "execution_count": 3,
     "metadata": {},
     "output_type": "execute_result"
    }
   ],
   "source": [
    "file_path = Path('filled_final_table.csv')\n",
    "df = pd.read_csv(file_path)\n",
    "df"
   ]
  },
  {
   "cell_type": "code",
   "execution_count": 4,
   "id": "ecf8c11c",
   "metadata": {},
   "outputs": [],
   "source": [
    "#conditional based column = np.where(df['median_listing_price_mm'](x>=0), 'yes(1)', 'no(0)')\n",
    "df['Price_Status'] = np.where(df['median_listing_price_mm']>=0, 1, 0)"
   ]
  },
  {
   "cell_type": "code",
   "execution_count": 5,
   "id": "ee449ddf",
   "metadata": {},
   "outputs": [],
   "source": [
    "df['violent_crime_rate']= df['violent_crime_rate'].str.replace(',','').astype(float)"
   ]
  },
  {
   "cell_type": "code",
   "execution_count": 6,
   "id": "0bfbdd00",
   "metadata": {},
   "outputs": [
    {
     "data": {
      "text/plain": [
       "Year                         int64\n",
       "County                      object\n",
       "median_listing_price         int64\n",
       "active_listing_count         int64\n",
       "median_days_on_market        int64\n",
       "new_listing_count            int64\n",
       "price_increased_count        int64\n",
       "price_reduced_count          int64\n",
       "median_square_feet           int64\n",
       "average_listing_price        int64\n",
       "total_listing_count          int64\n",
       "violent_crime_rate         float64\n",
       "30_Year_Fixed_Rate         float64\n",
       "Number_of_Schools          float64\n",
       "median_listing_price_mm    float64\n",
       "Number_of_Parks            float64\n",
       "Price_Status                 int32\n",
       "dtype: object"
      ]
     },
     "execution_count": 6,
     "metadata": {},
     "output_type": "execute_result"
    }
   ],
   "source": [
    "df_clean = df.drop(['Date'], axis=1)\n",
    "df_clean.dtypes"
   ]
  },
  {
   "cell_type": "code",
   "execution_count": null,
   "id": "6fdddb84",
   "metadata": {},
   "outputs": [],
   "source": [
    "#filter_df = df_clean[df_clean['Year'] <2019]\n",
    "#filter_df.head()"
   ]
  },
  {
   "cell_type": "code",
   "execution_count": 7,
   "id": "eaeb78c7",
   "metadata": {},
   "outputs": [
    {
     "data": {
      "text/html": [
       "<div>\n",
       "<style scoped>\n",
       "    .dataframe tbody tr th:only-of-type {\n",
       "        vertical-align: middle;\n",
       "    }\n",
       "\n",
       "    .dataframe tbody tr th {\n",
       "        vertical-align: top;\n",
       "    }\n",
       "\n",
       "    .dataframe thead th {\n",
       "        text-align: right;\n",
       "    }\n",
       "</style>\n",
       "<table border=\"1\" class=\"dataframe\">\n",
       "  <thead>\n",
       "    <tr style=\"text-align: right;\">\n",
       "      <th></th>\n",
       "      <th>Year</th>\n",
       "      <th>County</th>\n",
       "      <th>active_listing_count</th>\n",
       "      <th>median_days_on_market</th>\n",
       "      <th>new_listing_count</th>\n",
       "      <th>price_increased_count</th>\n",
       "      <th>price_reduced_count</th>\n",
       "      <th>median_square_feet</th>\n",
       "      <th>total_listing_count</th>\n",
       "      <th>violent_crime_rate</th>\n",
       "      <th>30_Year_Fixed_Rate</th>\n",
       "      <th>Number_of_Schools</th>\n",
       "      <th>Number_of_Parks</th>\n",
       "      <th>Price_Status</th>\n",
       "    </tr>\n",
       "  </thead>\n",
       "  <tbody>\n",
       "    <tr>\n",
       "      <th>0</th>\n",
       "      <td>2018</td>\n",
       "      <td>Alamance</td>\n",
       "      <td>761</td>\n",
       "      <td>78</td>\n",
       "      <td>172</td>\n",
       "      <td>28</td>\n",
       "      <td>116</td>\n",
       "      <td>2060</td>\n",
       "      <td>843</td>\n",
       "      <td>419.9</td>\n",
       "      <td>4.64</td>\n",
       "      <td>94.0</td>\n",
       "      <td>54.0</td>\n",
       "      <td>1</td>\n",
       "    </tr>\n",
       "    <tr>\n",
       "      <th>1</th>\n",
       "      <td>2018</td>\n",
       "      <td>Alexander</td>\n",
       "      <td>90</td>\n",
       "      <td>102</td>\n",
       "      <td>8</td>\n",
       "      <td>0</td>\n",
       "      <td>16</td>\n",
       "      <td>1924</td>\n",
       "      <td>103</td>\n",
       "      <td>221.9</td>\n",
       "      <td>4.64</td>\n",
       "      <td>49.0</td>\n",
       "      <td>25.0</td>\n",
       "      <td>1</td>\n",
       "    </tr>\n",
       "    <tr>\n",
       "      <th>2</th>\n",
       "      <td>2018</td>\n",
       "      <td>Alleghany</td>\n",
       "      <td>420</td>\n",
       "      <td>227</td>\n",
       "      <td>4</td>\n",
       "      <td>0</td>\n",
       "      <td>20</td>\n",
       "      <td>1886</td>\n",
       "      <td>438</td>\n",
       "      <td>114.8</td>\n",
       "      <td>4.64</td>\n",
       "      <td>11.0</td>\n",
       "      <td>0.0</td>\n",
       "      <td>0</td>\n",
       "    </tr>\n",
       "    <tr>\n",
       "      <th>3</th>\n",
       "      <td>2018</td>\n",
       "      <td>Anson</td>\n",
       "      <td>65</td>\n",
       "      <td>100</td>\n",
       "      <td>8</td>\n",
       "      <td>0</td>\n",
       "      <td>12</td>\n",
       "      <td>1500</td>\n",
       "      <td>78</td>\n",
       "      <td>568.4</td>\n",
       "      <td>4.64</td>\n",
       "      <td>15.0</td>\n",
       "      <td>3.0</td>\n",
       "      <td>0</td>\n",
       "    </tr>\n",
       "    <tr>\n",
       "      <th>4</th>\n",
       "      <td>2018</td>\n",
       "      <td>Beaufort</td>\n",
       "      <td>272</td>\n",
       "      <td>151</td>\n",
       "      <td>32</td>\n",
       "      <td>0</td>\n",
       "      <td>48</td>\n",
       "      <td>1950</td>\n",
       "      <td>337</td>\n",
       "      <td>221.2</td>\n",
       "      <td>4.64</td>\n",
       "      <td>25.0</td>\n",
       "      <td>18.0</td>\n",
       "      <td>1</td>\n",
       "    </tr>\n",
       "    <tr>\n",
       "      <th>...</th>\n",
       "      <td>...</td>\n",
       "      <td>...</td>\n",
       "      <td>...</td>\n",
       "      <td>...</td>\n",
       "      <td>...</td>\n",
       "      <td>...</td>\n",
       "      <td>...</td>\n",
       "      <td>...</td>\n",
       "      <td>...</td>\n",
       "      <td>...</td>\n",
       "      <td>...</td>\n",
       "      <td>...</td>\n",
       "      <td>...</td>\n",
       "      <td>...</td>\n",
       "    </tr>\n",
       "    <tr>\n",
       "      <th>2605</th>\n",
       "      <td>2016</td>\n",
       "      <td>Wayne</td>\n",
       "      <td>593</td>\n",
       "      <td>83</td>\n",
       "      <td>104</td>\n",
       "      <td>4</td>\n",
       "      <td>92</td>\n",
       "      <td>1868</td>\n",
       "      <td>603</td>\n",
       "      <td>442.0</td>\n",
       "      <td>3.44</td>\n",
       "      <td>88.0</td>\n",
       "      <td>36.0</td>\n",
       "      <td>0</td>\n",
       "    </tr>\n",
       "    <tr>\n",
       "      <th>2606</th>\n",
       "      <td>2016</td>\n",
       "      <td>Wilkes</td>\n",
       "      <td>320</td>\n",
       "      <td>116</td>\n",
       "      <td>44</td>\n",
       "      <td>4</td>\n",
       "      <td>48</td>\n",
       "      <td>2146</td>\n",
       "      <td>380</td>\n",
       "      <td>208.4</td>\n",
       "      <td>3.44</td>\n",
       "      <td>52.0</td>\n",
       "      <td>34.0</td>\n",
       "      <td>0</td>\n",
       "    </tr>\n",
       "    <tr>\n",
       "      <th>2607</th>\n",
       "      <td>2016</td>\n",
       "      <td>Wilson</td>\n",
       "      <td>512</td>\n",
       "      <td>52</td>\n",
       "      <td>92</td>\n",
       "      <td>8</td>\n",
       "      <td>80</td>\n",
       "      <td>1922</td>\n",
       "      <td>646</td>\n",
       "      <td>398.9</td>\n",
       "      <td>3.44</td>\n",
       "      <td>87.0</td>\n",
       "      <td>70.0</td>\n",
       "      <td>0</td>\n",
       "    </tr>\n",
       "    <tr>\n",
       "      <th>2608</th>\n",
       "      <td>2016</td>\n",
       "      <td>Yadkin</td>\n",
       "      <td>146</td>\n",
       "      <td>142</td>\n",
       "      <td>20</td>\n",
       "      <td>0</td>\n",
       "      <td>8</td>\n",
       "      <td>2460</td>\n",
       "      <td>161</td>\n",
       "      <td>231.2</td>\n",
       "      <td>3.44</td>\n",
       "      <td>16.0</td>\n",
       "      <td>4.0</td>\n",
       "      <td>0</td>\n",
       "    </tr>\n",
       "    <tr>\n",
       "      <th>2609</th>\n",
       "      <td>2016</td>\n",
       "      <td>Yancey</td>\n",
       "      <td>499</td>\n",
       "      <td>106</td>\n",
       "      <td>68</td>\n",
       "      <td>0</td>\n",
       "      <td>60</td>\n",
       "      <td>1835</td>\n",
       "      <td>523</td>\n",
       "      <td>55.7</td>\n",
       "      <td>3.44</td>\n",
       "      <td>28.0</td>\n",
       "      <td>4.0</td>\n",
       "      <td>0</td>\n",
       "    </tr>\n",
       "  </tbody>\n",
       "</table>\n",
       "<p>2610 rows × 14 columns</p>\n",
       "</div>"
      ],
      "text/plain": [
       "      Year     County  active_listing_count  median_days_on_market  \\\n",
       "0     2018   Alamance                   761                     78   \n",
       "1     2018  Alexander                    90                    102   \n",
       "2     2018  Alleghany                   420                    227   \n",
       "3     2018      Anson                    65                    100   \n",
       "4     2018   Beaufort                   272                    151   \n",
       "...    ...        ...                   ...                    ...   \n",
       "2605  2016      Wayne                   593                     83   \n",
       "2606  2016     Wilkes                   320                    116   \n",
       "2607  2016     Wilson                   512                     52   \n",
       "2608  2016     Yadkin                   146                    142   \n",
       "2609  2016     Yancey                   499                    106   \n",
       "\n",
       "      new_listing_count  price_increased_count  price_reduced_count  \\\n",
       "0                   172                     28                  116   \n",
       "1                     8                      0                   16   \n",
       "2                     4                      0                   20   \n",
       "3                     8                      0                   12   \n",
       "4                    32                      0                   48   \n",
       "...                 ...                    ...                  ...   \n",
       "2605                104                      4                   92   \n",
       "2606                 44                      4                   48   \n",
       "2607                 92                      8                   80   \n",
       "2608                 20                      0                    8   \n",
       "2609                 68                      0                   60   \n",
       "\n",
       "      median_square_feet  total_listing_count  violent_crime_rate  \\\n",
       "0                   2060                  843               419.9   \n",
       "1                   1924                  103               221.9   \n",
       "2                   1886                  438               114.8   \n",
       "3                   1500                   78               568.4   \n",
       "4                   1950                  337               221.2   \n",
       "...                  ...                  ...                 ...   \n",
       "2605                1868                  603               442.0   \n",
       "2606                2146                  380               208.4   \n",
       "2607                1922                  646               398.9   \n",
       "2608                2460                  161               231.2   \n",
       "2609                1835                  523                55.7   \n",
       "\n",
       "      30_Year_Fixed_Rate  Number_of_Schools  Number_of_Parks  Price_Status  \n",
       "0                   4.64               94.0             54.0             1  \n",
       "1                   4.64               49.0             25.0             1  \n",
       "2                   4.64               11.0              0.0             0  \n",
       "3                   4.64               15.0              3.0             0  \n",
       "4                   4.64               25.0             18.0             1  \n",
       "...                  ...                ...              ...           ...  \n",
       "2605                3.44               88.0             36.0             0  \n",
       "2606                3.44               52.0             34.0             0  \n",
       "2607                3.44               87.0             70.0             0  \n",
       "2608                3.44               16.0              4.0             0  \n",
       "2609                3.44               28.0              4.0             0  \n",
       "\n",
       "[2610 rows x 14 columns]"
      ]
     },
     "execution_count": 7,
     "metadata": {},
     "output_type": "execute_result"
    }
   ],
   "source": [
    "# Load the data\n",
    "columns = [\n",
    "    \"Year\", \"County\", \n",
    "    \"active_listing_count\", \"median_days_on_market\", \"new_listing_count\",\n",
    "    \"price_increased_count\", \"price_reduced_count\", \"median_square_feet\",\n",
    "    \"total_listing_count\", \"violent_crime_rate\",\n",
    "    \"30_Year_Fixed_Rate\", \"Number_of_Schools\",\n",
    "    \"Number_of_Parks\", \"Price_Status\"\n",
    "]\n",
    "\n",
    "df = df_clean.loc[:, columns].copy()\n",
    "\n",
    "\n",
    "# Drop the null rows\n",
    "df = df.dropna()\n",
    "\n",
    "\n",
    "\n",
    "\n",
    "df.reset_index(inplace=True, drop=True)\n",
    "\n",
    "df"
   ]
  },
  {
   "cell_type": "code",
   "execution_count": 8,
   "id": "a6233c55",
   "metadata": {},
   "outputs": [
    {
     "data": {
      "text/plain": [
       "Index(['Year', 'County', 'active_listing_count', 'median_days_on_market',\n",
       "       'new_listing_count', 'price_increased_count', 'price_reduced_count',\n",
       "       'median_square_feet', 'total_listing_count', 'violent_crime_rate',\n",
       "       '30_Year_Fixed_Rate', 'Number_of_Schools', 'Number_of_Parks',\n",
       "       'Price_Status'],\n",
       "      dtype='object')"
      ]
     },
     "execution_count": 8,
     "metadata": {},
     "output_type": "execute_result"
    }
   ],
   "source": [
    "# defining features\n",
    "\n",
    "df.columns"
   ]
  },
  {
   "cell_type": "code",
   "execution_count": 9,
   "id": "8978077a",
   "metadata": {},
   "outputs": [
    {
     "data": {
      "text/plain": [
       "(2610, 11)"
      ]
     },
     "execution_count": 9,
     "metadata": {},
     "output_type": "execute_result"
    }
   ],
   "source": [
    "selected_features = df[['active_listing_count', 'median_days_on_market', 'new_listing_count', 'price_increased_count', 'price_reduced_count', 'median_square_feet', 'total_listing_count', 'violent_crime_rate', '30_Year_Fixed_Rate',\n",
    "       'Number_of_Schools', 'Number_of_Parks']]\n",
    "selected_features.shape"
   ]
  },
  {
   "cell_type": "code",
   "execution_count": 10,
   "id": "bae1dd0c",
   "metadata": {},
   "outputs": [
    {
     "name": "stdout",
     "output_type": "stream",
     "text": [
      "Shape:  (2610, 11) (2610, 1)\n"
     ]
    }
   ],
   "source": [
    "# Defining predictor and target features to X and y respectively.\n",
    "# Note: Sklearn requires a two-dimensional array of values\n",
    "# so we use reshape to create this\n",
    "\n",
    "X = selected_features\n",
    "y = df[['Price_Status']].values.reshape(-1,1)\n",
    "\n",
    "print(\"Shape: \", X.shape, y.shape)"
   ]
  },
  {
   "cell_type": "code",
   "execution_count": 11,
   "id": "2e49f646",
   "metadata": {},
   "outputs": [
    {
     "name": "stdout",
     "output_type": "stream",
     "text": [
      "Shape:  (1957, 11) (1957, 1) (653, 11) (653, 1)\n"
     ]
    }
   ],
   "source": [
    "# Using sklearn's 'train_test_split' to split the data into training and testing datasets\n",
    "X_train, X_test, y_train, y_test = train_test_split(X,y, random_state= 42)\n",
    "print(\"Shape: \", X_train.shape, y_train.shape, X_test.shape, y_test.shape)"
   ]
  },
  {
   "cell_type": "code",
   "execution_count": 12,
   "id": "a35652e7",
   "metadata": {},
   "outputs": [],
   "source": [
    "# Scale the data\n",
    "X_minmax = MinMaxScaler().fit(X_train)\n",
    "\n",
    "X_train_scaled = X_minmax.transform(X_train)\n",
    "X_test_scaled = X_minmax.transform(X_test)"
   ]
  },
  {
   "cell_type": "code",
   "execution_count": 13,
   "id": "936146d1",
   "metadata": {},
   "outputs": [
    {
     "data": {
      "text/plain": [
       "GradientBoostingClassifier()"
      ]
     },
     "execution_count": 13,
     "metadata": {},
     "output_type": "execute_result"
    }
   ],
   "source": [
    "gradientBoostedTree = GradientBoostingClassifier()\n",
    "gradientBoostedTree"
   ]
  },
  {
   "cell_type": "code",
   "execution_count": 14,
   "id": "ec3b8a80",
   "metadata": {},
   "outputs": [
    {
     "data": {
      "text/plain": [
       "GradientBoostingClassifier()"
      ]
     },
     "execution_count": 14,
     "metadata": {},
     "output_type": "execute_result"
    }
   ],
   "source": [
    "gradientBoostedTree.fit(X_train_scaled, y_train.flatten())"
   ]
  },
  {
   "cell_type": "code",
   "execution_count": 15,
   "id": "59e19f29",
   "metadata": {},
   "outputs": [
    {
     "name": "stdout",
     "output_type": "stream",
     "text": [
      "Training Data Score: 0.4389371486969852\n",
      "Testing Data Score: 0.46401225114854516\n"
     ]
    }
   ],
   "source": [
    "print(f\"Training Data Score: {gradientBoostedTree.score(X_train, y_train)}\")\n",
    "print(f\"Testing Data Score: {gradientBoostedTree.score(X_test, y_test)}\")"
   ]
  },
  {
   "cell_type": "code",
   "execution_count": 16,
   "id": "6175e5a3",
   "metadata": {},
   "outputs": [],
   "source": [
    "gradientBoostedPredictions = gradientBoostedTree.predict(X_test_scaled)"
   ]
  },
  {
   "cell_type": "code",
   "execution_count": 17,
   "id": "3693a0e8",
   "metadata": {},
   "outputs": [],
   "source": [
    "gradientBoostedPredictProba = gradientBoostedTree.predict_proba(X_test_scaled)[:,1]"
   ]
  },
  {
   "cell_type": "code",
   "execution_count": 18,
   "id": "1d7ac8d3",
   "metadata": {},
   "outputs": [
    {
     "name": "stdout",
     "output_type": "stream",
     "text": [
      "                precision    recall  f1-score   support\n",
      "\n",
      "Price Increase       0.54      0.32      0.40       303\n",
      "Price Decrease       0.56      0.76      0.65       350\n",
      "\n",
      "      accuracy                           0.56       653\n",
      "     macro avg       0.55      0.54      0.52       653\n",
      "  weighted avg       0.55      0.56      0.53       653\n",
      "\n",
      "Accuracy: 0.555895865237366\n"
     ]
    }
   ],
   "source": [
    "# Print classification report\n",
    "print(classification_report(y_test.flatten(), gradientBoostedPredictions,\n",
    "                            target_names=[\"Price Increase\", \"Price Decrease\"]))\n",
    "print(\"Accuracy:\", accuracy_score(y_test.flatten(), gradientBoostedPredictions))"
   ]
  },
  {
   "cell_type": "code",
   "execution_count": 19,
   "id": "f65712f6",
   "metadata": {},
   "outputs": [
    {
     "name": "stdout",
     "output_type": "stream",
     "text": [
      "Gradient Boosting Classifier\n",
      "========================\n",
      "Accuracy:  0.555895865237366\n",
      "Precision:  0.5632911392405063\n",
      "Recall:  0.7628571428571429\n",
      "F1-Score:  0.6480582524271846\n",
      "AUC score:  0.5398444130127298\n"
     ]
    }
   ],
   "source": [
    "print(\"Gradient Boosting Classifier\")\n",
    "print(\"========================\")\n",
    "print(\"Accuracy: \",accuracy_score(y_test.flatten(), gradientBoostedPredictions)) \n",
    "print(\"Precision: \",precision_score(y_test.flatten(), gradientBoostedPredictions))\n",
    "print(\"Recall: \",recall_score(y_test.flatten(), gradientBoostedPredictions))\n",
    "print(\"F1-Score: \",f1_score(y_test.flatten(), gradientBoostedPredictions))\n",
    "print(\"AUC score: \",roc_auc_score(y_test.flatten().astype(float), gradientBoostedPredictions).astype(float))"
   ]
  },
  {
   "cell_type": "code",
   "execution_count": 20,
   "id": "2c656a13",
   "metadata": {},
   "outputs": [
    {
     "data": {
      "image/png": "[encoded data removed]",
      "text/plain": [
       "<Figure size 432x288 with 1 Axes>"
      ]
     },
     "metadata": {
      "needs_background": "light"
     },
     "output_type": "display_data"
    },
    {
     "data": {
      "image/png": "[encoded data removed]",
      "text/plain": [
       "<Figure size 432x432 with 2 Axes>"
      ]
     },
     "metadata": {
      "needs_background": "light"
     },
     "output_type": "display_data"
    }
   ],
   "source": [
    "p, r, t = precision_recall_curve(y_test.flatten(), gradientBoostedPredictProba)\n",
    "plt.plot(p, r)\n",
    "plt.xlabel('Recall')\n",
    "plt.ylabel('Precision')\n",
    "plt.title('Precision Recall Curve - Gradient Boost')\n",
    "\n",
    "confusionMatrix = confusion_matrix(y_test.flatten(), gradientBoostedPredictions) \n",
    "plt.figure(figsize =(6, 6)) \n",
    "sns.heatmap(confusionMatrix, xticklabels = ['Price Increase', 'Price Decrease'],  \n",
    "            yticklabels = ['Price Increase', 'Price Decrease'], annot = True, fmt =\"d\"); \n",
    "plt.title(\"Confusion matrix - Gradient Boost\") \n",
    "plt.ylabel('Actual Class') \n",
    "plt.xlabel('Predicted class') \n",
    "plt.show()"
   ]
  },
  {
   "cell_type": "code",
   "execution_count": 21,
   "id": "f9543988",
   "metadata": {},
   "outputs": [
    {
     "data": {
      "text/plain": [
       "dict_keys(['ccp_alpha', 'criterion', 'init', 'learning_rate', 'loss', 'max_depth', 'max_features', 'max_leaf_nodes', 'min_impurity_decrease', 'min_samples_leaf', 'min_samples_split', 'min_weight_fraction_leaf', 'n_estimators', 'n_iter_no_change', 'random_state', 'subsample', 'tol', 'validation_fraction', 'verbose', 'warm_start'])"
      ]
     },
     "execution_count": 21,
     "metadata": {},
     "output_type": "execute_result"
    }
   ],
   "source": [
    "gradientBoostedTree.get_params().keys()"
   ]
  },
  {
   "cell_type": "code",
   "execution_count": 22,
   "id": "d16210c8",
   "metadata": {},
   "outputs": [],
   "source": [
    "gradientBoostedParamGrid = {#'loss': ['deviance', 'exponential'],\n",
    "                           'n_estimators': [100, 200, 300, 400],\n",
    "                           'max_depth': [1,2]}\n",
    "gradientBoostedGrid = GridSearchCV(gradientBoostedTree, gradientBoostedParamGrid, verbose=3)"
   ]
  },
  {
   "cell_type": "code",
   "execution_count": 23,
   "id": "bf4df890",
   "metadata": {},
   "outputs": [
    {
     "name": "stdout",
     "output_type": "stream",
     "text": [
      "Fitting 5 folds for each of 8 candidates, totalling 40 fits\n",
      "[CV 1/5] END .....max_depth=1, n_estimators=100;, score=0.574 total time=   0.1s\n",
      "[CV 2/5] END .....max_depth=1, n_estimators=100;, score=0.602 total time=   0.1s\n",
      "[CV 3/5] END .....max_depth=1, n_estimators=100;, score=0.593 total time=   0.1s\n",
      "[CV 4/5] END .....max_depth=1, n_estimators=100;, score=0.609 total time=   0.1s\n",
      "[CV 5/5] END .....max_depth=1, n_estimators=100;, score=0.588 total time=   0.1s\n",
      "[CV 1/5] END .....max_depth=1, n_estimators=200;, score=0.569 total time=   0.3s\n",
      "[CV 2/5] END .....max_depth=1, n_estimators=200;, score=0.602 total time=   0.2s\n",
      "[CV 3/5] END .....max_depth=1, n_estimators=200;, score=0.591 total time=   0.2s\n",
      "[CV 4/5] END .....max_depth=1, n_estimators=200;, score=0.596 total time=   0.2s\n",
      "[CV 5/5] END .....max_depth=1, n_estimators=200;, score=0.568 total time=   0.3s\n",
      "[CV 1/5] END .....max_depth=1, n_estimators=300;, score=0.582 total time=   0.5s\n",
      "[CV 2/5] END .....max_depth=1, n_estimators=300;, score=0.589 total time=   0.3s\n",
      "[CV 3/5] END .....max_depth=1, n_estimators=300;, score=0.586 total time=   0.4s\n",
      "[CV 4/5] END .....max_depth=1, n_estimators=300;, score=0.586 total time=   0.3s\n",
      "[CV 5/5] END .....max_depth=1, n_estimators=300;, score=0.573 total time=   0.3s\n",
      "[CV 1/5] END .....max_depth=1, n_estimators=400;, score=0.592 total time=   0.4s\n",
      "[CV 2/5] END .....max_depth=1, n_estimators=400;, score=0.589 total time=   0.5s\n",
      "[CV 3/5] END .....max_depth=1, n_estimators=400;, score=0.583 total time=   0.4s\n",
      "[CV 4/5] END .....max_depth=1, n_estimators=400;, score=0.593 total time=   0.4s\n",
      "[CV 5/5] END .....max_depth=1, n_estimators=400;, score=0.578 total time=   0.4s\n",
      "[CV 1/5] END .....max_depth=2, n_estimators=100;, score=0.579 total time=   0.1s\n",
      "[CV 2/5] END .....max_depth=2, n_estimators=100;, score=0.571 total time=   0.2s\n",
      "[CV 3/5] END .....max_depth=2, n_estimators=100;, score=0.552 total time=   0.1s\n",
      "[CV 4/5] END .....max_depth=2, n_estimators=100;, score=0.565 total time=   0.1s\n",
      "[CV 5/5] END .....max_depth=2, n_estimators=100;, score=0.591 total time=   0.1s\n",
      "[CV 1/5] END .....max_depth=2, n_estimators=200;, score=0.569 total time=   0.4s\n",
      "[CV 2/5] END .....max_depth=2, n_estimators=200;, score=0.546 total time=   0.4s\n",
      "[CV 3/5] END .....max_depth=2, n_estimators=200;, score=0.547 total time=   0.4s\n",
      "[CV 4/5] END .....max_depth=2, n_estimators=200;, score=0.550 total time=   0.4s\n",
      "[CV 5/5] END .....max_depth=2, n_estimators=200;, score=0.573 total time=   0.4s\n",
      "[CV 1/5] END .....max_depth=2, n_estimators=300;, score=0.559 total time=   0.6s\n",
      "[CV 2/5] END .....max_depth=2, n_estimators=300;, score=0.546 total time=   0.6s\n",
      "[CV 3/5] END .....max_depth=2, n_estimators=300;, score=0.550 total time=   0.6s\n",
      "[CV 4/5] END .....max_depth=2, n_estimators=300;, score=0.545 total time=   0.6s\n",
      "[CV 5/5] END .....max_depth=2, n_estimators=300;, score=0.560 total time=   0.6s\n",
      "[CV 1/5] END .....max_depth=2, n_estimators=400;, score=0.548 total time=   0.9s\n",
      "[CV 2/5] END .....max_depth=2, n_estimators=400;, score=0.536 total time=   0.8s\n",
      "[CV 3/5] END .....max_depth=2, n_estimators=400;, score=0.558 total time=   0.9s\n",
      "[CV 4/5] END .....max_depth=2, n_estimators=400;, score=0.552 total time=   0.8s\n",
      "[CV 5/5] END .....max_depth=2, n_estimators=400;, score=0.552 total time=   0.9s\n"
     ]
    },
    {
     "data": {
      "text/plain": [
       "GridSearchCV(estimator=GradientBoostingClassifier(),\n",
       "             param_grid={'max_depth': [1, 2],\n",
       "                         'n_estimators': [100, 200, 300, 400]},\n",
       "             verbose=3)"
      ]
     },
     "execution_count": 23,
     "metadata": {},
     "output_type": "execute_result"
    }
   ],
   "source": [
    "# Train the model with GridSearch\n",
    "gradientBoostedGrid.fit(X_train_scaled, y_train.flatten())"
   ]
  },
  {
   "cell_type": "code",
   "execution_count": 24,
   "id": "1f9aa089",
   "metadata": {},
   "outputs": [
    {
     "name": "stdout",
     "output_type": "stream",
     "text": [
      "{'max_depth': 1, 'n_estimators': 100}\n",
      "0.5932603476173078\n"
     ]
    }
   ],
   "source": [
    "print(gradientBoostedGrid.best_params_)\n",
    "print(gradientBoostedGrid.best_score_)"
   ]
  },
  {
   "cell_type": "code",
   "execution_count": 25,
   "id": "994f80e2",
   "metadata": {},
   "outputs": [],
   "source": [
    "# Make predictions with hyperparameter tuned model\n",
    "GradientBoostGridPredictions = gradientBoostedGrid.predict(X_test_scaled)"
   ]
  },
  {
   "cell_type": "code",
   "execution_count": 26,
   "id": "cafc29ef",
   "metadata": {},
   "outputs": [
    {
     "name": "stdout",
     "output_type": "stream",
     "text": [
      "                precision    recall  f1-score   support\n",
      "\n",
      "Price Increase       0.54      0.21      0.31       303\n",
      "Price Decrease       0.55      0.84      0.67       350\n",
      "\n",
      "      accuracy                           0.55       653\n",
      "     macro avg       0.54      0.53      0.49       653\n",
      "  weighted avg       0.55      0.55      0.50       653\n",
      "\n"
     ]
    }
   ],
   "source": [
    "# Print Classification Report\n",
    "print(classification_report(y_test.flatten(), GradientBoostGridPredictions,\n",
    "                           target_names=[\"Price Increase\", \"Price Decrease\"]))"
   ]
  },
  {
   "cell_type": "code",
   "execution_count": 27,
   "id": "c162f79f",
   "metadata": {},
   "outputs": [
    {
     "data": {
      "text/plain": [
       "GradientBoostingClassifier(max_depth=1)"
      ]
     },
     "execution_count": 27,
     "metadata": {},
     "output_type": "execute_result"
    }
   ],
   "source": [
    "hypertunedGradientBoostModel = GradientBoostingClassifier(max_depth = 1, n_estimators =100)\n",
    "hypertunedGradientBoostModel"
   ]
  },
  {
   "cell_type": "code",
   "execution_count": 28,
   "id": "0d58baaf",
   "metadata": {},
   "outputs": [
    {
     "data": {
      "text/plain": [
       "GradientBoostingClassifier(max_depth=1)"
      ]
     },
     "execution_count": 28,
     "metadata": {},
     "output_type": "execute_result"
    }
   ],
   "source": [
    "hypertunedGradientBoostModel.fit(X_train_scaled, y_train.flatten())"
   ]
  },
  {
   "cell_type": "code",
   "execution_count": 29,
   "id": "642dfab7",
   "metadata": {},
   "outputs": [
    {
     "name": "stdout",
     "output_type": "stream",
     "text": [
      "Training Data Score: 0.6162493612672458\n",
      "Testing Data Score: 0.5497702909647779\n"
     ]
    }
   ],
   "source": [
    "print(f\"Training Data Score: {hypertunedGradientBoostModel.score(X_train_scaled, y_train)}\")\n",
    "print(f\"Testing Data Score: {hypertunedGradientBoostModel.score(X_test_scaled, y_test)}\")"
   ]
  },
  {
   "cell_type": "code",
   "execution_count": 30,
   "id": "578822c0",
   "metadata": {},
   "outputs": [],
   "source": [
    "hypertunedGradientBoostModelPredictions = hypertunedGradientBoostModel.predict(X_test_scaled)"
   ]
  },
  {
   "cell_type": "code",
   "execution_count": 31,
   "id": "0c5e30a4",
   "metadata": {},
   "outputs": [],
   "source": [
    "hypertunedGradientBoostPredictProba = hypertunedGradientBoostModel.predict_proba(X_test_scaled)[:,1]"
   ]
  },
  {
   "cell_type": "code",
   "execution_count": 32,
   "id": "39f1330a",
   "metadata": {},
   "outputs": [
    {
     "name": "stdout",
     "output_type": "stream",
     "text": [
      "                precision    recall  f1-score   support\n",
      "\n",
      "Price Increase       0.54      0.21      0.31       303\n",
      "Price Decrease       0.55      0.84      0.67       350\n",
      "\n",
      "      accuracy                           0.55       653\n",
      "     macro avg       0.54      0.53      0.49       653\n",
      "  weighted avg       0.55      0.55      0.50       653\n",
      "\n"
     ]
    }
   ],
   "source": [
    "# Calculate classification report\n",
    "print(classification_report(y_test.flatten(), hypertunedGradientBoostModelPredictions,\n",
    "                            target_names=[\"Price Increase\", \"Price Decrease\"]))"
   ]
  },
  {
   "cell_type": "code",
   "execution_count": 33,
   "id": "0a4ecbf4",
   "metadata": {},
   "outputs": [
    {
     "name": "stdout",
     "output_type": "stream",
     "text": [
      "Gradient Boosting Classifier\n",
      "========================\n",
      "Accuracy:  0.5497702909647779\n",
      "Precision:  0.5526315789473685\n",
      "Recall:  0.84\n",
      "F1-Score:  0.6666666666666667\n",
      "AUC score:  0.5272607260726072\n",
      "                precision    recall  f1-score   support\n",
      "\n",
      "Price Increase       0.54      0.21      0.31       303\n",
      "Price Decrease       0.55      0.84      0.67       350\n",
      "\n",
      "      accuracy                           0.55       653\n",
      "     macro avg       0.54      0.53      0.49       653\n",
      "  weighted avg       0.55      0.55      0.50       653\n",
      "\n"
     ]
    },
    {
     "data": {
      "image/png": "[encoded data removed]",
      "text/plain": [
       "<Figure size 432x288 with 1 Axes>"
      ]
     },
     "metadata": {
      "needs_background": "light"
     },
     "output_type": "display_data"
    },
    {
     "data": {
      "image/png": "[encoded data removed]",
      "text/plain": [
       "<Figure size 432x432 with 2 Axes>"
      ]
     },
     "metadata": {
      "needs_background": "light"
     },
     "output_type": "display_data"
    }
   ],
   "source": [
    "print(\"Gradient Boosting Classifier\")\n",
    "print(\"========================\")\n",
    "print(\"Accuracy: \",accuracy_score(y_test.flatten(), hypertunedGradientBoostModelPredictions)) \n",
    "print(\"Precision: \",precision_score(y_test.flatten(), hypertunedGradientBoostModelPredictions))\n",
    "print(\"Recall: \",recall_score(y_test.flatten(), hypertunedGradientBoostModelPredictions))\n",
    "print(\"F1-Score: \",f1_score(y_test.flatten(), hypertunedGradientBoostModelPredictions))\n",
    "print(\"AUC score: \",roc_auc_score(y_test.flatten(), hypertunedGradientBoostModelPredictions))\n",
    "print(classification_report(y_test.flatten(), hypertunedGradientBoostModelPredictions,\n",
    "                            target_names=[\"Price Increase\", \"Price Decrease\"]))\n",
    "\n",
    "p, r, t = precision_recall_curve(y_test.flatten(), hypertunedGradientBoostPredictProba)\n",
    "plt.plot(p, r)\n",
    "plt.xlabel('Recall')\n",
    "plt.ylabel('Precision')\n",
    "plt.title('Precision Recall Curve - Gradient Boosting Classifier')\n",
    "\n",
    "confusionMatrix = confusion_matrix(y_test.flatten(), hypertunedGradientBoostModelPredictions) \n",
    "plt.figure(figsize =(6, 6)) \n",
    "sns.heatmap(confusionMatrix, xticklabels = ['Price Increase', 'Price Decrease'],  \n",
    "            yticklabels = ['Price Increase', 'Price Decrease'], annot = True, fmt =\"d\"); \n",
    "plt.title(\"Confusion matrix - Gradient Boosting Classifier\") \n",
    "plt.ylabel('Actual Class') \n",
    "plt.xlabel('Predicted class') \n",
    "plt.show()"
   ]
  },
  {
   "cell_type": "code",
   "execution_count": 34,
   "id": "d991aad2",
   "metadata": {},
   "outputs": [
    {
     "data": {
      "text/plain": [
       "[(0.7683309626055201, '30_Year_Fixed_Rate'),\n",
       " (0.05764289985724706, 'median_square_feet'),\n",
       " (0.03513293665925153, 'median_days_on_market'),\n",
       " (0.032114450466572006, 'total_listing_count'),\n",
       " (0.03029821996171319, 'price_reduced_count'),\n",
       " (0.02711954850637213, 'new_listing_count'),\n",
       " (0.022102377058754806, 'price_increased_count'),\n",
       " (0.019831079093441777, 'active_listing_count'),\n",
       " (0.007427525791127374, 'Number_of_Parks'),\n",
       " (0.0, 'violent_crime_rate'),\n",
       " (0.0, 'Number_of_Schools')]"
      ]
     },
     "execution_count": 34,
     "metadata": {},
     "output_type": "execute_result"
    }
   ],
   "source": [
    "feature_names = selected_features.columns\n",
    "sorted(zip(hypertunedGradientBoostModel.feature_importances_, feature_names), reverse=True)"
   ]
  },
  {
   "cell_type": "code",
   "execution_count": 35,
   "id": "5d887181",
   "metadata": {},
   "outputs": [],
   "source": [
    "top_features = df[['30_Year_Fixed_Rate']]"
   ]
  },
  {
   "cell_type": "code",
   "execution_count": 36,
   "id": "cf5c3022",
   "metadata": {},
   "outputs": [
    {
     "data": {
      "text/html": [
       "<div>\n",
       "<style scoped>\n",
       "    .dataframe tbody tr th:only-of-type {\n",
       "        vertical-align: middle;\n",
       "    }\n",
       "\n",
       "    .dataframe tbody tr th {\n",
       "        vertical-align: top;\n",
       "    }\n",
       "\n",
       "    .dataframe thead th {\n",
       "        text-align: right;\n",
       "    }\n",
       "</style>\n",
       "<table border=\"1\" class=\"dataframe\">\n",
       "  <thead>\n",
       "    <tr style=\"text-align: right;\">\n",
       "      <th></th>\n",
       "      <th>30_Year_Fixed_Rate</th>\n",
       "    </tr>\n",
       "  </thead>\n",
       "  <tbody>\n",
       "    <tr>\n",
       "      <th>0</th>\n",
       "      <td>4.64</td>\n",
       "    </tr>\n",
       "    <tr>\n",
       "      <th>1</th>\n",
       "      <td>4.64</td>\n",
       "    </tr>\n",
       "    <tr>\n",
       "      <th>2</th>\n",
       "      <td>4.64</td>\n",
       "    </tr>\n",
       "    <tr>\n",
       "      <th>3</th>\n",
       "      <td>4.64</td>\n",
       "    </tr>\n",
       "    <tr>\n",
       "      <th>4</th>\n",
       "      <td>4.64</td>\n",
       "    </tr>\n",
       "    <tr>\n",
       "      <th>...</th>\n",
       "      <td>...</td>\n",
       "    </tr>\n",
       "    <tr>\n",
       "      <th>2605</th>\n",
       "      <td>3.44</td>\n",
       "    </tr>\n",
       "    <tr>\n",
       "      <th>2606</th>\n",
       "      <td>3.44</td>\n",
       "    </tr>\n",
       "    <tr>\n",
       "      <th>2607</th>\n",
       "      <td>3.44</td>\n",
       "    </tr>\n",
       "    <tr>\n",
       "      <th>2608</th>\n",
       "      <td>3.44</td>\n",
       "    </tr>\n",
       "    <tr>\n",
       "      <th>2609</th>\n",
       "      <td>3.44</td>\n",
       "    </tr>\n",
       "  </tbody>\n",
       "</table>\n",
       "<p>2610 rows × 1 columns</p>\n",
       "</div>"
      ],
      "text/plain": [
       "      30_Year_Fixed_Rate\n",
       "0                   4.64\n",
       "1                   4.64\n",
       "2                   4.64\n",
       "3                   4.64\n",
       "4                   4.64\n",
       "...                  ...\n",
       "2605                3.44\n",
       "2606                3.44\n",
       "2607                3.44\n",
       "2608                3.44\n",
       "2609                3.44\n",
       "\n",
       "[2610 rows x 1 columns]"
      ]
     },
     "execution_count": 36,
     "metadata": {},
     "output_type": "execute_result"
    }
   ],
   "source": [
    "top_features"
   ]
  },
  {
   "cell_type": "code",
   "execution_count": 37,
   "id": "fe82fda2",
   "metadata": {},
   "outputs": [
    {
     "name": "stdout",
     "output_type": "stream",
     "text": [
      "Shape:  (2610, 1) (2610, 1)\n"
     ]
    }
   ],
   "source": [
    "# Assign the data to X and y\n",
    "# Note: Sklearn requires a two-dimensional array of values\n",
    "# so we use reshape to create this\n",
    "\n",
    "top_X = top_features\n",
    "top_y = df[['Price_Status']].values.reshape(-1, 1)\n",
    "\n",
    "print(\"Shape: \", top_X.shape, top_y.shape)"
   ]
  },
  {
   "cell_type": "code",
   "execution_count": 38,
   "id": "7054c878",
   "metadata": {},
   "outputs": [
    {
     "name": "stdout",
     "output_type": "stream",
     "text": [
      "(1957, 1) (653, 1) (1957, 1) (653, 1)\n"
     ]
    }
   ],
   "source": [
    "top_X_train, top_X_test, top_y_train, top_y_test = train_test_split(top_X, top_y, random_state=42)\n",
    "print(top_X_train.shape,top_X_test.shape,top_y_train.shape, top_y_test.shape)"
   ]
  },
  {
   "cell_type": "code",
   "execution_count": 39,
   "id": "6b5748d7",
   "metadata": {},
   "outputs": [],
   "source": [
    "top_X_minmax = MinMaxScaler().fit(top_X_train)\n",
    "\n",
    "top_X_train_scaled = top_X_minmax.transform(top_X_train)\n",
    "top_X_test_scaled = top_X_minmax.transform(top_X_test)"
   ]
  },
  {
   "cell_type": "code",
   "execution_count": 40,
   "id": "dcc6fffd",
   "metadata": {},
   "outputs": [
    {
     "data": {
      "text/plain": [
       "GradientBoostingClassifier()"
      ]
     },
     "execution_count": 40,
     "metadata": {},
     "output_type": "execute_result"
    }
   ],
   "source": [
    "top_GradientBoostModel = GradientBoostingClassifier()\n",
    "top_GradientBoostModel"
   ]
  },
  {
   "cell_type": "code",
   "execution_count": 41,
   "id": "5f5ebf99",
   "metadata": {},
   "outputs": [
    {
     "data": {
      "text/plain": [
       "GradientBoostingClassifier()"
      ]
     },
     "execution_count": 41,
     "metadata": {},
     "output_type": "execute_result"
    }
   ],
   "source": [
    "top_GradientBoostModel.fit(top_X_train_scaled, top_y_train.flatten())"
   ]
  },
  {
   "cell_type": "code",
   "execution_count": 42,
   "id": "842d3ff5",
   "metadata": {},
   "outputs": [
    {
     "name": "stdout",
     "output_type": "stream",
     "text": [
      "Training Data Score: 0.6167603474706183\n",
      "Testing Data Score: 0.5451761102603369\n"
     ]
    }
   ],
   "source": [
    "print(f\"Training Data Score: {top_GradientBoostModel.score(top_X_train_scaled, top_y_train)}\")\n",
    "print(f\"Testing Data Score: {top_GradientBoostModel.score(top_X_test_scaled, top_y_test)}\")"
   ]
  },
  {
   "cell_type": "code",
   "execution_count": 43,
   "id": "33b1ce21",
   "metadata": {},
   "outputs": [],
   "source": [
    "# Make predictions\n",
    "top_GradientBoostPredictions = top_GradientBoostModel.predict(top_X_test_scaled)"
   ]
  },
  {
   "cell_type": "code",
   "execution_count": 44,
   "id": "3e8f238d",
   "metadata": {},
   "outputs": [],
   "source": [
    "top_GradientBoostPredictProba = top_GradientBoostModel.predict_proba(top_X_test_scaled)[:,1]"
   ]
  },
  {
   "cell_type": "code",
   "execution_count": 45,
   "id": "2c7181cd",
   "metadata": {},
   "outputs": [
    {
     "name": "stdout",
     "output_type": "stream",
     "text": [
      "                precision    recall  f1-score   support\n",
      "\n",
      "Price Increase       0.52      0.34      0.41       303\n",
      "Price Decrease       0.56      0.72      0.63       350\n",
      "\n",
      "      accuracy                           0.55       653\n",
      "     macro avg       0.54      0.53      0.52       653\n",
      "  weighted avg       0.54      0.55      0.53       653\n",
      "\n",
      "Accuracy: 0.5451761102603369\n"
     ]
    }
   ],
   "source": [
    "print(classification_report(top_y_test.flatten(), top_GradientBoostPredictions,\n",
    "                            target_names=[\"Price Increase\", \"Price Decrease\"]))\n",
    "print(\"Accuracy:\", accuracy_score(top_y_test.flatten(), top_GradientBoostPredictions))"
   ]
  },
  {
   "cell_type": "code",
   "execution_count": 46,
   "id": "97de048c",
   "metadata": {},
   "outputs": [
    {
     "name": "stdout",
     "output_type": "stream",
     "text": [
      "Gradient Boosting Classifier\n",
      "========================\n",
      "Accuracy:  0.5451761102603369\n",
      "Precision:  0.5584988962472406\n",
      "Recall:  0.7228571428571429\n",
      "F1-Score:  0.6301369863013698\n",
      "AUC score:  0.5313955681282414\n",
      "                precision    recall  f1-score   support\n",
      "\n",
      "Price Increase       0.52      0.34      0.41       303\n",
      "Price Decrease       0.56      0.72      0.63       350\n",
      "\n",
      "      accuracy                           0.55       653\n",
      "     macro avg       0.54      0.53      0.52       653\n",
      "  weighted avg       0.54      0.55      0.53       653\n",
      "\n"
     ]
    },
    {
     "data": {
      "image/png": "[encoded data removed]",
      "text/plain": [
       "<Figure size 432x288 with 1 Axes>"
      ]
     },
     "metadata": {
      "needs_background": "light"
     },
     "output_type": "display_data"
    },
    {
     "data": {
      "image/png": "[encoded data removed]",
      "text/plain": [
       "<Figure size 432x432 with 2 Axes>"
      ]
     },
     "metadata": {
      "needs_background": "light"
     },
     "output_type": "display_data"
    }
   ],
   "source": [
    "print(\"Gradient Boosting Classifier\")\n",
    "print(\"========================\")\n",
    "print(\"Accuracy: \",accuracy_score(y_test.flatten(), top_GradientBoostPredictions)) \n",
    "print(\"Precision: \",precision_score(y_test.flatten(), top_GradientBoostPredictions))\n",
    "print(\"Recall: \",recall_score(y_test.flatten(), top_GradientBoostPredictions))\n",
    "print(\"F1-Score: \",f1_score(y_test.flatten(), top_GradientBoostPredictions))\n",
    "print(\"AUC score: \",roc_auc_score(y_test.flatten(), top_GradientBoostPredictions))\n",
    "print(classification_report(y_test.flatten(), top_GradientBoostPredictions,\n",
    "                            target_names=[\"Price Increase\", \"Price Decrease\"]))\n",
    "\n",
    "p, r, t = precision_recall_curve(y_test.flatten(), top_GradientBoostPredictProba)\n",
    "plt.plot(p, r)\n",
    "plt.xlabel('Recall')\n",
    "plt.ylabel('Precision')\n",
    "plt.title('Precision Recall Curve - Gradient Boosting Classifier')\n",
    "\n",
    "confusionMatrix = confusion_matrix(y_test.flatten(), top_GradientBoostPredictions) \n",
    "plt.figure(figsize =(6, 6)) \n",
    "sns.heatmap(confusionMatrix, xticklabels = ['Price Increase', 'Price Decrease'],  \n",
    "            yticklabels = ['Price Increase', 'Price Decrease'], annot = True, fmt =\"d\"); \n",
    "plt.title(\"Confusion matrix - Gradient Boosting Classifier\") \n",
    "plt.ylabel('Actual Class') \n",
    "plt.xlabel('Predicted class') \n",
    "plt.show()"
   ]
  },
  {
   "cell_type": "code",
   "execution_count": 47,
   "id": "d4daee35",
   "metadata": {},
   "outputs": [
    {
     "data": {
      "text/plain": [
       "dict_keys(['ccp_alpha', 'criterion', 'init', 'learning_rate', 'loss', 'max_depth', 'max_features', 'max_leaf_nodes', 'min_impurity_decrease', 'min_samples_leaf', 'min_samples_split', 'min_weight_fraction_leaf', 'n_estimators', 'n_iter_no_change', 'random_state', 'subsample', 'tol', 'validation_fraction', 'verbose', 'warm_start'])"
      ]
     },
     "execution_count": 47,
     "metadata": {},
     "output_type": "execute_result"
    }
   ],
   "source": [
    "top_GradientBoostModel.get_params().keys()"
   ]
  },
  {
   "cell_type": "code",
   "execution_count": 48,
   "id": "98c58981",
   "metadata": {},
   "outputs": [],
   "source": [
    "# Create the GridSearchCV model\n",
    "# Create the GridSearch estimator along with a paramter object containing the values to adjust\n",
    "top_GradientBoostParamGrid = {'n_estimators': [100,200,300,400],\n",
    "                             'max_depth': [1,2,3]}\n",
    "top_GradientBoostGrid = GridSearchCV(top_GradientBoostModel, top_GradientBoostParamGrid, verbose=3)"
   ]
  },
  {
   "cell_type": "code",
   "execution_count": 49,
   "id": "0d615b49",
   "metadata": {},
   "outputs": [
    {
     "name": "stdout",
     "output_type": "stream",
     "text": [
      "Fitting 5 folds for each of 12 candidates, totalling 60 fits\n",
      "[CV 1/5] END .....max_depth=1, n_estimators=100;, score=0.599 total time=   0.0s\n",
      "[CV 2/5] END .....max_depth=1, n_estimators=100;, score=0.599 total time=   0.0s\n",
      "[CV 3/5] END .....max_depth=1, n_estimators=100;, score=0.596 total time=   0.0s\n",
      "[CV 4/5] END .....max_depth=1, n_estimators=100;, score=0.606 total time=   0.0s\n",
      "[CV 5/5] END .....max_depth=1, n_estimators=100;, score=0.565 total time=   0.0s\n",
      "[CV 1/5] END .....max_depth=1, n_estimators=200;, score=0.599 total time=   0.0s\n",
      "[CV 2/5] END .....max_depth=1, n_estimators=200;, score=0.592 total time=   0.0s\n",
      "[CV 3/5] END .....max_depth=1, n_estimators=200;, score=0.596 total time=   0.0s\n",
      "[CV 4/5] END .....max_depth=1, n_estimators=200;, score=0.606 total time=   0.0s\n",
      "[CV 5/5] END .....max_depth=1, n_estimators=200;, score=0.565 total time=   0.0s\n",
      "[CV 1/5] END .....max_depth=1, n_estimators=300;, score=0.602 total time=   0.1s\n",
      "[CV 2/5] END .....max_depth=1, n_estimators=300;, score=0.592 total time=   0.1s\n",
      "[CV 3/5] END .....max_depth=1, n_estimators=300;, score=0.596 total time=   0.1s\n",
      "[CV 4/5] END .....max_depth=1, n_estimators=300;, score=0.606 total time=   0.1s\n",
      "[CV 5/5] END .....max_depth=1, n_estimators=300;, score=0.565 total time=   0.1s\n",
      "[CV 1/5] END .....max_depth=1, n_estimators=400;, score=0.602 total time=   0.1s\n",
      "[CV 2/5] END .....max_depth=1, n_estimators=400;, score=0.592 total time=   0.1s\n",
      "[CV 3/5] END .....max_depth=1, n_estimators=400;, score=0.596 total time=   0.2s\n",
      "[CV 4/5] END .....max_depth=1, n_estimators=400;, score=0.606 total time=   0.1s\n",
      "[CV 5/5] END .....max_depth=1, n_estimators=400;, score=0.565 total time=   0.2s\n",
      "[CV 1/5] END .....max_depth=2, n_estimators=100;, score=0.602 total time=   0.0s\n",
      "[CV 2/5] END .....max_depth=2, n_estimators=100;, score=0.587 total time=   0.0s\n",
      "[CV 3/5] END .....max_depth=2, n_estimators=100;, score=0.593 total time=   0.0s\n",
      "[CV 4/5] END .....max_depth=2, n_estimators=100;, score=0.609 total time=   0.0s\n",
      "[CV 5/5] END .....max_depth=2, n_estimators=100;, score=0.604 total time=   0.0s\n",
      "[CV 1/5] END .....max_depth=2, n_estimators=200;, score=0.602 total time=   0.0s\n",
      "[CV 2/5] END .....max_depth=2, n_estimators=200;, score=0.587 total time=   0.1s\n",
      "[CV 3/5] END .....max_depth=2, n_estimators=200;, score=0.593 total time=   0.0s\n",
      "[CV 4/5] END .....max_depth=2, n_estimators=200;, score=0.611 total time=   0.0s\n",
      "[CV 5/5] END .....max_depth=2, n_estimators=200;, score=0.604 total time=   0.0s\n",
      "[CV 1/5] END .....max_depth=2, n_estimators=300;, score=0.617 total time=   0.1s\n",
      "[CV 2/5] END .....max_depth=2, n_estimators=300;, score=0.587 total time=   0.1s\n",
      "[CV 3/5] END .....max_depth=2, n_estimators=300;, score=0.593 total time=   0.1s\n",
      "[CV 4/5] END .....max_depth=2, n_estimators=300;, score=0.611 total time=   0.1s\n",
      "[CV 5/5] END .....max_depth=2, n_estimators=300;, score=0.593 total time=   0.1s\n",
      "[CV 1/5] END .....max_depth=2, n_estimators=400;, score=0.617 total time=   0.2s\n",
      "[CV 2/5] END .....max_depth=2, n_estimators=400;, score=0.587 total time=   0.2s\n",
      "[CV 3/5] END .....max_depth=2, n_estimators=400;, score=0.593 total time=   0.2s\n",
      "[CV 4/5] END .....max_depth=2, n_estimators=400;, score=0.611 total time=   0.2s\n",
      "[CV 5/5] END .....max_depth=2, n_estimators=400;, score=0.593 total time=   0.2s\n",
      "[CV 1/5] END .....max_depth=3, n_estimators=100;, score=0.602 total time=   0.0s\n",
      "[CV 2/5] END .....max_depth=3, n_estimators=100;, score=0.587 total time=   0.0s\n",
      "[CV 3/5] END .....max_depth=3, n_estimators=100;, score=0.593 total time=   0.0s\n",
      "[CV 4/5] END .....max_depth=3, n_estimators=100;, score=0.611 total time=   0.0s\n",
      "[CV 5/5] END .....max_depth=3, n_estimators=100;, score=0.604 total time=   0.0s\n",
      "[CV 1/5] END .....max_depth=3, n_estimators=200;, score=0.617 total time=   0.1s\n",
      "[CV 2/5] END .....max_depth=3, n_estimators=200;, score=0.587 total time=   0.1s\n",
      "[CV 3/5] END .....max_depth=3, n_estimators=200;, score=0.593 total time=   0.1s\n",
      "[CV 4/5] END .....max_depth=3, n_estimators=200;, score=0.611 total time=   0.1s\n",
      "[CV 5/5] END .....max_depth=3, n_estimators=200;, score=0.593 total time=   0.1s\n",
      "[CV 1/5] END .....max_depth=3, n_estimators=300;, score=0.617 total time=   0.2s\n",
      "[CV 2/5] END .....max_depth=3, n_estimators=300;, score=0.587 total time=   0.1s\n",
      "[CV 3/5] END .....max_depth=3, n_estimators=300;, score=0.593 total time=   0.2s\n",
      "[CV 4/5] END .....max_depth=3, n_estimators=300;, score=0.611 total time=   0.1s\n",
      "[CV 5/5] END .....max_depth=3, n_estimators=300;, score=0.593 total time=   0.1s\n",
      "[CV 1/5] END .....max_depth=3, n_estimators=400;, score=0.617 total time=   0.2s\n",
      "[CV 2/5] END .....max_depth=3, n_estimators=400;, score=0.587 total time=   0.2s\n",
      "[CV 3/5] END .....max_depth=3, n_estimators=400;, score=0.593 total time=   0.2s\n",
      "[CV 4/5] END .....max_depth=3, n_estimators=400;, score=0.611 total time=   0.2s\n",
      "[CV 5/5] END .....max_depth=3, n_estimators=400;, score=0.593 total time=   0.2s\n"
     ]
    },
    {
     "data": {
      "text/plain": [
       "GridSearchCV(estimator=GradientBoostingClassifier(),\n",
       "             param_grid={'max_depth': [1, 2, 3],\n",
       "                         'n_estimators': [100, 200, 300, 400]},\n",
       "             verbose=3)"
      ]
     },
     "execution_count": 49,
     "metadata": {},
     "output_type": "execute_result"
    }
   ],
   "source": [
    "# Train the model\n",
    "top_GradientBoostGrid.fit(top_X_train_scaled, top_y_train.flatten())"
   ]
  },
  {
   "cell_type": "code",
   "execution_count": 50,
   "id": "cc48df42",
   "metadata": {},
   "outputs": [
    {
     "name": "stdout",
     "output_type": "stream",
     "text": [
      "{'max_depth': 2, 'n_estimators': 300}\n",
      "0.6004071193694869\n"
     ]
    }
   ],
   "source": [
    "print(top_GradientBoostGrid.best_params_)\n",
    "print(top_GradientBoostGrid.best_score_)"
   ]
  },
  {
   "cell_type": "code",
   "execution_count": 51,
   "id": "91fef2a9",
   "metadata": {},
   "outputs": [],
   "source": [
    "# Make predictions with the hyperparameter tuned model\n",
    "top_GradientBoostGridPredictions = top_GradientBoostGrid.predict(top_X_test_scaled)"
   ]
  },
  {
   "cell_type": "code",
   "execution_count": 52,
   "id": "e3f6b48f",
   "metadata": {},
   "outputs": [
    {
     "name": "stdout",
     "output_type": "stream",
     "text": [
      "                precision    recall  f1-score   support\n",
      "\n",
      "Price Increase       0.52      0.34      0.41       303\n",
      "Price Decrease       0.56      0.72      0.63       350\n",
      "\n",
      "      accuracy                           0.55       653\n",
      "     macro avg       0.54      0.53      0.52       653\n",
      "  weighted avg       0.54      0.55      0.53       653\n",
      "\n"
     ]
    }
   ],
   "source": [
    "print(classification_report(top_y_test.flatten(), top_GradientBoostGridPredictions,\n",
    "                            target_names=[\"Price Increase\", \"Price Decrease\"]))"
   ]
  },
  {
   "cell_type": "code",
   "execution_count": 53,
   "id": "f16a98ac",
   "metadata": {},
   "outputs": [
    {
     "data": {
      "text/plain": [
       "GradientBoostingClassifier(max_depth=1)"
      ]
     },
     "execution_count": 53,
     "metadata": {},
     "output_type": "execute_result"
    }
   ],
   "source": [
    "top_hypertunedGradientBoostModel = GradientBoostingClassifier(max_depth=1, n_estimators=100)\n",
    "top_hypertunedGradientBoostModel"
   ]
  },
  {
   "cell_type": "code",
   "execution_count": 54,
   "id": "6ed7505c",
   "metadata": {},
   "outputs": [
    {
     "data": {
      "text/plain": [
       "GradientBoostingClassifier(max_depth=1)"
      ]
     },
     "execution_count": 54,
     "metadata": {},
     "output_type": "execute_result"
    }
   ],
   "source": [
    "top_hypertunedGradientBoostModel.fit(top_X_train_scaled, top_y_train.flatten())"
   ]
  },
  {
   "cell_type": "code",
   "execution_count": 55,
   "id": "dcf14566",
   "metadata": {},
   "outputs": [
    {
     "name": "stdout",
     "output_type": "stream",
     "text": [
      "Training Data Score: 0.6055186509964231\n",
      "Testing Data Score: 0.5513016845329249\n"
     ]
    }
   ],
   "source": [
    "print(f\"Training Data Score: {top_hypertunedGradientBoostModel.score(top_X_train_scaled, top_y_train)}\")\n",
    "print(f\"Testing Data Score: {top_hypertunedGradientBoostModel.score(top_X_test_scaled, top_y_test)}\")"
   ]
  },
  {
   "cell_type": "code",
   "execution_count": 56,
   "id": "ccfc0b36",
   "metadata": {},
   "outputs": [],
   "source": [
    "top_hypertunedGradientBoostModelPredictions = top_hypertunedGradientBoostModel.predict(top_X_test_scaled)"
   ]
  },
  {
   "cell_type": "code",
   "execution_count": 57,
   "id": "1ae9b1fe",
   "metadata": {},
   "outputs": [],
   "source": [
    "top_hypertunedGradientBoostModelPredictProba = top_hypertunedGradientBoostModel.predict_proba(top_X_test_scaled)[:,1]"
   ]
  },
  {
   "cell_type": "code",
   "execution_count": 58,
   "id": "25db4e8d",
   "metadata": {},
   "outputs": [
    {
     "name": "stdout",
     "output_type": "stream",
     "text": [
      "                precision    recall  f1-score   support\n",
      "\n",
      "Price Increase       0.55      0.20      0.29       303\n",
      "Price Decrease       0.55      0.86      0.67       350\n",
      "\n",
      "      accuracy                           0.55       653\n",
      "     macro avg       0.55      0.53      0.48       653\n",
      "  weighted avg       0.55      0.55      0.49       653\n",
      "\n"
     ]
    }
   ],
   "source": [
    "print(classification_report(top_y_test.flatten(), top_hypertunedGradientBoostModelPredictions,\n",
    "                            target_names=[\"Price Increase\", \"Price Decrease\"]))"
   ]
  },
  {
   "cell_type": "code",
   "execution_count": 59,
   "id": "d657b996",
   "metadata": {},
   "outputs": [
    {
     "name": "stdout",
     "output_type": "stream",
     "text": [
      "Gradient Boosting Classifier\n",
      "========================\n",
      "Accuracy:  0.5451761102603369\n",
      "Precision:  0.5584988962472406\n",
      "Recall:  0.7228571428571429\n",
      "F1-Score:  0.6301369863013698\n",
      "AUC score:  0.5313955681282414\n",
      "                precision    recall  f1-score   support\n",
      "\n",
      "Price Increase       0.52      0.34      0.41       303\n",
      "Price Decrease       0.56      0.72      0.63       350\n",
      "\n",
      "      accuracy                           0.55       653\n",
      "     macro avg       0.54      0.53      0.52       653\n",
      "  weighted avg       0.54      0.55      0.53       653\n",
      "\n"
     ]
    },
    {
     "data": {
      "image/png": "[encoded data removed]",
      "text/plain": [
       "<Figure size 432x288 with 1 Axes>"
      ]
     },
     "metadata": {
      "needs_background": "light"
     },
     "output_type": "display_data"
    },
    {
     "data": {
      "image/png": "[encoded data removed]",
      "text/plain": [
       "<Figure size 432x432 with 2 Axes>"
      ]
     },
     "metadata": {
      "needs_background": "light"
     },
     "output_type": "display_data"
    }
   ],
   "source": [
    "print(\"Gradient Boosting Classifier\")\n",
    "print(\"========================\")\n",
    "print(\"Accuracy: \",accuracy_score(y_test.flatten(), top_GradientBoostPredictions)) \n",
    "print(\"Precision: \",precision_score(y_test.flatten(), top_GradientBoostPredictions))\n",
    "print(\"Recall: \",recall_score(y_test.flatten(), top_GradientBoostPredictions))\n",
    "print(\"F1-Score: \",f1_score(y_test.flatten(), top_GradientBoostPredictions))\n",
    "print(\"AUC score: \",roc_auc_score(y_test.flatten(), top_GradientBoostPredictions))\n",
    "print(classification_report(y_test.flatten(), top_GradientBoostPredictions,\n",
    "                            target_names=[\"Price Increase\", \"Price Decrease\"]))\n",
    "\n",
    "p, r, t = precision_recall_curve(y_test.flatten(), top_GradientBoostPredictProba)\n",
    "plt.plot(p, r)\n",
    "plt.xlabel('Recall')\n",
    "plt.ylabel('Precision')\n",
    "plt.title('Precision Recall Curve - Gradient Boosting Classifier')\n",
    "\n",
    "confusionMatrix = confusion_matrix(y_test.flatten(), top_GradientBoostPredictions) \n",
    "plt.figure(figsize =(6, 6)) \n",
    "sns.heatmap(confusionMatrix, xticklabels = ['Price Increase', 'Price Decrease'],  \n",
    "            yticklabels = ['Price Increase', 'Price Decrease'], annot = True, fmt =\"d\"); \n",
    "plt.title(\"Confusion matrix - Gradient Boosting Classifier\") \n",
    "plt.ylabel('Actual Class') \n",
    "plt.xlabel('Predicted class') \n",
    "plt.show()"
   ]
  },
  {
   "cell_type": "code",
   "execution_count": null,
   "id": "2b8b495d",
   "metadata": {},
   "outputs": [],
   "source": []
  },
  {
   "cell_type": "code",
   "execution_count": null,
   "id": "3ec1af2d",
   "metadata": {},
   "outputs": [],
   "source": []
  },
  {
   "cell_type": "code",
   "execution_count": null,
   "id": "4fda2a99",
   "metadata": {},
   "outputs": [],
   "source": []
  }
 ],
 "metadata": {
  "kernelspec": {
   "display_name": "mlenv",
   "language": "python",
   "name": "mlenv"
  },
  "language_info": {
   "codemirror_mode": {
    "name": "ipython",
    "version": 3
   },
   "file_extension": ".py",
   "mimetype": "text/x-python",
   "name": "python",
   "nbconvert_exporter": "python",
   "pygments_lexer": "ipython3",
   "version": "3.7.13"
  }
 },
 "nbformat": 4,
 "nbformat_minor": 5
}
