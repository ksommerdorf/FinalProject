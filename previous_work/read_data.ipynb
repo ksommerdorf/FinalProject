{
 "cells": [
  {
   "cell_type": "code",
   "execution_count": 1,
   "id": "edd3eaef",
   "metadata": {},
   "outputs": [],
   "source": [
    "import pandas as pd\n",
    "import numpy as np\n"
   ]
  },
  {
   "cell_type": "code",
   "execution_count": 2,
   "id": "122b40ca",
   "metadata": {},
   "outputs": [],
   "source": [
    "#load the listing data\n",
    "data = pd.read_csv('/Users/kkanchi/Downloads/RDC_Inventory_Core_Metrics_Zip_History.csv', header=0, parse_dates=True, low_memory=False)[:-2] # remove last two rows, which have shown \n",
    "#themselvse as weird\n",
    "data['year-month'] = pd.to_datetime(data['month_date_yyyymm'], format='%Y%m')"
   ]
  },
  {
   "cell_type": "code",
   "execution_count": 9,
   "id": "9afb7bba",
   "metadata": {},
   "outputs": [
    {
     "data": {
      "text/plain": [
       "(99327, 41)"
      ]
     },
     "execution_count": 9,
     "metadata": {},
     "output_type": "execute_result"
    }
   ],
   "source": [
    "data_nona=data.dropna()\n",
    "data_nona.shape"
   ]
  },
  {
   "cell_type": "code",
   "execution_count": 14,
   "id": "752a1ede",
   "metadata": {},
   "outputs": [
    {
     "ename": "KeyError",
     "evalue": "\"['median_listing_price_mm' 'median_listing_price_yy'\\n 'active_listing_count_mm' 'active_listing_count_yy'\\n 'median_days_on_market_mm' 'median_days_on_market_yy'\\n 'new_listing_count_mm' 'new_listing_count_yy' 'price_increased_count_mm'\\n 'price_increased_count_yy' 'price_reduced_count_mm'\\n 'price_reduced_count_yy' 'pending_listing_count_mm'\\n 'pending_listing_count_yy' 'median_listing_price_per_square_foot_mm'\\n 'median_listing_price_per_square_foot_yy' 'median_square_feet_mm'\\n 'median_square_feet_yy' 'median_square_feet_yy'\\n 'average_listing_price_mm' 'average_listing_price_yy'\\n 'total_listing_count_mm' 'total_listing_count_yy' 'pending_ratio_mm'\\n 'pending_ratio_yy' 'year-month' 'quality_flag'] not found in axis\"",
     "output_type": "error",
     "traceback": [
      "\u001b[0;31m---------------------------------------------------------------------------\u001b[0m",
      "\u001b[0;31mKeyError\u001b[0m                                  Traceback (most recent call last)",
      "\u001b[0;32m/var/folders/0y/93hn1nxs70j9z1l5n61c5ldc0000gn/T/ipykernel_74446/2143632929.py\u001b[0m in \u001b[0;36m<module>\u001b[0;34m\u001b[0m\n\u001b[1;32m      5\u001b[0m                                 \u001b[0;34m'median_square_feet_yy'\u001b[0m\u001b[0;34m,\u001b[0m\u001b[0;34m'average_listing_price_mm'\u001b[0m\u001b[0;34m,\u001b[0m\u001b[0;34m'average_listing_price_yy'\u001b[0m\u001b[0;34m,\u001b[0m\u001b[0;34m'total_listing_count_mm'\u001b[0m\u001b[0;34m,\u001b[0m\u001b[0;34m'total_listing_count_yy'\u001b[0m\u001b[0;34m,\u001b[0m\u001b[0;34m\u001b[0m\u001b[0;34m\u001b[0m\u001b[0m\n\u001b[1;32m      6\u001b[0m                                 \u001b[0;34m'pending_ratio_mm'\u001b[0m\u001b[0;34m,\u001b[0m\u001b[0;34m'pending_ratio_yy'\u001b[0m\u001b[0;34m,\u001b[0m\u001b[0;34m'year-month'\u001b[0m\u001b[0;34m,\u001b[0m\u001b[0;34m'quality_flag'\u001b[0m\u001b[0;34m\u001b[0m\u001b[0;34m\u001b[0m\u001b[0m\n\u001b[0;32m----> 7\u001b[0;31m                             ],axis=1,inplace=True)\n\u001b[0m",
      "\u001b[0;32m~/opt/anaconda3/envs/mlenv/lib/python3.7/site-packages/pandas/util/_decorators.py\u001b[0m in \u001b[0;36mwrapper\u001b[0;34m(*args, **kwargs)\u001b[0m\n\u001b[1;32m    309\u001b[0m                     \u001b[0mstacklevel\u001b[0m\u001b[0;34m=\u001b[0m\u001b[0mstacklevel\u001b[0m\u001b[0;34m,\u001b[0m\u001b[0;34m\u001b[0m\u001b[0;34m\u001b[0m\u001b[0m\n\u001b[1;32m    310\u001b[0m                 )\n\u001b[0;32m--> 311\u001b[0;31m             \u001b[0;32mreturn\u001b[0m \u001b[0mfunc\u001b[0m\u001b[0;34m(\u001b[0m\u001b[0;34m*\u001b[0m\u001b[0margs\u001b[0m\u001b[0;34m,\u001b[0m \u001b[0;34m**\u001b[0m\u001b[0mkwargs\u001b[0m\u001b[0;34m)\u001b[0m\u001b[0;34m\u001b[0m\u001b[0;34m\u001b[0m\u001b[0m\n\u001b[0m\u001b[1;32m    312\u001b[0m \u001b[0;34m\u001b[0m\u001b[0m\n\u001b[1;32m    313\u001b[0m         \u001b[0;32mreturn\u001b[0m \u001b[0mwrapper\u001b[0m\u001b[0;34m\u001b[0m\u001b[0;34m\u001b[0m\u001b[0m\n",
      "\u001b[0;32m~/opt/anaconda3/envs/mlenv/lib/python3.7/site-packages/pandas/core/frame.py\u001b[0m in \u001b[0;36mdrop\u001b[0;34m(self, labels, axis, index, columns, level, inplace, errors)\u001b[0m\n\u001b[1;32m   4911\u001b[0m             \u001b[0mlevel\u001b[0m\u001b[0;34m=\u001b[0m\u001b[0mlevel\u001b[0m\u001b[0;34m,\u001b[0m\u001b[0;34m\u001b[0m\u001b[0;34m\u001b[0m\u001b[0m\n\u001b[1;32m   4912\u001b[0m             \u001b[0minplace\u001b[0m\u001b[0;34m=\u001b[0m\u001b[0minplace\u001b[0m\u001b[0;34m,\u001b[0m\u001b[0;34m\u001b[0m\u001b[0;34m\u001b[0m\u001b[0m\n\u001b[0;32m-> 4913\u001b[0;31m             \u001b[0merrors\u001b[0m\u001b[0;34m=\u001b[0m\u001b[0merrors\u001b[0m\u001b[0;34m,\u001b[0m\u001b[0;34m\u001b[0m\u001b[0;34m\u001b[0m\u001b[0m\n\u001b[0m\u001b[1;32m   4914\u001b[0m         )\n\u001b[1;32m   4915\u001b[0m \u001b[0;34m\u001b[0m\u001b[0m\n",
      "\u001b[0;32m~/opt/anaconda3/envs/mlenv/lib/python3.7/site-packages/pandas/core/generic.py\u001b[0m in \u001b[0;36mdrop\u001b[0;34m(self, labels, axis, index, columns, level, inplace, errors)\u001b[0m\n\u001b[1;32m   4148\u001b[0m         \u001b[0;32mfor\u001b[0m \u001b[0maxis\u001b[0m\u001b[0;34m,\u001b[0m \u001b[0mlabels\u001b[0m \u001b[0;32min\u001b[0m \u001b[0maxes\u001b[0m\u001b[0;34m.\u001b[0m\u001b[0mitems\u001b[0m\u001b[0;34m(\u001b[0m\u001b[0;34m)\u001b[0m\u001b[0;34m:\u001b[0m\u001b[0;34m\u001b[0m\u001b[0;34m\u001b[0m\u001b[0m\n\u001b[1;32m   4149\u001b[0m             \u001b[0;32mif\u001b[0m \u001b[0mlabels\u001b[0m \u001b[0;32mis\u001b[0m \u001b[0;32mnot\u001b[0m \u001b[0;32mNone\u001b[0m\u001b[0;34m:\u001b[0m\u001b[0;34m\u001b[0m\u001b[0;34m\u001b[0m\u001b[0m\n\u001b[0;32m-> 4150\u001b[0;31m                 \u001b[0mobj\u001b[0m \u001b[0;34m=\u001b[0m \u001b[0mobj\u001b[0m\u001b[0;34m.\u001b[0m\u001b[0m_drop_axis\u001b[0m\u001b[0;34m(\u001b[0m\u001b[0mlabels\u001b[0m\u001b[0;34m,\u001b[0m \u001b[0maxis\u001b[0m\u001b[0;34m,\u001b[0m \u001b[0mlevel\u001b[0m\u001b[0;34m=\u001b[0m\u001b[0mlevel\u001b[0m\u001b[0;34m,\u001b[0m \u001b[0merrors\u001b[0m\u001b[0;34m=\u001b[0m\u001b[0merrors\u001b[0m\u001b[0;34m)\u001b[0m\u001b[0;34m\u001b[0m\u001b[0;34m\u001b[0m\u001b[0m\n\u001b[0m\u001b[1;32m   4151\u001b[0m \u001b[0;34m\u001b[0m\u001b[0m\n\u001b[1;32m   4152\u001b[0m         \u001b[0;32mif\u001b[0m \u001b[0minplace\u001b[0m\u001b[0;34m:\u001b[0m\u001b[0;34m\u001b[0m\u001b[0;34m\u001b[0m\u001b[0m\n",
      "\u001b[0;32m~/opt/anaconda3/envs/mlenv/lib/python3.7/site-packages/pandas/core/generic.py\u001b[0m in \u001b[0;36m_drop_axis\u001b[0;34m(self, labels, axis, level, errors)\u001b[0m\n\u001b[1;32m   4183\u001b[0m                 \u001b[0mnew_axis\u001b[0m \u001b[0;34m=\u001b[0m \u001b[0maxis\u001b[0m\u001b[0;34m.\u001b[0m\u001b[0mdrop\u001b[0m\u001b[0;34m(\u001b[0m\u001b[0mlabels\u001b[0m\u001b[0;34m,\u001b[0m \u001b[0mlevel\u001b[0m\u001b[0;34m=\u001b[0m\u001b[0mlevel\u001b[0m\u001b[0;34m,\u001b[0m \u001b[0merrors\u001b[0m\u001b[0;34m=\u001b[0m\u001b[0merrors\u001b[0m\u001b[0;34m)\u001b[0m\u001b[0;34m\u001b[0m\u001b[0;34m\u001b[0m\u001b[0m\n\u001b[1;32m   4184\u001b[0m             \u001b[0;32melse\u001b[0m\u001b[0;34m:\u001b[0m\u001b[0;34m\u001b[0m\u001b[0;34m\u001b[0m\u001b[0m\n\u001b[0;32m-> 4185\u001b[0;31m                 \u001b[0mnew_axis\u001b[0m \u001b[0;34m=\u001b[0m \u001b[0maxis\u001b[0m\u001b[0;34m.\u001b[0m\u001b[0mdrop\u001b[0m\u001b[0;34m(\u001b[0m\u001b[0mlabels\u001b[0m\u001b[0;34m,\u001b[0m \u001b[0merrors\u001b[0m\u001b[0;34m=\u001b[0m\u001b[0merrors\u001b[0m\u001b[0;34m)\u001b[0m\u001b[0;34m\u001b[0m\u001b[0;34m\u001b[0m\u001b[0m\n\u001b[0m\u001b[1;32m   4186\u001b[0m             \u001b[0mresult\u001b[0m \u001b[0;34m=\u001b[0m \u001b[0mself\u001b[0m\u001b[0;34m.\u001b[0m\u001b[0mreindex\u001b[0m\u001b[0;34m(\u001b[0m\u001b[0;34m**\u001b[0m\u001b[0;34m{\u001b[0m\u001b[0maxis_name\u001b[0m\u001b[0;34m:\u001b[0m \u001b[0mnew_axis\u001b[0m\u001b[0;34m}\u001b[0m\u001b[0;34m)\u001b[0m\u001b[0;34m\u001b[0m\u001b[0;34m\u001b[0m\u001b[0m\n\u001b[1;32m   4187\u001b[0m \u001b[0;34m\u001b[0m\u001b[0m\n",
      "\u001b[0;32m~/opt/anaconda3/envs/mlenv/lib/python3.7/site-packages/pandas/core/indexes/base.py\u001b[0m in \u001b[0;36mdrop\u001b[0;34m(self, labels, errors)\u001b[0m\n\u001b[1;32m   6015\u001b[0m         \u001b[0;32mif\u001b[0m \u001b[0mmask\u001b[0m\u001b[0;34m.\u001b[0m\u001b[0many\u001b[0m\u001b[0;34m(\u001b[0m\u001b[0;34m)\u001b[0m\u001b[0;34m:\u001b[0m\u001b[0;34m\u001b[0m\u001b[0;34m\u001b[0m\u001b[0m\n\u001b[1;32m   6016\u001b[0m             \u001b[0;32mif\u001b[0m \u001b[0merrors\u001b[0m \u001b[0;34m!=\u001b[0m \u001b[0;34m\"ignore\"\u001b[0m\u001b[0;34m:\u001b[0m\u001b[0;34m\u001b[0m\u001b[0;34m\u001b[0m\u001b[0m\n\u001b[0;32m-> 6017\u001b[0;31m                 \u001b[0;32mraise\u001b[0m \u001b[0mKeyError\u001b[0m\u001b[0;34m(\u001b[0m\u001b[0;34mf\"{labels[mask]} not found in axis\"\u001b[0m\u001b[0;34m)\u001b[0m\u001b[0;34m\u001b[0m\u001b[0;34m\u001b[0m\u001b[0m\n\u001b[0m\u001b[1;32m   6018\u001b[0m             \u001b[0mindexer\u001b[0m \u001b[0;34m=\u001b[0m \u001b[0mindexer\u001b[0m\u001b[0;34m[\u001b[0m\u001b[0;34m~\u001b[0m\u001b[0mmask\u001b[0m\u001b[0;34m]\u001b[0m\u001b[0;34m\u001b[0m\u001b[0;34m\u001b[0m\u001b[0m\n\u001b[1;32m   6019\u001b[0m         \u001b[0;32mreturn\u001b[0m \u001b[0mself\u001b[0m\u001b[0;34m.\u001b[0m\u001b[0mdelete\u001b[0m\u001b[0;34m(\u001b[0m\u001b[0mindexer\u001b[0m\u001b[0;34m)\u001b[0m\u001b[0;34m\u001b[0m\u001b[0;34m\u001b[0m\u001b[0m\n",
      "\u001b[0;31mKeyError\u001b[0m: \"['median_listing_price_mm' 'median_listing_price_yy'\\n 'active_listing_count_mm' 'active_listing_count_yy'\\n 'median_days_on_market_mm' 'median_days_on_market_yy'\\n 'new_listing_count_mm' 'new_listing_count_yy' 'price_increased_count_mm'\\n 'price_increased_count_yy' 'price_reduced_count_mm'\\n 'price_reduced_count_yy' 'pending_listing_count_mm'\\n 'pending_listing_count_yy' 'median_listing_price_per_square_foot_mm'\\n 'median_listing_price_per_square_foot_yy' 'median_square_feet_mm'\\n 'median_square_feet_yy' 'median_square_feet_yy'\\n 'average_listing_price_mm' 'average_listing_price_yy'\\n 'total_listing_count_mm' 'total_listing_count_yy' 'pending_ratio_mm'\\n 'pending_ratio_yy' 'year-month' 'quality_flag'] not found in axis\""
     ]
    }
   ],
   "source": [
    "data_nona.drop(['median_listing_price_mm','median_listing_price_yy','active_listing_count_mm','active_listing_count_yy','median_days_on_market_mm',\n",
    "           'median_days_on_market_yy','new_listing_count_mm','new_listing_count_yy','price_increased_count_mm','price_increased_count_yy',\n",
    "                                'price_reduced_count_mm','price_reduced_count_yy','pending_listing_count_mm','pending_listing_count_yy',\n",
    "                                'median_listing_price_per_square_foot_mm','median_listing_price_per_square_foot_yy','median_square_feet_mm','median_square_feet_yy',\n",
    "                                'median_square_feet_yy','average_listing_price_mm','average_listing_price_yy','total_listing_count_mm','total_listing_count_yy',\n",
    "                                'pending_ratio_mm','pending_ratio_yy','year-month','quality_flag'\n",
    "                            ],axis=1,inplace=True)"
   ]
  },
  {
   "cell_type": "code",
   "execution_count": 16,
   "id": "15eb483c",
   "metadata": {},
   "outputs": [
    {
     "data": {
      "text/html": [
       "<div>\n",
       "<style scoped>\n",
       "    .dataframe tbody tr th:only-of-type {\n",
       "        vertical-align: middle;\n",
       "    }\n",
       "\n",
       "    .dataframe tbody tr th {\n",
       "        vertical-align: top;\n",
       "    }\n",
       "\n",
       "    .dataframe thead th {\n",
       "        text-align: right;\n",
       "    }\n",
       "</style>\n",
       "<table border=\"1\" class=\"dataframe\">\n",
       "  <thead>\n",
       "    <tr style=\"text-align: right;\">\n",
       "      <th></th>\n",
       "      <th>month_date_yyyymm</th>\n",
       "      <th>postal_code</th>\n",
       "      <th>zip_name</th>\n",
       "      <th>median_listing_price</th>\n",
       "      <th>active_listing_count</th>\n",
       "      <th>median_days_on_market</th>\n",
       "      <th>new_listing_count</th>\n",
       "      <th>price_increased_count</th>\n",
       "      <th>price_reduced_count</th>\n",
       "      <th>pending_listing_count</th>\n",
       "      <th>median_listing_price_per_square_foot</th>\n",
       "      <th>median_square_feet</th>\n",
       "      <th>average_listing_price</th>\n",
       "      <th>total_listing_count</th>\n",
       "      <th>pending_ratio</th>\n",
       "    </tr>\n",
       "  </thead>\n",
       "  <tbody>\n",
       "    <tr>\n",
       "      <th>11</th>\n",
       "      <td>202206</td>\n",
       "      <td>33572</td>\n",
       "      <td>apollo beach, fl</td>\n",
       "      <td>731950.0</td>\n",
       "      <td>93.0</td>\n",
       "      <td>24.0</td>\n",
       "      <td>108.0</td>\n",
       "      <td>8.0</td>\n",
       "      <td>64.0</td>\n",
       "      <td>184.0</td>\n",
       "      <td>260.0</td>\n",
       "      <td>2479.0</td>\n",
       "      <td>861186.0</td>\n",
       "      <td>280.0</td>\n",
       "      <td>1.9785</td>\n",
       "    </tr>\n",
       "    <tr>\n",
       "      <th>13</th>\n",
       "      <td>202206</td>\n",
       "      <td>28445</td>\n",
       "      <td>holly ridge, nc</td>\n",
       "      <td>687450.0</td>\n",
       "      <td>77.0</td>\n",
       "      <td>33.0</td>\n",
       "      <td>80.0</td>\n",
       "      <td>4.0</td>\n",
       "      <td>24.0</td>\n",
       "      <td>242.0</td>\n",
       "      <td>389.0</td>\n",
       "      <td>2069.0</td>\n",
       "      <td>752644.0</td>\n",
       "      <td>317.0</td>\n",
       "      <td>3.1429</td>\n",
       "    </tr>\n",
       "    <tr>\n",
       "      <th>35</th>\n",
       "      <td>202206</td>\n",
       "      <td>78634</td>\n",
       "      <td>hutto, tx</td>\n",
       "      <td>472500.0</td>\n",
       "      <td>134.0</td>\n",
       "      <td>16.0</td>\n",
       "      <td>148.0</td>\n",
       "      <td>12.0</td>\n",
       "      <td>100.0</td>\n",
       "      <td>45.0</td>\n",
       "      <td>237.0</td>\n",
       "      <td>2108.0</td>\n",
       "      <td>529484.0</td>\n",
       "      <td>182.0</td>\n",
       "      <td>0.3358</td>\n",
       "    </tr>\n",
       "    <tr>\n",
       "      <th>39</th>\n",
       "      <td>202206</td>\n",
       "      <td>20872</td>\n",
       "      <td>damascus, md</td>\n",
       "      <td>731995.0</td>\n",
       "      <td>16.0</td>\n",
       "      <td>53.0</td>\n",
       "      <td>12.0</td>\n",
       "      <td>8.0</td>\n",
       "      <td>4.0</td>\n",
       "      <td>20.0</td>\n",
       "      <td>277.0</td>\n",
       "      <td>2568.0</td>\n",
       "      <td>839165.0</td>\n",
       "      <td>36.0</td>\n",
       "      <td>1.2500</td>\n",
       "    </tr>\n",
       "    <tr>\n",
       "      <th>41</th>\n",
       "      <td>202206</td>\n",
       "      <td>87121</td>\n",
       "      <td>albuquerque, nm</td>\n",
       "      <td>271000.0</td>\n",
       "      <td>35.0</td>\n",
       "      <td>36.0</td>\n",
       "      <td>64.0</td>\n",
       "      <td>8.0</td>\n",
       "      <td>20.0</td>\n",
       "      <td>124.0</td>\n",
       "      <td>167.0</td>\n",
       "      <td>1669.0</td>\n",
       "      <td>308163.0</td>\n",
       "      <td>159.0</td>\n",
       "      <td>3.5429</td>\n",
       "    </tr>\n",
       "  </tbody>\n",
       "</table>\n",
       "</div>"
      ],
      "text/plain": [
       "    month_date_yyyymm  postal_code          zip_name  median_listing_price  \\\n",
       "11             202206        33572  apollo beach, fl              731950.0   \n",
       "13             202206        28445   holly ridge, nc              687450.0   \n",
       "35             202206        78634         hutto, tx              472500.0   \n",
       "39             202206        20872      damascus, md              731995.0   \n",
       "41             202206        87121   albuquerque, nm              271000.0   \n",
       "\n",
       "    active_listing_count  median_days_on_market  new_listing_count  \\\n",
       "11                  93.0                   24.0              108.0   \n",
       "13                  77.0                   33.0               80.0   \n",
       "35                 134.0                   16.0              148.0   \n",
       "39                  16.0                   53.0               12.0   \n",
       "41                  35.0                   36.0               64.0   \n",
       "\n",
       "    price_increased_count  price_reduced_count  pending_listing_count  \\\n",
       "11                    8.0                 64.0                  184.0   \n",
       "13                    4.0                 24.0                  242.0   \n",
       "35                   12.0                100.0                   45.0   \n",
       "39                    8.0                  4.0                   20.0   \n",
       "41                    8.0                 20.0                  124.0   \n",
       "\n",
       "    median_listing_price_per_square_foot  median_square_feet  \\\n",
       "11                                 260.0              2479.0   \n",
       "13                                 389.0              2069.0   \n",
       "35                                 237.0              2108.0   \n",
       "39                                 277.0              2568.0   \n",
       "41                                 167.0              1669.0   \n",
       "\n",
       "    average_listing_price  total_listing_count  pending_ratio  \n",
       "11               861186.0                280.0         1.9785  \n",
       "13               752644.0                317.0         3.1429  \n",
       "35               529484.0                182.0         0.3358  \n",
       "39               839165.0                 36.0         1.2500  \n",
       "41               308163.0                159.0         3.5429  "
      ]
     },
     "execution_count": 16,
     "metadata": {},
     "output_type": "execute_result"
    }
   ],
   "source": [
    "data_nona.head()"
   ]
  },
  {
   "cell_type": "code",
   "execution_count": 17,
   "id": "86d658ea",
   "metadata": {},
   "outputs": [
    {
     "data": {
      "text/plain": [
       "month_date_yyyymm                       0\n",
       "postal_code                             0\n",
       "zip_name                                0\n",
       "median_listing_price                    0\n",
       "active_listing_count                    0\n",
       "median_days_on_market                   0\n",
       "new_listing_count                       0\n",
       "price_increased_count                   0\n",
       "price_reduced_count                     0\n",
       "pending_listing_count                   0\n",
       "median_listing_price_per_square_foot    0\n",
       "median_square_feet                      0\n",
       "average_listing_price                   0\n",
       "total_listing_count                     0\n",
       "pending_ratio                           0\n",
       "dtype: int64"
      ]
     },
     "execution_count": 17,
     "metadata": {},
     "output_type": "execute_result"
    }
   ],
   "source": [
    "data_nona.isnull().sum()"
   ]
  },
  {
   "cell_type": "code",
   "execution_count": null,
   "id": "a0a441ed",
   "metadata": {},
   "outputs": [],
   "source": [
    "data.head(10)"
   ]
  },
  {
   "cell_type": "code",
   "execution_count": 18,
   "id": "bff303b9",
   "metadata": {},
   "outputs": [],
   "source": [
    "file_path=\"Resources/data_nona_cut.csv\"\n",
    "data_nona.to_csv(file_path,index=False)"
   ]
  },
  {
   "cell_type": "code",
   "execution_count": null,
   "id": "3e8b834c",
   "metadata": {},
   "outputs": [],
   "source": []
  },
  {
   "cell_type": "code",
   "execution_count": null,
   "id": "e1e05435",
   "metadata": {},
   "outputs": [],
   "source": []
  },
  {
   "cell_type": "code",
   "execution_count": null,
   "id": "54c52ec0",
   "metadata": {},
   "outputs": [],
   "source": []
  },
  {
   "cell_type": "code",
   "execution_count": null,
   "id": "a15537f1",
   "metadata": {},
   "outputs": [],
   "source": [
    "local_listing_sum = data[['year-month', 'active_listing_count']].groupby(['year-month']).sum().reset_index()"
   ]
  },
  {
   "cell_type": "code",
   "execution_count": null,
   "id": "a07de790",
   "metadata": {},
   "outputs": [],
   "source": [
    "local_listing_sum"
   ]
  },
  {
   "cell_type": "code",
   "execution_count": null,
   "id": "60f4d218",
   "metadata": {},
   "outputs": [],
   "source": [
    "#anyfilter for specific zipcodes\n",
    "zipcodes = pd.read_csv('./zipcodes.csv')\n",
    "# My dataset strips the leading 0 from zipcodes, which happens to be what the other dataset came as too.\n",
    "#Since they both do this, the sets can still be compared without additional work (unlike R)\n",
    "zipcodes['zipcode'] = zipcodes['zipcode'].astype(str)\n",
    "local_data = data[data['postal_code'].isin(zipcodes['zipcode'])]"
   ]
  },
  {
   "cell_type": "code",
   "execution_count": null,
   "id": "399671cb",
   "metadata": {},
   "outputs": [],
   "source": [
    "data.dtypes\n",
    "#data.info()"
   ]
  },
  {
   "cell_type": "code",
   "execution_count": null,
   "id": "fc5caa2f",
   "metadata": {},
   "outputs": [],
   "source": [
    "data.describe()"
   ]
  },
  {
   "cell_type": "code",
   "execution_count": null,
   "id": "f2bb4f7e",
   "metadata": {},
   "outputs": [],
   "source": [
    "data[\"postal_code\"].value_counts()"
   ]
  },
  {
   "cell_type": "code",
   "execution_count": null,
   "id": "bc093115",
   "metadata": {},
   "outputs": [],
   "source": [
    "data[\"postal_code\"].nunique()"
   ]
  },
  {
   "cell_type": "code",
   "execution_count": null,
   "id": "edc96e0e",
   "metadata": {},
   "outputs": [],
   "source": [
    "data.columns"
   ]
  },
  {
   "cell_type": "code",
   "execution_count": null,
   "id": "3cd6dfdc",
   "metadata": {},
   "outputs": [],
   "source": []
  },
  {
   "cell_type": "code",
   "execution_count": null,
   "id": "92729a39",
   "metadata": {},
   "outputs": [],
   "source": [
    "#load the listing data\n",
    "zip_lat_data = pd.read_csv('/Users/kkanchi/Downloads/all_us_zipcodes_LA_Long.csv', header=0)"
   ]
  },
  {
   "cell_type": "code",
   "execution_count": null,
   "id": "d19c97c2",
   "metadata": {},
   "outputs": [],
   "source": [
    "zip_lat_data.head()"
   ]
  },
  {
   "cell_type": "code",
   "execution_count": null,
   "id": "a4cb9b88",
   "metadata": {},
   "outputs": [],
   "source": [
    "zip_lat_data.shape"
   ]
  },
  {
   "cell_type": "code",
   "execution_count": null,
   "id": "37def713",
   "metadata": {},
   "outputs": [],
   "source": [
    "zip_lat_data.tail()"
   ]
  },
  {
   "cell_type": "code",
   "execution_count": null,
   "id": "1c89dedd",
   "metadata": {},
   "outputs": [],
   "source": [
    "zip_lat_data[\"code\"].nunique()"
   ]
  },
  {
   "cell_type": "code",
   "execution_count": null,
   "id": "5564ab30",
   "metadata": {},
   "outputs": [],
   "source": [
    "zip_lat_data_nona=zip_lat_data.drop(columns=[\"area_code\"])\n",
    "zip_lat_data_nona.head()"
   ]
  },
  {
   "cell_type": "code",
   "execution_count": null,
   "id": "6bed1169",
   "metadata": {},
   "outputs": [],
   "source": [
    "zip_lat_data_nona=zip_lat_data_nona.dropna()\n",
    "zip_lat_data_nona.shape"
   ]
  },
  {
   "cell_type": "code",
   "execution_count": null,
   "id": "39383582",
   "metadata": {},
   "outputs": [],
   "source": [
    "zip_lat_data_nona.isnull().sum()"
   ]
  },
  {
   "cell_type": "code",
   "execution_count": null,
   "id": "7b3191d6",
   "metadata": {},
   "outputs": [],
   "source": [
    "zip_lat_data_nona.rename(columns={\"code\":\"postal_code\"},inplace=True)\n",
    "zip_lat_data_nona.head()"
   ]
  },
  {
   "cell_type": "code",
   "execution_count": null,
   "id": "591f44de",
   "metadata": {},
   "outputs": [],
   "source": [
    "file.to_csv('/Users/kkanchi/Documents/Bootcamp/Challenges/Module2/FinalProject/Resources/zip_lat_data_nona.csv', index=False)"
   ]
  },
  {
   "cell_type": "code",
   "execution_count": null,
   "id": "9a2abda7",
   "metadata": {},
   "outputs": [],
   "source": [
    "file_path=\"Resources/zip_lat_data_nona.csv\"\n",
    "zip_lat_data_nona.to_csv(file_path,index=False)"
   ]
  },
  {
   "cell_type": "code",
   "execution_count": null,
   "id": "0b3d3f34",
   "metadata": {},
   "outputs": [],
   "source": [
    "file_path=\"Resources/data_nona.csv\"\n",
    "data_nona.to_csv(file_path,index=False)"
   ]
  },
  {
   "cell_type": "code",
   "execution_count": null,
   "id": "fb9e3f89",
   "metadata": {},
   "outputs": [],
   "source": [
    "merge_dataset=data_nona.merge(zip_lat_data_nona,how='left', left_on='postal_code', right_on='postal_code')\n",
    "merge_dataset.head()"
   ]
  },
  {
   "cell_type": "code",
   "execution_count": null,
   "id": "af3869bf",
   "metadata": {},
   "outputs": [],
   "source": [
    "merge_dataset.shape"
   ]
  },
  {
   "cell_type": "code",
   "execution_count": null,
   "id": "17129fc7",
   "metadata": {},
   "outputs": [],
   "source": [
    "import matplotlib.pyplot as plt\n",
    "\n",
    "# extra code – the next 5 lines define the default font sizes\n",
    "plt.rc('font', size=14)\n",
    "plt.rc('axes', labelsize=14, titlesize=14)\n",
    "plt.rc('legend', fontsize=14)\n",
    "plt.rc('xtick', labelsize=10)\n",
    "plt.rc('ytick', labelsize=10)\n",
    "\n",
    "merge_dataset.hist(bins=50, figsize=(30, 15))\n",
    "#save_fig(\"attribute_histogram_plots\")  # extra code\n",
    "plt.show()"
   ]
  },
  {
   "cell_type": "code",
   "execution_count": null,
   "id": "8535e8dd",
   "metadata": {},
   "outputs": [],
   "source": [
    "import numpy as np\n",
    "\n",
    "def shuffle_and_split_data(merge_dataset, test_ratio):\n",
    "    shuffled_indices = np.random.permutation(len(merge_dataset))\n",
    "    test_set_size = int(len(merge_dataset) * test_ratio)\n",
    "    test_indices = shuffled_indices[:test_set_size]\n",
    "    train_indices = shuffled_indices[test_set_size:]\n",
    "    return merge_dataset.iloc[train_indices], merge_dataset.iloc[test_indices]"
   ]
  },
  {
   "cell_type": "code",
   "execution_count": null,
   "id": "c2951660",
   "metadata": {},
   "outputs": [],
   "source": [
    "train_set, test_set = shuffle_and_split_data(merge_dataset, 0.2)\n",
    "len(train_set)"
   ]
  },
  {
   "cell_type": "code",
   "execution_count": null,
   "id": "cc6238a9",
   "metadata": {},
   "outputs": [],
   "source": [
    "len(test_set)"
   ]
  },
  {
   "cell_type": "code",
   "execution_count": null,
   "id": "2e006b3c",
   "metadata": {},
   "outputs": [],
   "source": [
    "test_set"
   ]
  },
  {
   "cell_type": "code",
   "execution_count": null,
   "id": "4dba1a57",
   "metadata": {},
   "outputs": [],
   "source": []
  },
  {
   "cell_type": "code",
   "execution_count": null,
   "id": "39bf0354",
   "metadata": {},
   "outputs": [],
   "source": []
  },
  {
   "cell_type": "code",
   "execution_count": null,
   "id": "8c8f8138",
   "metadata": {},
   "outputs": [],
   "source": []
  },
  {
   "cell_type": "code",
   "execution_count": null,
   "id": "510ef4e3",
   "metadata": {},
   "outputs": [],
   "source": []
  }
 ],
 "metadata": {
  "kernelspec": {
   "display_name": "mlenv",
   "language": "python",
   "name": "mlenv"
  },
  "language_info": {
   "codemirror_mode": {
    "name": "ipython",
    "version": 3
   },
   "file_extension": ".py",
   "mimetype": "text/x-python",
   "name": "python",
   "nbconvert_exporter": "python",
   "pygments_lexer": "ipython3",
   "version": "3.7.13"
  }
 },
 "nbformat": 4,
 "nbformat_minor": 5
}
